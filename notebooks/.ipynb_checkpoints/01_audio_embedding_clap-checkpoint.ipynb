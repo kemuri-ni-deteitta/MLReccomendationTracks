{
 "cells": [
  {
   "cell_type": "code",
   "execution_count": 1,
   "id": "aee7d850-3bf7-4525-9368-4bcdd2f733ca",
   "metadata": {},
   "outputs": [
    {
     "name": "stdout",
     "output_type": "stream",
     "text": [
      "Defaulting to user installation because normal site-packages is not writeable\n",
      "Requirement already satisfied: torch in /home/ivan/.local/lib/python3.10/site-packages (2.7.0)\n",
      "Requirement already satisfied: torchaudio in /home/ivan/.local/lib/python3.10/site-packages (2.7.0)\n",
      "Requirement already satisfied: transformers in /home/ivan/.local/lib/python3.10/site-packages (4.51.3)\n",
      "Requirement already satisfied: librosa in /home/ivan/.local/lib/python3.10/site-packages (0.11.0)\n",
      "Requirement already satisfied: faiss-cpu in /home/ivan/.local/lib/python3.10/site-packages (1.11.0)\n",
      "Requirement already satisfied: tqdm in /home/ivan/.local/lib/python3.10/site-packages (4.67.1)\n",
      "Requirement already satisfied: filelock in /home/ivan/.local/lib/python3.10/site-packages (from torch) (3.18.0)\n",
      "Requirement already satisfied: typing-extensions>=4.10.0 in /home/ivan/.local/lib/python3.10/site-packages (from torch) (4.13.2)\n",
      "Requirement already satisfied: sympy>=1.13.3 in /home/ivan/.local/lib/python3.10/site-packages (from torch) (1.14.0)\n",
      "Requirement already satisfied: networkx in /home/ivan/.local/lib/python3.10/site-packages (from torch) (3.4.2)\n",
      "Requirement already satisfied: jinja2 in /home/ivan/.local/lib/python3.10/site-packages (from torch) (3.1.6)\n",
      "Requirement already satisfied: fsspec in /home/ivan/.local/lib/python3.10/site-packages (from torch) (2025.3.2)\n",
      "Requirement already satisfied: nvidia-cuda-nvrtc-cu12==12.6.77 in /home/ivan/.local/lib/python3.10/site-packages (from torch) (12.6.77)\n",
      "Requirement already satisfied: nvidia-cuda-runtime-cu12==12.6.77 in /home/ivan/.local/lib/python3.10/site-packages (from torch) (12.6.77)\n",
      "Requirement already satisfied: nvidia-cuda-cupti-cu12==12.6.80 in /home/ivan/.local/lib/python3.10/site-packages (from torch) (12.6.80)\n",
      "Requirement already satisfied: nvidia-cudnn-cu12==9.5.1.17 in /home/ivan/.local/lib/python3.10/site-packages (from torch) (9.5.1.17)\n",
      "Requirement already satisfied: nvidia-cublas-cu12==12.6.4.1 in /home/ivan/.local/lib/python3.10/site-packages (from torch) (12.6.4.1)\n",
      "Requirement already satisfied: nvidia-cufft-cu12==11.3.0.4 in /home/ivan/.local/lib/python3.10/site-packages (from torch) (11.3.0.4)\n",
      "Requirement already satisfied: nvidia-curand-cu12==10.3.7.77 in /home/ivan/.local/lib/python3.10/site-packages (from torch) (10.3.7.77)\n",
      "Requirement already satisfied: nvidia-cusolver-cu12==11.7.1.2 in /home/ivan/.local/lib/python3.10/site-packages (from torch) (11.7.1.2)\n",
      "Requirement already satisfied: nvidia-cusparse-cu12==12.5.4.2 in /home/ivan/.local/lib/python3.10/site-packages (from torch) (12.5.4.2)\n",
      "Requirement already satisfied: nvidia-cusparselt-cu12==0.6.3 in /home/ivan/.local/lib/python3.10/site-packages (from torch) (0.6.3)\n",
      "Requirement already satisfied: nvidia-nccl-cu12==2.26.2 in /home/ivan/.local/lib/python3.10/site-packages (from torch) (2.26.2)\n",
      "Requirement already satisfied: nvidia-nvtx-cu12==12.6.77 in /home/ivan/.local/lib/python3.10/site-packages (from torch) (12.6.77)\n",
      "Requirement already satisfied: nvidia-nvjitlink-cu12==12.6.85 in /home/ivan/.local/lib/python3.10/site-packages (from torch) (12.6.85)\n",
      "Requirement already satisfied: nvidia-cufile-cu12==1.11.1.6 in /home/ivan/.local/lib/python3.10/site-packages (from torch) (1.11.1.6)\n",
      "Requirement already satisfied: triton==3.3.0 in /home/ivan/.local/lib/python3.10/site-packages (from torch) (3.3.0)\n",
      "Requirement already satisfied: setuptools>=40.8.0 in /usr/lib/python3/dist-packages (from triton==3.3.0->torch) (59.6.0)\n",
      "Requirement already satisfied: huggingface-hub<1.0,>=0.30.0 in /home/ivan/.local/lib/python3.10/site-packages (from transformers) (0.31.1)\n",
      "Requirement already satisfied: numpy>=1.17 in /home/ivan/.local/lib/python3.10/site-packages (from transformers) (2.2.5)\n",
      "Requirement already satisfied: packaging>=20.0 in /home/ivan/.local/lib/python3.10/site-packages (from transformers) (25.0)\n",
      "Requirement already satisfied: pyyaml>=5.1 in /usr/lib/python3/dist-packages (from transformers) (5.4.1)\n",
      "Requirement already satisfied: regex!=2019.12.17 in /home/ivan/.local/lib/python3.10/site-packages (from transformers) (2024.11.6)\n",
      "Requirement already satisfied: requests in /home/ivan/.local/lib/python3.10/site-packages (from transformers) (2.32.3)\n",
      "Requirement already satisfied: tokenizers<0.22,>=0.21 in /home/ivan/.local/lib/python3.10/site-packages (from transformers) (0.21.1)\n",
      "Requirement already satisfied: safetensors>=0.4.3 in /home/ivan/.local/lib/python3.10/site-packages (from transformers) (0.5.3)\n",
      "Requirement already satisfied: hf-xet<2.0.0,>=1.1.0 in /home/ivan/.local/lib/python3.10/site-packages (from huggingface-hub<1.0,>=0.30.0->transformers) (1.1.0)\n",
      "Requirement already satisfied: audioread>=2.1.9 in /home/ivan/.local/lib/python3.10/site-packages (from librosa) (3.0.1)\n",
      "Requirement already satisfied: numba>=0.51.0 in /home/ivan/.local/lib/python3.10/site-packages (from librosa) (0.61.2)\n",
      "Requirement already satisfied: scipy>=1.6.0 in /home/ivan/.local/lib/python3.10/site-packages (from librosa) (1.15.3)\n",
      "Requirement already satisfied: scikit-learn>=1.1.0 in /home/ivan/.local/lib/python3.10/site-packages (from librosa) (1.6.1)\n",
      "Requirement already satisfied: joblib>=1.0 in /home/ivan/.local/lib/python3.10/site-packages (from librosa) (1.5.0)\n",
      "Requirement already satisfied: decorator>=4.3.0 in /home/ivan/.local/lib/python3.10/site-packages (from librosa) (5.2.1)\n",
      "Requirement already satisfied: soundfile>=0.12.1 in /home/ivan/.local/lib/python3.10/site-packages (from librosa) (0.13.1)\n",
      "Requirement already satisfied: pooch>=1.1 in /home/ivan/.local/lib/python3.10/site-packages (from librosa) (1.8.2)\n",
      "Requirement already satisfied: soxr>=0.3.2 in /home/ivan/.local/lib/python3.10/site-packages (from librosa) (0.5.0.post1)\n",
      "Requirement already satisfied: lazy_loader>=0.1 in /home/ivan/.local/lib/python3.10/site-packages (from librosa) (0.4)\n",
      "Requirement already satisfied: msgpack>=1.0 in /home/ivan/.local/lib/python3.10/site-packages (from librosa) (1.1.0)\n",
      "Requirement already satisfied: llvmlite<0.45,>=0.44.0dev0 in /home/ivan/.local/lib/python3.10/site-packages (from numba>=0.51.0->librosa) (0.44.0)\n",
      "Requirement already satisfied: platformdirs>=2.5.0 in /home/ivan/.local/lib/python3.10/site-packages (from pooch>=1.1->librosa) (4.3.8)\n",
      "Requirement already satisfied: charset-normalizer<4,>=2 in /home/ivan/.local/lib/python3.10/site-packages (from requests->transformers) (3.4.2)\n",
      "Requirement already satisfied: idna<4,>=2.5 in /usr/lib/python3/dist-packages (from requests->transformers) (3.3)\n",
      "Requirement already satisfied: urllib3<3,>=1.21.1 in /home/ivan/.local/lib/python3.10/site-packages (from requests->transformers) (2.0.4)\n",
      "Requirement already satisfied: certifi>=2017.4.17 in /usr/lib/python3/dist-packages (from requests->transformers) (2020.6.20)\n",
      "Requirement already satisfied: threadpoolctl>=3.1.0 in /home/ivan/.local/lib/python3.10/site-packages (from scikit-learn>=1.1.0->librosa) (3.6.0)\n",
      "Requirement already satisfied: cffi>=1.0 in /usr/lib/python3/dist-packages (from soundfile>=0.12.1->librosa) (1.15.0)\n",
      "Requirement already satisfied: mpmath<1.4,>=1.1.0 in /home/ivan/.local/lib/python3.10/site-packages (from sympy>=1.13.3->torch) (1.3.0)\n",
      "Requirement already satisfied: MarkupSafe>=2.0 in /usr/lib/python3/dist-packages (from jinja2->torch) (2.0.1)\n"
     ]
    }
   ],
   "source": [
    "!pip install torch torchaudio transformers librosa faiss-cpu tqdm\n"
   ]
  },
  {
   "cell_type": "code",
   "execution_count": 12,
   "id": "871833a2-e45f-45f3-9c86-ff61efcd2ff3",
   "metadata": {},
   "outputs": [
    {
     "name": "stdout",
     "output_type": "stream",
     "text": [
      "GPU available: True\n",
      "Device: NVIDIA GeForce GTX 1070\n"
     ]
    }
   ],
   "source": [
    "import torch\n",
    "print(\"GPU available:\", torch.cuda.is_available())\n",
    "print(\"Device:\", torch.cuda.get_device_name(0) if torch.cuda.is_available() else \"None\")\n"
   ]
  },
  {
   "cell_type": "code",
   "execution_count": null,
   "id": "80cfc8b6-48ba-4d2d-b078-4acb567bea23",
   "metadata": {},
   "outputs": [],
   "source": []
  },
  {
   "cell_type": "code",
   "execution_count": 13,
   "id": "6a149f35-46b3-4142-8972-fb2164714e4a",
   "metadata": {},
   "outputs": [
    {
     "name": "stdout",
     "output_type": "stream",
     "text": [
      "Loaded 106574 files.\n"
     ]
    }
   ],
   "source": [
    "import os\n",
    "\n",
    "# Change this if needed\n",
    "AUDIO_FOLDER = \"/home/ivan/PycharmProjects/MPr/audio_samples/fma_large/fma_large\"\n",
    "\n",
    "mp3_files = []\n",
    "for root, _, files in os.walk(AUDIO_FOLDER):\n",
    "    for file in files:\n",
    "        if file.endswith(\".mp3\"):\n",
    "            mp3_files.append(os.path.join(root, file))\n",
    "\n",
    "# Optional: limit to the first 300 for now\n",
    "mp3_files = mp3_files\n",
    "\n",
    "print(f\"Loaded {len(mp3_files)} files.\")\n"
   ]
  },
  {
   "cell_type": "code",
   "execution_count": 16,
   "id": "cf349c91-f308-4e46-b22e-232da3b6df42",
   "metadata": {},
   "outputs": [],
   "source": [
    "import torch\n",
    "from transformers import ClapProcessor, ClapModel\n",
    "\n",
    "device = \"cuda\" if torch.cuda.is_available() else \"cpu\"\n",
    "\n",
    "processor = ClapProcessor.from_pretrained(\"laion/clap-htsat-unfused\")\n",
    "model = ClapModel.from_pretrained(\"laion/clap-htsat-unfused\").to(device)\n"
   ]
  },
  {
   "cell_type": "code",
   "execution_count": 17,
   "id": "c7a71074-5c09-42bb-a8fb-9c0cae68eafe",
   "metadata": {},
   "outputs": [],
   "source": [
    "def embed_audio(filepath):\n",
    "    try:\n",
    "        waveform, sr = torchaudio.load(filepath)\n",
    "        print(f\"📂 Loaded '{filepath}' — shape: {waveform.shape}, sample rate: {sr}\")\n",
    "\n",
    "        waveform = waveform.mean(dim=0).unsqueeze(0)  # mono\n",
    "\n",
    "        if sr != 48000:\n",
    "            print(f\"🔁 Resampling from {sr} → 48000 Hz\")\n",
    "            waveform = torchaudio.transforms.Resample(orig_freq=sr, new_freq=48000)(waveform)\n",
    "\n",
    "        # ✂️ Trim to exactly 30s = 1,440,000 samples\n",
    "        max_len = 48000 * 30\n",
    "        if waveform.shape[1] > max_len:\n",
    "            print(f\"✂️ Trimming waveform to 30s: {waveform.shape[1]} → {max_len}\")\n",
    "            waveform = waveform[:, :max_len]\n",
    "        elif waveform.shape[1] < max_len:\n",
    "            print(f\"📏 Padding waveform to 30s: {waveform.shape[1]} → {max_len}\")\n",
    "            pad_len = max_len - waveform.shape[1]\n",
    "            waveform = torch.nn.functional.pad(waveform, (0, pad_len))\n",
    "\n",
    "        inputs = processor(\n",
    "            audios=waveform.squeeze(0).cpu().numpy(),  # Convert to 1D NumPy array\n",
    "            sampling_rate=48000,\n",
    "            return_tensors=\"pt\"\n",
    "        ).to(device)\n",
    "\n",
    "        with torch.no_grad():\n",
    "            embedding = model.get_audio_features(**inputs)\n",
    "\n",
    "        print(f\"✅ Embedded {filepath}, vector shape: {embedding.shape}\")\n",
    "        return embedding.cpu().numpy().flatten()\n",
    "\n",
    "    except Exception as e:\n",
    "        print(f\"❌ ERROR embedding {filepath}:\\n{e}\")\n",
    "        traceback.print_exc()\n",
    "        raise\n"
   ]
  },
  {
   "cell_type": "code",
   "execution_count": null,
   "id": "91163e98-e282-4151-8540-dc71a38f1ed6",
   "metadata": {},
   "outputs": [],
   "source": [
    "import torch\n",
    "import torchaudio\n",
    "import numpy as np\n",
    "from tqdm import tqdm\n",
    "\n",
    "SAVE_EVERY = 1000  # save progress after every 1000 files\n",
    "output_dir = \"embeddings_large\"\n",
    "os.makedirs(output_dir, exist_ok=True)\n",
    "\n",
    "embeddings = []\n",
    "filenames = []\n",
    "failures = []\n",
    "\n",
    "start_idx = 0  # change this to resume (e.g. 22330 if crashed before)\n",
    "\n",
    "for i, path in enumerate(tqdm(mp3_files[start_idx:], desc=\"Embedding audio files\"), start=start_idx):\n",
    "    try:\n",
    "        vec = embed_audio(path)\n",
    "        embeddings.append(vec)\n",
    "        filenames.append(path)\n",
    "    except Exception as e:\n",
    "        failures.append((path, str(e)))\n",
    "\n",
    "    # Periodic save\n",
    "    if (i + 1) % SAVE_EVERY == 0:\n",
    "        np.save(f\"{/home/ivan/PycharmProjects/MPr/notebooks/embeddings/embedings_large}/vectors_{i+1}.npy\", np.vstack(embeddings))\n",
    "        np.save(f\"{/home/ivan/PycharmProjects/MPr/notebooks/embeddings/embedings_large}/filenames_{i+1}.npy\", np.array(filenames))\n",
    "        print(f\"✅ Saved checkpoint at {i+1} tracks.\")\n",
    "        # Optional: clear RAM if needed\n",
    "        embeddings.clear()\n",
    "        filenames.clear()\n",
    "\n",
    "# Final save for remaining tracks\n",
    "if embeddings:\n",
    "    np.save(f\"{output_dir}/vectors_final.npy\", np.vstack(embeddings))\n",
    "    np.save(f\"{output_dir}/filenames_final.npy\", np.array(filenames))\n",
    "    print(\"✅ Final save complete.\")\n"
   ]
  },
  {
   "cell_type": "code",
   "execution_count": 29,
   "id": "03b6472f-c476-4204-ba6b-a99361ffaa65",
   "metadata": {},
   "outputs": [],
   "source": [
    "import os\n",
    "import numpy as np\n",
    "\n",
    "np.save(\"embeddings/audio_vectors_large.npy\", embeddings)\n",
    "np.save(\"embeddings/audio_filenames_large.npy\", np.array(filenames))\n"
   ]
  },
  {
   "cell_type": "code",
   "execution_count": 30,
   "id": "e2ce4fa0-1e78-498a-a635-be9fb9e728d4",
   "metadata": {},
   "outputs": [
    {
     "name": "stdout",
     "output_type": "stream",
     "text": [
      "audio_vectors.npy: True\n",
      "audio_filenames.npy: True\n"
     ]
    }
   ],
   "source": [
    "import os\n",
    "\n",
    "print(\"audio_vectors.npy:\", os.path.exists(\"embeddings/audio_vectors_large.npy\"))\n",
    "print(\"audio_filenames.npy:\", os.path.exists(\"embeddings/audio_filenames_large.npy\"))\n"
   ]
  },
  {
   "cell_type": "code",
   "execution_count": 31,
   "id": "c048c712-303d-4357-9a31-ad552448ed95",
   "metadata": {},
   "outputs": [
    {
     "name": "stdout",
     "output_type": "stream",
     "text": [
      "✅ Vectors shape: (300, 512)\n",
      "✅ Filenames shape: (300,)\n"
     ]
    }
   ],
   "source": [
    "import numpy as np\n",
    "\n",
    "vectors = np.load(\"embeddings/audio_vectors_large.npy\")\n",
    "filenames = np.load(\"embeddings/audio_filenames_large.npy\")\n",
    "\n",
    "print(\"✅ Vectors shape:\", vectors.shape)      # Should be (N, 512)\n",
    "print(\"✅ Filenames shape:\", filenames.shape)  # Should be (N,)\n"
   ]
  },
  {
   "cell_type": "code",
   "execution_count": null,
   "id": "69311132-b487-4bcb-8f07-5d882cb43672",
   "metadata": {},
   "outputs": [],
   "source": []
  },
  {
   "cell_type": "code",
   "execution_count": null,
   "id": "3e90100d-13ca-432a-87d1-7ed2fa9e37e0",
   "metadata": {},
   "outputs": [],
   "source": []
  },
  {
   "cell_type": "code",
   "execution_count": null,
   "id": "7464afcf-1b89-4027-8283-8fddb1e475e6",
   "metadata": {},
   "outputs": [],
   "source": []
  },
  {
   "cell_type": "code",
   "execution_count": null,
   "id": "a7dc9b1b-efaa-48ae-94d2-9e6a29858da8",
   "metadata": {},
   "outputs": [],
   "source": []
  }
 ],
 "metadata": {
  "kernelspec": {
   "display_name": "Python (Music-GPU)",
   "language": "python",
   "name": "music-gpu"
  },
  "language_info": {
   "codemirror_mode": {
    "name": "ipython",
    "version": 3
   },
   "file_extension": ".py",
   "mimetype": "text/x-python",
   "name": "python",
   "nbconvert_exporter": "python",
   "pygments_lexer": "ipython3",
   "version": "3.10.12"
  }
 },
 "nbformat": 4,
 "nbformat_minor": 5
}
