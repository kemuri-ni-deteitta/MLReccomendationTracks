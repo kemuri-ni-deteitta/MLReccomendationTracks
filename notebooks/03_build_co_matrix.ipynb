{
 "cells": [
  {
   "cell_type": "code",
   "execution_count": 3,
   "id": "d9e51257-4a31-4d69-8dd8-b6e2fdcf7460",
   "metadata": {},
   "outputs": [
    {
     "name": "stdout",
     "output_type": "stream",
     "text": [
      "Saved co_matrix with shape (300, 300)\n"
     ]
    }
   ],
   "source": [
    "# Cell 1 – imports & paths\n",
    "import numpy as np, pandas as pd, os\n",
    "VEC_PATH  = \"/home/ivan/PycharmProjects/MPr/notebooks/embeddings/audio_vectors.npy\"\n",
    "FILE_PATH = \"/home/ivan/PycharmProjects/MPr/notebooks/embeddings/audio_filenames.npy\"\n",
    "META_CSV  = \"/home/ivan/PycharmProjects/MPr/csv_files/spotify_data.csv\"        # path to uploaded csv\n",
    "\n",
    "# Cell 2 – load vectors & filenames\n",
    "vectors   = np.load(VEC_PATH)\n",
    "files     = np.load(FILE_PATH)\n",
    "N         = len(files)\n",
    "\n",
    "# Cell 3 – read metadata & build map filename → (artist, genre)\n",
    "meta = pd.read_csv(META_CSV)\n",
    "id2row = {row.track_id: row for _, row in meta.iterrows()}\n",
    "\n",
    "def id_from_fname(p):\n",
    "    return os.path.basename(p).split('.')[0].lstrip(\"0\")   # '066689.mp3' -> '66689'\n",
    "\n",
    "artist_groups = {}\n",
    "genre_groups  = {}\n",
    "\n",
    "for idx, f in enumerate(files):\n",
    "    tid = id_from_fname(f)\n",
    "    if tid not in id2row: continue\n",
    "    artist = id2row[tid].artist_name\n",
    "    genre  = id2row[tid].genre\n",
    "    artist_groups.setdefault(artist, []).append(idx)\n",
    "    genre_groups.setdefault(genre, []).append(idx)\n",
    "\n",
    "# Cell 4 – build co-occurrence counts\n",
    "co = np.zeros((N, N), dtype='float32')\n",
    "\n",
    "def add_playlist(idxs):\n",
    "    for i in idxs:\n",
    "        for j in idxs:\n",
    "            if i != j:\n",
    "                co[i, j] += 1\n",
    "\n",
    "for pl in artist_groups.values(): add_playlist(pl)\n",
    "for pl in genre_groups.values():  add_playlist(pl)\n",
    "\n",
    "# Cell 5 – normalize rows 0-1 and save\n",
    "co /= np.maximum(co.max(axis=1, keepdims=True), 1)\n",
    "np.save(\"/home/ivan/PycharmProjects/MPr/notebooks/embeddings/co_matrix.npy\", co)\n",
    "print(\"Saved co_matrix with shape\", co.shape)\n"
   ]
  },
  {
   "cell_type": "code",
   "execution_count": null,
   "id": "0cb973fe-42fe-4d7b-932d-80f7283105e5",
   "metadata": {},
   "outputs": [],
   "source": []
  },
  {
   "cell_type": "code",
   "execution_count": null,
   "id": "1a4cd997-03ba-4ea2-99a0-c1ef5ba83a29",
   "metadata": {},
   "outputs": [],
   "source": []
  }
 ],
 "metadata": {
  "kernelspec": {
   "display_name": "Python (Music-GPU)",
   "language": "python",
   "name": "music-gpu"
  },
  "language_info": {
   "codemirror_mode": {
    "name": "ipython",
    "version": 3
   },
   "file_extension": ".py",
   "mimetype": "text/x-python",
   "name": "python",
   "nbconvert_exporter": "python",
   "pygments_lexer": "ipython3",
   "version": "3.10.12"
  }
 },
 "nbformat": 4,
 "nbformat_minor": 5
}
