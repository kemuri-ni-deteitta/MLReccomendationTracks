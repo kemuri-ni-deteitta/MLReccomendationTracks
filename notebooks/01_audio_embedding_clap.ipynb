{
 "cells": [
  {
   "cell_type": "code",
   "execution_count": 2,
   "id": "aee7d850-3bf7-4525-9368-4bcdd2f733ca",
   "metadata": {},
   "outputs": [
    {
     "name": "stdout",
     "output_type": "stream",
     "text": [
      "Defaulting to user installation because normal site-packages is not writeable\n",
      "Requirement already satisfied: torch in /home/ivan/.local/lib/python3.10/site-packages (2.7.0)\n",
      "Requirement already satisfied: torchaudio in /home/ivan/.local/lib/python3.10/site-packages (2.7.0)\n",
      "Requirement already satisfied: transformers in /home/ivan/.local/lib/python3.10/site-packages (4.51.3)\n",
      "Requirement already satisfied: librosa in /home/ivan/.local/lib/python3.10/site-packages (0.11.0)\n",
      "Requirement already satisfied: faiss-cpu in /home/ivan/.local/lib/python3.10/site-packages (1.11.0)\n",
      "Requirement already satisfied: tqdm in /home/ivan/.local/lib/python3.10/site-packages (4.67.1)\n",
      "Requirement already satisfied: filelock in /home/ivan/.local/lib/python3.10/site-packages (from torch) (3.18.0)\n",
      "Requirement already satisfied: typing-extensions>=4.10.0 in /home/ivan/.local/lib/python3.10/site-packages (from torch) (4.13.2)\n",
      "Requirement already satisfied: sympy>=1.13.3 in /home/ivan/.local/lib/python3.10/site-packages (from torch) (1.14.0)\n",
      "Requirement already satisfied: networkx in /home/ivan/.local/lib/python3.10/site-packages (from torch) (3.4.2)\n",
      "Requirement already satisfied: jinja2 in /home/ivan/.local/lib/python3.10/site-packages (from torch) (3.1.6)\n",
      "Requirement already satisfied: fsspec in /home/ivan/.local/lib/python3.10/site-packages (from torch) (2025.3.2)\n",
      "Requirement already satisfied: nvidia-cuda-nvrtc-cu12==12.6.77 in /home/ivan/.local/lib/python3.10/site-packages (from torch) (12.6.77)\n",
      "Requirement already satisfied: nvidia-cuda-runtime-cu12==12.6.77 in /home/ivan/.local/lib/python3.10/site-packages (from torch) (12.6.77)\n",
      "Requirement already satisfied: nvidia-cuda-cupti-cu12==12.6.80 in /home/ivan/.local/lib/python3.10/site-packages (from torch) (12.6.80)\n",
      "Requirement already satisfied: nvidia-cudnn-cu12==9.5.1.17 in /home/ivan/.local/lib/python3.10/site-packages (from torch) (9.5.1.17)\n",
      "Requirement already satisfied: nvidia-cublas-cu12==12.6.4.1 in /home/ivan/.local/lib/python3.10/site-packages (from torch) (12.6.4.1)\n",
      "Requirement already satisfied: nvidia-cufft-cu12==11.3.0.4 in /home/ivan/.local/lib/python3.10/site-packages (from torch) (11.3.0.4)\n",
      "Requirement already satisfied: nvidia-curand-cu12==10.3.7.77 in /home/ivan/.local/lib/python3.10/site-packages (from torch) (10.3.7.77)\n",
      "Requirement already satisfied: nvidia-cusolver-cu12==11.7.1.2 in /home/ivan/.local/lib/python3.10/site-packages (from torch) (11.7.1.2)\n",
      "Requirement already satisfied: nvidia-cusparse-cu12==12.5.4.2 in /home/ivan/.local/lib/python3.10/site-packages (from torch) (12.5.4.2)\n",
      "Requirement already satisfied: nvidia-cusparselt-cu12==0.6.3 in /home/ivan/.local/lib/python3.10/site-packages (from torch) (0.6.3)\n",
      "Requirement already satisfied: nvidia-nccl-cu12==2.26.2 in /home/ivan/.local/lib/python3.10/site-packages (from torch) (2.26.2)\n",
      "Requirement already satisfied: nvidia-nvtx-cu12==12.6.77 in /home/ivan/.local/lib/python3.10/site-packages (from torch) (12.6.77)\n",
      "Requirement already satisfied: nvidia-nvjitlink-cu12==12.6.85 in /home/ivan/.local/lib/python3.10/site-packages (from torch) (12.6.85)\n",
      "Requirement already satisfied: nvidia-cufile-cu12==1.11.1.6 in /home/ivan/.local/lib/python3.10/site-packages (from torch) (1.11.1.6)\n",
      "Requirement already satisfied: triton==3.3.0 in /home/ivan/.local/lib/python3.10/site-packages (from torch) (3.3.0)\n",
      "Requirement already satisfied: setuptools>=40.8.0 in /usr/lib/python3/dist-packages (from triton==3.3.0->torch) (59.6.0)\n",
      "Requirement already satisfied: huggingface-hub<1.0,>=0.30.0 in /home/ivan/.local/lib/python3.10/site-packages (from transformers) (0.31.1)\n",
      "Requirement already satisfied: numpy>=1.17 in /home/ivan/.local/lib/python3.10/site-packages (from transformers) (2.2.5)\n",
      "Requirement already satisfied: packaging>=20.0 in /home/ivan/.local/lib/python3.10/site-packages (from transformers) (25.0)\n",
      "Requirement already satisfied: pyyaml>=5.1 in /usr/lib/python3/dist-packages (from transformers) (5.4.1)\n",
      "Requirement already satisfied: regex!=2019.12.17 in /home/ivan/.local/lib/python3.10/site-packages (from transformers) (2024.11.6)\n",
      "Requirement already satisfied: requests in /home/ivan/.local/lib/python3.10/site-packages (from transformers) (2.32.3)\n",
      "Requirement already satisfied: tokenizers<0.22,>=0.21 in /home/ivan/.local/lib/python3.10/site-packages (from transformers) (0.21.1)\n",
      "Requirement already satisfied: safetensors>=0.4.3 in /home/ivan/.local/lib/python3.10/site-packages (from transformers) (0.5.3)\n",
      "Requirement already satisfied: hf-xet<2.0.0,>=1.1.0 in /home/ivan/.local/lib/python3.10/site-packages (from huggingface-hub<1.0,>=0.30.0->transformers) (1.1.0)\n",
      "Requirement already satisfied: audioread>=2.1.9 in /home/ivan/.local/lib/python3.10/site-packages (from librosa) (3.0.1)\n",
      "Requirement already satisfied: numba>=0.51.0 in /home/ivan/.local/lib/python3.10/site-packages (from librosa) (0.61.2)\n",
      "Requirement already satisfied: scipy>=1.6.0 in /home/ivan/.local/lib/python3.10/site-packages (from librosa) (1.15.3)\n",
      "Requirement already satisfied: scikit-learn>=1.1.0 in /home/ivan/.local/lib/python3.10/site-packages (from librosa) (1.6.1)\n",
      "Requirement already satisfied: joblib>=1.0 in /home/ivan/.local/lib/python3.10/site-packages (from librosa) (1.5.0)\n",
      "Requirement already satisfied: decorator>=4.3.0 in /home/ivan/.local/lib/python3.10/site-packages (from librosa) (5.2.1)\n",
      "Requirement already satisfied: soundfile>=0.12.1 in /home/ivan/.local/lib/python3.10/site-packages (from librosa) (0.13.1)\n",
      "Requirement already satisfied: pooch>=1.1 in /home/ivan/.local/lib/python3.10/site-packages (from librosa) (1.8.2)\n",
      "Requirement already satisfied: soxr>=0.3.2 in /home/ivan/.local/lib/python3.10/site-packages (from librosa) (0.5.0.post1)\n",
      "Requirement already satisfied: lazy_loader>=0.1 in /home/ivan/.local/lib/python3.10/site-packages (from librosa) (0.4)\n",
      "Requirement already satisfied: msgpack>=1.0 in /home/ivan/.local/lib/python3.10/site-packages (from librosa) (1.1.0)\n",
      "Requirement already satisfied: llvmlite<0.45,>=0.44.0dev0 in /home/ivan/.local/lib/python3.10/site-packages (from numba>=0.51.0->librosa) (0.44.0)\n",
      "Requirement already satisfied: platformdirs>=2.5.0 in /home/ivan/.local/lib/python3.10/site-packages (from pooch>=1.1->librosa) (4.3.8)\n",
      "Requirement already satisfied: charset-normalizer<4,>=2 in /home/ivan/.local/lib/python3.10/site-packages (from requests->transformers) (3.4.2)\n",
      "Requirement already satisfied: idna<4,>=2.5 in /usr/lib/python3/dist-packages (from requests->transformers) (3.3)\n",
      "Requirement already satisfied: urllib3<3,>=1.21.1 in /home/ivan/.local/lib/python3.10/site-packages (from requests->transformers) (2.0.4)\n",
      "Requirement already satisfied: certifi>=2017.4.17 in /usr/lib/python3/dist-packages (from requests->transformers) (2020.6.20)\n",
      "Requirement already satisfied: threadpoolctl>=3.1.0 in /home/ivan/.local/lib/python3.10/site-packages (from scikit-learn>=1.1.0->librosa) (3.6.0)\n",
      "Requirement already satisfied: cffi>=1.0 in /usr/lib/python3/dist-packages (from soundfile>=0.12.1->librosa) (1.15.0)\n",
      "Requirement already satisfied: mpmath<1.4,>=1.1.0 in /home/ivan/.local/lib/python3.10/site-packages (from sympy>=1.13.3->torch) (1.3.0)\n",
      "Requirement already satisfied: MarkupSafe>=2.0 in /usr/lib/python3/dist-packages (from jinja2->torch) (2.0.1)\n"
     ]
    }
   ],
   "source": [
    "!pip install torch torchaudio transformers librosa faiss-cpu tqdm\n"
   ]
  },
  {
   "cell_type": "code",
   "execution_count": 4,
   "id": "871833a2-e45f-45f3-9c86-ff61efcd2ff3",
   "metadata": {},
   "outputs": [
    {
     "name": "stdout",
     "output_type": "stream",
     "text": [
      "GPU available: True\n",
      "Device: NVIDIA GeForce GTX 1070\n"
     ]
    }
   ],
   "source": [
    "import torch\n",
    "print(\"GPU available:\", torch.cuda.is_available())\n",
    "print(\"Device:\", torch.cuda.get_device_name(0) if torch.cuda.is_available() else \"None\")\n"
   ]
  },
  {
   "cell_type": "code",
   "execution_count": null,
   "id": "80cfc8b6-48ba-4d2d-b078-4acb567bea23",
   "metadata": {},
   "outputs": [],
   "source": []
  },
  {
   "cell_type": "code",
   "execution_count": 8,
   "id": "6a149f35-46b3-4142-8972-fb2164714e4a",
   "metadata": {},
   "outputs": [
    {
     "name": "stdout",
     "output_type": "stream",
     "text": [
      "Loaded 300 files.\n"
     ]
    }
   ],
   "source": [
    "import os\n",
    "\n",
    "# Change this if needed\n",
    "AUDIO_FOLDER = \"/home/ivan/PycharmProjects/MPr/audio_samples/fma_small\"\n",
    "\n",
    "mp3_files = []\n",
    "for root, _, files in os.walk(AUDIO_FOLDER):\n",
    "    for file in files:\n",
    "        if file.endswith(\".mp3\"):\n",
    "            mp3_files.append(os.path.join(root, file))\n",
    "\n",
    "# Optional: limit to the first 300 for now\n",
    "mp3_files = mp3_files[:300]\n",
    "\n",
    "print(f\"Loaded {len(mp3_files)} files.\")\n"
   ]
  },
  {
   "cell_type": "code",
   "execution_count": 9,
   "id": "cf349c91-f308-4e46-b22e-232da3b6df42",
   "metadata": {},
   "outputs": [],
   "source": [
    "import torch\n",
    "from transformers import ClapProcessor, ClapModel\n",
    "\n",
    "device = \"cuda\" if torch.cuda.is_available() else \"cpu\"\n",
    "\n",
    "processor = ClapProcessor.from_pretrained(\"laion/clap-htsat-unfused\")\n",
    "model = ClapModel.from_pretrained(\"laion/clap-htsat-unfused\").to(device)\n"
   ]
  },
  {
   "cell_type": "code",
   "execution_count": 25,
   "id": "c7a71074-5c09-42bb-a8fb-9c0cae68eafe",
   "metadata": {},
   "outputs": [],
   "source": [
    "def embed_audio(filepath):\n",
    "    try:\n",
    "        waveform, sr = torchaudio.load(filepath)\n",
    "        print(f\"📂 Loaded '{filepath}' — shape: {waveform.shape}, sample rate: {sr}\")\n",
    "\n",
    "        waveform = waveform.mean(dim=0).unsqueeze(0)  # mono\n",
    "\n",
    "        if sr != 48000:\n",
    "            print(f\"🔁 Resampling from {sr} → 48000 Hz\")\n",
    "            waveform = torchaudio.transforms.Resample(orig_freq=sr, new_freq=48000)(waveform)\n",
    "\n",
    "        # ✂️ Trim to exactly 30s = 1,440,000 samples\n",
    "        max_len = 48000 * 30\n",
    "        if waveform.shape[1] > max_len:\n",
    "            print(f\"✂️ Trimming waveform to 30s: {waveform.shape[1]} → {max_len}\")\n",
    "            waveform = waveform[:, :max_len]\n",
    "        elif waveform.shape[1] < max_len:\n",
    "            print(f\"📏 Padding waveform to 30s: {waveform.shape[1]} → {max_len}\")\n",
    "            pad_len = max_len - waveform.shape[1]\n",
    "            waveform = torch.nn.functional.pad(waveform, (0, pad_len))\n",
    "\n",
    "        inputs = processor(\n",
    "            audios=waveform.squeeze(0).cpu().numpy(),  # Convert to 1D NumPy array\n",
    "            sampling_rate=48000,\n",
    "            return_tensors=\"pt\"\n",
    "        ).to(device)\n",
    "\n",
    "        with torch.no_grad():\n",
    "            embedding = model.get_audio_features(**inputs)\n",
    "\n",
    "        print(f\"✅ Embedded {filepath}, vector shape: {embedding.shape}\")\n",
    "        return embedding.cpu().numpy().flatten()\n",
    "\n",
    "    except Exception as e:\n",
    "        print(f\"❌ ERROR embedding {filepath}:\\n{e}\")\n",
    "        traceback.print_exc()\n",
    "        raise\n"
   ]
  },
  {
   "cell_type": "code",
   "execution_count": 26,
   "id": "91163e98-e282-4151-8540-dc71a38f1ed6",
   "metadata": {},
   "outputs": [
    {
     "name": "stderr",
     "output_type": "stream",
     "text": [
      "Embedding audio files:   0%|                            | 0/300 [00:00<?, ?it/s]"
     ]
    },
    {
     "name": "stdout",
     "output_type": "stream",
     "text": [
      "📂 Loaded '/home/ivan/PycharmProjects/MPr/audio_samples/fma_small/115/115761.mp3' — shape: torch.Size([2, 1323119]), sample rate: 44100\n",
      "🔁 Resampling from 44100 → 48000 Hz\n",
      "✂️ Trimming waveform to 30s: 1440130 → 1440000\n"
     ]
    },
    {
     "name": "stderr",
     "output_type": "stream",
     "text": [
      "Embedding audio files:   1%|▏                   | 3/300 [00:00<01:10,  4.23it/s]"
     ]
    },
    {
     "name": "stdout",
     "output_type": "stream",
     "text": [
      "✅ Embedded /home/ivan/PycharmProjects/MPr/audio_samples/fma_small/115/115761.mp3, vector shape: torch.Size([1, 512])\n",
      "📂 Loaded '/home/ivan/PycharmProjects/MPr/audio_samples/fma_small/115/115268.mp3' — shape: torch.Size([2, 1323119]), sample rate: 44100\n",
      "🔁 Resampling from 44100 → 48000 Hz\n",
      "✂️ Trimming waveform to 30s: 1440130 → 1440000\n",
      "✅ Embedded /home/ivan/PycharmProjects/MPr/audio_samples/fma_small/115/115268.mp3, vector shape: torch.Size([1, 512])\n",
      "📂 Loaded '/home/ivan/PycharmProjects/MPr/audio_samples/fma_small/115/115765.mp3' — shape: torch.Size([2, 1321967]), sample rate: 44100\n",
      "🔁 Resampling from 44100 → 48000 Hz\n",
      "📏 Padding waveform to 30s: 1438876 → 1440000\n",
      "✅ Embedded /home/ivan/PycharmProjects/MPr/audio_samples/fma_small/115/115765.mp3, vector shape: torch.Size([1, 512])\n"
     ]
    },
    {
     "name": "stderr",
     "output_type": "stream",
     "text": [
      "Embedding audio files:   2%|▎                   | 5/300 [00:01<00:47,  6.16it/s]"
     ]
    },
    {
     "name": "stdout",
     "output_type": "stream",
     "text": [
      "📂 Loaded '/home/ivan/PycharmProjects/MPr/audio_samples/fma_small/115/115700.mp3' — shape: torch.Size([2, 1321967]), sample rate: 44100\n",
      "🔁 Resampling from 44100 → 48000 Hz\n",
      "📏 Padding waveform to 30s: 1438876 → 1440000\n",
      "✅ Embedded /home/ivan/PycharmProjects/MPr/audio_samples/fma_small/115/115700.mp3, vector shape: torch.Size([1, 512])\n",
      "📂 Loaded '/home/ivan/PycharmProjects/MPr/audio_samples/fma_small/115/115923.mp3' — shape: torch.Size([2, 1321967]), sample rate: 44100\n",
      "🔁 Resampling from 44100 → 48000 Hz\n",
      "📏 Padding waveform to 30s: 1438876 → 1440000\n",
      "✅ Embedded /home/ivan/PycharmProjects/MPr/audio_samples/fma_small/115/115923.mp3, vector shape: torch.Size([1, 512])\n",
      "📂 Loaded '/home/ivan/PycharmProjects/MPr/audio_samples/fma_small/115/115474.mp3' — shape: torch.Size([2, 1439471]), sample rate: 48000\n"
     ]
    },
    {
     "name": "stderr",
     "output_type": "stream",
     "text": [
      "Embedding audio files:   2%|▍                   | 6/300 [00:01<00:41,  7.02it/s]"
     ]
    },
    {
     "name": "stdout",
     "output_type": "stream",
     "text": [
      "📏 Padding waveform to 30s: 1439471 → 1440000\n",
      "✅ Embedded /home/ivan/PycharmProjects/MPr/audio_samples/fma_small/115/115474.mp3, vector shape: torch.Size([1, 512])\n",
      "📂 Loaded '/home/ivan/PycharmProjects/MPr/audio_samples/fma_small/115/115267.mp3' — shape: torch.Size([2, 1321967]), sample rate: 44100\n",
      "🔁 Resampling from 44100 → 48000 Hz\n",
      "📏 Padding waveform to 30s: 1438876 → 1440000\n",
      "✅ Embedded /home/ivan/PycharmProjects/MPr/audio_samples/fma_small/115/115267.mp3, vector shape: torch.Size([1, 512])\n",
      "📂 Loaded '/home/ivan/PycharmProjects/MPr/audio_samples/fma_small/115/115125.mp3' — shape: torch.Size([2, 1321967]), sample rate: 44100\n",
      "🔁 Resampling from 44100 → 48000 Hz\n",
      "📏 Padding waveform to 30s: 1438876 → 1440000\n"
     ]
    },
    {
     "name": "stderr",
     "output_type": "stream",
     "text": [
      "Embedding audio files:   3%|▌                   | 9/300 [00:01<00:33,  8.63it/s]"
     ]
    },
    {
     "name": "stdout",
     "output_type": "stream",
     "text": [
      "✅ Embedded /home/ivan/PycharmProjects/MPr/audio_samples/fma_small/115/115125.mp3, vector shape: torch.Size([1, 512])\n",
      "📂 Loaded '/home/ivan/PycharmProjects/MPr/audio_samples/fma_small/115/115922.mp3' — shape: torch.Size([2, 1323119]), sample rate: 44100\n",
      "🔁 Resampling from 44100 → 48000 Hz\n",
      "✂️ Trimming waveform to 30s: 1440130 → 1440000\n",
      "✅ Embedded /home/ivan/PycharmProjects/MPr/audio_samples/fma_small/115/115922.mp3, vector shape: torch.Size([1, 512])\n",
      "📂 Loaded '/home/ivan/PycharmProjects/MPr/audio_samples/fma_small/115/115597.mp3' — shape: torch.Size([2, 1321967]), sample rate: 44100\n",
      "🔁 Resampling from 44100 → 48000 Hz\n",
      "📏 Padding waveform to 30s: 1438876 → 1440000\n",
      "✅ Embedded /home/ivan/PycharmProjects/MPr/audio_samples/fma_small/115/115597.mp3, vector shape: torch.Size([1, 512])\n"
     ]
    },
    {
     "name": "stderr",
     "output_type": "stream",
     "text": [
      "Embedding audio files:   4%|▊                  | 12/300 [00:01<00:31,  9.07it/s]"
     ]
    },
    {
     "name": "stdout",
     "output_type": "stream",
     "text": [
      "📂 Loaded '/home/ivan/PycharmProjects/MPr/audio_samples/fma_small/115/115816.mp3' — shape: torch.Size([2, 1321967]), sample rate: 44100\n",
      "🔁 Resampling from 44100 → 48000 Hz\n",
      "📏 Padding waveform to 30s: 1438876 → 1440000\n",
      "✅ Embedded /home/ivan/PycharmProjects/MPr/audio_samples/fma_small/115/115816.mp3, vector shape: torch.Size([1, 512])\n",
      "📂 Loaded '/home/ivan/PycharmProjects/MPr/audio_samples/fma_small/115/115721.mp3' — shape: torch.Size([2, 1321967]), sample rate: 44100\n",
      "🔁 Resampling from 44100 → 48000 Hz\n",
      "📏 Padding waveform to 30s: 1438876 → 1440000\n",
      "✅ Embedded /home/ivan/PycharmProjects/MPr/audio_samples/fma_small/115/115721.mp3, vector shape: torch.Size([1, 512])\n",
      "📂 Loaded '/home/ivan/PycharmProjects/MPr/audio_samples/fma_small/115/115888.mp3' — shape: torch.Size([2, 1439471]), sample rate: 48000\n"
     ]
    },
    {
     "name": "stderr",
     "output_type": "stream",
     "text": [
      "Embedding audio files:   4%|▊                  | 13/300 [00:01<00:31,  9.14it/s]"
     ]
    },
    {
     "name": "stdout",
     "output_type": "stream",
     "text": [
      "📏 Padding waveform to 30s: 1439471 → 1440000\n",
      "✅ Embedded /home/ivan/PycharmProjects/MPr/audio_samples/fma_small/115/115888.mp3, vector shape: torch.Size([1, 512])\n",
      "📂 Loaded '/home/ivan/PycharmProjects/MPr/audio_samples/fma_small/115/115775.mp3' — shape: torch.Size([2, 1321967]), sample rate: 44100\n",
      "🔁 Resampling from 44100 → 48000 Hz\n",
      "📏 Padding waveform to 30s: 1438876 → 1440000\n",
      "✅ Embedded /home/ivan/PycharmProjects/MPr/audio_samples/fma_small/115/115775.mp3, vector shape: torch.Size([1, 512])\n",
      "📂 Loaded '/home/ivan/PycharmProjects/MPr/audio_samples/fma_small/115/115773.mp3' — shape: torch.Size([2, 1321967]), sample rate: 44100\n",
      "🔁 Resampling from 44100 → 48000 Hz\n",
      "📏 Padding waveform to 30s: 1438876 → 1440000\n"
     ]
    },
    {
     "name": "stderr",
     "output_type": "stream",
     "text": [
      "Embedding audio files:   6%|█                  | 17/300 [00:02<00:28,  9.78it/s]"
     ]
    },
    {
     "name": "stdout",
     "output_type": "stream",
     "text": [
      "✅ Embedded /home/ivan/PycharmProjects/MPr/audio_samples/fma_small/115/115773.mp3, vector shape: torch.Size([1, 512])\n",
      "📂 Loaded '/home/ivan/PycharmProjects/MPr/audio_samples/fma_small/115/115812.mp3' — shape: torch.Size([2, 1323119]), sample rate: 44100\n",
      "🔁 Resampling from 44100 → 48000 Hz\n",
      "✂️ Trimming waveform to 30s: 1440130 → 1440000\n",
      "✅ Embedded /home/ivan/PycharmProjects/MPr/audio_samples/fma_small/115/115812.mp3, vector shape: torch.Size([1, 512])\n",
      "📂 Loaded '/home/ivan/PycharmProjects/MPr/audio_samples/fma_small/115/115724.mp3' — shape: torch.Size([2, 1321967]), sample rate: 44100\n",
      "🔁 Resampling from 44100 → 48000 Hz\n",
      "📏 Padding waveform to 30s: 1438876 → 1440000\n",
      "✅ Embedded /home/ivan/PycharmProjects/MPr/audio_samples/fma_small/115/115724.mp3, vector shape: torch.Size([1, 512])\n"
     ]
    },
    {
     "name": "stderr",
     "output_type": "stream",
     "text": [
      "Embedding audio files:   6%|█▏                 | 18/300 [00:02<00:29,  9.71it/s]"
     ]
    },
    {
     "name": "stdout",
     "output_type": "stream",
     "text": [
      "📂 Loaded '/home/ivan/PycharmProjects/MPr/audio_samples/fma_small/115/115814.mp3' — shape: torch.Size([2, 1321967]), sample rate: 44100\n",
      "🔁 Resampling from 44100 → 48000 Hz\n",
      "📏 Padding waveform to 30s: 1438876 → 1440000\n",
      "✅ Embedded /home/ivan/PycharmProjects/MPr/audio_samples/fma_small/115/115814.mp3, vector shape: torch.Size([1, 512])\n",
      "📂 Loaded '/home/ivan/PycharmProjects/MPr/audio_samples/fma_small/115/115723.mp3' — shape: torch.Size([2, 1321967]), sample rate: 44100\n",
      "🔁 Resampling from 44100 → 48000 Hz\n",
      "📏 Padding waveform to 30s: 1438876 → 1440000\n",
      "✅ Embedded /home/ivan/PycharmProjects/MPr/audio_samples/fma_small/115/115723.mp3, vector shape: torch.Size([1, 512])\n",
      "📂 Loaded '/home/ivan/PycharmProjects/MPr/audio_samples/fma_small/115/115811.mp3' — shape: torch.Size([2, 1321967]), sample rate: 44100\n"
     ]
    },
    {
     "name": "stderr",
     "output_type": "stream",
     "text": [
      "Embedding audio files:   7%|█▎                 | 20/300 [00:02<00:28,  9.81it/s]"
     ]
    },
    {
     "name": "stdout",
     "output_type": "stream",
     "text": [
      "🔁 Resampling from 44100 → 48000 Hz\n",
      "📏 Padding waveform to 30s: 1438876 → 1440000\n",
      "✅ Embedded /home/ivan/PycharmProjects/MPr/audio_samples/fma_small/115/115811.mp3, vector shape: torch.Size([1, 512])\n",
      "📂 Loaded '/home/ivan/PycharmProjects/MPr/audio_samples/fma_small/115/115699.mp3' — shape: torch.Size([2, 1323119]), sample rate: 44100\n",
      "🔁 Resampling from 44100 → 48000 Hz\n",
      "✂️ Trimming waveform to 30s: 1440130 → 1440000\n",
      "✅ Embedded /home/ivan/PycharmProjects/MPr/audio_samples/fma_small/115/115699.mp3, vector shape: torch.Size([1, 512])\n",
      "📂 Loaded '/home/ivan/PycharmProjects/MPr/audio_samples/fma_small/115/115697.mp3' — shape: torch.Size([2, 1323119]), sample rate: 44100\n",
      "🔁 Resampling from 44100 → 48000 Hz\n"
     ]
    },
    {
     "name": "stderr",
     "output_type": "stream",
     "text": [
      "Embedding audio files:   7%|█▍                 | 22/300 [00:02<00:27,  9.99it/s]"
     ]
    },
    {
     "name": "stdout",
     "output_type": "stream",
     "text": [
      "✂️ Trimming waveform to 30s: 1440130 → 1440000\n",
      "✅ Embedded /home/ivan/PycharmProjects/MPr/audio_samples/fma_small/115/115697.mp3, vector shape: torch.Size([1, 512])\n",
      "📂 Loaded '/home/ivan/PycharmProjects/MPr/audio_samples/fma_small/115/115768.mp3' — shape: torch.Size([2, 1323119]), sample rate: 44100\n",
      "🔁 Resampling from 44100 → 48000 Hz\n",
      "✂️ Trimming waveform to 30s: 1440130 → 1440000\n",
      "✅ Embedded /home/ivan/PycharmProjects/MPr/audio_samples/fma_small/115/115768.mp3, vector shape: torch.Size([1, 512])\n",
      "📂 Loaded '/home/ivan/PycharmProjects/MPr/audio_samples/fma_small/115/115272.mp3' — shape: torch.Size([2, 1323119]), sample rate: 44100\n",
      "🔁 Resampling from 44100 → 48000 Hz\n",
      "✂️ Trimming waveform to 30s: 1440130 → 1440000\n"
     ]
    },
    {
     "name": "stderr",
     "output_type": "stream",
     "text": [
      "Embedding audio files:   8%|█▌                 | 24/300 [00:02<00:27, 10.17it/s]"
     ]
    },
    {
     "name": "stdout",
     "output_type": "stream",
     "text": [
      "✅ Embedded /home/ivan/PycharmProjects/MPr/audio_samples/fma_small/115/115272.mp3, vector shape: torch.Size([1, 512])\n",
      "📂 Loaded '/home/ivan/PycharmProjects/MPr/audio_samples/fma_small/115/115926.mp3' — shape: torch.Size([2, 1321967]), sample rate: 44100\n",
      "🔁 Resampling from 44100 → 48000 Hz\n",
      "📏 Padding waveform to 30s: 1438876 → 1440000\n",
      "✅ Embedded /home/ivan/PycharmProjects/MPr/audio_samples/fma_small/115/115926.mp3, vector shape: torch.Size([1, 512])\n",
      "📂 Loaded '/home/ivan/PycharmProjects/MPr/audio_samples/fma_small/115/115392.mp3' — shape: torch.Size([2, 1323119]), sample rate: 44100\n",
      "🔁 Resampling from 44100 → 48000 Hz\n",
      "✂️ Trimming waveform to 30s: 1440130 → 1440000\n"
     ]
    },
    {
     "name": "stderr",
     "output_type": "stream",
     "text": [
      "Embedding audio files:   9%|█▊                 | 28/300 [00:03<00:27, 10.03it/s]"
     ]
    },
    {
     "name": "stdout",
     "output_type": "stream",
     "text": [
      "✅ Embedded /home/ivan/PycharmProjects/MPr/audio_samples/fma_small/115/115392.mp3, vector shape: torch.Size([1, 512])\n",
      "📂 Loaded '/home/ivan/PycharmProjects/MPr/audio_samples/fma_small/115/115774.mp3' — shape: torch.Size([2, 1323119]), sample rate: 44100\n",
      "🔁 Resampling from 44100 → 48000 Hz\n",
      "✂️ Trimming waveform to 30s: 1440130 → 1440000\n",
      "✅ Embedded /home/ivan/PycharmProjects/MPr/audio_samples/fma_small/115/115774.mp3, vector shape: torch.Size([1, 512])\n",
      "📂 Loaded '/home/ivan/PycharmProjects/MPr/audio_samples/fma_small/115/115271.mp3' — shape: torch.Size([2, 1323119]), sample rate: 44100\n",
      "🔁 Resampling from 44100 → 48000 Hz\n",
      "✂️ Trimming waveform to 30s: 1440130 → 1440000\n",
      "✅ Embedded /home/ivan/PycharmProjects/MPr/audio_samples/fma_small/115/115271.mp3, vector shape: torch.Size([1, 512])\n"
     ]
    },
    {
     "name": "stderr",
     "output_type": "stream",
     "text": [
      "Embedding audio files:  10%|█▉                 | 30/300 [00:03<00:26, 10.24it/s]"
     ]
    },
    {
     "name": "stdout",
     "output_type": "stream",
     "text": [
      "📂 Loaded '/home/ivan/PycharmProjects/MPr/audio_samples/fma_small/115/115293.mp3' — shape: torch.Size([2, 1321967]), sample rate: 44100\n",
      "🔁 Resampling from 44100 → 48000 Hz\n",
      "📏 Padding waveform to 30s: 1438876 → 1440000\n",
      "✅ Embedded /home/ivan/PycharmProjects/MPr/audio_samples/fma_small/115/115293.mp3, vector shape: torch.Size([1, 512])\n",
      "📂 Loaded '/home/ivan/PycharmProjects/MPr/audio_samples/fma_small/115/115948.mp3' — shape: torch.Size([2, 1323119]), sample rate: 44100\n",
      "🔁 Resampling from 44100 → 48000 Hz\n",
      "✂️ Trimming waveform to 30s: 1440130 → 1440000\n",
      "✅ Embedded /home/ivan/PycharmProjects/MPr/audio_samples/fma_small/115/115948.mp3, vector shape: torch.Size([1, 512])\n",
      "📂 Loaded '/home/ivan/PycharmProjects/MPr/audio_samples/fma_small/115/115470.mp3' — shape: torch.Size([2, 1439471]), sample rate: 48000\n",
      "📏 Padding waveform to 30s: 1439471 → 1440000\n"
     ]
    },
    {
     "name": "stderr",
     "output_type": "stream",
     "text": [
      "Embedding audio files:  11%|██                 | 32/300 [00:03<00:26, 10.23it/s]"
     ]
    },
    {
     "name": "stdout",
     "output_type": "stream",
     "text": [
      "✅ Embedded /home/ivan/PycharmProjects/MPr/audio_samples/fma_small/115/115470.mp3, vector shape: torch.Size([1, 512])\n",
      "📂 Loaded '/home/ivan/PycharmProjects/MPr/audio_samples/fma_small/115/115011.mp3' — shape: torch.Size([2, 1321967]), sample rate: 44100\n",
      "🔁 Resampling from 44100 → 48000 Hz\n",
      "📏 Padding waveform to 30s: 1438876 → 1440000\n",
      "✅ Embedded /home/ivan/PycharmProjects/MPr/audio_samples/fma_small/115/115011.mp3, vector shape: torch.Size([1, 512])\n",
      "📂 Loaded '/home/ivan/PycharmProjects/MPr/audio_samples/fma_small/115/115849.mp3' — shape: torch.Size([2, 1321967]), sample rate: 44100\n",
      "🔁 Resampling from 44100 → 48000 Hz\n",
      "📏 Padding waveform to 30s: 1438876 → 1440000\n",
      "✅ Embedded /home/ivan/PycharmProjects/MPr/audio_samples/fma_small/115/115849.mp3, vector shape: torch.Size([1, 512])\n"
     ]
    },
    {
     "name": "stderr",
     "output_type": "stream",
     "text": [
      "Embedding audio files:  11%|██▏                | 34/300 [00:03<00:25, 10.24it/s]"
     ]
    },
    {
     "name": "stdout",
     "output_type": "stream",
     "text": [
      "📂 Loaded '/home/ivan/PycharmProjects/MPr/audio_samples/fma_small/115/115339.mp3' — shape: torch.Size([2, 1321967]), sample rate: 44100\n",
      "🔁 Resampling from 44100 → 48000 Hz\n",
      "📏 Padding waveform to 30s: 1438876 → 1440000\n",
      "✅ Embedded /home/ivan/PycharmProjects/MPr/audio_samples/fma_small/115/115339.mp3, vector shape: torch.Size([1, 512])\n",
      "📂 Loaded '/home/ivan/PycharmProjects/MPr/audio_samples/fma_small/115/115473.mp3' — shape: torch.Size([2, 1439471]), sample rate: 48000\n",
      "📏 Padding waveform to 30s: 1439471 → 1440000\n",
      "✅ Embedded /home/ivan/PycharmProjects/MPr/audio_samples/fma_small/115/115473.mp3, vector shape: torch.Size([1, 512])\n",
      "📂 Loaded '/home/ivan/PycharmProjects/MPr/audio_samples/fma_small/115/115289.mp3' — shape: torch.Size([2, 1323119]), sample rate: 44100\n",
      "🔁 Resampling from 44100 → 48000 Hz\n"
     ]
    },
    {
     "name": "stderr",
     "output_type": "stream",
     "text": [
      "Embedding audio files:  12%|██▎                | 36/300 [00:04<00:25, 10.21it/s]"
     ]
    },
    {
     "name": "stdout",
     "output_type": "stream",
     "text": [
      "✂️ Trimming waveform to 30s: 1440130 → 1440000\n",
      "✅ Embedded /home/ivan/PycharmProjects/MPr/audio_samples/fma_small/115/115289.mp3, vector shape: torch.Size([1, 512])\n",
      "📂 Loaded '/home/ivan/PycharmProjects/MPr/audio_samples/fma_small/115/115263.mp3' — shape: torch.Size([2, 1323119]), sample rate: 44100\n",
      "🔁 Resampling from 44100 → 48000 Hz\n",
      "✂️ Trimming waveform to 30s: 1440130 → 1440000\n",
      "✅ Embedded /home/ivan/PycharmProjects/MPr/audio_samples/fma_small/115/115263.mp3, vector shape: torch.Size([1, 512])\n",
      "📂 Loaded '/home/ivan/PycharmProjects/MPr/audio_samples/fma_small/115/115269.mp3' — shape: torch.Size([2, 1323119]), sample rate: 44100\n",
      "🔁 Resampling from 44100 → 48000 Hz\n",
      "✂️ Trimming waveform to 30s: 1440130 → 1440000\n"
     ]
    },
    {
     "name": "stderr",
     "output_type": "stream",
     "text": [
      "Embedding audio files:  13%|██▌                | 40/300 [00:04<00:25, 10.21it/s]"
     ]
    },
    {
     "name": "stdout",
     "output_type": "stream",
     "text": [
      "✅ Embedded /home/ivan/PycharmProjects/MPr/audio_samples/fma_small/115/115269.mp3, vector shape: torch.Size([1, 512])\n",
      "📂 Loaded '/home/ivan/PycharmProjects/MPr/audio_samples/fma_small/115/115722.mp3' — shape: torch.Size([2, 1323119]), sample rate: 44100\n",
      "🔁 Resampling from 44100 → 48000 Hz\n",
      "✂️ Trimming waveform to 30s: 1440130 → 1440000\n",
      "✅ Embedded /home/ivan/PycharmProjects/MPr/audio_samples/fma_small/115/115722.mp3, vector shape: torch.Size([1, 512])\n",
      "📂 Loaded '/home/ivan/PycharmProjects/MPr/audio_samples/fma_small/115/115321.mp3' — shape: torch.Size([2, 1321967]), sample rate: 44100\n",
      "🔁 Resampling from 44100 → 48000 Hz\n",
      "📏 Padding waveform to 30s: 1438876 → 1440000\n",
      "✅ Embedded /home/ivan/PycharmProjects/MPr/audio_samples/fma_small/115/115321.mp3, vector shape: torch.Size([1, 512])\n"
     ]
    },
    {
     "name": "stderr",
     "output_type": "stream",
     "text": [
      "Embedding audio files:  14%|██▋                | 42/300 [00:04<00:25, 10.19it/s]"
     ]
    },
    {
     "name": "stdout",
     "output_type": "stream",
     "text": [
      "📂 Loaded '/home/ivan/PycharmProjects/MPr/audio_samples/fma_small/115/115290.mp3' — shape: torch.Size([2, 1321967]), sample rate: 44100\n",
      "🔁 Resampling from 44100 → 48000 Hz\n",
      "📏 Padding waveform to 30s: 1438876 → 1440000\n",
      "✅ Embedded /home/ivan/PycharmProjects/MPr/audio_samples/fma_small/115/115290.mp3, vector shape: torch.Size([1, 512])\n",
      "📂 Loaded '/home/ivan/PycharmProjects/MPr/audio_samples/fma_small/115/115772.mp3' — shape: torch.Size([2, 1323119]), sample rate: 44100\n",
      "🔁 Resampling from 44100 → 48000 Hz\n",
      "✂️ Trimming waveform to 30s: 1440130 → 1440000\n",
      "✅ Embedded /home/ivan/PycharmProjects/MPr/audio_samples/fma_small/115/115772.mp3, vector shape: torch.Size([1, 512])\n",
      "📂 Loaded '/home/ivan/PycharmProjects/MPr/audio_samples/fma_small/115/115813.mp3' — shape: torch.Size([2, 1321967]), sample rate: 44100\n",
      "🔁 Resampling from 44100 → 48000 Hz\n"
     ]
    },
    {
     "name": "stderr",
     "output_type": "stream",
     "text": [
      "Embedding audio files:  15%|██▊                | 44/300 [00:04<00:25, 10.10it/s]"
     ]
    },
    {
     "name": "stdout",
     "output_type": "stream",
     "text": [
      "📏 Padding waveform to 30s: 1438876 → 1440000\n",
      "✅ Embedded /home/ivan/PycharmProjects/MPr/audio_samples/fma_small/115/115813.mp3, vector shape: torch.Size([1, 512])\n",
      "📂 Loaded '/home/ivan/PycharmProjects/MPr/audio_samples/fma_small/115/115930.mp3' — shape: torch.Size([2, 1323119]), sample rate: 44100\n",
      "🔁 Resampling from 44100 → 48000 Hz\n",
      "✂️ Trimming waveform to 30s: 1440130 → 1440000\n",
      "✅ Embedded /home/ivan/PycharmProjects/MPr/audio_samples/fma_small/115/115930.mp3, vector shape: torch.Size([1, 512])\n",
      "📂 Loaded '/home/ivan/PycharmProjects/MPr/audio_samples/fma_small/115/115935.mp3' — shape: torch.Size([2, 1323119]), sample rate: 44100\n",
      "🔁 Resampling from 44100 → 48000 Hz\n",
      "✂️ Trimming waveform to 30s: 1440130 → 1440000\n"
     ]
    },
    {
     "name": "stderr",
     "output_type": "stream",
     "text": [
      "Embedding audio files:  15%|██▉                | 46/300 [00:05<00:24, 10.23it/s]"
     ]
    },
    {
     "name": "stdout",
     "output_type": "stream",
     "text": [
      "✅ Embedded /home/ivan/PycharmProjects/MPr/audio_samples/fma_small/115/115935.mp3, vector shape: torch.Size([1, 512])\n",
      "📂 Loaded '/home/ivan/PycharmProjects/MPr/audio_samples/fma_small/115/115769.mp3' — shape: torch.Size([2, 1321967]), sample rate: 44100\n",
      "🔁 Resampling from 44100 → 48000 Hz\n",
      "📏 Padding waveform to 30s: 1438876 → 1440000\n",
      "✅ Embedded /home/ivan/PycharmProjects/MPr/audio_samples/fma_small/115/115769.mp3, vector shape: torch.Size([1, 512])\n",
      "📂 Loaded '/home/ivan/PycharmProjects/MPr/audio_samples/fma_small/115/115294.mp3' — shape: torch.Size([2, 1323119]), sample rate: 44100\n",
      "🔁 Resampling from 44100 → 48000 Hz\n",
      "✂️ Trimming waveform to 30s: 1440130 → 1440000\n",
      "✅ Embedded /home/ivan/PycharmProjects/MPr/audio_samples/fma_small/115/115294.mp3, vector shape: torch.Size([1, 512])\n",
      "📂 Loaded '/home/ivan/PycharmProjects/MPr/audio_samples/fma_small/115/115944.mp3' — shape: torch.Size([2, 1321967]), sample rate: 44100\n",
      "🔁 Resampling from 44100 → 48000 Hz\n"
     ]
    },
    {
     "name": "stderr",
     "output_type": "stream",
     "text": [
      "Embedding audio files:  16%|███                | 48/300 [00:05<00:24, 10.29it/s]"
     ]
    },
    {
     "name": "stdout",
     "output_type": "stream",
     "text": [
      "📏 Padding waveform to 30s: 1438876 → 1440000\n",
      "✅ Embedded /home/ivan/PycharmProjects/MPr/audio_samples/fma_small/115/115944.mp3, vector shape: torch.Size([1, 512])\n",
      "📂 Loaded '/home/ivan/PycharmProjects/MPr/audio_samples/fma_small/115/115735.mp3' — shape: torch.Size([2, 1321967]), sample rate: 44100\n",
      "🔁 Resampling from 44100 → 48000 Hz\n",
      "📏 Padding waveform to 30s: 1438876 → 1440000\n",
      "✅ Embedded /home/ivan/PycharmProjects/MPr/audio_samples/fma_small/115/115735.mp3, vector shape: torch.Size([1, 512])\n",
      "📂 Loaded '/home/ivan/PycharmProjects/MPr/audio_samples/fma_small/115/115273.mp3' — shape: torch.Size([2, 1321967]), sample rate: 44100\n",
      "🔁 Resampling from 44100 → 48000 Hz\n",
      "📏 Padding waveform to 30s: 1438876 → 1440000\n"
     ]
    },
    {
     "name": "stderr",
     "output_type": "stream",
     "text": [
      "Embedding audio files:  17%|███▎               | 52/300 [00:05<00:23, 10.35it/s]"
     ]
    },
    {
     "name": "stdout",
     "output_type": "stream",
     "text": [
      "✅ Embedded /home/ivan/PycharmProjects/MPr/audio_samples/fma_small/115/115273.mp3, vector shape: torch.Size([1, 512])\n",
      "📂 Loaded '/home/ivan/PycharmProjects/MPr/audio_samples/fma_small/115/115932.mp3' — shape: torch.Size([2, 1323119]), sample rate: 44100\n",
      "🔁 Resampling from 44100 → 48000 Hz\n",
      "✂️ Trimming waveform to 30s: 1440130 → 1440000\n",
      "✅ Embedded /home/ivan/PycharmProjects/MPr/audio_samples/fma_small/115/115932.mp3, vector shape: torch.Size([1, 512])\n",
      "📂 Loaded '/home/ivan/PycharmProjects/MPr/audio_samples/fma_small/115/115176.mp3' — shape: torch.Size([2, 1321967]), sample rate: 44100\n",
      "🔁 Resampling from 44100 → 48000 Hz\n",
      "📏 Padding waveform to 30s: 1438876 → 1440000\n",
      "✅ Embedded /home/ivan/PycharmProjects/MPr/audio_samples/fma_small/115/115176.mp3, vector shape: torch.Size([1, 512])\n"
     ]
    },
    {
     "name": "stderr",
     "output_type": "stream",
     "text": [
      "Embedding audio files:  18%|███▍               | 54/300 [00:05<00:23, 10.32it/s]"
     ]
    },
    {
     "name": "stdout",
     "output_type": "stream",
     "text": [
      "📂 Loaded '/home/ivan/PycharmProjects/MPr/audio_samples/fma_small/115/115766.mp3' — shape: torch.Size([2, 1323119]), sample rate: 44100\n",
      "🔁 Resampling from 44100 → 48000 Hz\n",
      "✂️ Trimming waveform to 30s: 1440130 → 1440000\n",
      "✅ Embedded /home/ivan/PycharmProjects/MPr/audio_samples/fma_small/115/115766.mp3, vector shape: torch.Size([1, 512])\n",
      "📂 Loaded '/home/ivan/PycharmProjects/MPr/audio_samples/fma_small/115/115762.mp3' — shape: torch.Size([2, 1321967]), sample rate: 44100\n",
      "🔁 Resampling from 44100 → 48000 Hz\n",
      "📏 Padding waveform to 30s: 1438876 → 1440000\n",
      "✅ Embedded /home/ivan/PycharmProjects/MPr/audio_samples/fma_small/115/115762.mp3, vector shape: torch.Size([1, 512])\n",
      "📂 Loaded '/home/ivan/PycharmProjects/MPr/audio_samples/fma_small/115/115002.mp3' — shape: torch.Size([2, 1321967]), sample rate: 44100\n",
      "🔁 Resampling from 44100 → 48000 Hz\n",
      "📏 Padding waveform to 30s: 1438876 → 1440000\n"
     ]
    },
    {
     "name": "stderr",
     "output_type": "stream",
     "text": [
      "Embedding audio files:  19%|███▌               | 56/300 [00:06<00:23, 10.29it/s]"
     ]
    },
    {
     "name": "stdout",
     "output_type": "stream",
     "text": [
      "✅ Embedded /home/ivan/PycharmProjects/MPr/audio_samples/fma_small/115/115002.mp3, vector shape: torch.Size([1, 512])\n",
      "📂 Loaded '/home/ivan/PycharmProjects/MPr/audio_samples/fma_small/115/115815.mp3' — shape: torch.Size([2, 1323119]), sample rate: 44100\n",
      "🔁 Resampling from 44100 → 48000 Hz\n",
      "✂️ Trimming waveform to 30s: 1440130 → 1440000\n",
      "✅ Embedded /home/ivan/PycharmProjects/MPr/audio_samples/fma_small/115/115815.mp3, vector shape: torch.Size([1, 512])\n",
      "📂 Loaded '/home/ivan/PycharmProjects/MPr/audio_samples/fma_small/115/115767.mp3' — shape: torch.Size([2, 1321967]), sample rate: 44100\n",
      "🔁 Resampling from 44100 → 48000 Hz\n",
      "📏 Padding waveform to 30s: 1438876 → 1440000\n",
      "✅ Embedded /home/ivan/PycharmProjects/MPr/audio_samples/fma_small/115/115767.mp3, vector shape: torch.Size([1, 512])\n",
      "📂 Loaded '/home/ivan/PycharmProjects/MPr/audio_samples/fma_small/115/115892.mp3' — shape: torch.Size([2, 1439471]), sample rate: 48000\n",
      "📏 Padding waveform to 30s: 1439471 → 1440000\n"
     ]
    },
    {
     "name": "stderr",
     "output_type": "stream",
     "text": [
      "Embedding audio files:  20%|███▊               | 60/300 [00:06<00:23, 10.29it/s]"
     ]
    },
    {
     "name": "stdout",
     "output_type": "stream",
     "text": [
      "✅ Embedded /home/ivan/PycharmProjects/MPr/audio_samples/fma_small/115/115892.mp3, vector shape: torch.Size([1, 512])\n",
      "📂 Loaded '/home/ivan/PycharmProjects/MPr/audio_samples/fma_small/115/115592.mp3' — shape: torch.Size([2, 1321967]), sample rate: 44100\n",
      "🔁 Resampling from 44100 → 48000 Hz\n",
      "📏 Padding waveform to 30s: 1438876 → 1440000\n",
      "✅ Embedded /home/ivan/PycharmProjects/MPr/audio_samples/fma_small/115/115592.mp3, vector shape: torch.Size([1, 512])\n",
      "📂 Loaded '/home/ivan/PycharmProjects/MPr/audio_samples/fma_small/115/115764.mp3' — shape: torch.Size([2, 1323119]), sample rate: 44100\n",
      "🔁 Resampling from 44100 → 48000 Hz\n",
      "✂️ Trimming waveform to 30s: 1440130 → 1440000\n",
      "✅ Embedded /home/ivan/PycharmProjects/MPr/audio_samples/fma_small/115/115764.mp3, vector shape: torch.Size([1, 512])\n"
     ]
    },
    {
     "name": "stderr",
     "output_type": "stream",
     "text": [
      "Embedding audio files:  21%|███▉               | 62/300 [00:06<00:23, 10.32it/s]"
     ]
    },
    {
     "name": "stdout",
     "output_type": "stream",
     "text": [
      "📂 Loaded '/home/ivan/PycharmProjects/MPr/audio_samples/fma_small/115/115925.mp3' — shape: torch.Size([2, 1323119]), sample rate: 44100\n",
      "🔁 Resampling from 44100 → 48000 Hz\n",
      "✂️ Trimming waveform to 30s: 1440130 → 1440000\n",
      "✅ Embedded /home/ivan/PycharmProjects/MPr/audio_samples/fma_small/115/115925.mp3, vector shape: torch.Size([1, 512])\n",
      "📂 Loaded '/home/ivan/PycharmProjects/MPr/audio_samples/fma_small/115/115817.mp3' — shape: torch.Size([2, 1321967]), sample rate: 44100\n",
      "🔁 Resampling from 44100 → 48000 Hz\n",
      "📏 Padding waveform to 30s: 1438876 → 1440000\n",
      "✅ Embedded /home/ivan/PycharmProjects/MPr/audio_samples/fma_small/115/115817.mp3, vector shape: torch.Size([1, 512])\n",
      "📂 Loaded '/home/ivan/PycharmProjects/MPr/audio_samples/fma_small/115/115852.mp3' — shape: torch.Size([2, 1321967]), sample rate: 44100\n",
      "🔁 Resampling from 44100 → 48000 Hz\n",
      "📏 Padding waveform to 30s: 1438876 → 1440000\n"
     ]
    },
    {
     "name": "stderr",
     "output_type": "stream",
     "text": [
      "Embedding audio files:  21%|████               | 64/300 [00:06<00:22, 10.29it/s]"
     ]
    },
    {
     "name": "stdout",
     "output_type": "stream",
     "text": [
      "✅ Embedded /home/ivan/PycharmProjects/MPr/audio_samples/fma_small/115/115852.mp3, vector shape: torch.Size([1, 512])\n",
      "📂 Loaded '/home/ivan/PycharmProjects/MPr/audio_samples/fma_small/115/115891.mp3' — shape: torch.Size([2, 1439471]), sample rate: 48000\n",
      "📏 Padding waveform to 30s: 1439471 → 1440000\n",
      "✅ Embedded /home/ivan/PycharmProjects/MPr/audio_samples/fma_small/115/115891.mp3, vector shape: torch.Size([1, 512])\n",
      "📂 Loaded '/home/ivan/PycharmProjects/MPr/audio_samples/fma_small/115/115292.mp3' — shape: torch.Size([2, 1323119]), sample rate: 44100\n",
      "🔁 Resampling from 44100 → 48000 Hz\n",
      "✂️ Trimming waveform to 30s: 1440130 → 1440000\n",
      "✅ Embedded /home/ivan/PycharmProjects/MPr/audio_samples/fma_small/115/115292.mp3, vector shape: torch.Size([1, 512])\n",
      "📂 Loaded '/home/ivan/PycharmProjects/MPr/audio_samples/fma_small/115/115475.mp3' — shape: torch.Size([2, 1439471]), sample rate: 48000\n",
      "📏 Padding waveform to 30s: 1439471 → 1440000\n"
     ]
    },
    {
     "name": "stderr",
     "output_type": "stream",
     "text": [
      "Embedding audio files:  23%|████▎              | 68/300 [00:07<00:22, 10.43it/s]"
     ]
    },
    {
     "name": "stdout",
     "output_type": "stream",
     "text": [
      "✅ Embedded /home/ivan/PycharmProjects/MPr/audio_samples/fma_small/115/115475.mp3, vector shape: torch.Size([1, 512])\n",
      "📂 Loaded '/home/ivan/PycharmProjects/MPr/audio_samples/fma_small/115/115288.mp3' — shape: torch.Size([2, 1323119]), sample rate: 44100\n",
      "🔁 Resampling from 44100 → 48000 Hz\n",
      "✂️ Trimming waveform to 30s: 1440130 → 1440000\n",
      "✅ Embedded /home/ivan/PycharmProjects/MPr/audio_samples/fma_small/115/115288.mp3, vector shape: torch.Size([1, 512])\n",
      "📂 Loaded '/home/ivan/PycharmProjects/MPr/audio_samples/fma_small/115/115472.mp3' — shape: torch.Size([2, 1439471]), sample rate: 48000\n",
      "📏 Padding waveform to 30s: 1439471 → 1440000\n",
      "✅ Embedded /home/ivan/PycharmProjects/MPr/audio_samples/fma_small/115/115472.mp3, vector shape: torch.Size([1, 512])\n"
     ]
    },
    {
     "name": "stderr",
     "output_type": "stream",
     "text": [
      "Embedding audio files:  23%|████▍              | 70/300 [00:07<00:22, 10.27it/s]"
     ]
    },
    {
     "name": "stdout",
     "output_type": "stream",
     "text": [
      "📂 Loaded '/home/ivan/PycharmProjects/MPr/audio_samples/fma_small/115/115850.mp3' — shape: torch.Size([2, 1321967]), sample rate: 44100\n",
      "🔁 Resampling from 44100 → 48000 Hz\n",
      "📏 Padding waveform to 30s: 1438876 → 1440000\n",
      "✅ Embedded /home/ivan/PycharmProjects/MPr/audio_samples/fma_small/115/115850.mp3, vector shape: torch.Size([1, 512])\n",
      "📂 Loaded '/home/ivan/PycharmProjects/MPr/audio_samples/fma_small/115/115698.mp3' — shape: torch.Size([2, 1323119]), sample rate: 44100\n",
      "🔁 Resampling from 44100 → 48000 Hz\n",
      "✂️ Trimming waveform to 30s: 1440130 → 1440000\n",
      "✅ Embedded /home/ivan/PycharmProjects/MPr/audio_samples/fma_small/115/115698.mp3, vector shape: torch.Size([1, 512])\n",
      "📂 Loaded '/home/ivan/PycharmProjects/MPr/audio_samples/fma_small/115/115391.mp3' — shape: torch.Size([2, 1323119]), sample rate: 44100\n"
     ]
    },
    {
     "name": "stderr",
     "output_type": "stream",
     "text": [
      "Embedding audio files:  24%|████▌              | 72/300 [00:07<00:22, 10.19it/s]"
     ]
    },
    {
     "name": "stdout",
     "output_type": "stream",
     "text": [
      "🔁 Resampling from 44100 → 48000 Hz\n",
      "✂️ Trimming waveform to 30s: 1440130 → 1440000\n",
      "✅ Embedded /home/ivan/PycharmProjects/MPr/audio_samples/fma_small/115/115391.mp3, vector shape: torch.Size([1, 512])\n",
      "📂 Loaded '/home/ivan/PycharmProjects/MPr/audio_samples/fma_small/115/115771.mp3' — shape: torch.Size([2, 1321967]), sample rate: 44100\n",
      "🔁 Resampling from 44100 → 48000 Hz\n",
      "📏 Padding waveform to 30s: 1438876 → 1440000\n",
      "✅ Embedded /home/ivan/PycharmProjects/MPr/audio_samples/fma_small/115/115771.mp3, vector shape: torch.Size([1, 512])\n",
      "📂 Loaded '/home/ivan/PycharmProjects/MPr/audio_samples/fma_small/115/115262.mp3' — shape: torch.Size([2, 1323119]), sample rate: 44100\n",
      "🔁 Resampling from 44100 → 48000 Hz\n",
      "✂️ Trimming waveform to 30s: 1440130 → 1440000\n"
     ]
    },
    {
     "name": "stderr",
     "output_type": "stream",
     "text": [
      "Embedding audio files:  25%|████▋              | 74/300 [00:07<00:21, 10.37it/s]"
     ]
    },
    {
     "name": "stdout",
     "output_type": "stream",
     "text": [
      "✅ Embedded /home/ivan/PycharmProjects/MPr/audio_samples/fma_small/115/115262.mp3, vector shape: torch.Size([1, 512])\n",
      "📂 Loaded '/home/ivan/PycharmProjects/MPr/audio_samples/fma_small/115/115927.mp3' — shape: torch.Size([2, 1323119]), sample rate: 44100\n",
      "🔁 Resampling from 44100 → 48000 Hz\n",
      "✂️ Trimming waveform to 30s: 1440130 → 1440000\n",
      "✅ Embedded /home/ivan/PycharmProjects/MPr/audio_samples/fma_small/115/115927.mp3, vector shape: torch.Size([1, 512])\n",
      "📂 Loaded '/home/ivan/PycharmProjects/MPr/audio_samples/fma_small/115/115591.mp3' — shape: torch.Size([2, 1323119]), sample rate: 44100\n",
      "🔁 Resampling from 44100 → 48000 Hz\n",
      "✂️ Trimming waveform to 30s: 1440130 → 1440000\n",
      "✅ Embedded /home/ivan/PycharmProjects/MPr/audio_samples/fma_small/115/115591.mp3, vector shape: torch.Size([1, 512])\n",
      "📂 Loaded '/home/ivan/PycharmProjects/MPr/audio_samples/fma_small/115/115471.mp3' — shape: torch.Size([2, 1439471]), sample rate: 48000\n",
      "📏 Padding waveform to 30s: 1439471 → 1440000\n"
     ]
    },
    {
     "name": "stderr",
     "output_type": "stream",
     "text": [
      "Embedding audio files:  26%|████▉              | 78/300 [00:08<00:21, 10.50it/s]"
     ]
    },
    {
     "name": "stdout",
     "output_type": "stream",
     "text": [
      "✅ Embedded /home/ivan/PycharmProjects/MPr/audio_samples/fma_small/115/115471.mp3, vector shape: torch.Size([1, 512])\n",
      "📂 Loaded '/home/ivan/PycharmProjects/MPr/audio_samples/fma_small/031/031888.mp3' — shape: torch.Size([2, 1323119]), sample rate: 44100\n",
      "🔁 Resampling from 44100 → 48000 Hz\n",
      "✂️ Trimming waveform to 30s: 1440130 → 1440000\n",
      "✅ Embedded /home/ivan/PycharmProjects/MPr/audio_samples/fma_small/031/031888.mp3, vector shape: torch.Size([1, 512])\n",
      "📂 Loaded '/home/ivan/PycharmProjects/MPr/audio_samples/fma_small/031/031041.mp3' — shape: torch.Size([2, 1323119]), sample rate: 44100\n",
      "🔁 Resampling from 44100 → 48000 Hz\n",
      "✂️ Trimming waveform to 30s: 1440130 → 1440000\n",
      "✅ Embedded /home/ivan/PycharmProjects/MPr/audio_samples/fma_small/031/031041.mp3, vector shape: torch.Size([1, 512])\n"
     ]
    },
    {
     "name": "stderr",
     "output_type": "stream",
     "text": [
      "Embedding audio files:  27%|█████              | 80/300 [00:08<00:20, 10.50it/s]"
     ]
    },
    {
     "name": "stdout",
     "output_type": "stream",
     "text": [
      "📂 Loaded '/home/ivan/PycharmProjects/MPr/audio_samples/fma_small/031/031042.mp3' — shape: torch.Size([2, 1323119]), sample rate: 44100\n",
      "🔁 Resampling from 44100 → 48000 Hz\n",
      "✂️ Trimming waveform to 30s: 1440130 → 1440000\n",
      "✅ Embedded /home/ivan/PycharmProjects/MPr/audio_samples/fma_small/031/031042.mp3, vector shape: torch.Size([1, 512])\n",
      "📂 Loaded '/home/ivan/PycharmProjects/MPr/audio_samples/fma_small/031/031807.mp3' — shape: torch.Size([2, 1321967]), sample rate: 44100\n",
      "🔁 Resampling from 44100 → 48000 Hz\n",
      "📏 Padding waveform to 30s: 1438876 → 1440000\n",
      "✅ Embedded /home/ivan/PycharmProjects/MPr/audio_samples/fma_small/031/031807.mp3, vector shape: torch.Size([1, 512])\n",
      "📂 Loaded '/home/ivan/PycharmProjects/MPr/audio_samples/fma_small/031/031044.mp3' — shape: torch.Size([2, 1321967]), sample rate: 44100\n",
      "🔁 Resampling from 44100 → 48000 Hz\n",
      "📏 Padding waveform to 30s: 1438876 → 1440000\n"
     ]
    },
    {
     "name": "stderr",
     "output_type": "stream",
     "text": [
      "Embedding audio files:  27%|█████▏             | 82/300 [00:08<00:21, 10.24it/s]"
     ]
    },
    {
     "name": "stdout",
     "output_type": "stream",
     "text": [
      "✅ Embedded /home/ivan/PycharmProjects/MPr/audio_samples/fma_small/031/031044.mp3, vector shape: torch.Size([1, 512])\n",
      "📂 Loaded '/home/ivan/PycharmProjects/MPr/audio_samples/fma_small/031/031043.mp3' — shape: torch.Size([2, 1321967]), sample rate: 44100\n",
      "🔁 Resampling from 44100 → 48000 Hz\n",
      "📏 Padding waveform to 30s: 1438876 → 1440000\n",
      "✅ Embedded /home/ivan/PycharmProjects/MPr/audio_samples/fma_small/031/031043.mp3, vector shape: torch.Size([1, 512])\n",
      "📂 Loaded '/home/ivan/PycharmProjects/MPr/audio_samples/fma_small/031/031390.mp3' — shape: torch.Size([2, 1323119]), sample rate: 44100\n",
      "🔁 Resampling from 44100 → 48000 Hz\n",
      "✂️ Trimming waveform to 30s: 1440130 → 1440000\n",
      "✅ Embedded /home/ivan/PycharmProjects/MPr/audio_samples/fma_small/031/031390.mp3, vector shape: torch.Size([1, 512])\n"
     ]
    },
    {
     "name": "stderr",
     "output_type": "stream",
     "text": [
      "Embedding audio files:  28%|█████▎             | 84/300 [00:08<00:22,  9.78it/s]"
     ]
    },
    {
     "name": "stdout",
     "output_type": "stream",
     "text": [
      "📂 Loaded '/home/ivan/PycharmProjects/MPr/audio_samples/fma_small/031/031165.mp3' — shape: torch.Size([2, 1321967]), sample rate: 44100\n",
      "🔁 Resampling from 44100 → 48000 Hz\n",
      "📏 Padding waveform to 30s: 1438876 → 1440000\n",
      "✅ Embedded /home/ivan/PycharmProjects/MPr/audio_samples/fma_small/031/031165.mp3, vector shape: torch.Size([1, 512])\n",
      "📂 Loaded '/home/ivan/PycharmProjects/MPr/audio_samples/fma_small/031/031391.mp3' — shape: torch.Size([2, 1323119]), sample rate: 44100\n",
      "🔁 Resampling from 44100 → 48000 Hz\n",
      "✂️ Trimming waveform to 30s: 1440130 → 1440000\n",
      "✅ Embedded /home/ivan/PycharmProjects/MPr/audio_samples/fma_small/031/031391.mp3, vector shape: torch.Size([1, 512])\n",
      "📂 Loaded '/home/ivan/PycharmProjects/MPr/audio_samples/fma_small/031/031389.mp3' — shape: torch.Size([2, 1321967]), sample rate: 44100\n"
     ]
    },
    {
     "name": "stderr",
     "output_type": "stream",
     "text": [
      "Embedding audio files:  29%|█████▍             | 86/300 [00:09<00:21,  9.91it/s]"
     ]
    },
    {
     "name": "stdout",
     "output_type": "stream",
     "text": [
      "🔁 Resampling from 44100 → 48000 Hz\n",
      "📏 Padding waveform to 30s: 1438876 → 1440000\n",
      "✅ Embedded /home/ivan/PycharmProjects/MPr/audio_samples/fma_small/031/031389.mp3, vector shape: torch.Size([1, 512])\n",
      "📂 Loaded '/home/ivan/PycharmProjects/MPr/audio_samples/fma_small/031/031392.mp3' — shape: torch.Size([2, 1323119]), sample rate: 44100\n",
      "🔁 Resampling from 44100 → 48000 Hz\n",
      "✂️ Trimming waveform to 30s: 1440130 → 1440000\n",
      "✅ Embedded /home/ivan/PycharmProjects/MPr/audio_samples/fma_small/031/031392.mp3, vector shape: torch.Size([1, 512])\n",
      "📂 Loaded '/home/ivan/PycharmProjects/MPr/audio_samples/fma_small/031/031356.mp3' — shape: torch.Size([2, 1321967]), sample rate: 44100\n",
      "🔁 Resampling from 44100 → 48000 Hz\n"
     ]
    },
    {
     "name": "stderr",
     "output_type": "stream",
     "text": [
      "Embedding audio files:  29%|█████▌             | 88/300 [00:09<00:21,  9.99it/s]"
     ]
    },
    {
     "name": "stdout",
     "output_type": "stream",
     "text": [
      "📏 Padding waveform to 30s: 1438876 → 1440000\n",
      "✅ Embedded /home/ivan/PycharmProjects/MPr/audio_samples/fma_small/031/031356.mp3, vector shape: torch.Size([1, 512])\n",
      "📂 Loaded '/home/ivan/PycharmProjects/MPr/audio_samples/fma_small/031/031887.mp3' — shape: torch.Size([2, 1321967]), sample rate: 44100\n",
      "🔁 Resampling from 44100 → 48000 Hz\n",
      "📏 Padding waveform to 30s: 1438876 → 1440000\n",
      "✅ Embedded /home/ivan/PycharmProjects/MPr/audio_samples/fma_small/031/031887.mp3, vector shape: torch.Size([1, 512])\n",
      "📂 Loaded '/home/ivan/PycharmProjects/MPr/audio_samples/fma_small/031/031889.mp3' — shape: torch.Size([2, 1323119]), sample rate: 44100\n",
      "🔁 Resampling from 44100 → 48000 Hz\n",
      "✂️ Trimming waveform to 30s: 1440130 → 1440000\n"
     ]
    },
    {
     "name": "stderr",
     "output_type": "stream",
     "text": [
      "Embedding audio files:  30%|█████▋             | 90/300 [00:09<00:20, 10.02it/s]"
     ]
    },
    {
     "name": "stdout",
     "output_type": "stream",
     "text": [
      "✅ Embedded /home/ivan/PycharmProjects/MPr/audio_samples/fma_small/031/031889.mp3, vector shape: torch.Size([1, 512])\n",
      "📂 Loaded '/home/ivan/PycharmProjects/MPr/audio_samples/fma_small/031/031040.mp3' — shape: torch.Size([2, 1323119]), sample rate: 44100\n",
      "🔁 Resampling from 44100 → 48000 Hz\n",
      "✂️ Trimming waveform to 30s: 1440130 → 1440000\n",
      "✅ Embedded /home/ivan/PycharmProjects/MPr/audio_samples/fma_small/031/031040.mp3, vector shape: torch.Size([1, 512])\n",
      "📂 Loaded '/home/ivan/PycharmProjects/MPr/audio_samples/fma_small/031/031568.mp3' — shape: torch.Size([2, 1321967]), sample rate: 44100\n",
      "🔁 Resampling from 44100 → 48000 Hz\n",
      "📏 Padding waveform to 30s: 1438876 → 1440000\n"
     ]
    },
    {
     "name": "stderr",
     "output_type": "stream",
     "text": [
      "Embedding audio files:  31%|█████▉             | 93/300 [00:09<00:21,  9.77it/s]"
     ]
    },
    {
     "name": "stdout",
     "output_type": "stream",
     "text": [
      "✅ Embedded /home/ivan/PycharmProjects/MPr/audio_samples/fma_small/031/031568.mp3, vector shape: torch.Size([1, 512])\n",
      "📂 Loaded '/home/ivan/PycharmProjects/MPr/audio_samples/fma_small/031/031999.mp3' — shape: torch.Size([2, 1321967]), sample rate: 44100\n",
      "🔁 Resampling from 44100 → 48000 Hz\n",
      "📏 Padding waveform to 30s: 1438876 → 1440000\n",
      "✅ Embedded /home/ivan/PycharmProjects/MPr/audio_samples/fma_small/031/031999.mp3, vector shape: torch.Size([1, 512])\n",
      "📂 Loaded '/home/ivan/PycharmProjects/MPr/audio_samples/fma_small/051/051111.mp3' — shape: torch.Size([2, 1321967]), sample rate: 44100\n",
      "🔁 Resampling from 44100 → 48000 Hz\n",
      "📏 Padding waveform to 30s: 1438876 → 1440000\n"
     ]
    },
    {
     "name": "stderr",
     "output_type": "stream",
     "text": [
      "Embedding audio files:  32%|██████             | 96/300 [00:10<00:20,  9.85it/s]"
     ]
    },
    {
     "name": "stdout",
     "output_type": "stream",
     "text": [
      "✅ Embedded /home/ivan/PycharmProjects/MPr/audio_samples/fma_small/051/051111.mp3, vector shape: torch.Size([1, 512])\n",
      "📂 Loaded '/home/ivan/PycharmProjects/MPr/audio_samples/fma_small/051/051274.mp3' — shape: torch.Size([2, 1321967]), sample rate: 44100\n",
      "🔁 Resampling from 44100 → 48000 Hz\n",
      "📏 Padding waveform to 30s: 1438876 → 1440000\n",
      "✅ Embedded /home/ivan/PycharmProjects/MPr/audio_samples/fma_small/051/051274.mp3, vector shape: torch.Size([1, 512])\n",
      "📂 Loaded '/home/ivan/PycharmProjects/MPr/audio_samples/fma_small/051/051203.mp3' — shape: torch.Size([2, 1323119]), sample rate: 44100\n",
      "🔁 Resampling from 44100 → 48000 Hz\n",
      "✂️ Trimming waveform to 30s: 1440130 → 1440000\n",
      "✅ Embedded /home/ivan/PycharmProjects/MPr/audio_samples/fma_small/051/051203.mp3, vector shape: torch.Size([1, 512])\n"
     ]
    },
    {
     "name": "stderr",
     "output_type": "stream",
     "text": [
      "Embedding audio files:  33%|██████▏            | 98/300 [00:10<00:21,  9.61it/s]"
     ]
    },
    {
     "name": "stdout",
     "output_type": "stream",
     "text": [
      "📂 Loaded '/home/ivan/PycharmProjects/MPr/audio_samples/fma_small/051/051261.mp3' — shape: torch.Size([2, 1321967]), sample rate: 44100\n",
      "🔁 Resampling from 44100 → 48000 Hz\n",
      "📏 Padding waveform to 30s: 1438876 → 1440000\n",
      "✅ Embedded /home/ivan/PycharmProjects/MPr/audio_samples/fma_small/051/051261.mp3, vector shape: torch.Size([1, 512])\n",
      "📂 Loaded '/home/ivan/PycharmProjects/MPr/audio_samples/fma_small/051/051991.mp3' — shape: torch.Size([2, 1323119]), sample rate: 44100\n",
      "🔁 Resampling from 44100 → 48000 Hz\n",
      "✂️ Trimming waveform to 30s: 1440130 → 1440000\n",
      "✅ Embedded /home/ivan/PycharmProjects/MPr/audio_samples/fma_small/051/051991.mp3, vector shape: torch.Size([1, 512])\n"
     ]
    },
    {
     "name": "stderr",
     "output_type": "stream",
     "text": [
      "Embedding audio files:  33%|██████▎            | 99/300 [00:10<00:20,  9.65it/s]"
     ]
    },
    {
     "name": "stdout",
     "output_type": "stream",
     "text": [
      "📂 Loaded '/home/ivan/PycharmProjects/MPr/audio_samples/fma_small/051/051659.mp3' — shape: torch.Size([2, 1321967]), sample rate: 44100\n",
      "🔁 Resampling from 44100 → 48000 Hz\n",
      "📏 Padding waveform to 30s: 1438876 → 1440000\n",
      "✅ Embedded /home/ivan/PycharmProjects/MPr/audio_samples/fma_small/051/051659.mp3, vector shape: torch.Size([1, 512])\n",
      "📂 Loaded '/home/ivan/PycharmProjects/MPr/audio_samples/fma_small/051/051291.mp3' — shape: torch.Size([2, 1323119]), sample rate: 44100\n",
      "🔁 Resampling from 44100 → 48000 Hz\n",
      "✂️ Trimming waveform to 30s: 1440130 → 1440000\n",
      "✅ Embedded /home/ivan/PycharmProjects/MPr/audio_samples/fma_small/051/051291.mp3, vector shape: torch.Size([1, 512])\n",
      "📂 Loaded '/home/ivan/PycharmProjects/MPr/audio_samples/fma_small/051/051301.mp3' — shape: torch.Size([2, 1323119]), sample rate: 44100\n",
      "🔁 Resampling from 44100 → 48000 Hz\n",
      "✂️ Trimming waveform to 30s: 1440130 → 1440000\n"
     ]
    },
    {
     "name": "stderr",
     "output_type": "stream",
     "text": [
      "Embedding audio files:  34%|██████▏           | 103/300 [00:10<00:19, 10.09it/s]"
     ]
    },
    {
     "name": "stdout",
     "output_type": "stream",
     "text": [
      "✅ Embedded /home/ivan/PycharmProjects/MPr/audio_samples/fma_small/051/051301.mp3, vector shape: torch.Size([1, 512])\n",
      "📂 Loaded '/home/ivan/PycharmProjects/MPr/audio_samples/fma_small/051/051262.mp3' — shape: torch.Size([2, 1323119]), sample rate: 44100\n",
      "🔁 Resampling from 44100 → 48000 Hz\n",
      "✂️ Trimming waveform to 30s: 1440130 → 1440000\n",
      "✅ Embedded /home/ivan/PycharmProjects/MPr/audio_samples/fma_small/051/051262.mp3, vector shape: torch.Size([1, 512])\n",
      "📂 Loaded '/home/ivan/PycharmProjects/MPr/audio_samples/fma_small/051/051004.mp3' — shape: torch.Size([2, 1323119]), sample rate: 44100\n",
      "🔁 Resampling from 44100 → 48000 Hz\n",
      "✂️ Trimming waveform to 30s: 1440130 → 1440000\n",
      "✅ Embedded /home/ivan/PycharmProjects/MPr/audio_samples/fma_small/051/051004.mp3, vector shape: torch.Size([1, 512])\n"
     ]
    },
    {
     "name": "stderr",
     "output_type": "stream",
     "text": [
      "Embedding audio files:  35%|██████▎           | 105/300 [00:10<00:19, 10.18it/s]"
     ]
    },
    {
     "name": "stdout",
     "output_type": "stream",
     "text": [
      "📂 Loaded '/home/ivan/PycharmProjects/MPr/audio_samples/fma_small/051/051005.mp3' — shape: torch.Size([2, 1321967]), sample rate: 44100\n",
      "🔁 Resampling from 44100 → 48000 Hz\n",
      "📏 Padding waveform to 30s: 1438876 → 1440000\n",
      "✅ Embedded /home/ivan/PycharmProjects/MPr/audio_samples/fma_small/051/051005.mp3, vector shape: torch.Size([1, 512])\n",
      "📂 Loaded '/home/ivan/PycharmProjects/MPr/audio_samples/fma_small/051/051784.mp3' — shape: torch.Size([2, 1323119]), sample rate: 44100\n",
      "🔁 Resampling from 44100 → 48000 Hz\n",
      "✂️ Trimming waveform to 30s: 1440130 → 1440000\n",
      "✅ Embedded /home/ivan/PycharmProjects/MPr/audio_samples/fma_small/051/051784.mp3, vector shape: torch.Size([1, 512])\n",
      "📂 Loaded '/home/ivan/PycharmProjects/MPr/audio_samples/fma_small/051/051273.mp3' — shape: torch.Size([2, 1323119]), sample rate: 44100\n",
      "🔁 Resampling from 44100 → 48000 Hz\n",
      "✂️ Trimming waveform to 30s: 1440130 → 1440000\n"
     ]
    },
    {
     "name": "stderr",
     "output_type": "stream",
     "text": [
      "Embedding audio files:  36%|██████▍           | 107/300 [00:11<00:18, 10.30it/s]"
     ]
    },
    {
     "name": "stdout",
     "output_type": "stream",
     "text": [
      "✅ Embedded /home/ivan/PycharmProjects/MPr/audio_samples/fma_small/051/051273.mp3, vector shape: torch.Size([1, 512])\n",
      "📂 Loaded '/home/ivan/PycharmProjects/MPr/audio_samples/fma_small/051/051157.mp3' — shape: torch.Size([2, 1323119]), sample rate: 44100\n",
      "🔁 Resampling from 44100 → 48000 Hz\n",
      "✂️ Trimming waveform to 30s: 1440130 → 1440000\n",
      "✅ Embedded /home/ivan/PycharmProjects/MPr/audio_samples/fma_small/051/051157.mp3, vector shape: torch.Size([1, 512])\n",
      "📂 Loaded '/home/ivan/PycharmProjects/MPr/audio_samples/fma_small/051/051260.mp3' — shape: torch.Size([2, 1323119]), sample rate: 44100\n",
      "🔁 Resampling from 44100 → 48000 Hz\n",
      "✂️ Trimming waveform to 30s: 1440130 → 1440000\n",
      "✅ Embedded /home/ivan/PycharmProjects/MPr/audio_samples/fma_small/051/051260.mp3, vector shape: torch.Size([1, 512])\n"
     ]
    },
    {
     "name": "stderr",
     "output_type": "stream",
     "text": [
      "Embedding audio files:  36%|██████▌           | 109/300 [00:11<00:18, 10.23it/s]"
     ]
    },
    {
     "name": "stdout",
     "output_type": "stream",
     "text": [
      "📂 Loaded '/home/ivan/PycharmProjects/MPr/audio_samples/fma_small/051/051114.mp3' — shape: torch.Size([2, 1321967]), sample rate: 44100\n",
      "🔁 Resampling from 44100 → 48000 Hz\n",
      "📏 Padding waveform to 30s: 1438876 → 1440000\n",
      "✅ Embedded /home/ivan/PycharmProjects/MPr/audio_samples/fma_small/051/051114.mp3, vector shape: torch.Size([1, 512])\n",
      "📂 Loaded '/home/ivan/PycharmProjects/MPr/audio_samples/fma_small/051/051267.mp3' — shape: torch.Size([2, 1321967]), sample rate: 44100\n",
      "🔁 Resampling from 44100 → 48000 Hz\n",
      "📏 Padding waveform to 30s: 1438876 → 1440000\n",
      "✅ Embedded /home/ivan/PycharmProjects/MPr/audio_samples/fma_small/051/051267.mp3, vector shape: torch.Size([1, 512])\n",
      "📂 Loaded '/home/ivan/PycharmProjects/MPr/audio_samples/fma_small/051/051992.mp3' — shape: torch.Size([2, 1323119]), sample rate: 44100\n",
      "🔁 Resampling from 44100 → 48000 Hz\n"
     ]
    },
    {
     "name": "stderr",
     "output_type": "stream",
     "text": [
      "Embedding audio files:  37%|██████▋           | 111/300 [00:11<00:18, 10.19it/s]"
     ]
    },
    {
     "name": "stdout",
     "output_type": "stream",
     "text": [
      "✂️ Trimming waveform to 30s: 1440130 → 1440000\n",
      "✅ Embedded /home/ivan/PycharmProjects/MPr/audio_samples/fma_small/051/051992.mp3, vector shape: torch.Size([1, 512])\n",
      "📂 Loaded '/home/ivan/PycharmProjects/MPr/audio_samples/fma_small/051/051268.mp3' — shape: torch.Size([2, 1323119]), sample rate: 44100\n",
      "🔁 Resampling from 44100 → 48000 Hz\n",
      "✂️ Trimming waveform to 30s: 1440130 → 1440000\n",
      "✅ Embedded /home/ivan/PycharmProjects/MPr/audio_samples/fma_small/051/051268.mp3, vector shape: torch.Size([1, 512])\n",
      "📂 Loaded '/home/ivan/PycharmProjects/MPr/audio_samples/fma_small/051/051112.mp3' — shape: torch.Size([2, 1323119]), sample rate: 44100\n",
      "🔁 Resampling from 44100 → 48000 Hz\n"
     ]
    },
    {
     "name": "stderr",
     "output_type": "stream",
     "text": [
      "Embedding audio files:  38%|██████▊           | 113/300 [00:11<00:18, 10.07it/s]"
     ]
    },
    {
     "name": "stdout",
     "output_type": "stream",
     "text": [
      "✂️ Trimming waveform to 30s: 1440130 → 1440000\n",
      "✅ Embedded /home/ivan/PycharmProjects/MPr/audio_samples/fma_small/051/051112.mp3, vector shape: torch.Size([1, 512])\n",
      "📂 Loaded '/home/ivan/PycharmProjects/MPr/audio_samples/fma_small/051/051158.mp3' — shape: torch.Size([2, 1321967]), sample rate: 44100\n",
      "🔁 Resampling from 44100 → 48000 Hz\n",
      "📏 Padding waveform to 30s: 1438876 → 1440000\n",
      "✅ Embedded /home/ivan/PycharmProjects/MPr/audio_samples/fma_small/051/051158.mp3, vector shape: torch.Size([1, 512])\n",
      "📂 Loaded '/home/ivan/PycharmProjects/MPr/audio_samples/fma_small/051/051276.mp3' — shape: torch.Size([2, 1323119]), sample rate: 44100\n",
      "🔁 Resampling from 44100 → 48000 Hz\n",
      "✂️ Trimming waveform to 30s: 1440130 → 1440000\n"
     ]
    },
    {
     "name": "stderr",
     "output_type": "stream",
     "text": [
      "Embedding audio files:  39%|███████           | 117/300 [00:12<00:17, 10.22it/s]"
     ]
    },
    {
     "name": "stdout",
     "output_type": "stream",
     "text": [
      "✅ Embedded /home/ivan/PycharmProjects/MPr/audio_samples/fma_small/051/051276.mp3, vector shape: torch.Size([1, 512])\n",
      "📂 Loaded '/home/ivan/PycharmProjects/MPr/audio_samples/fma_small/051/051006.mp3' — shape: torch.Size([2, 1439471]), sample rate: 48000\n",
      "📏 Padding waveform to 30s: 1439471 → 1440000\n",
      "✅ Embedded /home/ivan/PycharmProjects/MPr/audio_samples/fma_small/051/051006.mp3, vector shape: torch.Size([1, 512])\n",
      "📂 Loaded '/home/ivan/PycharmProjects/MPr/audio_samples/fma_small/051/051278.mp3' — shape: torch.Size([2, 1323119]), sample rate: 44100\n",
      "🔁 Resampling from 44100 → 48000 Hz\n",
      "✂️ Trimming waveform to 30s: 1440130 → 1440000\n",
      "✅ Embedded /home/ivan/PycharmProjects/MPr/audio_samples/fma_small/051/051278.mp3, vector shape: torch.Size([1, 512])\n",
      "📂 Loaded '/home/ivan/PycharmProjects/MPr/audio_samples/fma_small/051/051998.mp3' — shape: torch.Size([2, 1321967]), sample rate: 44100\n"
     ]
    },
    {
     "name": "stderr",
     "output_type": "stream",
     "text": [
      "Embedding audio files:  40%|███████▏          | 119/300 [00:12<00:17, 10.20it/s]"
     ]
    },
    {
     "name": "stdout",
     "output_type": "stream",
     "text": [
      "🔁 Resampling from 44100 → 48000 Hz\n",
      "📏 Padding waveform to 30s: 1438876 → 1440000\n",
      "✅ Embedded /home/ivan/PycharmProjects/MPr/audio_samples/fma_small/051/051998.mp3, vector shape: torch.Size([1, 512])\n",
      "📂 Loaded '/home/ivan/PycharmProjects/MPr/audio_samples/fma_small/051/051275.mp3' — shape: torch.Size([2, 1323119]), sample rate: 44100\n",
      "🔁 Resampling from 44100 → 48000 Hz\n",
      "✂️ Trimming waveform to 30s: 1440130 → 1440000\n",
      "✅ Embedded /home/ivan/PycharmProjects/MPr/audio_samples/fma_small/051/051275.mp3, vector shape: torch.Size([1, 512])\n",
      "📂 Loaded '/home/ivan/PycharmProjects/MPr/audio_samples/fma_small/051/051115.mp3' — shape: torch.Size([2, 1323119]), sample rate: 44100\n",
      "🔁 Resampling from 44100 → 48000 Hz\n"
     ]
    },
    {
     "name": "stderr",
     "output_type": "stream",
     "text": [
      "Embedding audio files:  40%|███████▎          | 121/300 [00:12<00:17, 10.17it/s]"
     ]
    },
    {
     "name": "stdout",
     "output_type": "stream",
     "text": [
      "✂️ Trimming waveform to 30s: 1440130 → 1440000\n",
      "✅ Embedded /home/ivan/PycharmProjects/MPr/audio_samples/fma_small/051/051115.mp3, vector shape: torch.Size([1, 512])\n",
      "📂 Loaded '/home/ivan/PycharmProjects/MPr/audio_samples/fma_small/051/051333.mp3' — shape: torch.Size([2, 1323119]), sample rate: 44100\n",
      "🔁 Resampling from 44100 → 48000 Hz\n",
      "✂️ Trimming waveform to 30s: 1440130 → 1440000\n",
      "✅ Embedded /home/ivan/PycharmProjects/MPr/audio_samples/fma_small/051/051333.mp3, vector shape: torch.Size([1, 512])\n",
      "📂 Loaded '/home/ivan/PycharmProjects/MPr/audio_samples/fma_small/051/051999.mp3' — shape: torch.Size([2, 1321967]), sample rate: 44100\n",
      "🔁 Resampling from 44100 → 48000 Hz\n",
      "📏 Padding waveform to 30s: 1438876 → 1440000\n"
     ]
    },
    {
     "name": "stderr",
     "output_type": "stream",
     "text": [
      "Embedding audio files:  41%|███████▍          | 123/300 [00:12<00:17, 10.27it/s]"
     ]
    },
    {
     "name": "stdout",
     "output_type": "stream",
     "text": [
      "✅ Embedded /home/ivan/PycharmProjects/MPr/audio_samples/fma_small/051/051999.mp3, vector shape: torch.Size([1, 512])\n",
      "📂 Loaded '/home/ivan/PycharmProjects/MPr/audio_samples/fma_small/051/051785.mp3' — shape: torch.Size([1, 1321967]), sample rate: 44100\n",
      "🔁 Resampling from 44100 → 48000 Hz\n",
      "📏 Padding waveform to 30s: 1438876 → 1440000\n",
      "✅ Embedded /home/ivan/PycharmProjects/MPr/audio_samples/fma_small/051/051785.mp3, vector shape: torch.Size([1, 512])\n",
      "📂 Loaded '/home/ivan/PycharmProjects/MPr/audio_samples/fma_small/051/051271.mp3' — shape: torch.Size([2, 1323119]), sample rate: 44100\n",
      "🔁 Resampling from 44100 → 48000 Hz\n",
      "✂️ Trimming waveform to 30s: 1440130 → 1440000\n",
      "✅ Embedded /home/ivan/PycharmProjects/MPr/audio_samples/fma_small/051/051271.mp3, vector shape: torch.Size([1, 512])\n"
     ]
    },
    {
     "name": "stderr",
     "output_type": "stream",
     "text": [
      "Embedding audio files:  42%|███████▌          | 125/300 [00:12<00:17, 10.24it/s]"
     ]
    },
    {
     "name": "stdout",
     "output_type": "stream",
     "text": [
      "📂 Loaded '/home/ivan/PycharmProjects/MPr/audio_samples/fma_small/051/051923.mp3' — shape: torch.Size([2, 1323119]), sample rate: 44100\n",
      "🔁 Resampling from 44100 → 48000 Hz\n",
      "✂️ Trimming waveform to 30s: 1440130 → 1440000\n",
      "✅ Embedded /home/ivan/PycharmProjects/MPr/audio_samples/fma_small/051/051923.mp3, vector shape: torch.Size([1, 512])\n",
      "📂 Loaded '/home/ivan/PycharmProjects/MPr/audio_samples/fma_small/051/051269.mp3' — shape: torch.Size([2, 1439471]), sample rate: 48000\n",
      "📏 Padding waveform to 30s: 1439471 → 1440000\n",
      "✅ Embedded /home/ivan/PycharmProjects/MPr/audio_samples/fma_small/051/051269.mp3, vector shape: torch.Size([1, 512])\n",
      "📂 Loaded '/home/ivan/PycharmProjects/MPr/audio_samples/fma_small/051/051265.mp3' — shape: torch.Size([2, 1323119]), sample rate: 44100\n",
      "🔁 Resampling from 44100 → 48000 Hz\n"
     ]
    },
    {
     "name": "stderr",
     "output_type": "stream",
     "text": [
      "Embedding audio files:  42%|███████▌          | 127/300 [00:13<00:16, 10.24it/s]"
     ]
    },
    {
     "name": "stdout",
     "output_type": "stream",
     "text": [
      "✂️ Trimming waveform to 30s: 1440130 → 1440000\n",
      "✅ Embedded /home/ivan/PycharmProjects/MPr/audio_samples/fma_small/051/051265.mp3, vector shape: torch.Size([1, 512])\n",
      "📂 Loaded '/home/ivan/PycharmProjects/MPr/audio_samples/fma_small/051/051661.mp3' — shape: torch.Size([2, 1321967]), sample rate: 44100\n",
      "🔁 Resampling from 44100 → 48000 Hz\n",
      "📏 Padding waveform to 30s: 1438876 → 1440000\n",
      "✅ Embedded /home/ivan/PycharmProjects/MPr/audio_samples/fma_small/051/051661.mp3, vector shape: torch.Size([1, 512])\n"
     ]
    },
    {
     "name": "stderr",
     "output_type": "stream",
     "text": [
      "Embedding audio files:  43%|███████▋          | 129/300 [00:13<00:17,  9.87it/s]"
     ]
    },
    {
     "name": "stdout",
     "output_type": "stream",
     "text": [
      "📂 Loaded '/home/ivan/PycharmProjects/MPr/audio_samples/fma_small/051/051918.mp3' — shape: torch.Size([2, 1321967]), sample rate: 44100\n",
      "🔁 Resampling from 44100 → 48000 Hz\n",
      "📏 Padding waveform to 30s: 1438876 → 1440000\n",
      "✅ Embedded /home/ivan/PycharmProjects/MPr/audio_samples/fma_small/051/051918.mp3, vector shape: torch.Size([1, 512])\n",
      "📂 Loaded '/home/ivan/PycharmProjects/MPr/audio_samples/fma_small/051/051292.mp3' — shape: torch.Size([2, 1323119]), sample rate: 44100\n",
      "🔁 Resampling from 44100 → 48000 Hz\n",
      "✂️ Trimming waveform to 30s: 1440130 → 1440000\n",
      "✅ Embedded /home/ivan/PycharmProjects/MPr/audio_samples/fma_small/051/051292.mp3, vector shape: torch.Size([1, 512])\n",
      "📂 Loaded '/home/ivan/PycharmProjects/MPr/audio_samples/fma_small/051/051479.mp3' — shape: torch.Size([2, 1323119]), sample rate: 44100\n",
      "🔁 Resampling from 44100 → 48000 Hz\n"
     ]
    },
    {
     "name": "stderr",
     "output_type": "stream",
     "text": [
      "Embedding audio files:  44%|███████▊          | 131/300 [00:13<00:16, 10.03it/s]"
     ]
    },
    {
     "name": "stdout",
     "output_type": "stream",
     "text": [
      "✂️ Trimming waveform to 30s: 1440130 → 1440000\n",
      "✅ Embedded /home/ivan/PycharmProjects/MPr/audio_samples/fma_small/051/051479.mp3, vector shape: torch.Size([1, 512])\n",
      "📂 Loaded '/home/ivan/PycharmProjects/MPr/audio_samples/fma_small/051/051263.mp3' — shape: torch.Size([2, 1321967]), sample rate: 44100\n",
      "🔁 Resampling from 44100 → 48000 Hz\n",
      "📏 Padding waveform to 30s: 1438876 → 1440000\n",
      "✅ Embedded /home/ivan/PycharmProjects/MPr/audio_samples/fma_small/051/051263.mp3, vector shape: torch.Size([1, 512])\n",
      "📂 Loaded '/home/ivan/PycharmProjects/MPr/audio_samples/fma_small/051/051120.mp3' — shape: torch.Size([2, 1321967]), sample rate: 44100\n",
      "🔁 Resampling from 44100 → 48000 Hz\n",
      "📏 Padding waveform to 30s: 1438876 → 1440000\n"
     ]
    },
    {
     "name": "stderr",
     "output_type": "stream",
     "text": [
      "Embedding audio files:  45%|████████          | 135/300 [00:13<00:16, 10.00it/s]"
     ]
    },
    {
     "name": "stdout",
     "output_type": "stream",
     "text": [
      "✅ Embedded /home/ivan/PycharmProjects/MPr/audio_samples/fma_small/051/051120.mp3, vector shape: torch.Size([1, 512])\n",
      "📂 Loaded '/home/ivan/PycharmProjects/MPr/audio_samples/fma_small/051/051117.mp3' — shape: torch.Size([2, 1321967]), sample rate: 44100\n",
      "🔁 Resampling from 44100 → 48000 Hz\n",
      "📏 Padding waveform to 30s: 1438876 → 1440000\n",
      "✅ Embedded /home/ivan/PycharmProjects/MPr/audio_samples/fma_small/051/051117.mp3, vector shape: torch.Size([1, 512])\n",
      "📂 Loaded '/home/ivan/PycharmProjects/MPr/audio_samples/fma_small/051/051113.mp3' — shape: torch.Size([2, 1323119]), sample rate: 44100\n",
      "🔁 Resampling from 44100 → 48000 Hz\n",
      "✂️ Trimming waveform to 30s: 1440130 → 1440000\n",
      "✅ Embedded /home/ivan/PycharmProjects/MPr/audio_samples/fma_small/051/051113.mp3, vector shape: torch.Size([1, 512])\n"
     ]
    },
    {
     "name": "stderr",
     "output_type": "stream",
     "text": [
      "Embedding audio files:  46%|████████▏         | 137/300 [00:14<00:16, 10.02it/s]"
     ]
    },
    {
     "name": "stdout",
     "output_type": "stream",
     "text": [
      "📂 Loaded '/home/ivan/PycharmProjects/MPr/audio_samples/fma_small/051/051919.mp3' — shape: torch.Size([2, 1321967]), sample rate: 44100\n",
      "🔁 Resampling from 44100 → 48000 Hz\n",
      "📏 Padding waveform to 30s: 1438876 → 1440000\n",
      "✅ Embedded /home/ivan/PycharmProjects/MPr/audio_samples/fma_small/051/051919.mp3, vector shape: torch.Size([1, 512])\n",
      "📂 Loaded '/home/ivan/PycharmProjects/MPr/audio_samples/fma_small/051/051776.mp3' — shape: torch.Size([2, 1321967]), sample rate: 44100\n",
      "🔁 Resampling from 44100 → 48000 Hz\n",
      "📏 Padding waveform to 30s: 1438876 → 1440000\n",
      "✅ Embedded /home/ivan/PycharmProjects/MPr/audio_samples/fma_small/051/051776.mp3, vector shape: torch.Size([1, 512])\n",
      "📂 Loaded '/home/ivan/PycharmProjects/MPr/audio_samples/fma_small/051/051305.mp3' — shape: torch.Size([2, 1323119]), sample rate: 44100\n",
      "🔁 Resampling from 44100 → 48000 Hz\n"
     ]
    },
    {
     "name": "stderr",
     "output_type": "stream",
     "text": [
      "Embedding audio files:  46%|████████▎         | 139/300 [00:14<00:15, 10.12it/s]"
     ]
    },
    {
     "name": "stdout",
     "output_type": "stream",
     "text": [
      "✂️ Trimming waveform to 30s: 1440130 → 1440000\n",
      "✅ Embedded /home/ivan/PycharmProjects/MPr/audio_samples/fma_small/051/051305.mp3, vector shape: torch.Size([1, 512])\n",
      "📂 Loaded '/home/ivan/PycharmProjects/MPr/audio_samples/fma_small/051/051655.mp3' — shape: torch.Size([2, 1321967]), sample rate: 44100\n",
      "🔁 Resampling from 44100 → 48000 Hz\n",
      "📏 Padding waveform to 30s: 1438876 → 1440000\n",
      "✅ Embedded /home/ivan/PycharmProjects/MPr/audio_samples/fma_small/051/051655.mp3, vector shape: torch.Size([1, 512])\n",
      "📂 Loaded '/home/ivan/PycharmProjects/MPr/audio_samples/fma_small/051/051954.mp3' — shape: torch.Size([2, 1323119]), sample rate: 44100\n",
      "🔁 Resampling from 44100 → 48000 Hz\n",
      "✂️ Trimming waveform to 30s: 1440130 → 1440000\n"
     ]
    },
    {
     "name": "stderr",
     "output_type": "stream",
     "text": [
      "Embedding audio files:  47%|████████▍         | 141/300 [00:14<00:15, 10.15it/s]"
     ]
    },
    {
     "name": "stdout",
     "output_type": "stream",
     "text": [
      "✅ Embedded /home/ivan/PycharmProjects/MPr/audio_samples/fma_small/051/051954.mp3, vector shape: torch.Size([1, 512])\n",
      "📂 Loaded '/home/ivan/PycharmProjects/MPr/audio_samples/fma_small/051/051118.mp3' — shape: torch.Size([2, 1323119]), sample rate: 44100\n",
      "🔁 Resampling from 44100 → 48000 Hz\n",
      "✂️ Trimming waveform to 30s: 1440130 → 1440000\n",
      "✅ Embedded /home/ivan/PycharmProjects/MPr/audio_samples/fma_small/051/051118.mp3, vector shape: torch.Size([1, 512])\n",
      "📂 Loaded '/home/ivan/PycharmProjects/MPr/audio_samples/fma_small/051/051272.mp3' — shape: torch.Size([2, 1321967]), sample rate: 44100\n",
      "🔁 Resampling from 44100 → 48000 Hz\n",
      "📏 Padding waveform to 30s: 1438876 → 1440000\n",
      "✅ Embedded /home/ivan/PycharmProjects/MPr/audio_samples/fma_small/051/051272.mp3, vector shape: torch.Size([1, 512])\n",
      "📂 Loaded '/home/ivan/PycharmProjects/MPr/audio_samples/fma_small/103/103800.mp3' — shape: torch.Size([2, 1321967]), sample rate: 44100\n",
      "🔁 Resampling from 44100 → 48000 Hz\n"
     ]
    },
    {
     "name": "stderr",
     "output_type": "stream",
     "text": [
      "Embedding audio files:  48%|████████▌         | 143/300 [00:14<00:15, 10.19it/s]"
     ]
    },
    {
     "name": "stdout",
     "output_type": "stream",
     "text": [
      "📏 Padding waveform to 30s: 1438876 → 1440000\n",
      "✅ Embedded /home/ivan/PycharmProjects/MPr/audio_samples/fma_small/103/103800.mp3, vector shape: torch.Size([1, 512])\n",
      "📂 Loaded '/home/ivan/PycharmProjects/MPr/audio_samples/fma_small/103/103518.mp3' — shape: torch.Size([2, 1439471]), sample rate: 48000\n",
      "📏 Padding waveform to 30s: 1439471 → 1440000\n",
      "✅ Embedded /home/ivan/PycharmProjects/MPr/audio_samples/fma_small/103/103518.mp3, vector shape: torch.Size([1, 512])\n",
      "📂 Loaded '/home/ivan/PycharmProjects/MPr/audio_samples/fma_small/103/103522.mp3' — shape: torch.Size([2, 1321967]), sample rate: 44100\n",
      "🔁 Resampling from 44100 → 48000 Hz\n",
      "📏 Padding waveform to 30s: 1438876 → 1440000\n"
     ]
    },
    {
     "name": "stderr",
     "output_type": "stream",
     "text": [
      "Embedding audio files:  49%|████████▊         | 147/300 [00:15<00:14, 10.27it/s]"
     ]
    },
    {
     "name": "stdout",
     "output_type": "stream",
     "text": [
      "✅ Embedded /home/ivan/PycharmProjects/MPr/audio_samples/fma_small/103/103522.mp3, vector shape: torch.Size([1, 512])\n",
      "📂 Loaded '/home/ivan/PycharmProjects/MPr/audio_samples/fma_small/103/103519.mp3' — shape: torch.Size([2, 1439471]), sample rate: 48000\n",
      "📏 Padding waveform to 30s: 1439471 → 1440000\n",
      "✅ Embedded /home/ivan/PycharmProjects/MPr/audio_samples/fma_small/103/103519.mp3, vector shape: torch.Size([1, 512])\n",
      "📂 Loaded '/home/ivan/PycharmProjects/MPr/audio_samples/fma_small/103/103600.mp3' — shape: torch.Size([2, 1323119]), sample rate: 44100\n",
      "🔁 Resampling from 44100 → 48000 Hz\n",
      "✂️ Trimming waveform to 30s: 1440130 → 1440000\n",
      "✅ Embedded /home/ivan/PycharmProjects/MPr/audio_samples/fma_small/103/103600.mp3, vector shape: torch.Size([1, 512])\n",
      "📂 Loaded '/home/ivan/PycharmProjects/MPr/audio_samples/fma_small/103/103520.mp3' — shape: torch.Size([2, 1439471]), sample rate: 48000\n"
     ]
    },
    {
     "name": "stderr",
     "output_type": "stream",
     "text": [
      "Embedding audio files:  50%|████████▉         | 149/300 [00:15<00:14, 10.20it/s]"
     ]
    },
    {
     "name": "stdout",
     "output_type": "stream",
     "text": [
      "📏 Padding waveform to 30s: 1439471 → 1440000\n",
      "✅ Embedded /home/ivan/PycharmProjects/MPr/audio_samples/fma_small/103/103520.mp3, vector shape: torch.Size([1, 512])\n",
      "📂 Loaded '/home/ivan/PycharmProjects/MPr/audio_samples/fma_small/103/103808.mp3' — shape: torch.Size([2, 1321967]), sample rate: 44100\n",
      "🔁 Resampling from 44100 → 48000 Hz\n",
      "📏 Padding waveform to 30s: 1438876 → 1440000\n",
      "✅ Embedded /home/ivan/PycharmProjects/MPr/audio_samples/fma_small/103/103808.mp3, vector shape: torch.Size([1, 512])\n",
      "📂 Loaded '/home/ivan/PycharmProjects/MPr/audio_samples/fma_small/103/103523.mp3' — shape: torch.Size([2, 1323119]), sample rate: 44100\n",
      "🔁 Resampling from 44100 → 48000 Hz\n",
      "✂️ Trimming waveform to 30s: 1440130 → 1440000\n"
     ]
    },
    {
     "name": "stderr",
     "output_type": "stream",
     "text": [
      "Embedding audio files:  50%|█████████         | 151/300 [00:15<00:14, 10.25it/s]"
     ]
    },
    {
     "name": "stdout",
     "output_type": "stream",
     "text": [
      "✅ Embedded /home/ivan/PycharmProjects/MPr/audio_samples/fma_small/103/103523.mp3, vector shape: torch.Size([1, 512])\n",
      "📂 Loaded '/home/ivan/PycharmProjects/MPr/audio_samples/fma_small/103/103521.mp3' — shape: torch.Size([2, 1439471]), sample rate: 48000\n",
      "📏 Padding waveform to 30s: 1439471 → 1440000\n",
      "✅ Embedded /home/ivan/PycharmProjects/MPr/audio_samples/fma_small/103/103521.mp3, vector shape: torch.Size([1, 512])\n",
      "📂 Loaded '/home/ivan/PycharmProjects/MPr/audio_samples/fma_small/092/092556.mp3' — shape: torch.Size([2, 1321967]), sample rate: 44100\n",
      "🔁 Resampling from 44100 → 48000 Hz\n",
      "📏 Padding waveform to 30s: 1438876 → 1440000\n",
      "✅ Embedded /home/ivan/PycharmProjects/MPr/audio_samples/fma_small/092/092556.mp3, vector shape: torch.Size([1, 512])\n"
     ]
    },
    {
     "name": "stderr",
     "output_type": "stream",
     "text": [
      "Embedding audio files:  51%|█████████▏        | 153/300 [00:15<00:14, 10.03it/s]"
     ]
    },
    {
     "name": "stdout",
     "output_type": "stream",
     "text": [
      "📂 Loaded '/home/ivan/PycharmProjects/MPr/audio_samples/fma_small/092/092548.mp3' — shape: torch.Size([2, 1323119]), sample rate: 44100\n",
      "🔁 Resampling from 44100 → 48000 Hz\n",
      "✂️ Trimming waveform to 30s: 1440130 → 1440000\n",
      "✅ Embedded /home/ivan/PycharmProjects/MPr/audio_samples/fma_small/092/092548.mp3, vector shape: torch.Size([1, 512])\n",
      "📂 Loaded '/home/ivan/PycharmProjects/MPr/audio_samples/fma_small/092/092949.mp3' — shape: torch.Size([2, 1323119]), sample rate: 44100\n",
      "🔁 Resampling from 44100 → 48000 Hz\n",
      "✂️ Trimming waveform to 30s: 1440130 → 1440000\n",
      "✅ Embedded /home/ivan/PycharmProjects/MPr/audio_samples/fma_small/092/092949.mp3, vector shape: torch.Size([1, 512])\n",
      "📂 Loaded '/home/ivan/PycharmProjects/MPr/audio_samples/fma_small/092/092950.mp3' — shape: torch.Size([2, 1321967]), sample rate: 44100\n"
     ]
    },
    {
     "name": "stderr",
     "output_type": "stream",
     "text": [
      "Embedding audio files:  52%|█████████▎        | 155/300 [00:15<00:14,  9.98it/s]"
     ]
    },
    {
     "name": "stdout",
     "output_type": "stream",
     "text": [
      "🔁 Resampling from 44100 → 48000 Hz\n",
      "📏 Padding waveform to 30s: 1438876 → 1440000\n",
      "✅ Embedded /home/ivan/PycharmProjects/MPr/audio_samples/fma_small/092/092950.mp3, vector shape: torch.Size([1, 512])\n",
      "📂 Loaded '/home/ivan/PycharmProjects/MPr/audio_samples/fma_small/092/092535.mp3' — shape: torch.Size([2, 1323119]), sample rate: 44100\n",
      "🔁 Resampling from 44100 → 48000 Hz\n",
      "✂️ Trimming waveform to 30s: 1440130 → 1440000\n",
      "✅ Embedded /home/ivan/PycharmProjects/MPr/audio_samples/fma_small/092/092535.mp3, vector shape: torch.Size([1, 512])\n",
      "📂 Loaded '/home/ivan/PycharmProjects/MPr/audio_samples/fma_small/092/092889.mp3' — shape: torch.Size([2, 1323119]), sample rate: 44100\n",
      "🔁 Resampling from 44100 → 48000 Hz\n",
      "✂️ Trimming waveform to 30s: 1440130 → 1440000\n"
     ]
    },
    {
     "name": "stderr",
     "output_type": "stream",
     "text": [
      "Embedding audio files:  53%|█████████▌        | 159/300 [00:16<00:13, 10.19it/s]"
     ]
    },
    {
     "name": "stdout",
     "output_type": "stream",
     "text": [
      "✅ Embedded /home/ivan/PycharmProjects/MPr/audio_samples/fma_small/092/092889.mp3, vector shape: torch.Size([1, 512])\n",
      "📂 Loaded '/home/ivan/PycharmProjects/MPr/audio_samples/fma_small/092/092508.mp3' — shape: torch.Size([2, 1323119]), sample rate: 44100\n",
      "🔁 Resampling from 44100 → 48000 Hz\n",
      "✂️ Trimming waveform to 30s: 1440130 → 1440000\n",
      "✅ Embedded /home/ivan/PycharmProjects/MPr/audio_samples/fma_small/092/092508.mp3, vector shape: torch.Size([1, 512])\n",
      "📂 Loaded '/home/ivan/PycharmProjects/MPr/audio_samples/fma_small/092/092466.mp3' — shape: torch.Size([2, 1323119]), sample rate: 44100\n",
      "🔁 Resampling from 44100 → 48000 Hz\n",
      "✂️ Trimming waveform to 30s: 1440130 → 1440000\n",
      "✅ Embedded /home/ivan/PycharmProjects/MPr/audio_samples/fma_small/092/092466.mp3, vector shape: torch.Size([1, 512])\n"
     ]
    },
    {
     "name": "stderr",
     "output_type": "stream",
     "text": [
      "Embedding audio files:  54%|█████████▋        | 161/300 [00:16<00:13, 10.30it/s]"
     ]
    },
    {
     "name": "stdout",
     "output_type": "stream",
     "text": [
      "📂 Loaded '/home/ivan/PycharmProjects/MPr/audio_samples/fma_small/092/092536.mp3' — shape: torch.Size([2, 1321967]), sample rate: 44100\n",
      "🔁 Resampling from 44100 → 48000 Hz\n",
      "📏 Padding waveform to 30s: 1438876 → 1440000\n",
      "✅ Embedded /home/ivan/PycharmProjects/MPr/audio_samples/fma_small/092/092536.mp3, vector shape: torch.Size([1, 512])\n",
      "📂 Loaded '/home/ivan/PycharmProjects/MPr/audio_samples/fma_small/092/092554.mp3' — shape: torch.Size([2, 1323119]), sample rate: 44100\n",
      "🔁 Resampling from 44100 → 48000 Hz\n",
      "✂️ Trimming waveform to 30s: 1440130 → 1440000\n",
      "✅ Embedded /home/ivan/PycharmProjects/MPr/audio_samples/fma_small/092/092554.mp3, vector shape: torch.Size([1, 512])\n",
      "📂 Loaded '/home/ivan/PycharmProjects/MPr/audio_samples/fma_small/092/092130.mp3' — shape: torch.Size([2, 1323119]), sample rate: 44100\n",
      "🔁 Resampling from 44100 → 48000 Hz\n"
     ]
    },
    {
     "name": "stderr",
     "output_type": "stream",
     "text": [
      "Embedding audio files:  54%|█████████▊        | 163/300 [00:16<00:13, 10.31it/s]"
     ]
    },
    {
     "name": "stdout",
     "output_type": "stream",
     "text": [
      "✂️ Trimming waveform to 30s: 1440130 → 1440000\n",
      "✅ Embedded /home/ivan/PycharmProjects/MPr/audio_samples/fma_small/092/092130.mp3, vector shape: torch.Size([1, 512])\n",
      "📂 Loaded '/home/ivan/PycharmProjects/MPr/audio_samples/fma_small/092/092886.mp3' — shape: torch.Size([2, 1321967]), sample rate: 44100\n",
      "🔁 Resampling from 44100 → 48000 Hz\n",
      "📏 Padding waveform to 30s: 1438876 → 1440000\n",
      "✅ Embedded /home/ivan/PycharmProjects/MPr/audio_samples/fma_small/092/092886.mp3, vector shape: torch.Size([1, 512])\n",
      "📂 Loaded '/home/ivan/PycharmProjects/MPr/audio_samples/fma_small/092/092129.mp3' — shape: torch.Size([2, 1321967]), sample rate: 44100\n",
      "🔁 Resampling from 44100 → 48000 Hz\n",
      "📏 Padding waveform to 30s: 1438876 → 1440000\n"
     ]
    },
    {
     "name": "stderr",
     "output_type": "stream",
     "text": [
      "Embedding audio files:  55%|█████████▉        | 165/300 [00:16<00:13, 10.24it/s]"
     ]
    },
    {
     "name": "stdout",
     "output_type": "stream",
     "text": [
      "✅ Embedded /home/ivan/PycharmProjects/MPr/audio_samples/fma_small/092/092129.mp3, vector shape: torch.Size([1, 512])\n",
      "📂 Loaded '/home/ivan/PycharmProjects/MPr/audio_samples/fma_small/092/092868.mp3' — shape: torch.Size([2, 1321967]), sample rate: 44100\n",
      "🔁 Resampling from 44100 → 48000 Hz\n",
      "📏 Padding waveform to 30s: 1438876 → 1440000\n",
      "✅ Embedded /home/ivan/PycharmProjects/MPr/audio_samples/fma_small/092/092868.mp3, vector shape: torch.Size([1, 512])\n",
      "📂 Loaded '/home/ivan/PycharmProjects/MPr/audio_samples/fma_small/092/092574.mp3' — shape: torch.Size([2, 1321967]), sample rate: 44100\n",
      "🔁 Resampling from 44100 → 48000 Hz\n",
      "📏 Padding waveform to 30s: 1438876 → 1440000\n",
      "✅ Embedded /home/ivan/PycharmProjects/MPr/audio_samples/fma_small/092/092574.mp3, vector shape: torch.Size([1, 512])\n",
      "📂 Loaded '/home/ivan/PycharmProjects/MPr/audio_samples/fma_small/092/092872.mp3' — shape: torch.Size([2, 1323119]), sample rate: 44100\n"
     ]
    },
    {
     "name": "stderr",
     "output_type": "stream",
     "text": [
      "Embedding audio files:  56%|██████████        | 167/300 [00:17<00:12, 10.25it/s]"
     ]
    },
    {
     "name": "stdout",
     "output_type": "stream",
     "text": [
      "🔁 Resampling from 44100 → 48000 Hz\n",
      "✂️ Trimming waveform to 30s: 1440130 → 1440000\n",
      "✅ Embedded /home/ivan/PycharmProjects/MPr/audio_samples/fma_small/092/092872.mp3, vector shape: torch.Size([1, 512])\n",
      "📂 Loaded '/home/ivan/PycharmProjects/MPr/audio_samples/fma_small/092/092951.mp3' — shape: torch.Size([2, 1323119]), sample rate: 44100\n",
      "🔁 Resampling from 44100 → 48000 Hz\n",
      "✂️ Trimming waveform to 30s: 1440130 → 1440000\n",
      "✅ Embedded /home/ivan/PycharmProjects/MPr/audio_samples/fma_small/092/092951.mp3, vector shape: torch.Size([1, 512])\n"
     ]
    },
    {
     "name": "stderr",
     "output_type": "stream",
     "text": [
      "Embedding audio files:  56%|██████████▏       | 169/300 [00:17<00:13,  9.96it/s]"
     ]
    },
    {
     "name": "stdout",
     "output_type": "stream",
     "text": [
      "📂 Loaded '/home/ivan/PycharmProjects/MPr/audio_samples/fma_small/092/092952.mp3' — shape: torch.Size([2, 1321967]), sample rate: 44100\n",
      "🔁 Resampling from 44100 → 48000 Hz\n",
      "📏 Padding waveform to 30s: 1438876 → 1440000\n",
      "✅ Embedded /home/ivan/PycharmProjects/MPr/audio_samples/fma_small/092/092952.mp3, vector shape: torch.Size([1, 512])\n",
      "📂 Loaded '/home/ivan/PycharmProjects/MPr/audio_samples/fma_small/092/092562.mp3' — shape: torch.Size([2, 1323119]), sample rate: 44100\n",
      "🔁 Resampling from 44100 → 48000 Hz\n",
      "✂️ Trimming waveform to 30s: 1440130 → 1440000\n",
      "✅ Embedded /home/ivan/PycharmProjects/MPr/audio_samples/fma_small/092/092562.mp3, vector shape: torch.Size([1, 512])\n",
      "📂 Loaded '/home/ivan/PycharmProjects/MPr/audio_samples/fma_small/092/092284.mp3' — shape: torch.Size([2, 1321967]), sample rate: 44100\n",
      "🔁 Resampling from 44100 → 48000 Hz\n"
     ]
    },
    {
     "name": "stderr",
     "output_type": "stream",
     "text": [
      "Embedding audio files:  57%|██████████▎       | 171/300 [00:17<00:12, 10.06it/s]"
     ]
    },
    {
     "name": "stdout",
     "output_type": "stream",
     "text": [
      "📏 Padding waveform to 30s: 1438876 → 1440000\n",
      "✅ Embedded /home/ivan/PycharmProjects/MPr/audio_samples/fma_small/092/092284.mp3, vector shape: torch.Size([1, 512])\n",
      "📂 Loaded '/home/ivan/PycharmProjects/MPr/audio_samples/fma_small/092/092539.mp3' — shape: torch.Size([2, 1323119]), sample rate: 44100\n",
      "🔁 Resampling from 44100 → 48000 Hz\n",
      "✂️ Trimming waveform to 30s: 1440130 → 1440000\n",
      "✅ Embedded /home/ivan/PycharmProjects/MPr/audio_samples/fma_small/092/092539.mp3, vector shape: torch.Size([1, 512])\n",
      "📂 Loaded '/home/ivan/PycharmProjects/MPr/audio_samples/fma_small/092/092948.mp3' — shape: torch.Size([2, 1323119]), sample rate: 44100\n",
      "🔁 Resampling from 44100 → 48000 Hz\n",
      "✂️ Trimming waveform to 30s: 1440130 → 1440000\n"
     ]
    },
    {
     "name": "stderr",
     "output_type": "stream",
     "text": [
      "Embedding audio files:  58%|██████████▌       | 175/300 [00:17<00:12, 10.19it/s]"
     ]
    },
    {
     "name": "stdout",
     "output_type": "stream",
     "text": [
      "✅ Embedded /home/ivan/PycharmProjects/MPr/audio_samples/fma_small/092/092948.mp3, vector shape: torch.Size([1, 512])\n",
      "📂 Loaded '/home/ivan/PycharmProjects/MPr/audio_samples/fma_small/092/092551.mp3' — shape: torch.Size([2, 1321967]), sample rate: 44100\n",
      "🔁 Resampling from 44100 → 48000 Hz\n",
      "📏 Padding waveform to 30s: 1438876 → 1440000\n",
      "✅ Embedded /home/ivan/PycharmProjects/MPr/audio_samples/fma_small/092/092551.mp3, vector shape: torch.Size([1, 512])\n",
      "📂 Loaded '/home/ivan/PycharmProjects/MPr/audio_samples/fma_small/092/092538.mp3' — shape: torch.Size([2, 1321967]), sample rate: 44100\n",
      "🔁 Resampling from 44100 → 48000 Hz\n",
      "📏 Padding waveform to 30s: 1438876 → 1440000\n",
      "✅ Embedded /home/ivan/PycharmProjects/MPr/audio_samples/fma_small/092/092538.mp3, vector shape: torch.Size([1, 512])\n",
      "📂 Loaded '/home/ivan/PycharmProjects/MPr/audio_samples/fma_small/092/092878.mp3' — shape: torch.Size([2, 1321967]), sample rate: 44100\n"
     ]
    },
    {
     "name": "stderr",
     "output_type": "stream",
     "text": [
      "Embedding audio files:  59%|██████████▌       | 177/300 [00:17<00:11, 10.33it/s]"
     ]
    },
    {
     "name": "stdout",
     "output_type": "stream",
     "text": [
      "🔁 Resampling from 44100 → 48000 Hz\n",
      "📏 Padding waveform to 30s: 1438876 → 1440000\n",
      "✅ Embedded /home/ivan/PycharmProjects/MPr/audio_samples/fma_small/092/092878.mp3, vector shape: torch.Size([1, 512])\n",
      "📂 Loaded '/home/ivan/PycharmProjects/MPr/audio_samples/fma_small/092/092275.mp3' — shape: torch.Size([2, 1323119]), sample rate: 44100\n",
      "🔁 Resampling from 44100 → 48000 Hz\n",
      "✂️ Trimming waveform to 30s: 1440130 → 1440000\n",
      "✅ Embedded /home/ivan/PycharmProjects/MPr/audio_samples/fma_small/092/092275.mp3, vector shape: torch.Size([1, 512])\n",
      "📂 Loaded '/home/ivan/PycharmProjects/MPr/audio_samples/fma_small/092/092881.mp3' — shape: torch.Size([2, 1321967]), sample rate: 44100\n",
      "🔁 Resampling from 44100 → 48000 Hz\n",
      "📏 Padding waveform to 30s: 1438876 → 1440000\n"
     ]
    },
    {
     "name": "stderr",
     "output_type": "stream",
     "text": [
      "Embedding audio files:  60%|██████████▋       | 179/300 [00:18<00:11, 10.17it/s]"
     ]
    },
    {
     "name": "stdout",
     "output_type": "stream",
     "text": [
      "✅ Embedded /home/ivan/PycharmProjects/MPr/audio_samples/fma_small/092/092881.mp3, vector shape: torch.Size([1, 512])\n",
      "📂 Loaded '/home/ivan/PycharmProjects/MPr/audio_samples/fma_small/092/092947.mp3' — shape: torch.Size([2, 1321967]), sample rate: 44100\n",
      "🔁 Resampling from 44100 → 48000 Hz\n",
      "📏 Padding waveform to 30s: 1438876 → 1440000\n",
      "✅ Embedded /home/ivan/PycharmProjects/MPr/audio_samples/fma_small/092/092947.mp3, vector shape: torch.Size([1, 512])\n",
      "📂 Loaded '/home/ivan/PycharmProjects/MPr/audio_samples/fma_small/092/092124.mp3' — shape: torch.Size([2, 1321967]), sample rate: 44100\n",
      "🔁 Resampling from 44100 → 48000 Hz\n",
      "📏 Padding waveform to 30s: 1438876 → 1440000\n",
      "✅ Embedded /home/ivan/PycharmProjects/MPr/audio_samples/fma_small/092/092124.mp3, vector shape: torch.Size([1, 512])\n",
      "📂 Loaded '/home/ivan/PycharmProjects/MPr/audio_samples/fma_small/092/092125.mp3' — shape: torch.Size([2, 1321967]), sample rate: 44100\n"
     ]
    },
    {
     "name": "stderr",
     "output_type": "stream",
     "text": [
      "Embedding audio files:  60%|██████████▊       | 181/300 [00:18<00:11, 10.13it/s]"
     ]
    },
    {
     "name": "stdout",
     "output_type": "stream",
     "text": [
      "🔁 Resampling from 44100 → 48000 Hz\n",
      "📏 Padding waveform to 30s: 1438876 → 1440000\n",
      "✅ Embedded /home/ivan/PycharmProjects/MPr/audio_samples/fma_small/092/092125.mp3, vector shape: torch.Size([1, 512])\n",
      "📂 Loaded '/home/ivan/PycharmProjects/MPr/audio_samples/fma_small/092/092873.mp3' — shape: torch.Size([2, 1321967]), sample rate: 44100\n",
      "🔁 Resampling from 44100 → 48000 Hz\n",
      "📏 Padding waveform to 30s: 1438876 → 1440000\n",
      "✅ Embedded /home/ivan/PycharmProjects/MPr/audio_samples/fma_small/092/092873.mp3, vector shape: torch.Size([1, 512])\n",
      "📂 Loaded '/home/ivan/PycharmProjects/MPr/audio_samples/fma_small/092/092573.mp3' — shape: torch.Size([2, 1321967]), sample rate: 44100\n",
      "🔁 Resampling from 44100 → 48000 Hz\n"
     ]
    },
    {
     "name": "stderr",
     "output_type": "stream",
     "text": [
      "Embedding audio files:  61%|██████████▉       | 183/300 [00:18<00:11, 10.16it/s]"
     ]
    },
    {
     "name": "stdout",
     "output_type": "stream",
     "text": [
      "📏 Padding waveform to 30s: 1438876 → 1440000\n",
      "✅ Embedded /home/ivan/PycharmProjects/MPr/audio_samples/fma_small/092/092573.mp3, vector shape: torch.Size([1, 512])\n",
      "📂 Loaded '/home/ivan/PycharmProjects/MPr/audio_samples/fma_small/092/092874.mp3' — shape: torch.Size([2, 1321967]), sample rate: 44100\n",
      "🔁 Resampling from 44100 → 48000 Hz\n",
      "📏 Padding waveform to 30s: 1438876 → 1440000\n",
      "✅ Embedded /home/ivan/PycharmProjects/MPr/audio_samples/fma_small/092/092874.mp3, vector shape: torch.Size([1, 512])\n",
      "📂 Loaded '/home/ivan/PycharmProjects/MPr/audio_samples/fma_small/092/092292.mp3' — shape: torch.Size([1, 1323119]), sample rate: 44100\n",
      "🔁 Resampling from 44100 → 48000 Hz\n",
      "✂️ Trimming waveform to 30s: 1440130 → 1440000\n"
     ]
    },
    {
     "name": "stderr",
     "output_type": "stream",
     "text": [
      "Embedding audio files:  62%|███████████▏      | 187/300 [00:18<00:10, 10.28it/s]"
     ]
    },
    {
     "name": "stdout",
     "output_type": "stream",
     "text": [
      "✅ Embedded /home/ivan/PycharmProjects/MPr/audio_samples/fma_small/092/092292.mp3, vector shape: torch.Size([1, 512])\n",
      "📂 Loaded '/home/ivan/PycharmProjects/MPr/audio_samples/fma_small/092/092561.mp3' — shape: torch.Size([2, 1323119]), sample rate: 44100\n",
      "🔁 Resampling from 44100 → 48000 Hz\n",
      "✂️ Trimming waveform to 30s: 1440130 → 1440000\n",
      "✅ Embedded /home/ivan/PycharmProjects/MPr/audio_samples/fma_small/092/092561.mp3, vector shape: torch.Size([1, 512])\n",
      "📂 Loaded '/home/ivan/PycharmProjects/MPr/audio_samples/fma_small/092/092887.mp3' — shape: torch.Size([2, 1321967]), sample rate: 44100\n",
      "🔁 Resampling from 44100 → 48000 Hz\n",
      "📏 Padding waveform to 30s: 1438876 → 1440000\n",
      "✅ Embedded /home/ivan/PycharmProjects/MPr/audio_samples/fma_small/092/092887.mp3, vector shape: torch.Size([1, 512])\n"
     ]
    },
    {
     "name": "stderr",
     "output_type": "stream",
     "text": [
      "Embedding audio files:  63%|███████████▎      | 189/300 [00:19<00:10, 10.38it/s]"
     ]
    },
    {
     "name": "stdout",
     "output_type": "stream",
     "text": [
      "📂 Loaded '/home/ivan/PycharmProjects/MPr/audio_samples/fma_small/092/092366.mp3' — shape: torch.Size([2, 1323119]), sample rate: 44100\n",
      "🔁 Resampling from 44100 → 48000 Hz\n",
      "✂️ Trimming waveform to 30s: 1440130 → 1440000\n",
      "✅ Embedded /home/ivan/PycharmProjects/MPr/audio_samples/fma_small/092/092366.mp3, vector shape: torch.Size([1, 512])\n",
      "📂 Loaded '/home/ivan/PycharmProjects/MPr/audio_samples/fma_small/092/092564.mp3' — shape: torch.Size([2, 1323119]), sample rate: 44100\n",
      "🔁 Resampling from 44100 → 48000 Hz\n",
      "✂️ Trimming waveform to 30s: 1440130 → 1440000\n",
      "✅ Embedded /home/ivan/PycharmProjects/MPr/audio_samples/fma_small/092/092564.mp3, vector shape: torch.Size([1, 512])\n",
      "📂 Loaded '/home/ivan/PycharmProjects/MPr/audio_samples/fma_small/092/092885.mp3' — shape: torch.Size([2, 1321967]), sample rate: 44100\n",
      "🔁 Resampling from 44100 → 48000 Hz\n",
      "📏 Padding waveform to 30s: 1438876 → 1440000\n"
     ]
    },
    {
     "name": "stderr",
     "output_type": "stream",
     "text": [
      "Embedding audio files:  64%|███████████▍      | 191/300 [00:19<00:10, 10.42it/s]"
     ]
    },
    {
     "name": "stdout",
     "output_type": "stream",
     "text": [
      "✅ Embedded /home/ivan/PycharmProjects/MPr/audio_samples/fma_small/092/092885.mp3, vector shape: torch.Size([1, 512])\n",
      "📂 Loaded '/home/ivan/PycharmProjects/MPr/audio_samples/fma_small/092/092546.mp3' — shape: torch.Size([2, 1321967]), sample rate: 44100\n",
      "🔁 Resampling from 44100 → 48000 Hz\n",
      "📏 Padding waveform to 30s: 1438876 → 1440000\n",
      "✅ Embedded /home/ivan/PycharmProjects/MPr/audio_samples/fma_small/092/092546.mp3, vector shape: torch.Size([1, 512])\n",
      "📂 Loaded '/home/ivan/PycharmProjects/MPr/audio_samples/fma_small/092/092954.mp3' — shape: torch.Size([2, 1321967]), sample rate: 44100\n",
      "🔁 Resampling from 44100 → 48000 Hz\n",
      "📏 Padding waveform to 30s: 1438876 → 1440000\n",
      "✅ Embedded /home/ivan/PycharmProjects/MPr/audio_samples/fma_small/092/092954.mp3, vector shape: torch.Size([1, 512])\n"
     ]
    },
    {
     "name": "stderr",
     "output_type": "stream",
     "text": [
      "Embedding audio files:  64%|███████████▌      | 193/300 [00:19<00:10, 10.33it/s]"
     ]
    },
    {
     "name": "stdout",
     "output_type": "stream",
     "text": [
      "📂 Loaded '/home/ivan/PycharmProjects/MPr/audio_samples/fma_small/092/092540.mp3' — shape: torch.Size([2, 1323119]), sample rate: 44100\n",
      "🔁 Resampling from 44100 → 48000 Hz\n",
      "✂️ Trimming waveform to 30s: 1440130 → 1440000\n",
      "✅ Embedded /home/ivan/PycharmProjects/MPr/audio_samples/fma_small/092/092540.mp3, vector shape: torch.Size([1, 512])\n",
      "📂 Loaded '/home/ivan/PycharmProjects/MPr/audio_samples/fma_small/092/092131.mp3' — shape: torch.Size([2, 1323119]), sample rate: 44100\n",
      "🔁 Resampling from 44100 → 48000 Hz\n",
      "✂️ Trimming waveform to 30s: 1440130 → 1440000\n",
      "✅ Embedded /home/ivan/PycharmProjects/MPr/audio_samples/fma_small/092/092131.mp3, vector shape: torch.Size([1, 512])\n",
      "📂 Loaded '/home/ivan/PycharmProjects/MPr/audio_samples/fma_small/092/092206.mp3' — shape: torch.Size([1, 1323119]), sample rate: 44100\n",
      "🔁 Resampling from 44100 → 48000 Hz\n",
      "✂️ Trimming waveform to 30s: 1440130 → 1440000\n"
     ]
    },
    {
     "name": "stderr",
     "output_type": "stream",
     "text": [
      "Embedding audio files:  65%|███████████▋      | 195/300 [00:19<00:10, 10.46it/s]"
     ]
    },
    {
     "name": "stdout",
     "output_type": "stream",
     "text": [
      "✅ Embedded /home/ivan/PycharmProjects/MPr/audio_samples/fma_small/092/092206.mp3, vector shape: torch.Size([1, 512])\n",
      "📂 Loaded '/home/ivan/PycharmProjects/MPr/audio_samples/fma_small/092/092549.mp3' — shape: torch.Size([2, 1323119]), sample rate: 44100\n",
      "🔁 Resampling from 44100 → 48000 Hz\n",
      "✂️ Trimming waveform to 30s: 1440130 → 1440000\n",
      "✅ Embedded /home/ivan/PycharmProjects/MPr/audio_samples/fma_small/092/092549.mp3, vector shape: torch.Size([1, 512])\n",
      "📂 Loaded '/home/ivan/PycharmProjects/MPr/audio_samples/fma_small/092/092283.mp3' — shape: torch.Size([2, 1323119]), sample rate: 44100\n",
      "🔁 Resampling from 44100 → 48000 Hz\n",
      "✂️ Trimming waveform to 30s: 1440130 → 1440000\n"
     ]
    },
    {
     "name": "stderr",
     "output_type": "stream",
     "text": [
      "Embedding audio files:  66%|███████████▊      | 197/300 [00:19<00:10, 10.20it/s]"
     ]
    },
    {
     "name": "stdout",
     "output_type": "stream",
     "text": [
      "✅ Embedded /home/ivan/PycharmProjects/MPr/audio_samples/fma_small/092/092283.mp3, vector shape: torch.Size([1, 512])\n",
      "📂 Loaded '/home/ivan/PycharmProjects/MPr/audio_samples/fma_small/092/092955.mp3' — shape: torch.Size([2, 1323119]), sample rate: 44100\n",
      "🔁 Resampling from 44100 → 48000 Hz\n",
      "✂️ Trimming waveform to 30s: 1440130 → 1440000\n",
      "✅ Embedded /home/ivan/PycharmProjects/MPr/audio_samples/fma_small/092/092955.mp3, vector shape: torch.Size([1, 512])\n",
      "📂 Loaded '/home/ivan/PycharmProjects/MPr/audio_samples/fma_small/092/092953.mp3' — shape: torch.Size([2, 1323119]), sample rate: 44100\n",
      "🔁 Resampling from 44100 → 48000 Hz\n",
      "✂️ Trimming waveform to 30s: 1440130 → 1440000\n"
     ]
    },
    {
     "name": "stderr",
     "output_type": "stream",
     "text": [
      "Embedding audio files:  67%|████████████      | 201/300 [00:20<00:09, 10.17it/s]"
     ]
    },
    {
     "name": "stdout",
     "output_type": "stream",
     "text": [
      "✅ Embedded /home/ivan/PycharmProjects/MPr/audio_samples/fma_small/092/092953.mp3, vector shape: torch.Size([1, 512])\n",
      "📂 Loaded '/home/ivan/PycharmProjects/MPr/audio_samples/fma_small/092/092282.mp3' — shape: torch.Size([2, 1323119]), sample rate: 44100\n",
      "🔁 Resampling from 44100 → 48000 Hz\n",
      "✂️ Trimming waveform to 30s: 1440130 → 1440000\n",
      "✅ Embedded /home/ivan/PycharmProjects/MPr/audio_samples/fma_small/092/092282.mp3, vector shape: torch.Size([1, 512])\n",
      "📂 Loaded '/home/ivan/PycharmProjects/MPr/audio_samples/fma_small/092/092888.mp3' — shape: torch.Size([2, 1323119]), sample rate: 44100\n",
      "🔁 Resampling from 44100 → 48000 Hz\n",
      "✂️ Trimming waveform to 30s: 1440130 → 1440000\n",
      "✅ Embedded /home/ivan/PycharmProjects/MPr/audio_samples/fma_small/092/092888.mp3, vector shape: torch.Size([1, 512])\n"
     ]
    },
    {
     "name": "stderr",
     "output_type": "stream",
     "text": [
      "Embedding audio files:  68%|████████████▏     | 203/300 [00:20<00:09, 10.22it/s]"
     ]
    },
    {
     "name": "stdout",
     "output_type": "stream",
     "text": [
      "📂 Loaded '/home/ivan/PycharmProjects/MPr/audio_samples/fma_small/092/092565.mp3' — shape: torch.Size([2, 1321967]), sample rate: 44100\n",
      "🔁 Resampling from 44100 → 48000 Hz\n",
      "📏 Padding waveform to 30s: 1438876 → 1440000\n",
      "✅ Embedded /home/ivan/PycharmProjects/MPr/audio_samples/fma_small/092/092565.mp3, vector shape: torch.Size([1, 512])\n",
      "📂 Loaded '/home/ivan/PycharmProjects/MPr/audio_samples/fma_small/015/015476.mp3' — shape: torch.Size([2, 1321967]), sample rate: 44100\n",
      "🔁 Resampling from 44100 → 48000 Hz\n",
      "📏 Padding waveform to 30s: 1438876 → 1440000\n",
      "✅ Embedded /home/ivan/PycharmProjects/MPr/audio_samples/fma_small/015/015476.mp3, vector shape: torch.Size([1, 512])\n",
      "📂 Loaded '/home/ivan/PycharmProjects/MPr/audio_samples/fma_small/015/015773.mp3' — shape: torch.Size([2, 1321967]), sample rate: 44100\n",
      "🔁 Resampling from 44100 → 48000 Hz\n"
     ]
    },
    {
     "name": "stderr",
     "output_type": "stream",
     "text": [
      "Embedding audio files:  68%|████████████▎     | 205/300 [00:20<00:09, 10.21it/s]"
     ]
    },
    {
     "name": "stdout",
     "output_type": "stream",
     "text": [
      "📏 Padding waveform to 30s: 1438876 → 1440000\n",
      "✅ Embedded /home/ivan/PycharmProjects/MPr/audio_samples/fma_small/015/015773.mp3, vector shape: torch.Size([1, 512])\n",
      "📂 Loaded '/home/ivan/PycharmProjects/MPr/audio_samples/fma_small/015/015625.mp3' — shape: torch.Size([2, 1323119]), sample rate: 44100\n",
      "🔁 Resampling from 44100 → 48000 Hz\n",
      "✂️ Trimming waveform to 30s: 1440130 → 1440000\n",
      "✅ Embedded /home/ivan/PycharmProjects/MPr/audio_samples/fma_small/015/015625.mp3, vector shape: torch.Size([1, 512])\n",
      "📂 Loaded '/home/ivan/PycharmProjects/MPr/audio_samples/fma_small/015/015471.mp3' — shape: torch.Size([2, 1321967]), sample rate: 44100\n",
      "🔁 Resampling from 44100 → 48000 Hz\n",
      "📏 Padding waveform to 30s: 1438876 → 1440000\n"
     ]
    },
    {
     "name": "stderr",
     "output_type": "stream",
     "text": [
      "Embedding audio files:  69%|████████████▍     | 207/300 [00:20<00:09, 10.29it/s]"
     ]
    },
    {
     "name": "stdout",
     "output_type": "stream",
     "text": [
      "✅ Embedded /home/ivan/PycharmProjects/MPr/audio_samples/fma_small/015/015471.mp3, vector shape: torch.Size([1, 512])\n",
      "📂 Loaded '/home/ivan/PycharmProjects/MPr/audio_samples/fma_small/015/015487.mp3' — shape: torch.Size([2, 1321967]), sample rate: 44100\n",
      "🔁 Resampling from 44100 → 48000 Hz\n",
      "📏 Padding waveform to 30s: 1438876 → 1440000\n",
      "✅ Embedded /home/ivan/PycharmProjects/MPr/audio_samples/fma_small/015/015487.mp3, vector shape: torch.Size([1, 512])\n",
      "📂 Loaded '/home/ivan/PycharmProjects/MPr/audio_samples/fma_small/015/015543.mp3' — shape: torch.Size([2, 1321967]), sample rate: 44100\n",
      "🔁 Resampling from 44100 → 48000 Hz\n",
      "📏 Padding waveform to 30s: 1438876 → 1440000\n",
      "✅ Embedded /home/ivan/PycharmProjects/MPr/audio_samples/fma_small/015/015543.mp3, vector shape: torch.Size([1, 512])\n"
     ]
    },
    {
     "name": "stderr",
     "output_type": "stream",
     "text": [
      "Embedding audio files:  70%|████████████▌     | 209/300 [00:21<00:08, 10.17it/s]"
     ]
    },
    {
     "name": "stdout",
     "output_type": "stream",
     "text": [
      "📂 Loaded '/home/ivan/PycharmProjects/MPr/audio_samples/fma_small/015/015094.mp3' — shape: torch.Size([2, 1439471]), sample rate: 48000\n",
      "📏 Padding waveform to 30s: 1439471 → 1440000\n",
      "✅ Embedded /home/ivan/PycharmProjects/MPr/audio_samples/fma_small/015/015094.mp3, vector shape: torch.Size([1, 512])\n",
      "📂 Loaded '/home/ivan/PycharmProjects/MPr/audio_samples/fma_small/015/015771.mp3' — shape: torch.Size([2, 1321967]), sample rate: 44100\n",
      "🔁 Resampling from 44100 → 48000 Hz\n",
      "📏 Padding waveform to 30s: 1438876 → 1440000\n",
      "✅ Embedded /home/ivan/PycharmProjects/MPr/audio_samples/fma_small/015/015771.mp3, vector shape: torch.Size([1, 512])\n",
      "📂 Loaded '/home/ivan/PycharmProjects/MPr/audio_samples/fma_small/015/015475.mp3' — shape: torch.Size([2, 1323119]), sample rate: 44100\n",
      "🔁 Resampling from 44100 → 48000 Hz\n",
      "✂️ Trimming waveform to 30s: 1440130 → 1440000\n"
     ]
    },
    {
     "name": "stderr",
     "output_type": "stream",
     "text": [
      "Embedding audio files:  71%|████████████▊     | 213/300 [00:21<00:08, 10.29it/s]"
     ]
    },
    {
     "name": "stdout",
     "output_type": "stream",
     "text": [
      "✅ Embedded /home/ivan/PycharmProjects/MPr/audio_samples/fma_small/015/015475.mp3, vector shape: torch.Size([1, 512])\n",
      "📂 Loaded '/home/ivan/PycharmProjects/MPr/audio_samples/fma_small/015/015770.mp3' — shape: torch.Size([2, 1321967]), sample rate: 44100\n",
      "🔁 Resampling from 44100 → 48000 Hz\n",
      "📏 Padding waveform to 30s: 1438876 → 1440000\n",
      "✅ Embedded /home/ivan/PycharmProjects/MPr/audio_samples/fma_small/015/015770.mp3, vector shape: torch.Size([1, 512])\n",
      "📂 Loaded '/home/ivan/PycharmProjects/MPr/audio_samples/fma_small/015/015540.mp3' — shape: torch.Size([2, 1321967]), sample rate: 44100\n",
      "🔁 Resampling from 44100 → 48000 Hz\n",
      "📏 Padding waveform to 30s: 1438876 → 1440000\n",
      "✅ Embedded /home/ivan/PycharmProjects/MPr/audio_samples/fma_small/015/015540.mp3, vector shape: torch.Size([1, 512])\n"
     ]
    },
    {
     "name": "stderr",
     "output_type": "stream",
     "text": [
      "Embedding audio files:  72%|████████████▉     | 215/300 [00:21<00:08, 10.35it/s]"
     ]
    },
    {
     "name": "stdout",
     "output_type": "stream",
     "text": [
      "📂 Loaded '/home/ivan/PycharmProjects/MPr/audio_samples/fma_small/015/015772.mp3' — shape: torch.Size([2, 1323119]), sample rate: 44100\n",
      "🔁 Resampling from 44100 → 48000 Hz\n",
      "✂️ Trimming waveform to 30s: 1440130 → 1440000\n",
      "✅ Embedded /home/ivan/PycharmProjects/MPr/audio_samples/fma_small/015/015772.mp3, vector shape: torch.Size([1, 512])\n",
      "📂 Loaded '/home/ivan/PycharmProjects/MPr/audio_samples/fma_small/015/015542.mp3' — shape: torch.Size([2, 1321967]), sample rate: 44100\n",
      "🔁 Resampling from 44100 → 48000 Hz\n",
      "📏 Padding waveform to 30s: 1438876 → 1440000\n",
      "✅ Embedded /home/ivan/PycharmProjects/MPr/audio_samples/fma_small/015/015542.mp3, vector shape: torch.Size([1, 512])\n",
      "📂 Loaded '/home/ivan/PycharmProjects/MPr/audio_samples/fma_small/015/015488.mp3' — shape: torch.Size([2, 1323119]), sample rate: 44100\n",
      "🔁 Resampling from 44100 → 48000 Hz\n",
      "✂️ Trimming waveform to 30s: 1440130 → 1440000\n"
     ]
    },
    {
     "name": "stderr",
     "output_type": "stream",
     "text": [
      "Embedding audio files:  72%|█████████████     | 217/300 [00:21<00:07, 10.45it/s]"
     ]
    },
    {
     "name": "stdout",
     "output_type": "stream",
     "text": [
      "✅ Embedded /home/ivan/PycharmProjects/MPr/audio_samples/fma_small/015/015488.mp3, vector shape: torch.Size([1, 512])\n",
      "📂 Loaded '/home/ivan/PycharmProjects/MPr/audio_samples/fma_small/015/015464.mp3' — shape: torch.Size([2, 1323119]), sample rate: 44100\n",
      "🔁 Resampling from 44100 → 48000 Hz\n",
      "✂️ Trimming waveform to 30s: 1440130 → 1440000\n",
      "✅ Embedded /home/ivan/PycharmProjects/MPr/audio_samples/fma_small/015/015464.mp3, vector shape: torch.Size([1, 512])\n",
      "📂 Loaded '/home/ivan/PycharmProjects/MPr/audio_samples/fma_small/015/015769.mp3' — shape: torch.Size([2, 1321967]), sample rate: 44100\n",
      "🔁 Resampling from 44100 → 48000 Hz\n",
      "📏 Padding waveform to 30s: 1438876 → 1440000\n",
      "✅ Embedded /home/ivan/PycharmProjects/MPr/audio_samples/fma_small/015/015769.mp3, vector shape: torch.Size([1, 512])\n",
      "📂 Loaded '/home/ivan/PycharmProjects/MPr/audio_samples/fma_small/015/015880.mp3' — shape: torch.Size([2, 1321967]), sample rate: 44100\n",
      "🔁 Resampling from 44100 → 48000 Hz\n"
     ]
    },
    {
     "name": "stderr",
     "output_type": "stream",
     "text": [
      "Embedding audio files:  73%|█████████████▏    | 219/300 [00:22<00:07, 10.48it/s]"
     ]
    },
    {
     "name": "stdout",
     "output_type": "stream",
     "text": [
      "📏 Padding waveform to 30s: 1438876 → 1440000\n",
      "✅ Embedded /home/ivan/PycharmProjects/MPr/audio_samples/fma_small/015/015880.mp3, vector shape: torch.Size([1, 512])\n",
      "📂 Loaded '/home/ivan/PycharmProjects/MPr/audio_samples/fma_small/015/015541.mp3' — shape: torch.Size([2, 1321967]), sample rate: 44100\n",
      "🔁 Resampling from 44100 → 48000 Hz\n",
      "📏 Padding waveform to 30s: 1438876 → 1440000\n",
      "✅ Embedded /home/ivan/PycharmProjects/MPr/audio_samples/fma_small/015/015541.mp3, vector shape: torch.Size([1, 512])\n",
      "📂 Loaded '/home/ivan/PycharmProjects/MPr/audio_samples/fma_small/015/015469.mp3' — shape: torch.Size([2, 1323119]), sample rate: 44100\n",
      "🔁 Resampling from 44100 → 48000 Hz\n",
      "✂️ Trimming waveform to 30s: 1440130 → 1440000\n"
     ]
    },
    {
     "name": "stderr",
     "output_type": "stream",
     "text": [
      "Embedding audio files:  74%|█████████████▍    | 223/300 [00:22<00:07, 10.37it/s]"
     ]
    },
    {
     "name": "stdout",
     "output_type": "stream",
     "text": [
      "✅ Embedded /home/ivan/PycharmProjects/MPr/audio_samples/fma_small/015/015469.mp3, vector shape: torch.Size([1, 512])\n",
      "📂 Loaded '/home/ivan/PycharmProjects/MPr/audio_samples/fma_small/015/015210.mp3' — shape: torch.Size([2, 1321967]), sample rate: 44100\n",
      "🔁 Resampling from 44100 → 48000 Hz\n",
      "📏 Padding waveform to 30s: 1438876 → 1440000\n",
      "✅ Embedded /home/ivan/PycharmProjects/MPr/audio_samples/fma_small/015/015210.mp3, vector shape: torch.Size([1, 512])\n",
      "📂 Loaded '/home/ivan/PycharmProjects/MPr/audio_samples/fma_small/013/013706.mp3' — shape: torch.Size([2, 1321967]), sample rate: 44100\n",
      "🔁 Resampling from 44100 → 48000 Hz\n",
      "📏 Padding waveform to 30s: 1438876 → 1440000\n",
      "✅ Embedded /home/ivan/PycharmProjects/MPr/audio_samples/fma_small/013/013706.mp3, vector shape: torch.Size([1, 512])\n"
     ]
    },
    {
     "name": "stderr",
     "output_type": "stream",
     "text": [
      "Embedding audio files:  75%|█████████████▌    | 225/300 [00:22<00:07, 10.34it/s]"
     ]
    },
    {
     "name": "stdout",
     "output_type": "stream",
     "text": [
      "📂 Loaded '/home/ivan/PycharmProjects/MPr/audio_samples/fma_small/013/013538.mp3' — shape: torch.Size([2, 1323119]), sample rate: 44100\n",
      "🔁 Resampling from 44100 → 48000 Hz\n",
      "✂️ Trimming waveform to 30s: 1440130 → 1440000\n",
      "✅ Embedded /home/ivan/PycharmProjects/MPr/audio_samples/fma_small/013/013538.mp3, vector shape: torch.Size([1, 512])\n",
      "📂 Loaded '/home/ivan/PycharmProjects/MPr/audio_samples/fma_small/013/013561.mp3' — shape: torch.Size([2, 1323119]), sample rate: 44100\n",
      "🔁 Resampling from 44100 → 48000 Hz\n",
      "✂️ Trimming waveform to 30s: 1440130 → 1440000\n",
      "✅ Embedded /home/ivan/PycharmProjects/MPr/audio_samples/fma_small/013/013561.mp3, vector shape: torch.Size([1, 512])\n",
      "📂 Loaded '/home/ivan/PycharmProjects/MPr/audio_samples/fma_small/013/013666.mp3' — shape: torch.Size([2, 1321967]), sample rate: 44100\n",
      "🔁 Resampling from 44100 → 48000 Hz\n"
     ]
    },
    {
     "name": "stderr",
     "output_type": "stream",
     "text": [
      "Embedding audio files:  76%|█████████████▌    | 227/300 [00:22<00:07, 10.37it/s]"
     ]
    },
    {
     "name": "stdout",
     "output_type": "stream",
     "text": [
      "📏 Padding waveform to 30s: 1438876 → 1440000\n",
      "✅ Embedded /home/ivan/PycharmProjects/MPr/audio_samples/fma_small/013/013666.mp3, vector shape: torch.Size([1, 512])\n",
      "📂 Loaded '/home/ivan/PycharmProjects/MPr/audio_samples/fma_small/013/013749.mp3' — shape: torch.Size([2, 1323119]), sample rate: 44100\n",
      "🔁 Resampling from 44100 → 48000 Hz\n",
      "✂️ Trimming waveform to 30s: 1440130 → 1440000\n",
      "✅ Embedded /home/ivan/PycharmProjects/MPr/audio_samples/fma_small/013/013749.mp3, vector shape: torch.Size([1, 512])\n",
      "📂 Loaded '/home/ivan/PycharmProjects/MPr/audio_samples/fma_small/013/013668.mp3' — shape: torch.Size([2, 1323119]), sample rate: 44100\n",
      "🔁 Resampling from 44100 → 48000 Hz\n",
      "✂️ Trimming waveform to 30s: 1440130 → 1440000\n"
     ]
    },
    {
     "name": "stderr",
     "output_type": "stream",
     "text": [
      "Embedding audio files:  76%|█████████████▋    | 229/300 [00:23<00:06, 10.33it/s]"
     ]
    },
    {
     "name": "stdout",
     "output_type": "stream",
     "text": [
      "✅ Embedded /home/ivan/PycharmProjects/MPr/audio_samples/fma_small/013/013668.mp3, vector shape: torch.Size([1, 512])\n",
      "📂 Loaded '/home/ivan/PycharmProjects/MPr/audio_samples/fma_small/013/013325.mp3' — shape: torch.Size([2, 1321967]), sample rate: 44100\n",
      "🔁 Resampling from 44100 → 48000 Hz\n",
      "📏 Padding waveform to 30s: 1438876 → 1440000\n",
      "✅ Embedded /home/ivan/PycharmProjects/MPr/audio_samples/fma_small/013/013325.mp3, vector shape: torch.Size([1, 512])\n",
      "📂 Loaded '/home/ivan/PycharmProjects/MPr/audio_samples/fma_small/013/013556.mp3' — shape: torch.Size([2, 1323119]), sample rate: 44100\n",
      "🔁 Resampling from 44100 → 48000 Hz\n",
      "✂️ Trimming waveform to 30s: 1440130 → 1440000\n",
      "✅ Embedded /home/ivan/PycharmProjects/MPr/audio_samples/fma_small/013/013556.mp3, vector shape: torch.Size([1, 512])\n",
      "📂 Loaded '/home/ivan/PycharmProjects/MPr/audio_samples/fma_small/013/013929.mp3' — shape: torch.Size([2, 1323119]), sample rate: 44100\n",
      "🔁 Resampling from 44100 → 48000 Hz\n"
     ]
    },
    {
     "name": "stderr",
     "output_type": "stream",
     "text": [
      "Embedding audio files:  77%|█████████████▊    | 231/300 [00:23<00:06, 10.35it/s]"
     ]
    },
    {
     "name": "stdout",
     "output_type": "stream",
     "text": [
      "✂️ Trimming waveform to 30s: 1440130 → 1440000\n",
      "✅ Embedded /home/ivan/PycharmProjects/MPr/audio_samples/fma_small/013/013929.mp3, vector shape: torch.Size([1, 512])\n",
      "📂 Loaded '/home/ivan/PycharmProjects/MPr/audio_samples/fma_small/013/013708.mp3' — shape: torch.Size([1, 1321967]), sample rate: 44100\n",
      "🔁 Resampling from 44100 → 48000 Hz\n",
      "📏 Padding waveform to 30s: 1438876 → 1440000\n",
      "✅ Embedded /home/ivan/PycharmProjects/MPr/audio_samples/fma_small/013/013708.mp3, vector shape: torch.Size([1, 512])\n",
      "📂 Loaded '/home/ivan/PycharmProjects/MPr/audio_samples/fma_small/013/013927.mp3' — shape: torch.Size([2, 1321967]), sample rate: 44100\n",
      "🔁 Resampling from 44100 → 48000 Hz\n",
      "📏 Padding waveform to 30s: 1438876 → 1440000\n"
     ]
    },
    {
     "name": "stderr",
     "output_type": "stream",
     "text": [
      "Embedding audio files:  78%|█████████████▉    | 233/300 [00:23<00:06, 10.23it/s]"
     ]
    },
    {
     "name": "stdout",
     "output_type": "stream",
     "text": [
      "✅ Embedded /home/ivan/PycharmProjects/MPr/audio_samples/fma_small/013/013927.mp3, vector shape: torch.Size([1, 512])\n",
      "📂 Loaded '/home/ivan/PycharmProjects/MPr/audio_samples/fma_small/013/013328.mp3' — shape: torch.Size([2, 1321967]), sample rate: 44100\n",
      "🔁 Resampling from 44100 → 48000 Hz\n",
      "📏 Padding waveform to 30s: 1438876 → 1440000\n",
      "✅ Embedded /home/ivan/PycharmProjects/MPr/audio_samples/fma_small/013/013328.mp3, vector shape: torch.Size([1, 512])\n",
      "📂 Loaded '/home/ivan/PycharmProjects/MPr/audio_samples/fma_small/013/013362.mp3' — shape: torch.Size([2, 1323119]), sample rate: 44100\n",
      "🔁 Resampling from 44100 → 48000 Hz\n",
      "✂️ Trimming waveform to 30s: 1440130 → 1440000\n"
     ]
    },
    {
     "name": "stderr",
     "output_type": "stream",
     "text": [
      "Embedding audio files:  78%|██████████████    | 235/300 [00:23<00:06, 10.03it/s]"
     ]
    },
    {
     "name": "stdout",
     "output_type": "stream",
     "text": [
      "✅ Embedded /home/ivan/PycharmProjects/MPr/audio_samples/fma_small/013/013362.mp3, vector shape: torch.Size([1, 512])\n",
      "📂 Loaded '/home/ivan/PycharmProjects/MPr/audio_samples/fma_small/013/013709.mp3' — shape: torch.Size([2, 1321967]), sample rate: 44100\n",
      "🔁 Resampling from 44100 → 48000 Hz\n",
      "📏 Padding waveform to 30s: 1438876 → 1440000\n",
      "✅ Embedded /home/ivan/PycharmProjects/MPr/audio_samples/fma_small/013/013709.mp3, vector shape: torch.Size([1, 512])\n",
      "📂 Loaded '/home/ivan/PycharmProjects/MPr/audio_samples/fma_small/013/013218.mp3' — shape: torch.Size([2, 1323119]), sample rate: 44100\n",
      "🔁 Resampling from 44100 → 48000 Hz\n",
      "✂️ Trimming waveform to 30s: 1440130 → 1440000\n"
     ]
    },
    {
     "name": "stderr",
     "output_type": "stream",
     "text": [
      "Embedding audio files:  79%|██████████████▎   | 238/300 [00:24<00:06,  8.86it/s]"
     ]
    },
    {
     "name": "stdout",
     "output_type": "stream",
     "text": [
      "✅ Embedded /home/ivan/PycharmProjects/MPr/audio_samples/fma_small/013/013218.mp3, vector shape: torch.Size([1, 512])\n",
      "📂 Loaded '/home/ivan/PycharmProjects/MPr/audio_samples/fma_small/013/013191.mp3' — shape: torch.Size([2, 1321967]), sample rate: 44100\n",
      "🔁 Resampling from 44100 → 48000 Hz\n",
      "📏 Padding waveform to 30s: 1438876 → 1440000\n",
      "✅ Embedded /home/ivan/PycharmProjects/MPr/audio_samples/fma_small/013/013191.mp3, vector shape: torch.Size([1, 512])\n"
     ]
    },
    {
     "name": "stderr",
     "output_type": "stream",
     "text": [
      "Embedding audio files:  80%|██████████████▎   | 239/300 [00:24<00:07,  8.57it/s]"
     ]
    },
    {
     "name": "stdout",
     "output_type": "stream",
     "text": [
      "📂 Loaded '/home/ivan/PycharmProjects/MPr/audio_samples/fma_small/013/013710.mp3' — shape: torch.Size([2, 1323119]), sample rate: 44100\n",
      "🔁 Resampling from 44100 → 48000 Hz\n",
      "✂️ Trimming waveform to 30s: 1440130 → 1440000\n",
      "✅ Embedded /home/ivan/PycharmProjects/MPr/audio_samples/fma_small/013/013710.mp3, vector shape: torch.Size([1, 512])\n",
      "📂 Loaded '/home/ivan/PycharmProjects/MPr/audio_samples/fma_small/013/013566.mp3' — shape: torch.Size([2, 1323119]), sample rate: 44100\n",
      "🔁 Resampling from 44100 → 48000 Hz\n",
      "✂️ Trimming waveform to 30s: 1440130 → 1440000\n",
      "✅ Embedded /home/ivan/PycharmProjects/MPr/audio_samples/fma_small/013/013566.mp3, vector shape: torch.Size([1, 512])\n"
     ]
    },
    {
     "name": "stderr",
     "output_type": "stream",
     "text": [
      "Embedding audio files:  80%|██████████████▍   | 241/300 [00:24<00:06,  9.07it/s]"
     ]
    },
    {
     "name": "stdout",
     "output_type": "stream",
     "text": [
      "📂 Loaded '/home/ivan/PycharmProjects/MPr/audio_samples/fma_small/013/013199.mp3' — shape: torch.Size([2, 1321967]), sample rate: 44100\n",
      "🔁 Resampling from 44100 → 48000 Hz\n",
      "📏 Padding waveform to 30s: 1438876 → 1440000\n",
      "✅ Embedded /home/ivan/PycharmProjects/MPr/audio_samples/fma_small/013/013199.mp3, vector shape: torch.Size([1, 512])\n",
      "📂 Loaded '/home/ivan/PycharmProjects/MPr/audio_samples/fma_small/013/013201.mp3' — shape: torch.Size([2, 1321967]), sample rate: 44100\n",
      "🔁 Resampling from 44100 → 48000 Hz\n",
      "📏 Padding waveform to 30s: 1438876 → 1440000\n",
      "✅ Embedded /home/ivan/PycharmProjects/MPr/audio_samples/fma_small/013/013201.mp3, vector shape: torch.Size([1, 512])\n",
      "📂 Loaded '/home/ivan/PycharmProjects/MPr/audio_samples/fma_small/013/013578.mp3' — shape: torch.Size([2, 1323119]), sample rate: 44100\n",
      "🔁 Resampling from 44100 → 48000 Hz\n"
     ]
    },
    {
     "name": "stderr",
     "output_type": "stream",
     "text": [
      "Embedding audio files:  81%|██████████████▋   | 244/300 [00:24<00:06,  8.99it/s]"
     ]
    },
    {
     "name": "stdout",
     "output_type": "stream",
     "text": [
      "✂️ Trimming waveform to 30s: 1440130 → 1440000\n",
      "✅ Embedded /home/ivan/PycharmProjects/MPr/audio_samples/fma_small/013/013578.mp3, vector shape: torch.Size([1, 512])\n",
      "📂 Loaded '/home/ivan/PycharmProjects/MPr/audio_samples/fma_small/013/013747.mp3' — shape: torch.Size([2, 1323119]), sample rate: 44100\n",
      "🔁 Resampling from 44100 → 48000 Hz\n",
      "✂️ Trimming waveform to 30s: 1440130 → 1440000\n",
      "✅ Embedded /home/ivan/PycharmProjects/MPr/audio_samples/fma_small/013/013747.mp3, vector shape: torch.Size([1, 512])\n"
     ]
    },
    {
     "name": "stderr",
     "output_type": "stream",
     "text": [
      "Embedding audio files:  82%|██████████████▊   | 246/300 [00:24<00:05,  9.44it/s]"
     ]
    },
    {
     "name": "stdout",
     "output_type": "stream",
     "text": [
      "📂 Loaded '/home/ivan/PycharmProjects/MPr/audio_samples/fma_small/013/013928.mp3' — shape: torch.Size([2, 1323119]), sample rate: 44100\n",
      "🔁 Resampling from 44100 → 48000 Hz\n",
      "✂️ Trimming waveform to 30s: 1440130 → 1440000\n",
      "✅ Embedded /home/ivan/PycharmProjects/MPr/audio_samples/fma_small/013/013928.mp3, vector shape: torch.Size([1, 512])\n",
      "📂 Loaded '/home/ivan/PycharmProjects/MPr/audio_samples/fma_small/013/013571.mp3' — shape: torch.Size([2, 1321967]), sample rate: 44100\n",
      "🔁 Resampling from 44100 → 48000 Hz\n",
      "📏 Padding waveform to 30s: 1438876 → 1440000\n",
      "✅ Embedded /home/ivan/PycharmProjects/MPr/audio_samples/fma_small/013/013571.mp3, vector shape: torch.Size([1, 512])\n",
      "📂 Loaded '/home/ivan/PycharmProjects/MPr/audio_samples/fma_small/013/013539.mp3' — shape: torch.Size([2, 1321967]), sample rate: 44100\n",
      "🔁 Resampling from 44100 → 48000 Hz\n"
     ]
    },
    {
     "name": "stderr",
     "output_type": "stream",
     "text": [
      "Embedding audio files:  83%|██████████████▉   | 248/300 [00:25<00:05,  9.52it/s]"
     ]
    },
    {
     "name": "stdout",
     "output_type": "stream",
     "text": [
      "📏 Padding waveform to 30s: 1438876 → 1440000\n",
      "✅ Embedded /home/ivan/PycharmProjects/MPr/audio_samples/fma_small/013/013539.mp3, vector shape: torch.Size([1, 512])\n",
      "📂 Loaded '/home/ivan/PycharmProjects/MPr/audio_samples/fma_small/013/013197.mp3' — shape: torch.Size([2, 1323119]), sample rate: 44100\n",
      "🔁 Resampling from 44100 → 48000 Hz\n",
      "✂️ Trimming waveform to 30s: 1440130 → 1440000\n",
      "✅ Embedded /home/ivan/PycharmProjects/MPr/audio_samples/fma_small/013/013197.mp3, vector shape: torch.Size([1, 512])\n",
      "📂 Loaded '/home/ivan/PycharmProjects/MPr/audio_samples/fma_small/013/013596.mp3' — shape: torch.Size([2, 1323119]), sample rate: 44100\n"
     ]
    },
    {
     "name": "stderr",
     "output_type": "stream",
     "text": [
      "Embedding audio files:  83%|███████████████   | 250/300 [00:25<00:05,  9.59it/s]"
     ]
    },
    {
     "name": "stdout",
     "output_type": "stream",
     "text": [
      "🔁 Resampling from 44100 → 48000 Hz\n",
      "✂️ Trimming waveform to 30s: 1440130 → 1440000\n",
      "✅ Embedded /home/ivan/PycharmProjects/MPr/audio_samples/fma_small/013/013596.mp3, vector shape: torch.Size([1, 512])\n",
      "📂 Loaded '/home/ivan/PycharmProjects/MPr/audio_samples/fma_small/013/013562.mp3' — shape: torch.Size([2, 1323119]), sample rate: 44100\n",
      "🔁 Resampling from 44100 → 48000 Hz\n",
      "✂️ Trimming waveform to 30s: 1440130 → 1440000\n",
      "✅ Embedded /home/ivan/PycharmProjects/MPr/audio_samples/fma_small/013/013562.mp3, vector shape: torch.Size([1, 512])\n",
      "📂 Loaded '/home/ivan/PycharmProjects/MPr/audio_samples/fma_small/013/013591.mp3' — shape: torch.Size([2, 1323119]), sample rate: 44100\n"
     ]
    },
    {
     "name": "stderr",
     "output_type": "stream",
     "text": [
      "Embedding audio files:  84%|███████████████   | 252/300 [00:25<00:05,  9.50it/s]"
     ]
    },
    {
     "name": "stdout",
     "output_type": "stream",
     "text": [
      "🔁 Resampling from 44100 → 48000 Hz\n",
      "✂️ Trimming waveform to 30s: 1440130 → 1440000\n",
      "✅ Embedded /home/ivan/PycharmProjects/MPr/audio_samples/fma_small/013/013591.mp3, vector shape: torch.Size([1, 512])\n",
      "📂 Loaded '/home/ivan/PycharmProjects/MPr/audio_samples/fma_small/013/013220.mp3' — shape: torch.Size([2, 1323119]), sample rate: 44100\n",
      "🔁 Resampling from 44100 → 48000 Hz\n",
      "✂️ Trimming waveform to 30s: 1440130 → 1440000\n",
      "✅ Embedded /home/ivan/PycharmProjects/MPr/audio_samples/fma_small/013/013220.mp3, vector shape: torch.Size([1, 512])\n"
     ]
    },
    {
     "name": "stderr",
     "output_type": "stream",
     "text": [
      "Embedding audio files:  84%|███████████████▏  | 253/300 [00:25<00:04,  9.61it/s]"
     ]
    },
    {
     "name": "stdout",
     "output_type": "stream",
     "text": [
      "📂 Loaded '/home/ivan/PycharmProjects/MPr/audio_samples/fma_small/013/013378.mp3' — shape: torch.Size([2, 1321967]), sample rate: 44100\n",
      "🔁 Resampling from 44100 → 48000 Hz\n",
      "📏 Padding waveform to 30s: 1438876 → 1440000\n",
      "✅ Embedded /home/ivan/PycharmProjects/MPr/audio_samples/fma_small/013/013378.mp3, vector shape: torch.Size([1, 512])\n",
      "📂 Loaded '/home/ivan/PycharmProjects/MPr/audio_samples/fma_small/013/013707.mp3' — shape: torch.Size([1, 1323119]), sample rate: 44100\n",
      "🔁 Resampling from 44100 → 48000 Hz\n",
      "✂️ Trimming waveform to 30s: 1440130 → 1440000\n",
      "✅ Embedded /home/ivan/PycharmProjects/MPr/audio_samples/fma_small/013/013707.mp3, vector shape: torch.Size([1, 512])\n",
      "📂 Loaded '/home/ivan/PycharmProjects/MPr/audio_samples/fma_small/013/013768.mp3' — shape: torch.Size([2, 1323119]), sample rate: 44100\n",
      "🔁 Resampling from 44100 → 48000 Hz\n",
      "✂️ Trimming waveform to 30s: 1440130 → 1440000\n"
     ]
    },
    {
     "name": "stderr",
     "output_type": "stream",
     "text": [
      "Embedding audio files:  86%|███████████████▍  | 257/300 [00:25<00:04, 10.07it/s]"
     ]
    },
    {
     "name": "stdout",
     "output_type": "stream",
     "text": [
      "✅ Embedded /home/ivan/PycharmProjects/MPr/audio_samples/fma_small/013/013768.mp3, vector shape: torch.Size([1, 512])\n",
      "📂 Loaded '/home/ivan/PycharmProjects/MPr/audio_samples/fma_small/013/013735.mp3' — shape: torch.Size([2, 1321967]), sample rate: 44100\n",
      "🔁 Resampling from 44100 → 48000 Hz\n",
      "📏 Padding waveform to 30s: 1438876 → 1440000\n",
      "✅ Embedded /home/ivan/PycharmProjects/MPr/audio_samples/fma_small/013/013735.mp3, vector shape: torch.Size([1, 512])\n",
      "📂 Loaded '/home/ivan/PycharmProjects/MPr/audio_samples/fma_small/013/013930.mp3' — shape: torch.Size([2, 1321967]), sample rate: 44100\n",
      "🔁 Resampling from 44100 → 48000 Hz\n",
      "📏 Padding waveform to 30s: 1438876 → 1440000\n",
      "✅ Embedded /home/ivan/PycharmProjects/MPr/audio_samples/fma_small/013/013930.mp3, vector shape: torch.Size([1, 512])\n"
     ]
    },
    {
     "name": "stderr",
     "output_type": "stream",
     "text": [
      "Embedding audio files:  86%|███████████████▌  | 259/300 [00:26<00:04,  9.77it/s]"
     ]
    },
    {
     "name": "stdout",
     "output_type": "stream",
     "text": [
      "📂 Loaded '/home/ivan/PycharmProjects/MPr/audio_samples/fma_small/013/013767.mp3' — shape: torch.Size([2, 1321967]), sample rate: 44100\n",
      "🔁 Resampling from 44100 → 48000 Hz\n",
      "📏 Padding waveform to 30s: 1438876 → 1440000\n",
      "✅ Embedded /home/ivan/PycharmProjects/MPr/audio_samples/fma_small/013/013767.mp3, vector shape: torch.Size([1, 512])\n",
      "📂 Loaded '/home/ivan/PycharmProjects/MPr/audio_samples/fma_small/013/013537.mp3' — shape: torch.Size([2, 1323119]), sample rate: 44100\n",
      "🔁 Resampling from 44100 → 48000 Hz\n",
      "✂️ Trimming waveform to 30s: 1440130 → 1440000\n",
      "✅ Embedded /home/ivan/PycharmProjects/MPr/audio_samples/fma_small/013/013537.mp3, vector shape: torch.Size([1, 512])\n"
     ]
    },
    {
     "name": "stderr",
     "output_type": "stream",
     "text": [
      "Embedding audio files:  87%|███████████████▌  | 260/300 [00:26<00:04,  9.78it/s]"
     ]
    },
    {
     "name": "stdout",
     "output_type": "stream",
     "text": [
      "📂 Loaded '/home/ivan/PycharmProjects/MPr/audio_samples/fma_small/013/013474.mp3' — shape: torch.Size([2, 1321967]), sample rate: 44100\n",
      "🔁 Resampling from 44100 → 48000 Hz\n",
      "📏 Padding waveform to 30s: 1438876 → 1440000\n",
      "✅ Embedded /home/ivan/PycharmProjects/MPr/audio_samples/fma_small/013/013474.mp3, vector shape: torch.Size([1, 512])\n",
      "📂 Loaded '/home/ivan/PycharmProjects/MPr/audio_samples/fma_small/013/013804.mp3' — shape: torch.Size([2, 1323119]), sample rate: 44100\n",
      "🔁 Resampling from 44100 → 48000 Hz\n",
      "✂️ Trimming waveform to 30s: 1440130 → 1440000\n",
      "✅ Embedded /home/ivan/PycharmProjects/MPr/audio_samples/fma_small/013/013804.mp3, vector shape: torch.Size([1, 512])\n",
      "📂 Loaded '/home/ivan/PycharmProjects/MPr/audio_samples/fma_small/013/013670.mp3' — shape: torch.Size([2, 1321967]), sample rate: 44100\n",
      "🔁 Resampling from 44100 → 48000 Hz\n"
     ]
    },
    {
     "name": "stderr",
     "output_type": "stream",
     "text": [
      "Embedding audio files:  88%|███████████████▊  | 263/300 [00:26<00:03,  9.92it/s]"
     ]
    },
    {
     "name": "stdout",
     "output_type": "stream",
     "text": [
      "📏 Padding waveform to 30s: 1438876 → 1440000\n",
      "✅ Embedded /home/ivan/PycharmProjects/MPr/audio_samples/fma_small/013/013670.mp3, vector shape: torch.Size([1, 512])\n",
      "📂 Loaded '/home/ivan/PycharmProjects/MPr/audio_samples/fma_small/013/013540.mp3' — shape: torch.Size([2, 1323119]), sample rate: 44100\n",
      "🔁 Resampling from 44100 → 48000 Hz\n",
      "✂️ Trimming waveform to 30s: 1440130 → 1440000\n",
      "✅ Embedded /home/ivan/PycharmProjects/MPr/audio_samples/fma_small/013/013540.mp3, vector shape: torch.Size([1, 512])\n",
      "📂 Loaded '/home/ivan/PycharmProjects/MPr/audio_samples/fma_small/013/013748.mp3' — shape: torch.Size([2, 1321967]), sample rate: 44100\n",
      "🔁 Resampling from 44100 → 48000 Hz\n",
      "📏 Padding waveform to 30s: 1438876 → 1440000\n"
     ]
    },
    {
     "name": "stderr",
     "output_type": "stream",
     "text": [
      "Embedding audio files:  88%|███████████████▉  | 265/300 [00:26<00:03, 10.22it/s]"
     ]
    },
    {
     "name": "stdout",
     "output_type": "stream",
     "text": [
      "✅ Embedded /home/ivan/PycharmProjects/MPr/audio_samples/fma_small/013/013748.mp3, vector shape: torch.Size([1, 512])\n",
      "📂 Loaded '/home/ivan/PycharmProjects/MPr/audio_samples/fma_small/013/013711.mp3' — shape: torch.Size([2, 1321967]), sample rate: 44100\n",
      "🔁 Resampling from 44100 → 48000 Hz\n",
      "📏 Padding waveform to 30s: 1438876 → 1440000\n",
      "✅ Embedded /home/ivan/PycharmProjects/MPr/audio_samples/fma_small/013/013711.mp3, vector shape: torch.Size([1, 512])\n",
      "📂 Loaded '/home/ivan/PycharmProjects/MPr/audio_samples/fma_small/066/066641.mp3' — shape: torch.Size([2, 1321967]), sample rate: 44100\n",
      "🔁 Resampling from 44100 → 48000 Hz\n",
      "📏 Padding waveform to 30s: 1438876 → 1440000\n",
      "✅ Embedded /home/ivan/PycharmProjects/MPr/audio_samples/fma_small/066/066641.mp3, vector shape: torch.Size([1, 512])\n"
     ]
    },
    {
     "name": "stderr",
     "output_type": "stream",
     "text": [
      "Embedding audio files:  89%|████████████████  | 267/300 [00:26<00:03, 10.23it/s]"
     ]
    },
    {
     "name": "stdout",
     "output_type": "stream",
     "text": [
      "📂 Loaded '/home/ivan/PycharmProjects/MPr/audio_samples/fma_small/066/066649.mp3' — shape: torch.Size([2, 1321967]), sample rate: 44100\n",
      "🔁 Resampling from 44100 → 48000 Hz\n",
      "📏 Padding waveform to 30s: 1438876 → 1440000\n",
      "✅ Embedded /home/ivan/PycharmProjects/MPr/audio_samples/fma_small/066/066649.mp3, vector shape: torch.Size([1, 512])\n",
      "📂 Loaded '/home/ivan/PycharmProjects/MPr/audio_samples/fma_small/066/066482.mp3' — shape: torch.Size([1, 1321967]), sample rate: 44100\n",
      "🔁 Resampling from 44100 → 48000 Hz\n",
      "📏 Padding waveform to 30s: 1438876 → 1440000\n",
      "✅ Embedded /home/ivan/PycharmProjects/MPr/audio_samples/fma_small/066/066482.mp3, vector shape: torch.Size([1, 512])\n",
      "📂 Loaded '/home/ivan/PycharmProjects/MPr/audio_samples/fma_small/066/066644.mp3' — shape: torch.Size([2, 1323119]), sample rate: 44100\n",
      "🔁 Resampling from 44100 → 48000 Hz\n"
     ]
    },
    {
     "name": "stderr",
     "output_type": "stream",
     "text": [
      "Embedding audio files:  90%|████████████████▏ | 269/300 [00:27<00:03, 10.18it/s]"
     ]
    },
    {
     "name": "stdout",
     "output_type": "stream",
     "text": [
      "✂️ Trimming waveform to 30s: 1440130 → 1440000\n",
      "✅ Embedded /home/ivan/PycharmProjects/MPr/audio_samples/fma_small/066/066644.mp3, vector shape: torch.Size([1, 512])\n",
      "📂 Loaded '/home/ivan/PycharmProjects/MPr/audio_samples/fma_small/066/066180.mp3' — shape: torch.Size([2, 1321967]), sample rate: 44100\n",
      "🔁 Resampling from 44100 → 48000 Hz\n",
      "📏 Padding waveform to 30s: 1438876 → 1440000\n",
      "✅ Embedded /home/ivan/PycharmProjects/MPr/audio_samples/fma_small/066/066180.mp3, vector shape: torch.Size([1, 512])\n"
     ]
    },
    {
     "name": "stderr",
     "output_type": "stream",
     "text": [
      "Embedding audio files:  90%|████████████████▎ | 271/300 [00:27<00:03,  9.55it/s]"
     ]
    },
    {
     "name": "stdout",
     "output_type": "stream",
     "text": [
      "📂 Loaded '/home/ivan/PycharmProjects/MPr/audio_samples/fma_small/066/066689.mp3' — shape: torch.Size([2, 1323119]), sample rate: 44100\n",
      "🔁 Resampling from 44100 → 48000 Hz\n",
      "✂️ Trimming waveform to 30s: 1440130 → 1440000\n",
      "✅ Embedded /home/ivan/PycharmProjects/MPr/audio_samples/fma_small/066/066689.mp3, vector shape: torch.Size([1, 512])\n",
      "📂 Loaded '/home/ivan/PycharmProjects/MPr/audio_samples/fma_small/066/066783.mp3' — shape: torch.Size([2, 1321967]), sample rate: 44100\n",
      "🔁 Resampling from 44100 → 48000 Hz\n",
      "📏 Padding waveform to 30s: 1438876 → 1440000\n",
      "✅ Embedded /home/ivan/PycharmProjects/MPr/audio_samples/fma_small/066/066783.mp3, vector shape: torch.Size([1, 512])\n",
      "📂 Loaded '/home/ivan/PycharmProjects/MPr/audio_samples/fma_small/066/066648.mp3' — shape: torch.Size([2, 1323119]), sample rate: 44100\n",
      "🔁 Resampling from 44100 → 48000 Hz\n"
     ]
    },
    {
     "name": "stderr",
     "output_type": "stream",
     "text": [
      "Embedding audio files:  91%|████████████████▍ | 273/300 [00:27<00:02,  9.70it/s]"
     ]
    },
    {
     "name": "stdout",
     "output_type": "stream",
     "text": [
      "✂️ Trimming waveform to 30s: 1440130 → 1440000\n",
      "✅ Embedded /home/ivan/PycharmProjects/MPr/audio_samples/fma_small/066/066648.mp3, vector shape: torch.Size([1, 512])\n",
      "📂 Loaded '/home/ivan/PycharmProjects/MPr/audio_samples/fma_small/066/066717.mp3' — shape: torch.Size([2, 1321967]), sample rate: 44100\n",
      "🔁 Resampling from 44100 → 48000 Hz\n",
      "📏 Padding waveform to 30s: 1438876 → 1440000\n",
      "✅ Embedded /home/ivan/PycharmProjects/MPr/audio_samples/fma_small/066/066717.mp3, vector shape: torch.Size([1, 512])\n",
      "📂 Loaded '/home/ivan/PycharmProjects/MPr/audio_samples/fma_small/066/066636.mp3' — shape: torch.Size([2, 1323119]), sample rate: 44100\n"
     ]
    },
    {
     "name": "stderr",
     "output_type": "stream",
     "text": [
      "Embedding audio files:  92%|████████████████▌ | 275/300 [00:27<00:02,  9.62it/s]"
     ]
    },
    {
     "name": "stdout",
     "output_type": "stream",
     "text": [
      "🔁 Resampling from 44100 → 48000 Hz\n",
      "✂️ Trimming waveform to 30s: 1440130 → 1440000\n",
      "✅ Embedded /home/ivan/PycharmProjects/MPr/audio_samples/fma_small/066/066636.mp3, vector shape: torch.Size([1, 512])\n",
      "📂 Loaded '/home/ivan/PycharmProjects/MPr/audio_samples/fma_small/066/066483.mp3' — shape: torch.Size([1, 1323119]), sample rate: 44100\n",
      "🔁 Resampling from 44100 → 48000 Hz\n",
      "✂️ Trimming waveform to 30s: 1440130 → 1440000\n",
      "✅ Embedded /home/ivan/PycharmProjects/MPr/audio_samples/fma_small/066/066483.mp3, vector shape: torch.Size([1, 512])\n",
      "📂 Loaded '/home/ivan/PycharmProjects/MPr/audio_samples/fma_small/066/066646.mp3' — shape: torch.Size([2, 1321967]), sample rate: 44100\n"
     ]
    },
    {
     "name": "stderr",
     "output_type": "stream",
     "text": [
      "Embedding audio files:  93%|████████████████▋ | 278/300 [00:28<00:02,  9.36it/s]"
     ]
    },
    {
     "name": "stdout",
     "output_type": "stream",
     "text": [
      "🔁 Resampling from 44100 → 48000 Hz\n",
      "📏 Padding waveform to 30s: 1438876 → 1440000\n",
      "✅ Embedded /home/ivan/PycharmProjects/MPr/audio_samples/fma_small/066/066646.mp3, vector shape: torch.Size([1, 512])\n",
      "📂 Loaded '/home/ivan/PycharmProjects/MPr/audio_samples/fma_small/066/066535.mp3' — shape: torch.Size([2, 1323119]), sample rate: 44100\n",
      "🔁 Resampling from 44100 → 48000 Hz\n",
      "✂️ Trimming waveform to 30s: 1440130 → 1440000\n",
      "✅ Embedded /home/ivan/PycharmProjects/MPr/audio_samples/fma_small/066/066535.mp3, vector shape: torch.Size([1, 512])\n"
     ]
    },
    {
     "name": "stderr",
     "output_type": "stream",
     "text": [
      "Embedding audio files:  93%|████████████████▊ | 280/300 [00:28<00:02,  9.00it/s]"
     ]
    },
    {
     "name": "stdout",
     "output_type": "stream",
     "text": [
      "📂 Loaded '/home/ivan/PycharmProjects/MPr/audio_samples/fma_small/066/066643.mp3' — shape: torch.Size([2, 1323119]), sample rate: 44100\n",
      "🔁 Resampling from 44100 → 48000 Hz\n",
      "✂️ Trimming waveform to 30s: 1440130 → 1440000\n",
      "✅ Embedded /home/ivan/PycharmProjects/MPr/audio_samples/fma_small/066/066643.mp3, vector shape: torch.Size([1, 512])\n",
      "📂 Loaded '/home/ivan/PycharmProjects/MPr/audio_samples/fma_small/066/066075.mp3' — shape: torch.Size([2, 1323119]), sample rate: 44100\n",
      "🔁 Resampling from 44100 → 48000 Hz\n",
      "✂️ Trimming waveform to 30s: 1440130 → 1440000\n",
      "✅ Embedded /home/ivan/PycharmProjects/MPr/audio_samples/fma_small/066/066075.mp3, vector shape: torch.Size([1, 512])\n",
      "📂 Loaded '/home/ivan/PycharmProjects/MPr/audio_samples/fma_small/066/066525.mp3' — shape: torch.Size([2, 1321967]), sample rate: 44100\n"
     ]
    },
    {
     "name": "stderr",
     "output_type": "stream",
     "text": [
      "Embedding audio files:  94%|████████████████▊ | 281/300 [00:28<00:02,  9.04it/s]"
     ]
    },
    {
     "name": "stdout",
     "output_type": "stream",
     "text": [
      "🔁 Resampling from 44100 → 48000 Hz\n",
      "📏 Padding waveform to 30s: 1438876 → 1440000\n",
      "✅ Embedded /home/ivan/PycharmProjects/MPr/audio_samples/fma_small/066/066525.mp3, vector shape: torch.Size([1, 512])\n",
      "📂 Loaded '/home/ivan/PycharmProjects/MPr/audio_samples/fma_small/066/066073.mp3' — shape: torch.Size([2, 1321967]), sample rate: 44100\n",
      "🔁 Resampling from 44100 → 48000 Hz\n",
      "📏 Padding waveform to 30s: 1438876 → 1440000\n",
      "✅ Embedded /home/ivan/PycharmProjects/MPr/audio_samples/fma_small/066/066073.mp3, vector shape: torch.Size([1, 512])\n",
      "📂 Loaded '/home/ivan/PycharmProjects/MPr/audio_samples/fma_small/066/066390.mp3' — shape: torch.Size([2, 1323119]), sample rate: 44100\n",
      "🔁 Resampling from 44100 → 48000 Hz\n"
     ]
    },
    {
     "name": "stderr",
     "output_type": "stream",
     "text": [
      "Embedding audio files:  95%|█████████████████ | 284/300 [00:28<00:01,  9.56it/s]"
     ]
    },
    {
     "name": "stdout",
     "output_type": "stream",
     "text": [
      "✂️ Trimming waveform to 30s: 1440130 → 1440000\n",
      "✅ Embedded /home/ivan/PycharmProjects/MPr/audio_samples/fma_small/066/066390.mp3, vector shape: torch.Size([1, 512])\n",
      "📂 Loaded '/home/ivan/PycharmProjects/MPr/audio_samples/fma_small/066/066405.mp3' — shape: torch.Size([2, 1321967]), sample rate: 44100\n",
      "🔁 Resampling from 44100 → 48000 Hz\n",
      "📏 Padding waveform to 30s: 1438876 → 1440000\n",
      "✅ Embedded /home/ivan/PycharmProjects/MPr/audio_samples/fma_small/066/066405.mp3, vector shape: torch.Size([1, 512])\n",
      "📂 Loaded '/home/ivan/PycharmProjects/MPr/audio_samples/fma_small/066/066637.mp3' — shape: torch.Size([2, 1321967]), sample rate: 44100\n",
      "🔁 Resampling from 44100 → 48000 Hz\n"
     ]
    },
    {
     "name": "stderr",
     "output_type": "stream",
     "text": [
      "Embedding audio files:  95%|█████████████████▏| 286/300 [00:29<00:01,  9.64it/s]"
     ]
    },
    {
     "name": "stdout",
     "output_type": "stream",
     "text": [
      "📏 Padding waveform to 30s: 1438876 → 1440000\n",
      "✅ Embedded /home/ivan/PycharmProjects/MPr/audio_samples/fma_small/066/066637.mp3, vector shape: torch.Size([1, 512])\n",
      "📂 Loaded '/home/ivan/PycharmProjects/MPr/audio_samples/fma_small/066/066534.mp3' — shape: torch.Size([2, 1323119]), sample rate: 44100\n",
      "🔁 Resampling from 44100 → 48000 Hz\n",
      "✂️ Trimming waveform to 30s: 1440130 → 1440000\n",
      "✅ Embedded /home/ivan/PycharmProjects/MPr/audio_samples/fma_small/066/066534.mp3, vector shape: torch.Size([1, 512])\n",
      "📂 Loaded '/home/ivan/PycharmProjects/MPr/audio_samples/fma_small/066/066539.mp3' — shape: torch.Size([2, 1323119]), sample rate: 44100\n"
     ]
    },
    {
     "name": "stderr",
     "output_type": "stream",
     "text": [
      "Embedding audio files:  96%|█████████████████▎| 288/300 [00:29<00:01,  9.34it/s]"
     ]
    },
    {
     "name": "stdout",
     "output_type": "stream",
     "text": [
      "🔁 Resampling from 44100 → 48000 Hz\n",
      "✂️ Trimming waveform to 30s: 1440130 → 1440000\n",
      "✅ Embedded /home/ivan/PycharmProjects/MPr/audio_samples/fma_small/066/066539.mp3, vector shape: torch.Size([1, 512])\n",
      "📂 Loaded '/home/ivan/PycharmProjects/MPr/audio_samples/fma_small/066/066076.mp3' — shape: torch.Size([2, 1323119]), sample rate: 44100\n",
      "🔁 Resampling from 44100 → 48000 Hz\n",
      "✂️ Trimming waveform to 30s: 1440130 → 1440000\n",
      "✅ Embedded /home/ivan/PycharmProjects/MPr/audio_samples/fma_small/066/066076.mp3, vector shape: torch.Size([1, 512])\n"
     ]
    },
    {
     "name": "stderr",
     "output_type": "stream",
     "text": [
      "Embedding audio files:  97%|█████████████████▍| 290/300 [00:29<00:01,  9.41it/s]"
     ]
    },
    {
     "name": "stdout",
     "output_type": "stream",
     "text": [
      "📂 Loaded '/home/ivan/PycharmProjects/MPr/audio_samples/fma_small/066/066074.mp3' — shape: torch.Size([2, 1321967]), sample rate: 44100\n",
      "🔁 Resampling from 44100 → 48000 Hz\n",
      "📏 Padding waveform to 30s: 1438876 → 1440000\n",
      "✅ Embedded /home/ivan/PycharmProjects/MPr/audio_samples/fma_small/066/066074.mp3, vector shape: torch.Size([1, 512])\n",
      "📂 Loaded '/home/ivan/PycharmProjects/MPr/audio_samples/fma_small/066/066187.mp3' — shape: torch.Size([2, 1321967]), sample rate: 44100\n",
      "🔁 Resampling from 44100 → 48000 Hz\n",
      "📏 Padding waveform to 30s: 1438876 → 1440000\n",
      "✅ Embedded /home/ivan/PycharmProjects/MPr/audio_samples/fma_small/066/066187.mp3, vector shape: torch.Size([1, 512])\n"
     ]
    },
    {
     "name": "stderr",
     "output_type": "stream",
     "text": [
      "Embedding audio files:  97%|█████████████████▌| 292/300 [00:29<00:00,  9.50it/s]"
     ]
    },
    {
     "name": "stdout",
     "output_type": "stream",
     "text": [
      "📂 Loaded '/home/ivan/PycharmProjects/MPr/audio_samples/fma_small/066/066536.mp3' — shape: torch.Size([2, 1323119]), sample rate: 44100\n",
      "🔁 Resampling from 44100 → 48000 Hz\n",
      "✂️ Trimming waveform to 30s: 1440130 → 1440000\n",
      "✅ Embedded /home/ivan/PycharmProjects/MPr/audio_samples/fma_small/066/066536.mp3, vector shape: torch.Size([1, 512])\n",
      "📂 Loaded '/home/ivan/PycharmProjects/MPr/audio_samples/fma_small/066/066782.mp3' — shape: torch.Size([2, 1323119]), sample rate: 44100\n",
      "🔁 Resampling from 44100 → 48000 Hz\n",
      "✂️ Trimming waveform to 30s: 1440130 → 1440000\n",
      "✅ Embedded /home/ivan/PycharmProjects/MPr/audio_samples/fma_small/066/066782.mp3, vector shape: torch.Size([1, 512])\n",
      "📂 Loaded '/home/ivan/PycharmProjects/MPr/audio_samples/fma_small/066/066537.mp3' — shape: torch.Size([2, 1323119]), sample rate: 44100\n"
     ]
    },
    {
     "name": "stderr",
     "output_type": "stream",
     "text": [
      "Embedding audio files:  98%|█████████████████▋| 294/300 [00:29<00:00,  9.67it/s]"
     ]
    },
    {
     "name": "stdout",
     "output_type": "stream",
     "text": [
      "🔁 Resampling from 44100 → 48000 Hz\n",
      "✂️ Trimming waveform to 30s: 1440130 → 1440000\n",
      "✅ Embedded /home/ivan/PycharmProjects/MPr/audio_samples/fma_small/066/066537.mp3, vector shape: torch.Size([1, 512])\n",
      "📂 Loaded '/home/ivan/PycharmProjects/MPr/audio_samples/fma_small/066/066638.mp3' — shape: torch.Size([2, 1439471]), sample rate: 48000\n",
      "📏 Padding waveform to 30s: 1439471 → 1440000\n",
      "✅ Embedded /home/ivan/PycharmProjects/MPr/audio_samples/fma_small/066/066638.mp3, vector shape: torch.Size([1, 512])\n",
      "📂 Loaded '/home/ivan/PycharmProjects/MPr/audio_samples/fma_small/066/066538.mp3' — shape: torch.Size([2, 1321967]), sample rate: 44100\n"
     ]
    },
    {
     "name": "stderr",
     "output_type": "stream",
     "text": [
      "Embedding audio files:  99%|█████████████████▊| 296/300 [00:30<00:00,  9.52it/s]"
     ]
    },
    {
     "name": "stdout",
     "output_type": "stream",
     "text": [
      "🔁 Resampling from 44100 → 48000 Hz\n",
      "📏 Padding waveform to 30s: 1438876 → 1440000\n",
      "✅ Embedded /home/ivan/PycharmProjects/MPr/audio_samples/fma_small/066/066538.mp3, vector shape: torch.Size([1, 512])\n",
      "📂 Loaded '/home/ivan/PycharmProjects/MPr/audio_samples/fma_small/066/066394.mp3' — shape: torch.Size([2, 1321967]), sample rate: 44100\n",
      "🔁 Resampling from 44100 → 48000 Hz\n",
      "📏 Padding waveform to 30s: 1438876 → 1440000\n",
      "✅ Embedded /home/ivan/PycharmProjects/MPr/audio_samples/fma_small/066/066394.mp3, vector shape: torch.Size([1, 512])\n",
      "📂 Loaded '/home/ivan/PycharmProjects/MPr/audio_samples/fma_small/066/066757.mp3' — shape: torch.Size([2, 1321967]), sample rate: 44100\n"
     ]
    },
    {
     "name": "stderr",
     "output_type": "stream",
     "text": [
      "Embedding audio files:  99%|█████████████████▉| 298/300 [00:30<00:00, 10.08it/s]"
     ]
    },
    {
     "name": "stdout",
     "output_type": "stream",
     "text": [
      "🔁 Resampling from 44100 → 48000 Hz\n",
      "📏 Padding waveform to 30s: 1438876 → 1440000\n",
      "✅ Embedded /home/ivan/PycharmProjects/MPr/audio_samples/fma_small/066/066757.mp3, vector shape: torch.Size([1, 512])\n",
      "📂 Loaded '/home/ivan/PycharmProjects/MPr/audio_samples/fma_small/066/066469.mp3' — shape: torch.Size([1, 1323119]), sample rate: 44100\n",
      "🔁 Resampling from 44100 → 48000 Hz\n",
      "✂️ Trimming waveform to 30s: 1440130 → 1440000\n",
      "✅ Embedded /home/ivan/PycharmProjects/MPr/audio_samples/fma_small/066/066469.mp3, vector shape: torch.Size([1, 512])\n",
      "📂 Loaded '/home/ivan/PycharmProjects/MPr/audio_samples/fma_small/066/066058.mp3' — shape: torch.Size([2, 1321967]), sample rate: 44100\n",
      "🔁 Resampling from 44100 → 48000 Hz\n",
      "📏 Padding waveform to 30s: 1438876 → 1440000\n"
     ]
    },
    {
     "name": "stderr",
     "output_type": "stream",
     "text": [
      "Embedding audio files: 100%|██████████████████| 300/300 [00:30<00:00,  9.85it/s]"
     ]
    },
    {
     "name": "stdout",
     "output_type": "stream",
     "text": [
      "✅ Embedded /home/ivan/PycharmProjects/MPr/audio_samples/fma_small/066/066058.mp3, vector shape: torch.Size([1, 512])\n",
      "📂 Loaded '/home/ivan/PycharmProjects/MPr/audio_samples/fma_small/066/066650.mp3' — shape: torch.Size([2, 1323119]), sample rate: 44100\n",
      "🔁 Resampling from 44100 → 48000 Hz\n",
      "✂️ Trimming waveform to 30s: 1440130 → 1440000\n",
      "✅ Embedded /home/ivan/PycharmProjects/MPr/audio_samples/fma_small/066/066650.mp3, vector shape: torch.Size([1, 512])\n",
      "\n",
      "✅ Embedded 300 tracks.\n",
      "❌ Failed: 0\n"
     ]
    },
    {
     "name": "stderr",
     "output_type": "stream",
     "text": [
      "\n"
     ]
    }
   ],
   "source": [
    "embeddings = []\n",
    "filenames = []\n",
    "failures = []\n",
    "\n",
    "for path in tqdm(mp3_files, desc=\"Embedding audio files\"):\n",
    "    try:\n",
    "        vec = embed_audio(path)\n",
    "        embeddings.append(vec)\n",
    "        filenames.append(path)\n",
    "    except Exception as e:\n",
    "        failures.append((path, str(e)))\n",
    "\n",
    "if embeddings:\n",
    "    embeddings = np.vstack(embeddings)\n",
    "    print(f\"\\n✅ Embedded {len(embeddings)} tracks.\")\n",
    "else:\n",
    "    print(\"❌ No embeddings succeeded.\")\n",
    "\n",
    "print(f\"❌ Failed: {len(failures)}\")\n"
   ]
  },
  {
   "cell_type": "code",
   "execution_count": 29,
   "id": "03b6472f-c476-4204-ba6b-a99361ffaa65",
   "metadata": {},
   "outputs": [],
   "source": [
    "import os\n",
    "import numpy as np\n",
    "\n",
    "np.save(\"embeddings/audio_vectors.npy\", embeddings)\n",
    "np.save(\"embeddings/audio_filenames.npy\", np.array(filenames))\n"
   ]
  },
  {
   "cell_type": "code",
   "execution_count": 30,
   "id": "e2ce4fa0-1e78-498a-a635-be9fb9e728d4",
   "metadata": {},
   "outputs": [
    {
     "name": "stdout",
     "output_type": "stream",
     "text": [
      "audio_vectors.npy: True\n",
      "audio_filenames.npy: True\n"
     ]
    }
   ],
   "source": [
    "import os\n",
    "\n",
    "print(\"audio_vectors.npy:\", os.path.exists(\"embeddings/audio_vectors.npy\"))\n",
    "print(\"audio_filenames.npy:\", os.path.exists(\"embeddings/audio_filenames.npy\"))\n"
   ]
  },
  {
   "cell_type": "code",
   "execution_count": 31,
   "id": "c048c712-303d-4357-9a31-ad552448ed95",
   "metadata": {},
   "outputs": [
    {
     "name": "stdout",
     "output_type": "stream",
     "text": [
      "✅ Vectors shape: (300, 512)\n",
      "✅ Filenames shape: (300,)\n"
     ]
    }
   ],
   "source": [
    "import numpy as np\n",
    "\n",
    "vectors = np.load(\"embeddings/audio_vectors.npy\")\n",
    "filenames = np.load(\"embeddings/audio_filenames.npy\")\n",
    "\n",
    "print(\"✅ Vectors shape:\", vectors.shape)      # Should be (N, 512)\n",
    "print(\"✅ Filenames shape:\", filenames.shape)  # Should be (N,)\n"
   ]
  },
  {
   "cell_type": "code",
   "execution_count": null,
   "id": "69311132-b487-4bcb-8f07-5d882cb43672",
   "metadata": {},
   "outputs": [],
   "source": []
  },
  {
   "cell_type": "code",
   "execution_count": null,
   "id": "3e90100d-13ca-432a-87d1-7ed2fa9e37e0",
   "metadata": {},
   "outputs": [],
   "source": []
  },
  {
   "cell_type": "code",
   "execution_count": null,
   "id": "7464afcf-1b89-4027-8283-8fddb1e475e6",
   "metadata": {},
   "outputs": [],
   "source": []
  },
  {
   "cell_type": "code",
   "execution_count": null,
   "id": "a7dc9b1b-efaa-48ae-94d2-9e6a29858da8",
   "metadata": {},
   "outputs": [],
   "source": []
  }
 ],
 "metadata": {
  "kernelspec": {
   "display_name": "Python (Music-GPU)",
   "language": "python",
   "name": "music-gpu"
  },
  "language_info": {
   "codemirror_mode": {
    "name": "ipython",
    "version": 3
   },
   "file_extension": ".py",
   "mimetype": "text/x-python",
   "name": "python",
   "nbconvert_exporter": "python",
   "pygments_lexer": "ipython3",
   "version": "3.10.12"
  }
 },
 "nbformat": 4,
 "nbformat_minor": 5
}
