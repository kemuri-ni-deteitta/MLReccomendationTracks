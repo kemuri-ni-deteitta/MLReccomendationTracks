{
 "cells": [
  {
   "cell_type": "markdown",
   "id": "4f11ad40-ba8e-4072-983f-1fb5123d7941",
   "metadata": {},
   "source": [
    "# Установка необходимых библиотек\n",
    "\n",
    "Перед началом работы убедимся, что у нас установлены все пакеты для:\n",
    "- работы с PyTorch и torchaudio для загрузки и препроцессинга аудио,\n",
    "- transformers для модели CLAP,\n",
    "- librosa (при необходимости дополнительных фич),\n",
    "- FAISS для быстрого поиска векторов,\n",
    "- tqdm для наглядного прогресса в циклах.\n",
    "\n"
   ]
  },
  {
   "cell_type": "code",
   "execution_count": 1,
   "id": "aee7d850-3bf7-4525-9368-4bcdd2f733ca",
   "metadata": {},
   "outputs": [
    {
     "name": "stdout",
     "output_type": "stream",
     "text": [
      "Defaulting to user installation because normal site-packages is not writeable\n",
      "Requirement already satisfied: torch in /home/ivan/.local/lib/python3.10/site-packages (2.7.0)\n",
      "Requirement already satisfied: torchaudio in /home/ivan/.local/lib/python3.10/site-packages (2.7.0)\n",
      "Requirement already satisfied: transformers in /home/ivan/.local/lib/python3.10/site-packages (4.51.3)\n",
      "Requirement already satisfied: librosa in /home/ivan/.local/lib/python3.10/site-packages (0.11.0)\n",
      "Requirement already satisfied: faiss-cpu in /home/ivan/.local/lib/python3.10/site-packages (1.11.0)\n",
      "Requirement already satisfied: tqdm in /home/ivan/.local/lib/python3.10/site-packages (4.67.1)\n",
      "Requirement already satisfied: filelock in /home/ivan/.local/lib/python3.10/site-packages (from torch) (3.18.0)\n",
      "Requirement already satisfied: typing-extensions>=4.10.0 in /home/ivan/.local/lib/python3.10/site-packages (from torch) (4.13.2)\n",
      "Requirement already satisfied: sympy>=1.13.3 in /home/ivan/.local/lib/python3.10/site-packages (from torch) (1.14.0)\n",
      "Requirement already satisfied: networkx in /home/ivan/.local/lib/python3.10/site-packages (from torch) (3.4.2)\n",
      "Requirement already satisfied: jinja2 in /home/ivan/.local/lib/python3.10/site-packages (from torch) (3.1.6)\n",
      "Requirement already satisfied: fsspec in /home/ivan/.local/lib/python3.10/site-packages (from torch) (2025.3.2)\n",
      "Requirement already satisfied: nvidia-cuda-nvrtc-cu12==12.6.77 in /home/ivan/.local/lib/python3.10/site-packages (from torch) (12.6.77)\n",
      "Requirement already satisfied: nvidia-cuda-runtime-cu12==12.6.77 in /home/ivan/.local/lib/python3.10/site-packages (from torch) (12.6.77)\n",
      "Requirement already satisfied: nvidia-cuda-cupti-cu12==12.6.80 in /home/ivan/.local/lib/python3.10/site-packages (from torch) (12.6.80)\n",
      "Requirement already satisfied: nvidia-cudnn-cu12==9.5.1.17 in /home/ivan/.local/lib/python3.10/site-packages (from torch) (9.5.1.17)\n",
      "Requirement already satisfied: nvidia-cublas-cu12==12.6.4.1 in /home/ivan/.local/lib/python3.10/site-packages (from torch) (12.6.4.1)\n",
      "Requirement already satisfied: nvidia-cufft-cu12==11.3.0.4 in /home/ivan/.local/lib/python3.10/site-packages (from torch) (11.3.0.4)\n",
      "Requirement already satisfied: nvidia-curand-cu12==10.3.7.77 in /home/ivan/.local/lib/python3.10/site-packages (from torch) (10.3.7.77)\n",
      "Requirement already satisfied: nvidia-cusolver-cu12==11.7.1.2 in /home/ivan/.local/lib/python3.10/site-packages (from torch) (11.7.1.2)\n",
      "Requirement already satisfied: nvidia-cusparse-cu12==12.5.4.2 in /home/ivan/.local/lib/python3.10/site-packages (from torch) (12.5.4.2)\n",
      "Requirement already satisfied: nvidia-cusparselt-cu12==0.6.3 in /home/ivan/.local/lib/python3.10/site-packages (from torch) (0.6.3)\n",
      "Requirement already satisfied: nvidia-nccl-cu12==2.26.2 in /home/ivan/.local/lib/python3.10/site-packages (from torch) (2.26.2)\n",
      "Requirement already satisfied: nvidia-nvtx-cu12==12.6.77 in /home/ivan/.local/lib/python3.10/site-packages (from torch) (12.6.77)\n",
      "Requirement already satisfied: nvidia-nvjitlink-cu12==12.6.85 in /home/ivan/.local/lib/python3.10/site-packages (from torch) (12.6.85)\n",
      "Requirement already satisfied: nvidia-cufile-cu12==1.11.1.6 in /home/ivan/.local/lib/python3.10/site-packages (from torch) (1.11.1.6)\n",
      "Requirement already satisfied: triton==3.3.0 in /home/ivan/.local/lib/python3.10/site-packages (from torch) (3.3.0)\n",
      "Requirement already satisfied: setuptools>=40.8.0 in /usr/lib/python3/dist-packages (from triton==3.3.0->torch) (59.6.0)\n",
      "Requirement already satisfied: huggingface-hub<1.0,>=0.30.0 in /home/ivan/.local/lib/python3.10/site-packages (from transformers) (0.31.1)\n",
      "Requirement already satisfied: numpy>=1.17 in /home/ivan/.local/lib/python3.10/site-packages (from transformers) (2.2.5)\n",
      "Requirement already satisfied: packaging>=20.0 in /home/ivan/.local/lib/python3.10/site-packages (from transformers) (25.0)\n",
      "Requirement already satisfied: pyyaml>=5.1 in /usr/lib/python3/dist-packages (from transformers) (5.4.1)\n",
      "Requirement already satisfied: regex!=2019.12.17 in /home/ivan/.local/lib/python3.10/site-packages (from transformers) (2024.11.6)\n",
      "Requirement already satisfied: requests in /home/ivan/.local/lib/python3.10/site-packages (from transformers) (2.32.3)\n",
      "Requirement already satisfied: tokenizers<0.22,>=0.21 in /home/ivan/.local/lib/python3.10/site-packages (from transformers) (0.21.1)\n",
      "Requirement already satisfied: safetensors>=0.4.3 in /home/ivan/.local/lib/python3.10/site-packages (from transformers) (0.5.3)\n",
      "Requirement already satisfied: hf-xet<2.0.0,>=1.1.0 in /home/ivan/.local/lib/python3.10/site-packages (from huggingface-hub<1.0,>=0.30.0->transformers) (1.1.0)\n",
      "Requirement already satisfied: audioread>=2.1.9 in /home/ivan/.local/lib/python3.10/site-packages (from librosa) (3.0.1)\n",
      "Requirement already satisfied: numba>=0.51.0 in /home/ivan/.local/lib/python3.10/site-packages (from librosa) (0.61.2)\n",
      "Requirement already satisfied: scipy>=1.6.0 in /home/ivan/.local/lib/python3.10/site-packages (from librosa) (1.15.3)\n",
      "Requirement already satisfied: scikit-learn>=1.1.0 in /home/ivan/.local/lib/python3.10/site-packages (from librosa) (1.6.1)\n",
      "Requirement already satisfied: joblib>=1.0 in /home/ivan/.local/lib/python3.10/site-packages (from librosa) (1.5.0)\n",
      "Requirement already satisfied: decorator>=4.3.0 in /home/ivan/.local/lib/python3.10/site-packages (from librosa) (5.2.1)\n",
      "Requirement already satisfied: soundfile>=0.12.1 in /home/ivan/.local/lib/python3.10/site-packages (from librosa) (0.13.1)\n",
      "Requirement already satisfied: pooch>=1.1 in /home/ivan/.local/lib/python3.10/site-packages (from librosa) (1.8.2)\n",
      "Requirement already satisfied: soxr>=0.3.2 in /home/ivan/.local/lib/python3.10/site-packages (from librosa) (0.5.0.post1)\n",
      "Requirement already satisfied: lazy_loader>=0.1 in /home/ivan/.local/lib/python3.10/site-packages (from librosa) (0.4)\n",
      "Requirement already satisfied: msgpack>=1.0 in /home/ivan/.local/lib/python3.10/site-packages (from librosa) (1.1.0)\n",
      "Requirement already satisfied: llvmlite<0.45,>=0.44.0dev0 in /home/ivan/.local/lib/python3.10/site-packages (from numba>=0.51.0->librosa) (0.44.0)\n",
      "Requirement already satisfied: platformdirs>=2.5.0 in /home/ivan/.local/lib/python3.10/site-packages (from pooch>=1.1->librosa) (4.3.8)\n",
      "Requirement already satisfied: charset-normalizer<4,>=2 in /home/ivan/.local/lib/python3.10/site-packages (from requests->transformers) (3.4.2)\n",
      "Requirement already satisfied: idna<4,>=2.5 in /usr/lib/python3/dist-packages (from requests->transformers) (3.3)\n",
      "Requirement already satisfied: urllib3<3,>=1.21.1 in /home/ivan/.local/lib/python3.10/site-packages (from requests->transformers) (2.0.4)\n",
      "Requirement already satisfied: certifi>=2017.4.17 in /usr/lib/python3/dist-packages (from requests->transformers) (2020.6.20)\n",
      "Requirement already satisfied: threadpoolctl>=3.1.0 in /home/ivan/.local/lib/python3.10/site-packages (from scikit-learn>=1.1.0->librosa) (3.6.0)\n",
      "Requirement already satisfied: cffi>=1.0 in /usr/lib/python3/dist-packages (from soundfile>=0.12.1->librosa) (1.15.0)\n",
      "Requirement already satisfied: mpmath<1.4,>=1.1.0 in /home/ivan/.local/lib/python3.10/site-packages (from sympy>=1.13.3->torch) (1.3.0)\n",
      "Requirement already satisfied: MarkupSafe>=2.0 in /usr/lib/python3/dist-packages (from jinja2->torch) (2.0.1)\n"
     ]
    }
   ],
   "source": [
    "!pip install torch torchaudio transformers librosa faiss-cpu tqdm\n"
   ]
  },
  {
   "cell_type": "markdown",
   "id": "5856360a-63d2-408c-869b-d77950182617",
   "metadata": {},
   "source": [
    "# Проверка доступности GPU\n",
    "\n",
    "Хотим убедиться, что мы действительно работаем на GPU (если есть),  \n",
    "чтобы ускорить вычисления эмбеддингов аудио.\n"
   ]
  },
  {
   "cell_type": "code",
   "execution_count": 2,
   "id": "871833a2-e45f-45f3-9c86-ff61efcd2ff3",
   "metadata": {},
   "outputs": [
    {
     "name": "stdout",
     "output_type": "stream",
     "text": [
      "GPU available: True\n",
      "Device: NVIDIA GeForce GTX 1070\n"
     ]
    }
   ],
   "source": [
    "import torch\n",
    "print(\"GPU available:\", torch.cuda.is_available())\n",
    "print(\"Device:\", torch.cuda.get_device_name(0) if torch.cuda.is_available() else \"None\")\n"
   ]
  },
  {
   "cell_type": "markdown",
   "id": "85fd7741-6cd5-4ba0-80f9-8261f1a146ec",
   "metadata": {},
   "source": [
    "# Сбор списка mp3-файлов из каталога FMA Large\n",
    "\n",
    "Проходим по всем поддиректориям, собираем пути к `.mp3`.  \n",
    "В дальнейшем по этому списку будем итерировать и строить эмбеддинги.\n"
   ]
  },
  {
   "cell_type": "code",
   "execution_count": 3,
   "id": "6a149f35-46b3-4142-8972-fb2164714e4a",
   "metadata": {},
   "outputs": [
    {
     "name": "stdout",
     "output_type": "stream",
     "text": [
      "Loaded 106574 files.\n"
     ]
    }
   ],
   "source": [
    "import os\n",
    "\n",
    "# Change this if needed\n",
    "AUDIO_FOLDER = \"/home/ivan/PycharmProjects/MPr/audio_samples/fma_large/fma_large\"\n",
    "\n",
    "mp3_files = []\n",
    "for root, _, files in os.walk(AUDIO_FOLDER):\n",
    "    for file in files:\n",
    "        if file.endswith(\".mp3\"):\n",
    "            mp3_files.append(os.path.join(root, file))\n",
    "\n",
    "# Optional: limit to the first 300 for now\n",
    "mp3_files = mp3_files\n",
    "\n",
    "print(f\"Loaded {len(mp3_files)} files.\")\n"
   ]
  },
  {
   "cell_type": "markdown",
   "id": "67b2388f-96ad-455b-88b1-18953a6ed6f6",
   "metadata": {},
   "source": [
    "# Загрузка модели CLAP\n",
    "\n",
    "Используем предобученную модель `laion/clap-htsat-unfused`:\n",
    "- `ClapProcessor` готовит аудио (и текст, если понадобится) в формат для модели.\n",
    "- `ClapModel` выдаёт 512-мерный эмбеддинг аудио.\n"
   ]
  },
  {
   "cell_type": "code",
   "execution_count": 4,
   "id": "cf349c91-f308-4e46-b22e-232da3b6df42",
   "metadata": {},
   "outputs": [],
   "source": [
    "import torch\n",
    "from transformers import ClapProcessor, ClapModel\n",
    "\n",
    "device = \"cuda\" if torch.cuda.is_available() else \"cpu\"\n",
    "\n",
    "processor = ClapProcessor.from_pretrained(\"laion/clap-htsat-unfused\")\n",
    "model = ClapModel.from_pretrained(\"laion/clap-htsat-unfused\").to(device)\n"
   ]
  },
  {
   "cell_type": "markdown",
   "id": "49773b90-37aa-408d-aad0-8558ebe25988",
   "metadata": {},
   "source": [
    "# Функция `embed_audio`\n",
    "\n",
    "1. Загрузить .mp3 через `torchaudio.load`.\n",
    "2. Привести дорожку к моно, ресемплировать к 48 кГц.\n",
    "3. Обрезать или дополнить до ровно 30 секунд.\n",
    "4. Передать сигнал в CLAP и получить вектор признаков.\n",
    "5. Обрабатывать ошибки (если файл битый).\n",
    "\n",
    "\n",
    "# Главный loop по всем файлам\n",
    "\n",
    "- Для каждого mp3 вызываем `embed_audio`.\n",
    "- Накопленные эмбеддинги и пути сохраняем каждые N треков,  \n",
    "  чтобы не потерять результат при сбое.\n",
    "- По завершении сохраняем остаток и список неудач.\n"
   ]
  },
  {
   "cell_type": "code",
   "execution_count": 6,
   "id": "c7a71074-5c09-42bb-a8fb-9c0cae68eafe",
   "metadata": {},
   "outputs": [
    {
     "name": "stderr",
     "output_type": "stream",
     "text": [
      "Embedding audio files:   1%|             | 570/106574 [01:06<2:57:08,  9.97it/s]"
     ]
    },
    {
     "name": "stdout",
     "output_type": "stream",
     "text": [
      "❌ ERROR: /home/ivan/PycharmProjects/MPr/audio_samples/fma_large/fma_large/115/115610.mp3 — Failed to open the input \"/home/ivan/PycharmProjects/MPr/audio_samples/fma_large/fma_large/115/115610.mp3\" (Invalid argument).\n"
     ]
    },
    {
     "name": "stderr",
     "output_type": "stream",
     "text": [
      "Embedding audio files:   1%|            | 1001/106574 [01:50<2:49:00, 10.41it/s]"
     ]
    },
    {
     "name": "stdout",
     "output_type": "stream",
     "text": [
      "✅ Saved checkpoint at 1000 tracks\n"
     ]
    },
    {
     "name": "stderr",
     "output_type": "stream",
     "text": [
      "Embedding audio files:   2%|▏           | 2001/106574 [03:49<3:52:01,  7.51it/s]"
     ]
    },
    {
     "name": "stdout",
     "output_type": "stream",
     "text": [
      "✅ Saved checkpoint at 2000 tracks\n"
     ]
    },
    {
     "name": "stderr",
     "output_type": "stream",
     "text": [
      "Embedding audio files:   3%|▎           | 3002/106574 [05:45<2:48:59, 10.22it/s]"
     ]
    },
    {
     "name": "stdout",
     "output_type": "stream",
     "text": [
      "✅ Saved checkpoint at 3000 tracks\n"
     ]
    },
    {
     "name": "stderr",
     "output_type": "stream",
     "text": [
      "Embedding audio files:   3%|▎           | 3066/106574 [05:52<2:29:44, 11.52it/s]"
     ]
    },
    {
     "name": "stdout",
     "output_type": "stream",
     "text": [
      "❌ ERROR: /home/ivan/PycharmProjects/MPr/audio_samples/fma_large/fma_large/092/092479.mp3 — Failed to open the input \"/home/ivan/PycharmProjects/MPr/audio_samples/fma_large/fma_large/092/092479.mp3\" (Invalid argument).\n"
     ]
    },
    {
     "name": "stderr",
     "output_type": "stream",
     "text": [
      "Embedding audio files:   4%|▍           | 4001/106574 [07:37<3:54:18,  7.30it/s]"
     ]
    },
    {
     "name": "stdout",
     "output_type": "stream",
     "text": [
      "✅ Saved checkpoint at 4000 tracks\n"
     ]
    },
    {
     "name": "stderr",
     "output_type": "stream",
     "text": [
      "Embedding audio files:   4%|▌           | 4522/106574 [08:34<2:23:40, 11.84it/s]"
     ]
    },
    {
     "name": "stdout",
     "output_type": "stream",
     "text": [
      "❌ ERROR: /home/ivan/PycharmProjects/MPr/audio_samples/fma_large/fma_large/013/013529.mp3 — Failed to open the input \"/home/ivan/PycharmProjects/MPr/audio_samples/fma_large/fma_large/013/013529.mp3\" (Invalid argument).\n"
     ]
    },
    {
     "name": "stderr",
     "output_type": "stream",
     "text": [
      "Embedding audio files:   5%|▌           | 5000/106574 [09:21<2:47:33, 10.10it/s]"
     ]
    },
    {
     "name": "stdout",
     "output_type": "stream",
     "text": [
      "✅ Saved checkpoint at 5000 tracks\n"
     ]
    },
    {
     "name": "stderr",
     "output_type": "stream",
     "text": [
      "Embedding audio files:   6%|▋           | 6000/106574 [11:05<5:30:48,  5.07it/s]"
     ]
    },
    {
     "name": "stdout",
     "output_type": "stream",
     "text": [
      "✅ Saved checkpoint at 6000 tracks\n"
     ]
    },
    {
     "name": "stderr",
     "output_type": "stream",
     "text": [
      "Embedding audio files:   6%|▋           | 6348/106574 [11:45<2:24:24, 11.57it/s]"
     ]
    },
    {
     "name": "stdout",
     "output_type": "stream",
     "text": [
      "❌ ERROR: /home/ivan/PycharmProjects/MPr/audio_samples/fma_large/fma_large/054/054582.mp3 — Failed to open the input \"/home/ivan/PycharmProjects/MPr/audio_samples/fma_large/fma_large/054/054582.mp3\" (Invalid argument).\n"
     ]
    },
    {
     "name": "stderr",
     "output_type": "stream",
     "text": [
      "Embedding audio files:   6%|▊           | 6691/106574 [12:18<2:20:41, 11.83it/s]"
     ]
    },
    {
     "name": "stdout",
     "output_type": "stream",
     "text": [
      "❌ ERROR: /home/ivan/PycharmProjects/MPr/audio_samples/fma_large/fma_large/054/054569.mp3 — Failed to open the input \"/home/ivan/PycharmProjects/MPr/audio_samples/fma_large/fma_large/054/054569.mp3\" (Invalid argument).\n"
     ]
    },
    {
     "name": "stderr",
     "output_type": "stream",
     "text": [
      "Embedding audio files:   7%|▊           | 7002/106574 [12:49<2:35:13, 10.69it/s]"
     ]
    },
    {
     "name": "stdout",
     "output_type": "stream",
     "text": [
      "✅ Saved checkpoint at 7000 tracks\n"
     ]
    },
    {
     "name": "stderr",
     "output_type": "stream",
     "text": [
      "Embedding audio files:   8%|▉           | 8002/106574 [14:28<2:31:29, 10.84it/s]"
     ]
    },
    {
     "name": "stdout",
     "output_type": "stream",
     "text": [
      "✅ Saved checkpoint at 8000 tracks\n"
     ]
    },
    {
     "name": "stderr",
     "output_type": "stream",
     "text": [
      "Embedding audio files:   8%|▉           | 8044/106574 [14:33<2:16:18, 12.05it/s]"
     ]
    },
    {
     "name": "stdout",
     "output_type": "stream",
     "text": [
      "❌ ERROR: /home/ivan/PycharmProjects/MPr/audio_samples/fma_large/fma_large/090/090445.mp3 — Failed to open the input \"/home/ivan/PycharmProjects/MPr/audio_samples/fma_large/fma_large/090/090445.mp3\" (Invalid argument).\n"
     ]
    },
    {
     "name": "stderr",
     "output_type": "stream",
     "text": [
      "Embedding audio files:   8%|▉           | 8066/106574 [14:35<2:17:34, 11.93it/s]"
     ]
    },
    {
     "name": "stdout",
     "output_type": "stream",
     "text": [
      "❌ ERROR: /home/ivan/PycharmProjects/MPr/audio_samples/fma_large/fma_large/090/090244.mp3 — Failed to open the input \"/home/ivan/PycharmProjects/MPr/audio_samples/fma_large/fma_large/090/090244.mp3\" (Invalid argument).\n"
     ]
    },
    {
     "name": "stderr",
     "output_type": "stream",
     "text": [
      "Embedding audio files:   8%|▉           | 8101/106574 [14:38<2:17:43, 11.92it/s]"
     ]
    },
    {
     "name": "stdout",
     "output_type": "stream",
     "text": [
      "❌ ERROR: /home/ivan/PycharmProjects/MPr/audio_samples/fma_large/fma_large/090/090253.mp3 — Failed to open the input \"/home/ivan/PycharmProjects/MPr/audio_samples/fma_large/fma_large/090/090253.mp3\" (Invalid argument).\n"
     ]
    },
    {
     "name": "stderr",
     "output_type": "stream",
     "text": [
      "Embedding audio files:   8%|▉           | 8137/106574 [14:42<2:23:56, 11.40it/s]"
     ]
    },
    {
     "name": "stdout",
     "output_type": "stream",
     "text": [
      "❌ ERROR: /home/ivan/PycharmProjects/MPr/audio_samples/fma_large/fma_large/090/090247.mp3 — Failed to open the input \"/home/ivan/PycharmProjects/MPr/audio_samples/fma_large/fma_large/090/090247.mp3\" (Invalid argument).\n"
     ]
    },
    {
     "name": "stderr",
     "output_type": "stream",
     "text": [
      "Embedding audio files:   8%|▉           | 8290/106574 [14:57<2:19:23, 11.75it/s]"
     ]
    },
    {
     "name": "stdout",
     "output_type": "stream",
     "text": [
      "❌ ERROR: /home/ivan/PycharmProjects/MPr/audio_samples/fma_large/fma_large/090/090248.mp3 — Failed to open the input \"/home/ivan/PycharmProjects/MPr/audio_samples/fma_large/fma_large/090/090248.mp3\" (Invalid argument).\n"
     ]
    },
    {
     "name": "stderr",
     "output_type": "stream",
     "text": [
      "Embedding audio files:   8%|▉           | 8342/106574 [15:02<2:18:58, 11.78it/s]"
     ]
    },
    {
     "name": "stdout",
     "output_type": "stream",
     "text": [
      "❌ ERROR: /home/ivan/PycharmProjects/MPr/audio_samples/fma_large/fma_large/090/090245.mp3 — Failed to open the input \"/home/ivan/PycharmProjects/MPr/audio_samples/fma_large/fma_large/090/090245.mp3\" (Invalid argument).\n"
     ]
    },
    {
     "name": "stderr",
     "output_type": "stream",
     "text": [
      "Embedding audio files:   8%|▉           | 8360/106574 [15:04<2:22:51, 11.46it/s]"
     ]
    },
    {
     "name": "stdout",
     "output_type": "stream",
     "text": [
      "❌ ERROR: /home/ivan/PycharmProjects/MPr/audio_samples/fma_large/fma_large/090/090442.mp3 — Failed to open the input \"/home/ivan/PycharmProjects/MPr/audio_samples/fma_large/fma_large/090/090442.mp3\" (Invalid argument).\n"
     ]
    },
    {
     "name": "stderr",
     "output_type": "stream",
     "text": [
      "Embedding audio files:   8%|▉           | 8443/106574 [15:12<2:25:02, 11.28it/s]"
     ]
    },
    {
     "name": "stdout",
     "output_type": "stream",
     "text": [
      "❌ ERROR: /home/ivan/PycharmProjects/MPr/audio_samples/fma_large/fma_large/090/090252.mp3 — Failed to open the input \"/home/ivan/PycharmProjects/MPr/audio_samples/fma_large/fma_large/090/090252.mp3\" (Invalid argument).\n"
     ]
    },
    {
     "name": "stderr",
     "output_type": "stream",
     "text": [
      "Embedding audio files:   8%|▉           | 8483/106574 [15:16<2:23:21, 11.40it/s]"
     ]
    },
    {
     "name": "stdout",
     "output_type": "stream",
     "text": [
      "❌ ERROR: /home/ivan/PycharmProjects/MPr/audio_samples/fma_large/fma_large/090/090250.mp3 — Failed to open the input \"/home/ivan/PycharmProjects/MPr/audio_samples/fma_large/fma_large/090/090250.mp3\" (Invalid argument).\n"
     ]
    },
    {
     "name": "stderr",
     "output_type": "stream",
     "text": [
      "Embedding audio files:   8%|█           | 8948/106574 [16:02<2:21:20, 11.51it/s]"
     ]
    },
    {
     "name": "stdout",
     "output_type": "stream",
     "text": [
      "❌ ERROR: /home/ivan/PycharmProjects/MPr/audio_samples/fma_large/fma_large/101/101265.mp3 — Failed to open the input \"/home/ivan/PycharmProjects/MPr/audio_samples/fma_large/fma_large/101/101265.mp3\" (Invalid argument).\n"
     ]
    },
    {
     "name": "stderr",
     "output_type": "stream",
     "text": [
      "Embedding audio files:   8%|█           | 9001/106574 [16:07<2:43:01,  9.98it/s]"
     ]
    },
    {
     "name": "stdout",
     "output_type": "stream",
     "text": [
      "✅ Saved checkpoint at 9000 tracks\n"
     ]
    },
    {
     "name": "stderr",
     "output_type": "stream",
     "text": [
      "Embedding audio files:   8%|█           | 9007/106574 [16:08<2:13:27, 12.18it/s]"
     ]
    },
    {
     "name": "stdout",
     "output_type": "stream",
     "text": [
      "❌ ERROR: /home/ivan/PycharmProjects/MPr/audio_samples/fma_large/fma_large/101/101272.mp3 — Failed to open the input \"/home/ivan/PycharmProjects/MPr/audio_samples/fma_large/fma_large/101/101272.mp3\" (Invalid argument).\n"
     ]
    },
    {
     "name": "stderr",
     "output_type": "stream",
     "text": [
      "Embedding audio files:   8%|█           | 9022/106574 [16:09<2:18:04, 11.78it/s]"
     ]
    },
    {
     "name": "stdout",
     "output_type": "stream",
     "text": [
      "❌ ERROR: /home/ivan/PycharmProjects/MPr/audio_samples/fma_large/fma_large/101/101275.mp3 — Failed to open the input \"/home/ivan/PycharmProjects/MPr/audio_samples/fma_large/fma_large/101/101275.mp3\" (Invalid argument).\n"
     ]
    },
    {
     "name": "stderr",
     "output_type": "stream",
     "text": [
      "Embedding audio files:   9%|█           | 9504/106574 [16:57<2:15:44, 11.92it/s]"
     ]
    },
    {
     "name": "stdout",
     "output_type": "stream",
     "text": [
      "❌ ERROR: /home/ivan/PycharmProjects/MPr/audio_samples/fma_large/fma_large/099/099134.mp3 — Failed to open the input \"/home/ivan/PycharmProjects/MPr/audio_samples/fma_large/fma_large/099/099134.mp3\" (Invalid argument).\n"
     ]
    },
    {
     "name": "stderr",
     "output_type": "stream",
     "text": [
      "Embedding audio files:   9%|█           | 9821/106574 [17:28<2:11:50, 12.23it/s]"
     ]
    },
    {
     "name": "stdout",
     "output_type": "stream",
     "text": [
      "❌ ERROR: /home/ivan/PycharmProjects/MPr/audio_samples/fma_large/fma_large/008/008669.mp3 — Failed to open the input \"/home/ivan/PycharmProjects/MPr/audio_samples/fma_large/fma_large/008/008669.mp3\" (Invalid argument).\n"
     ]
    },
    {
     "name": "stderr",
     "output_type": "stream",
     "text": [
      "Embedding audio files:   9%|█          | 10002/106574 [17:46<2:34:36, 10.41it/s]"
     ]
    },
    {
     "name": "stdout",
     "output_type": "stream",
     "text": [
      "✅ Saved checkpoint at 10000 tracks\n"
     ]
    },
    {
     "name": "stderr",
     "output_type": "stream",
     "text": [
      "Embedding audio files:  10%|█          | 10254/106574 [18:12<2:07:42, 12.57it/s]"
     ]
    },
    {
     "name": "stdout",
     "output_type": "stream",
     "text": [
      "❌ ERROR: /home/ivan/PycharmProjects/MPr/audio_samples/fma_large/fma_large/022/022554.mp3 — Failed to open the input \"/home/ivan/PycharmProjects/MPr/audio_samples/fma_large/fma_large/022/022554.mp3\" (Invalid argument).\n"
     ]
    },
    {
     "name": "stderr",
     "output_type": "stream",
     "text": [
      "Embedding audio files:  10%|█          | 10863/106574 [19:10<2:10:37, 12.21it/s]"
     ]
    },
    {
     "name": "stdout",
     "output_type": "stream",
     "text": [
      "❌ ERROR: /home/ivan/PycharmProjects/MPr/audio_samples/fma_large/fma_large/025/025175.mp3 — Failed to open the input \"/home/ivan/PycharmProjects/MPr/audio_samples/fma_large/fma_large/025/025175.mp3\" (Invalid argument).\n"
     ]
    },
    {
     "name": "stderr",
     "output_type": "stream",
     "text": [
      "Embedding audio files:  10%|█▏         | 10987/106574 [19:22<2:10:47, 12.18it/s]"
     ]
    },
    {
     "name": "stdout",
     "output_type": "stream",
     "text": [
      "❌ ERROR: /home/ivan/PycharmProjects/MPr/audio_samples/fma_large/fma_large/025/025180.mp3 — Failed to open the input \"/home/ivan/PycharmProjects/MPr/audio_samples/fma_large/fma_large/025/025180.mp3\" (Invalid argument).\n"
     ]
    },
    {
     "name": "stderr",
     "output_type": "stream",
     "text": [
      "Embedding audio files:  10%|█▏         | 11001/106574 [19:23<2:30:36, 10.58it/s]"
     ]
    },
    {
     "name": "stdout",
     "output_type": "stream",
     "text": [
      "✅ Saved checkpoint at 11000 tracks\n"
     ]
    },
    {
     "name": "stderr",
     "output_type": "stream",
     "text": [
      "Embedding audio files:  10%|█▏         | 11008/106574 [19:24<2:10:09, 12.24it/s]"
     ]
    },
    {
     "name": "stdout",
     "output_type": "stream",
     "text": [
      "❌ ERROR: /home/ivan/PycharmProjects/MPr/audio_samples/fma_large/fma_large/025/025176.mp3 — Failed to open the input \"/home/ivan/PycharmProjects/MPr/audio_samples/fma_large/fma_large/025/025176.mp3\" (Invalid argument).\n"
     ]
    },
    {
     "name": "stderr",
     "output_type": "stream",
     "text": [
      "Embedding audio files:  10%|█▏         | 11186/106574 [19:42<2:12:50, 11.97it/s]"
     ]
    },
    {
     "name": "stdout",
     "output_type": "stream",
     "text": [
      "❌ ERROR: /home/ivan/PycharmProjects/MPr/audio_samples/fma_large/fma_large/025/025173.mp3 — Failed to open the input \"/home/ivan/PycharmProjects/MPr/audio_samples/fma_large/fma_large/025/025173.mp3\" (Invalid argument).\n"
     ]
    },
    {
     "name": "stderr",
     "output_type": "stream",
     "text": [
      "Embedding audio files:  11%|█▏         | 11209/106574 [19:44<2:11:53, 12.05it/s]"
     ]
    },
    {
     "name": "stdout",
     "output_type": "stream",
     "text": [
      "❌ ERROR: /home/ivan/PycharmProjects/MPr/audio_samples/fma_large/fma_large/025/025174.mp3 — Failed to open the input \"/home/ivan/PycharmProjects/MPr/audio_samples/fma_large/fma_large/025/025174.mp3\" (Invalid argument).\n"
     ]
    },
    {
     "name": "stderr",
     "output_type": "stream",
     "text": [
      "Embedding audio files:  11%|█▏         | 12001/106574 [21:02<2:35:28, 10.14it/s]"
     ]
    },
    {
     "name": "stdout",
     "output_type": "stream",
     "text": [
      "✅ Saved checkpoint at 12000 tracks\n"
     ]
    },
    {
     "name": "stderr",
     "output_type": "stream",
     "text": [
      "Embedding audio files:  11%|█▎         | 12136/106574 [21:16<3:19:00,  7.91it/s]"
     ]
    },
    {
     "name": "stdout",
     "output_type": "stream",
     "text": [
      "❌ ERROR: /home/ivan/PycharmProjects/MPr/audio_samples/fma_large/fma_large/133/133641.mp3 — Failed to open the input \"/home/ivan/PycharmProjects/MPr/audio_samples/fma_large/fma_large/133/133641.mp3\" (Invalid argument).\n"
     ]
    },
    {
     "name": "stderr",
     "output_type": "stream",
     "text": [
      "Embedding audio files:  11%|█▎         | 12207/106574 [21:23<2:12:03, 11.91it/s]"
     ]
    },
    {
     "name": "stdout",
     "output_type": "stream",
     "text": [
      "❌ ERROR: /home/ivan/PycharmProjects/MPr/audio_samples/fma_large/fma_large/133/133297.mp3 — Failed to open the input \"/home/ivan/PycharmProjects/MPr/audio_samples/fma_large/fma_large/133/133297.mp3\" (Invalid argument).\n"
     ]
    },
    {
     "name": "stderr",
     "output_type": "stream",
     "text": [
      "Embedding audio files:  12%|█▎         | 12473/106574 [21:49<2:11:11, 11.95it/s]"
     ]
    },
    {
     "name": "stdout",
     "output_type": "stream",
     "text": [
      "❌ ERROR: /home/ivan/PycharmProjects/MPr/audio_samples/fma_large/fma_large/133/133647.mp3 — Failed to open the input \"/home/ivan/PycharmProjects/MPr/audio_samples/fma_large/fma_large/133/133647.mp3\" (Invalid argument).\n"
     ]
    },
    {
     "name": "stderr",
     "output_type": "stream",
     "text": [
      "Embedding audio files:  12%|█▎         | 12970/106574 [22:38<2:15:59, 11.47it/s]"
     ]
    },
    {
     "name": "stdout",
     "output_type": "stream",
     "text": [
      "❌ ERROR: /home/ivan/PycharmProjects/MPr/audio_samples/fma_large/fma_large/096/096207.mp3 — Failed to open the input \"/home/ivan/PycharmProjects/MPr/audio_samples/fma_large/fma_large/096/096207.mp3\" (Invalid argument).\n"
     ]
    },
    {
     "name": "stderr",
     "output_type": "stream",
     "text": [
      "Embedding audio files:  12%|█▎         | 13002/106574 [22:41<2:31:36, 10.29it/s]"
     ]
    },
    {
     "name": "stdout",
     "output_type": "stream",
     "text": [
      "✅ Saved checkpoint at 13000 tracks\n"
     ]
    },
    {
     "name": "stderr",
     "output_type": "stream",
     "text": [
      "Embedding audio files:  12%|█▎         | 13160/106574 [22:57<2:10:51, 11.90it/s]"
     ]
    },
    {
     "name": "stdout",
     "output_type": "stream",
     "text": [
      "❌ ERROR: /home/ivan/PycharmProjects/MPr/audio_samples/fma_large/fma_large/096/096203.mp3 — Failed to open the input \"/home/ivan/PycharmProjects/MPr/audio_samples/fma_large/fma_large/096/096203.mp3\" (Invalid argument).\n"
     ]
    },
    {
     "name": "stderr",
     "output_type": "stream",
     "text": [
      "Embedding audio files:  12%|█▎         | 13294/106574 [23:10<2:10:29, 11.91it/s]"
     ]
    },
    {
     "name": "stdout",
     "output_type": "stream",
     "text": [
      "❌ ERROR: /home/ivan/PycharmProjects/MPr/audio_samples/fma_large/fma_large/096/096210.mp3 — Failed to open the input \"/home/ivan/PycharmProjects/MPr/audio_samples/fma_large/fma_large/096/096210.mp3\" (Invalid argument).\n"
     ]
    },
    {
     "name": "stderr",
     "output_type": "stream",
     "text": [
      "Embedding audio files:  13%|█▍         | 13602/106574 [23:40<2:10:44, 11.85it/s]"
     ]
    },
    {
     "name": "stdout",
     "output_type": "stream",
     "text": [
      "❌ ERROR: /home/ivan/PycharmProjects/MPr/audio_samples/fma_large/fma_large/003/003284.mp3 — Failed to open the input \"/home/ivan/PycharmProjects/MPr/audio_samples/fma_large/fma_large/003/003284.mp3\" (Invalid argument).\n"
     ]
    },
    {
     "name": "stderr",
     "output_type": "stream",
     "text": [
      "Embedding audio files:  13%|█▍         | 14002/106574 [24:19<2:34:41,  9.97it/s]"
     ]
    },
    {
     "name": "stdout",
     "output_type": "stream",
     "text": [
      "✅ Saved checkpoint at 14000 tracks\n"
     ]
    },
    {
     "name": "stderr",
     "output_type": "stream",
     "text": [
      "Embedding audio files:  13%|█▍         | 14284/106574 [24:47<2:07:46, 12.04it/s]"
     ]
    },
    {
     "name": "stdout",
     "output_type": "stream",
     "text": [
      "❌ ERROR: /home/ivan/PycharmProjects/MPr/audio_samples/fma_large/fma_large/109/109266.mp3 — Failed to open the input \"/home/ivan/PycharmProjects/MPr/audio_samples/fma_large/fma_large/109/109266.mp3\" (Invalid argument).\n"
     ]
    },
    {
     "name": "stderr",
     "output_type": "stream",
     "text": [
      "Embedding audio files:  14%|█▌         | 15001/106574 [25:57<2:30:32, 10.14it/s]"
     ]
    },
    {
     "name": "stdout",
     "output_type": "stream",
     "text": [
      "✅ Saved checkpoint at 15000 tracks\n"
     ]
    },
    {
     "name": "stderr",
     "output_type": "stream",
     "text": [
      "Embedding audio files:  14%|█▌         | 15117/106574 [26:10<2:07:12, 11.98it/s]"
     ]
    },
    {
     "name": "stdout",
     "output_type": "stream",
     "text": [
      "❌ ERROR: /home/ivan/PycharmProjects/MPr/audio_samples/fma_large/fma_large/050/050782.mp3 — Failed to open the input \"/home/ivan/PycharmProjects/MPr/audio_samples/fma_large/fma_large/050/050782.mp3\" (Invalid argument).\n"
     ]
    },
    {
     "name": "stderr",
     "output_type": "stream",
     "text": [
      "Embedding audio files:  14%|█▌         | 15206/106574 [26:18<2:08:08, 11.88it/s]"
     ]
    },
    {
     "name": "stdout",
     "output_type": "stream",
     "text": [
      "❌ ERROR: /home/ivan/PycharmProjects/MPr/audio_samples/fma_large/fma_large/050/050594.mp3 — Failed to open the input \"/home/ivan/PycharmProjects/MPr/audio_samples/fma_large/fma_large/050/050594.mp3\" (Invalid argument).\n"
     ]
    },
    {
     "name": "stderr",
     "output_type": "stream",
     "text": [
      "Embedding audio files:  15%|█▋         | 16002/106574 [27:35<2:25:22, 10.38it/s]"
     ]
    },
    {
     "name": "stdout",
     "output_type": "stream",
     "text": [
      "✅ Saved checkpoint at 16000 tracks\n"
     ]
    },
    {
     "name": "stderr",
     "output_type": "stream",
     "text": [
      "Embedding audio files:  16%|█▊         | 17002/106574 [29:13<2:25:06, 10.29it/s]"
     ]
    },
    {
     "name": "stdout",
     "output_type": "stream",
     "text": [
      "✅ Saved checkpoint at 17000 tracks\n"
     ]
    },
    {
     "name": "stderr",
     "output_type": "stream",
     "text": [
      "Embedding audio files:  17%|█▊         | 18002/106574 [30:52<2:22:52, 10.33it/s]"
     ]
    },
    {
     "name": "stdout",
     "output_type": "stream",
     "text": [
      "✅ Saved checkpoint at 18000 tracks\n"
     ]
    },
    {
     "name": "stderr",
     "output_type": "stream",
     "text": [
      "Embedding audio files:  18%|█▉         | 19002/106574 [32:31<2:26:55,  9.93it/s]"
     ]
    },
    {
     "name": "stdout",
     "output_type": "stream",
     "text": [
      "✅ Saved checkpoint at 19000 tracks\n"
     ]
    },
    {
     "name": "stderr",
     "output_type": "stream",
     "text": [
      "Embedding audio files:  19%|██         | 20001/106574 [34:18<3:32:53,  6.78it/s]"
     ]
    },
    {
     "name": "stdout",
     "output_type": "stream",
     "text": [
      "✅ Saved checkpoint at 20000 tracks\n"
     ]
    },
    {
     "name": "stderr",
     "output_type": "stream",
     "text": [
      "Embedding audio files:  20%|██▏        | 20808/106574 [35:57<2:07:34, 11.20it/s]"
     ]
    },
    {
     "name": "stdout",
     "output_type": "stream",
     "text": [
      "❌ ERROR: /home/ivan/PycharmProjects/MPr/audio_samples/fma_large/fma_large/140/140472.mp3 — Failed to open the input \"/home/ivan/PycharmProjects/MPr/audio_samples/fma_large/fma_large/140/140472.mp3\" (Invalid argument).\n"
     ]
    },
    {
     "name": "stderr",
     "output_type": "stream",
     "text": [
      "Embedding audio files:  20%|██▏        | 20850/106574 [36:03<2:32:15,  9.38it/s]"
     ]
    },
    {
     "name": "stdout",
     "output_type": "stream",
     "text": [
      "❌ ERROR: /home/ivan/PycharmProjects/MPr/audio_samples/fma_large/fma_large/140/140453.mp3 — Failed to open the input \"/home/ivan/PycharmProjects/MPr/audio_samples/fma_large/fma_large/140/140453.mp3\" (Invalid argument).\n"
     ]
    },
    {
     "name": "stderr",
     "output_type": "stream",
     "text": [
      "Embedding audio files:  20%|██▏        | 20881/106574 [36:06<2:10:54, 10.91it/s]"
     ]
    },
    {
     "name": "stdout",
     "output_type": "stream",
     "text": [
      "❌ ERROR: /home/ivan/PycharmProjects/MPr/audio_samples/fma_large/fma_large/140/140462.mp3 — Failed to open the input \"/home/ivan/PycharmProjects/MPr/audio_samples/fma_large/fma_large/140/140462.mp3\" (Invalid argument).\n"
     ]
    },
    {
     "name": "stderr",
     "output_type": "stream",
     "text": [
      "Embedding audio files:  20%|██▏        | 20899/106574 [36:08<2:15:58, 10.50it/s]"
     ]
    },
    {
     "name": "stdout",
     "output_type": "stream",
     "text": [
      "❌ ERROR: /home/ivan/PycharmProjects/MPr/audio_samples/fma_large/fma_large/140/140451.mp3 — Failed to open the input \"/home/ivan/PycharmProjects/MPr/audio_samples/fma_large/fma_large/140/140451.mp3\" (Invalid argument).\n"
     ]
    },
    {
     "name": "stderr",
     "output_type": "stream",
     "text": [
      "Embedding audio files:  20%|██▏        | 20913/106574 [36:10<2:17:56, 10.35it/s]"
     ]
    },
    {
     "name": "stdout",
     "output_type": "stream",
     "text": [
      "❌ ERROR: /home/ivan/PycharmProjects/MPr/audio_samples/fma_large/fma_large/140/140452.mp3 — Failed to open the input \"/home/ivan/PycharmProjects/MPr/audio_samples/fma_large/fma_large/140/140452.mp3\" (Invalid argument).\n"
     ]
    },
    {
     "name": "stderr",
     "output_type": "stream",
     "text": [
      "Embedding audio files:  20%|██▏        | 20945/106574 [36:14<2:08:00, 11.15it/s]"
     ]
    },
    {
     "name": "stdout",
     "output_type": "stream",
     "text": [
      "❌ ERROR: /home/ivan/PycharmProjects/MPr/audio_samples/fma_large/fma_large/140/140456.mp3 — Failed to open the input \"/home/ivan/PycharmProjects/MPr/audio_samples/fma_large/fma_large/140/140456.mp3\" (Invalid argument).\n"
     ]
    },
    {
     "name": "stderr",
     "output_type": "stream",
     "text": [
      "Embedding audio files:  20%|██▏        | 20954/106574 [36:15<2:11:59, 10.81it/s]"
     ]
    },
    {
     "name": "stdout",
     "output_type": "stream",
     "text": [
      "❌ ERROR: /home/ivan/PycharmProjects/MPr/audio_samples/fma_large/fma_large/140/140455.mp3 — Failed to open the input \"/home/ivan/PycharmProjects/MPr/audio_samples/fma_large/fma_large/140/140455.mp3\" (Invalid argument).\n"
     ]
    },
    {
     "name": "stderr",
     "output_type": "stream",
     "text": [
      "Embedding audio files:  20%|██▏        | 21001/106574 [36:20<2:47:17,  8.53it/s]"
     ]
    },
    {
     "name": "stdout",
     "output_type": "stream",
     "text": [
      "✅ Saved checkpoint at 21000 tracks\n"
     ]
    },
    {
     "name": "stderr",
     "output_type": "stream",
     "text": [
      "Embedding audio files:  20%|██▏        | 21006/106574 [36:21<2:08:29, 11.10it/s]"
     ]
    },
    {
     "name": "stdout",
     "output_type": "stream",
     "text": [
      "❌ ERROR: /home/ivan/PycharmProjects/MPr/audio_samples/fma_large/fma_large/140/140459.mp3 — Failed to open the input \"/home/ivan/PycharmProjects/MPr/audio_samples/fma_large/fma_large/140/140459.mp3\" (Invalid argument).\n"
     ]
    },
    {
     "name": "stderr",
     "output_type": "stream",
     "text": [
      "Embedding audio files:  20%|██▏        | 21010/106574 [36:21<1:57:58, 12.09it/s]"
     ]
    },
    {
     "name": "stdout",
     "output_type": "stream",
     "text": [
      "❌ ERROR: /home/ivan/PycharmProjects/MPr/audio_samples/fma_large/fma_large/140/140468.mp3 — Failed to open the input \"/home/ivan/PycharmProjects/MPr/audio_samples/fma_large/fma_large/140/140468.mp3\" (Invalid argument).\n"
     ]
    },
    {
     "name": "stderr",
     "output_type": "stream",
     "text": [
      "Embedding audio files:  20%|██▏        | 21069/106574 [36:29<5:24:03,  4.40it/s]"
     ]
    },
    {
     "name": "stdout",
     "output_type": "stream",
     "text": [
      "❌ ERROR: /home/ivan/PycharmProjects/MPr/audio_samples/fma_large/fma_large/140/140449.mp3 — Failed to open the input \"/home/ivan/PycharmProjects/MPr/audio_samples/fma_large/fma_large/140/140449.mp3\" (Invalid argument).\n"
     ]
    },
    {
     "name": "stderr",
     "output_type": "stream",
     "text": [
      "Embedding audio files:  20%|██▏        | 21090/106574 [36:32<1:51:09, 12.82it/s]"
     ]
    },
    {
     "name": "stdout",
     "output_type": "stream",
     "text": [
      "❌ ERROR: /home/ivan/PycharmProjects/MPr/audio_samples/fma_large/fma_large/140/140465.mp3 — Failed to open the input \"/home/ivan/PycharmProjects/MPr/audio_samples/fma_large/fma_large/140/140465.mp3\" (Invalid argument).\n",
      "❌ ERROR: /home/ivan/PycharmProjects/MPr/audio_samples/fma_large/fma_large/140/140466.mp3 — Failed to open the input \"/home/ivan/PycharmProjects/MPr/audio_samples/fma_large/fma_large/140/140466.mp3\" (Invalid argument).\n"
     ]
    },
    {
     "name": "stderr",
     "output_type": "stream",
     "text": [
      "Embedding audio files:  20%|██▏        | 21117/106574 [36:35<2:12:39, 10.74it/s]"
     ]
    },
    {
     "name": "stdout",
     "output_type": "stream",
     "text": [
      "❌ ERROR: /home/ivan/PycharmProjects/MPr/audio_samples/fma_large/fma_large/140/140461.mp3 — Failed to open the input \"/home/ivan/PycharmProjects/MPr/audio_samples/fma_large/fma_large/140/140461.mp3\" (Invalid argument).\n"
     ]
    },
    {
     "name": "stderr",
     "output_type": "stream",
     "text": [
      "Embedding audio files:  20%|██▏        | 21188/106574 [36:43<2:11:41, 10.81it/s]"
     ]
    },
    {
     "name": "stdout",
     "output_type": "stream",
     "text": [
      "❌ ERROR: /home/ivan/PycharmProjects/MPr/audio_samples/fma_large/fma_large/140/140464.mp3 — Failed to open the input \"/home/ivan/PycharmProjects/MPr/audio_samples/fma_large/fma_large/140/140464.mp3\" (Invalid argument).\n"
     ]
    },
    {
     "name": "stderr",
     "output_type": "stream",
     "text": [
      "Embedding audio files:  20%|██▏        | 21218/106574 [36:47<2:07:46, 11.13it/s]"
     ]
    },
    {
     "name": "stdout",
     "output_type": "stream",
     "text": [
      "❌ ERROR: /home/ivan/PycharmProjects/MPr/audio_samples/fma_large/fma_large/140/140450.mp3 — Failed to open the input \"/home/ivan/PycharmProjects/MPr/audio_samples/fma_large/fma_large/140/140450.mp3\" (Invalid argument).\n"
     ]
    },
    {
     "name": "stderr",
     "output_type": "stream",
     "text": [
      "Embedding audio files:  20%|██▏        | 21231/106574 [36:48<2:20:45, 10.11it/s]"
     ]
    },
    {
     "name": "stdout",
     "output_type": "stream",
     "text": [
      "❌ ERROR: /home/ivan/PycharmProjects/MPr/audio_samples/fma_large/fma_large/140/140454.mp3 — Failed to open the input \"/home/ivan/PycharmProjects/MPr/audio_samples/fma_large/fma_large/140/140454.mp3\" (Invalid argument).\n"
     ]
    },
    {
     "name": "stderr",
     "output_type": "stream",
     "text": [
      "Embedding audio files:  20%|██▏        | 21245/106574 [36:50<2:14:34, 10.57it/s]"
     ]
    },
    {
     "name": "stdout",
     "output_type": "stream",
     "text": [
      "❌ ERROR: /home/ivan/PycharmProjects/MPr/audio_samples/fma_large/fma_large/140/140469.mp3 — Failed to open the input \"/home/ivan/PycharmProjects/MPr/audio_samples/fma_large/fma_large/140/140469.mp3\" (Invalid argument).\n"
     ]
    },
    {
     "name": "stderr",
     "output_type": "stream",
     "text": [
      "Embedding audio files:  20%|██▏        | 21262/106574 [36:52<2:17:55, 10.31it/s]"
     ]
    },
    {
     "name": "stdout",
     "output_type": "stream",
     "text": [
      "❌ ERROR: /home/ivan/PycharmProjects/MPr/audio_samples/fma_large/fma_large/140/140471.mp3 — Failed to open the input \"/home/ivan/PycharmProjects/MPr/audio_samples/fma_large/fma_large/140/140471.mp3\" (Invalid argument).\n"
     ]
    },
    {
     "name": "stderr",
     "output_type": "stream",
     "text": [
      "Embedding audio files:  20%|██▏        | 21273/106574 [36:53<1:53:59, 12.47it/s]"
     ]
    },
    {
     "name": "stdout",
     "output_type": "stream",
     "text": [
      "❌ ERROR: /home/ivan/PycharmProjects/MPr/audio_samples/fma_large/fma_large/140/140457.mp3 — Failed to open the input \"/home/ivan/PycharmProjects/MPr/audio_samples/fma_large/fma_large/140/140457.mp3\" (Invalid argument).\n",
      "❌ ERROR: /home/ivan/PycharmProjects/MPr/audio_samples/fma_large/fma_large/140/140463.mp3 — Failed to open the input \"/home/ivan/PycharmProjects/MPr/audio_samples/fma_large/fma_large/140/140463.mp3\" (Invalid argument).\n"
     ]
    },
    {
     "name": "stderr",
     "output_type": "stream",
     "text": [
      "Embedding audio files:  20%|██▏        | 21369/106574 [37:04<2:09:44, 10.95it/s]"
     ]
    },
    {
     "name": "stdout",
     "output_type": "stream",
     "text": [
      "❌ ERROR: /home/ivan/PycharmProjects/MPr/audio_samples/fma_large/fma_large/140/140470.mp3 — Failed to open the input \"/home/ivan/PycharmProjects/MPr/audio_samples/fma_large/fma_large/140/140470.mp3\" (Invalid argument).\n"
     ]
    },
    {
     "name": "stderr",
     "output_type": "stream",
     "text": [
      "Embedding audio files:  20%|██▏        | 21375/106574 [37:05<2:11:43, 10.78it/s]"
     ]
    },
    {
     "name": "stdout",
     "output_type": "stream",
     "text": [
      "❌ ERROR: /home/ivan/PycharmProjects/MPr/audio_samples/fma_large/fma_large/140/140460.mp3 — Failed to open the input \"/home/ivan/PycharmProjects/MPr/audio_samples/fma_large/fma_large/140/140460.mp3\" (Invalid argument).\n"
     ]
    },
    {
     "name": "stderr",
     "output_type": "stream",
     "text": [
      "Embedding audio files:  20%|██▏        | 21391/106574 [37:06<2:12:30, 10.71it/s]"
     ]
    },
    {
     "name": "stdout",
     "output_type": "stream",
     "text": [
      "❌ ERROR: /home/ivan/PycharmProjects/MPr/audio_samples/fma_large/fma_large/140/140467.mp3 — Failed to open the input \"/home/ivan/PycharmProjects/MPr/audio_samples/fma_large/fma_large/140/140467.mp3\" (Invalid argument).\n"
     ]
    },
    {
     "name": "stderr",
     "output_type": "stream",
     "text": [
      "Embedding audio files:  20%|██▏        | 21411/106574 [37:09<2:09:08, 10.99it/s]"
     ]
    },
    {
     "name": "stdout",
     "output_type": "stream",
     "text": [
      "❌ ERROR: /home/ivan/PycharmProjects/MPr/audio_samples/fma_large/fma_large/140/140458.mp3 — Failed to open the input \"/home/ivan/PycharmProjects/MPr/audio_samples/fma_large/fma_large/140/140458.mp3\" (Invalid argument).\n"
     ]
    },
    {
     "name": "stderr",
     "output_type": "stream",
     "text": [
      "Embedding audio files:  20%|██▏        | 21731/106574 [37:51<2:51:03,  8.27it/s]"
     ]
    },
    {
     "name": "stdout",
     "output_type": "stream",
     "text": [
      "❌ ERROR: /home/ivan/PycharmProjects/MPr/audio_samples/fma_large/fma_large/142/142614.mp3 — Failed to open the input \"/home/ivan/PycharmProjects/MPr/audio_samples/fma_large/fma_large/142/142614.mp3\" (Invalid argument).\n"
     ]
    },
    {
     "name": "stderr",
     "output_type": "stream",
     "text": [
      "Embedding audio files:  21%|██▎        | 22001/106574 [38:32<3:38:26,  6.45it/s]"
     ]
    },
    {
     "name": "stdout",
     "output_type": "stream",
     "text": [
      "✅ Saved checkpoint at 22000 tracks\n"
     ]
    },
    {
     "name": "stderr",
     "output_type": "stream",
     "text": [
      "Embedding audio files:  21%|██▎        | 22430/106574 [39:25<2:10:58, 10.71it/s]"
     ]
    },
    {
     "name": "stdout",
     "output_type": "stream",
     "text": [
      "❌ ERROR: /home/ivan/PycharmProjects/MPr/audio_samples/fma_large/fma_large/108/108920.mp3 — Failed to open the input \"/home/ivan/PycharmProjects/MPr/audio_samples/fma_large/fma_large/108/108920.mp3\" (Invalid argument).\n"
     ]
    },
    {
     "name": "stderr",
     "output_type": "stream",
     "text": [
      "Embedding audio files:  21%|██▎        | 22832/106574 [40:14<2:03:47, 11.28it/s]"
     ]
    },
    {
     "name": "stdout",
     "output_type": "stream",
     "text": [
      "❌ ERROR: /home/ivan/PycharmProjects/MPr/audio_samples/fma_large/fma_large/108/108925.mp3 — Failed to open the input \"/home/ivan/PycharmProjects/MPr/audio_samples/fma_large/fma_large/108/108925.mp3\" (Invalid argument).\n"
     ]
    },
    {
     "name": "stderr",
     "output_type": "stream",
     "text": [
      "Embedding audio files:  22%|██▎        | 23001/106574 [40:35<2:44:44,  8.45it/s]"
     ]
    },
    {
     "name": "stdout",
     "output_type": "stream",
     "text": [
      "✅ Saved checkpoint at 23000 tracks\n"
     ]
    },
    {
     "name": "stderr",
     "output_type": "stream",
     "text": [
      "Embedding audio files:  22%|██▍        | 23104/106574 [40:48<1:59:50, 11.61it/s]"
     ]
    },
    {
     "name": "stdout",
     "output_type": "stream",
     "text": [
      "❌ ERROR: /home/ivan/PycharmProjects/MPr/audio_samples/fma_large/fma_large/035/035725.mp3 — Failed to open the input \"/home/ivan/PycharmProjects/MPr/audio_samples/fma_large/fma_large/035/035725.mp3\" (Invalid argument).\n"
     ]
    },
    {
     "name": "stderr",
     "output_type": "stream",
     "text": [
      "Embedding audio files:  23%|██▍        | 24001/106574 [42:36<2:47:20,  8.22it/s]"
     ]
    },
    {
     "name": "stdout",
     "output_type": "stream",
     "text": [
      "✅ Saved checkpoint at 24000 tracks\n"
     ]
    },
    {
     "name": "stderr",
     "output_type": "stream",
     "text": [
      "Embedding audio files:  23%|██▌        | 24819/106574 [44:15<2:06:13, 10.80it/s]"
     ]
    },
    {
     "name": "stdout",
     "output_type": "stream",
     "text": [
      "❌ ERROR: /home/ivan/PycharmProjects/MPr/audio_samples/fma_large/fma_large/105/105247.mp3 — Failed to open the input \"/home/ivan/PycharmProjects/MPr/audio_samples/fma_large/fma_large/105/105247.mp3\" (Invalid argument).\n"
     ]
    },
    {
     "name": "stderr",
     "output_type": "stream",
     "text": [
      "Embedding audio files:  23%|██▌        | 25001/106574 [44:37<2:35:48,  8.73it/s]"
     ]
    },
    {
     "name": "stdout",
     "output_type": "stream",
     "text": [
      "✅ Saved checkpoint at 25000 tracks\n"
     ]
    },
    {
     "name": "stderr",
     "output_type": "stream",
     "text": [
      "Embedding audio files:  24%|██▋        | 26001/106574 [46:38<2:36:45,  8.57it/s]"
     ]
    },
    {
     "name": "stdout",
     "output_type": "stream",
     "text": [
      "✅ Saved checkpoint at 26000 tracks\n"
     ]
    },
    {
     "name": "stderr",
     "output_type": "stream",
     "text": [
      "Embedding audio files:  25%|██▋        | 26373/106574 [47:25<2:01:28, 11.00it/s]"
     ]
    },
    {
     "name": "stdout",
     "output_type": "stream",
     "text": [
      "❌ ERROR: /home/ivan/PycharmProjects/MPr/audio_samples/fma_large/fma_large/041/041745.mp3 — Failed to open the input \"/home/ivan/PycharmProjects/MPr/audio_samples/fma_large/fma_large/041/041745.mp3\" (Invalid argument).\n"
     ]
    },
    {
     "name": "stderr",
     "output_type": "stream",
     "text": [
      "Embedding audio files:  25%|██▊        | 27001/106574 [48:39<2:44:20,  8.07it/s]"
     ]
    },
    {
     "name": "stdout",
     "output_type": "stream",
     "text": [
      "✅ Saved checkpoint at 27000 tracks\n"
     ]
    },
    {
     "name": "stderr",
     "output_type": "stream",
     "text": [
      "Embedding audio files:  26%|██▊        | 27467/106574 [49:36<1:54:53, 11.47it/s]"
     ]
    },
    {
     "name": "stdout",
     "output_type": "stream",
     "text": [
      "❌ ERROR: /home/ivan/PycharmProjects/MPr/audio_samples/fma_large/fma_large/011/011583.mp3 — Failed to open the input \"/home/ivan/PycharmProjects/MPr/audio_samples/fma_large/fma_large/011/011583.mp3\" (Invalid argument).\n"
     ]
    },
    {
     "name": "stderr",
     "output_type": "stream",
     "text": [
      "Embedding audio files:  26%|██▉        | 28001/106574 [50:39<2:35:04,  8.44it/s]"
     ]
    },
    {
     "name": "stdout",
     "output_type": "stream",
     "text": [
      "✅ Saved checkpoint at 28000 tracks\n"
     ]
    },
    {
     "name": "stderr",
     "output_type": "stream",
     "text": [
      "Embedding audio files:  27%|██▉        | 28252/106574 [51:09<2:10:58,  9.97it/s]"
     ]
    },
    {
     "name": "stdout",
     "output_type": "stream",
     "text": [
      "❌ ERROR: /home/ivan/PycharmProjects/MPr/audio_samples/fma_large/fma_large/106/106412.mp3 — Failed to open the input \"/home/ivan/PycharmProjects/MPr/audio_samples/fma_large/fma_large/106/106412.mp3\" (Invalid argument).\n"
     ]
    },
    {
     "name": "stderr",
     "output_type": "stream",
     "text": [
      "Embedding audio files:  27%|██▉        | 28436/106574 [51:31<1:55:23, 11.29it/s]"
     ]
    },
    {
     "name": "stdout",
     "output_type": "stream",
     "text": [
      "❌ ERROR: /home/ivan/PycharmProjects/MPr/audio_samples/fma_large/fma_large/106/106415.mp3 — Failed to open the input \"/home/ivan/PycharmProjects/MPr/audio_samples/fma_large/fma_large/106/106415.mp3\" (Invalid argument).\n"
     ]
    },
    {
     "name": "stderr",
     "output_type": "stream",
     "text": [
      "Embedding audio files:  27%|██▉        | 28466/106574 [51:35<1:58:25, 10.99it/s]"
     ]
    },
    {
     "name": "stdout",
     "output_type": "stream",
     "text": [
      "❌ ERROR: /home/ivan/PycharmProjects/MPr/audio_samples/fma_large/fma_large/106/106628.mp3 — Failed to open the input \"/home/ivan/PycharmProjects/MPr/audio_samples/fma_large/fma_large/106/106628.mp3\" (Invalid argument).\n"
     ]
    },
    {
     "name": "stderr",
     "output_type": "stream",
     "text": [
      "Embedding audio files:  27%|██▉        | 28512/106574 [51:40<2:00:33, 10.79it/s]"
     ]
    },
    {
     "name": "stdout",
     "output_type": "stream",
     "text": [
      "❌ ERROR: /home/ivan/PycharmProjects/MPr/audio_samples/fma_large/fma_large/106/106409.mp3 — Failed to open the input \"/home/ivan/PycharmProjects/MPr/audio_samples/fma_large/fma_large/106/106409.mp3\" (Invalid argument).\n"
     ]
    },
    {
     "name": "stderr",
     "output_type": "stream",
     "text": [
      "Embedding audio files:  27%|██▉        | 29001/106574 [52:39<2:35:03,  8.34it/s]"
     ]
    },
    {
     "name": "stdout",
     "output_type": "stream",
     "text": [
      "✅ Saved checkpoint at 29000 tracks\n"
     ]
    },
    {
     "name": "stderr",
     "output_type": "stream",
     "text": [
      "Embedding audio files:  28%|███        | 30001/106574 [54:40<2:22:08,  8.98it/s]"
     ]
    },
    {
     "name": "stdout",
     "output_type": "stream",
     "text": [
      "✅ Saved checkpoint at 30000 tracks\n"
     ]
    },
    {
     "name": "stderr",
     "output_type": "stream",
     "text": [
      "Embedding audio files:  28%|███        | 30160/106574 [54:59<2:11:00,  9.72it/s]"
     ]
    },
    {
     "name": "stdout",
     "output_type": "stream",
     "text": [
      "❌ ERROR: /home/ivan/PycharmProjects/MPr/audio_samples/fma_large/fma_large/039/039363.mp3 — Failed to open the input \"/home/ivan/PycharmProjects/MPr/audio_samples/fma_large/fma_large/039/039363.mp3\" (Invalid argument).\n"
     ]
    },
    {
     "name": "stderr",
     "output_type": "stream",
     "text": [
      "Embedding audio files:  29%|███▏       | 30659/106574 [56:00<1:52:21, 11.26it/s]"
     ]
    },
    {
     "name": "stdout",
     "output_type": "stream",
     "text": [
      "❌ ERROR: /home/ivan/PycharmProjects/MPr/audio_samples/fma_large/fma_large/098/098559.mp3 — Failed to open the input \"/home/ivan/PycharmProjects/MPr/audio_samples/fma_large/fma_large/098/098559.mp3\" (Invalid argument).\n"
     ]
    },
    {
     "name": "stderr",
     "output_type": "stream",
     "text": [
      "Embedding audio files:  29%|███▏       | 30706/106574 [56:06<1:54:01, 11.09it/s]"
     ]
    },
    {
     "name": "stdout",
     "output_type": "stream",
     "text": [
      "❌ ERROR: /home/ivan/PycharmProjects/MPr/audio_samples/fma_large/fma_large/098/098562.mp3 — Failed to open the input \"/home/ivan/PycharmProjects/MPr/audio_samples/fma_large/fma_large/098/098562.mp3\" (Invalid argument).\n"
     ]
    },
    {
     "name": "stderr",
     "output_type": "stream",
     "text": [
      "Embedding audio files:  29%|███▏       | 30872/106574 [56:26<1:44:45, 12.04it/s]"
     ]
    },
    {
     "name": "stdout",
     "output_type": "stream",
     "text": [
      "❌ ERROR: /home/ivan/PycharmProjects/MPr/audio_samples/fma_large/fma_large/098/098560.mp3 — Failed to open the input \"/home/ivan/PycharmProjects/MPr/audio_samples/fma_large/fma_large/098/098560.mp3\" (Invalid argument).\n"
     ]
    },
    {
     "name": "stderr",
     "output_type": "stream",
     "text": [
      "Embedding audio files:  29%|███▏       | 31001/106574 [56:40<2:21:55,  8.87it/s]"
     ]
    },
    {
     "name": "stdout",
     "output_type": "stream",
     "text": [
      "✅ Saved checkpoint at 31000 tracks\n"
     ]
    },
    {
     "name": "stderr",
     "output_type": "stream",
     "text": [
      "Embedding audio files:  29%|███▏       | 31106/106574 [56:53<1:48:33, 11.59it/s]"
     ]
    },
    {
     "name": "stdout",
     "output_type": "stream",
     "text": [
      "❌ ERROR: /home/ivan/PycharmProjects/MPr/audio_samples/fma_large/fma_large/098/098558.mp3 — Failed to open the input \"/home/ivan/PycharmProjects/MPr/audio_samples/fma_large/fma_large/098/098558.mp3\" (Invalid argument).\n"
     ]
    },
    {
     "name": "stderr",
     "output_type": "stream",
     "text": [
      "Embedding audio files:  29%|███▏       | 31180/106574 [57:01<1:44:49, 11.99it/s]"
     ]
    },
    {
     "name": "stdout",
     "output_type": "stream",
     "text": [
      "❌ ERROR: /home/ivan/PycharmProjects/MPr/audio_samples/fma_large/fma_large/098/098105.mp3 — Failed to open the input \"/home/ivan/PycharmProjects/MPr/audio_samples/fma_large/fma_large/098/098105.mp3\" (Invalid argument).\n"
     ]
    },
    {
     "name": "stderr",
     "output_type": "stream",
     "text": [
      "Embedding audio files:  29%|███▏       | 31264/106574 [57:10<1:45:35, 11.89it/s]"
     ]
    },
    {
     "name": "stdout",
     "output_type": "stream",
     "text": [
      "❌ ERROR: /home/ivan/PycharmProjects/MPr/audio_samples/fma_large/fma_large/098/098571.mp3 — Failed to open the input \"/home/ivan/PycharmProjects/MPr/audio_samples/fma_large/fma_large/098/098571.mp3\" (Invalid argument).\n"
     ]
    },
    {
     "name": "stderr",
     "output_type": "stream",
     "text": [
      "Embedding audio files:  29%|███▏       | 31359/106574 [57:20<1:51:30, 11.24it/s]"
     ]
    },
    {
     "name": "stdout",
     "output_type": "stream",
     "text": [
      "❌ ERROR: /home/ivan/PycharmProjects/MPr/audio_samples/fma_large/fma_large/144/144619.mp3 — Failed to open the input \"/home/ivan/PycharmProjects/MPr/audio_samples/fma_large/fma_large/144/144619.mp3\" (Invalid argument).\n"
     ]
    },
    {
     "name": "stderr",
     "output_type": "stream",
     "text": [
      "Embedding audio files:  30%|███▎       | 31693/106574 [57:58<1:56:48, 10.68it/s]"
     ]
    },
    {
     "name": "stdout",
     "output_type": "stream",
     "text": [
      "❌ ERROR: /home/ivan/PycharmProjects/MPr/audio_samples/fma_large/fma_large/144/144518.mp3 — Failed to open the input \"/home/ivan/PycharmProjects/MPr/audio_samples/fma_large/fma_large/144/144518.mp3\" (Invalid argument).\n"
     ]
    },
    {
     "name": "stderr",
     "output_type": "stream",
     "text": [
      "Embedding audio files:  30%|███▎       | 32001/106574 [58:33<2:20:17,  8.86it/s]"
     ]
    },
    {
     "name": "stdout",
     "output_type": "stream",
     "text": [
      "✅ Saved checkpoint at 32000 tracks\n"
     ]
    },
    {
     "name": "stderr",
     "output_type": "stream",
     "text": [
      "Embedding audio files:  30%|███▎       | 32087/106574 [58:43<1:50:30, 11.23it/s]"
     ]
    },
    {
     "name": "stdout",
     "output_type": "stream",
     "text": [
      "❌ ERROR: /home/ivan/PycharmProjects/MPr/audio_samples/fma_large/fma_large/020/020814.mp3 — Failed to open the input \"/home/ivan/PycharmProjects/MPr/audio_samples/fma_large/fma_large/020/020814.mp3\" (Invalid argument).\n"
     ]
    },
    {
     "name": "stderr",
     "output_type": "stream",
     "text": [
      "Embedding audio files:  31%|██▊      | 33001/106574 [1:00:30<2:05:27,  9.77it/s]"
     ]
    },
    {
     "name": "stdout",
     "output_type": "stream",
     "text": [
      "✅ Saved checkpoint at 33000 tracks\n"
     ]
    },
    {
     "name": "stderr",
     "output_type": "stream",
     "text": [
      "Embedding audio files:  32%|██▊      | 33971/106574 [1:02:09<1:52:54, 10.72it/s]"
     ]
    },
    {
     "name": "stdout",
     "output_type": "stream",
     "text": [
      "❌ ERROR: /home/ivan/PycharmProjects/MPr/audio_samples/fma_large/fma_large/151/151920.mp3 — Failed to open the input \"/home/ivan/PycharmProjects/MPr/audio_samples/fma_large/fma_large/151/151920.mp3\" (Invalid argument).\n"
     ]
    },
    {
     "name": "stderr",
     "output_type": "stream",
     "text": [
      "Embedding audio files:  32%|██▊      | 34001/106574 [1:02:12<2:02:56,  9.84it/s]"
     ]
    },
    {
     "name": "stdout",
     "output_type": "stream",
     "text": [
      "✅ Saved checkpoint at 34000 tracks\n"
     ]
    },
    {
     "name": "stderr",
     "output_type": "stream",
     "text": [
      "Embedding audio files:  33%|██▉      | 35001/106574 [1:03:55<2:08:17,  9.30it/s]"
     ]
    },
    {
     "name": "stdout",
     "output_type": "stream",
     "text": [
      "✅ Saved checkpoint at 35000 tracks\n"
     ]
    },
    {
     "name": "stderr",
     "output_type": "stream",
     "text": [
      "Embedding audio files:  33%|██▉      | 35302/106574 [1:04:25<1:40:13, 11.85it/s]"
     ]
    },
    {
     "name": "stdout",
     "output_type": "stream",
     "text": [
      "❌ ERROR: /home/ivan/PycharmProjects/MPr/audio_samples/fma_large/fma_large/002/002624.mp3 — Failed to open the input \"/home/ivan/PycharmProjects/MPr/audio_samples/fma_large/fma_large/002/002624.mp3\" (Invalid argument).\n"
     ]
    },
    {
     "name": "stderr",
     "output_type": "stream",
     "text": [
      "Embedding audio files:  34%|███      | 35807/106574 [1:05:16<1:38:04, 12.03it/s]"
     ]
    },
    {
     "name": "stdout",
     "output_type": "stream",
     "text": [
      "❌ ERROR: /home/ivan/PycharmProjects/MPr/audio_samples/fma_large/fma_large/014/014116.mp3 — Failed to open the input \"/home/ivan/PycharmProjects/MPr/audio_samples/fma_large/fma_large/014/014116.mp3\" (Invalid argument).\n"
     ]
    },
    {
     "name": "stderr",
     "output_type": "stream",
     "text": [
      "Embedding audio files:  34%|███      | 35940/106574 [1:05:29<1:44:01, 11.32it/s]"
     ]
    },
    {
     "name": "stdout",
     "output_type": "stream",
     "text": [
      "❌ ERROR: /home/ivan/PycharmProjects/MPr/audio_samples/fma_large/fma_large/014/014180.mp3 — Failed to open the input \"/home/ivan/PycharmProjects/MPr/audio_samples/fma_large/fma_large/014/014180.mp3\" (Invalid argument).\n"
     ]
    },
    {
     "name": "stderr",
     "output_type": "stream",
     "text": [
      "Embedding audio files:  34%|███      | 36002/106574 [1:05:35<1:56:44, 10.07it/s]"
     ]
    },
    {
     "name": "stdout",
     "output_type": "stream",
     "text": [
      "✅ Saved checkpoint at 36000 tracks\n"
     ]
    },
    {
     "name": "stderr",
     "output_type": "stream",
     "text": [
      "Embedding audio files:  35%|███      | 36928/106574 [1:07:10<1:33:31, 12.41it/s]"
     ]
    },
    {
     "name": "stdout",
     "output_type": "stream",
     "text": [
      "❌ ERROR: /home/ivan/PycharmProjects/MPr/audio_samples/fma_large/fma_large/072/072656.mp3 — Failed to open the input \"/home/ivan/PycharmProjects/MPr/audio_samples/fma_large/fma_large/072/072656.mp3\" (Invalid argument).\n"
     ]
    },
    {
     "name": "stderr",
     "output_type": "stream",
     "text": [
      "Embedding audio files:  35%|███      | 37001/106574 [1:07:17<2:02:46,  9.44it/s]"
     ]
    },
    {
     "name": "stdout",
     "output_type": "stream",
     "text": [
      "✅ Saved checkpoint at 37000 tracks\n"
     ]
    },
    {
     "name": "stderr",
     "output_type": "stream",
     "text": [
      "Embedding audio files:  35%|███▏     | 37286/106574 [1:07:47<1:41:36, 11.36it/s]"
     ]
    },
    {
     "name": "stdout",
     "output_type": "stream",
     "text": [
      "❌ ERROR: /home/ivan/PycharmProjects/MPr/audio_samples/fma_large/fma_large/072/072980.mp3 — Failed to open the input \"/home/ivan/PycharmProjects/MPr/audio_samples/fma_large/fma_large/072/072980.mp3\" (Invalid argument).\n"
     ]
    },
    {
     "name": "stderr",
     "output_type": "stream",
     "text": [
      "Embedding audio files:  35%|███▏     | 37597/106574 [1:08:18<1:35:41, 12.01it/s]"
     ]
    },
    {
     "name": "stdout",
     "output_type": "stream",
     "text": [
      "❌ ERROR: /home/ivan/PycharmProjects/MPr/audio_samples/fma_large/fma_large/061/061480.mp3 — Failed to open the input \"/home/ivan/PycharmProjects/MPr/audio_samples/fma_large/fma_large/061/061480.mp3\" (Invalid argument).\n"
     ]
    },
    {
     "name": "stderr",
     "output_type": "stream",
     "text": [
      "Embedding audio files:  35%|███▏     | 37603/106574 [1:08:19<1:34:26, 12.17it/s]"
     ]
    },
    {
     "name": "stdout",
     "output_type": "stream",
     "text": [
      "❌ ERROR: /home/ivan/PycharmProjects/MPr/audio_samples/fma_large/fma_large/061/061822.mp3 — Failed to open the input \"/home/ivan/PycharmProjects/MPr/audio_samples/fma_large/fma_large/061/061822.mp3\" (Invalid argument).\n"
     ]
    },
    {
     "name": "stderr",
     "output_type": "stream",
     "text": [
      "Embedding audio files:  36%|███▏     | 38001/106574 [1:08:59<1:56:40,  9.80it/s]"
     ]
    },
    {
     "name": "stdout",
     "output_type": "stream",
     "text": [
      "✅ Saved checkpoint at 38000 tracks\n"
     ]
    },
    {
     "name": "stderr",
     "output_type": "stream",
     "text": [
      "Embedding audio files:  37%|███▎     | 39002/106574 [1:10:44<2:07:41,  8.82it/s]"
     ]
    },
    {
     "name": "stdout",
     "output_type": "stream",
     "text": [
      "✅ Saved checkpoint at 39000 tracks\n"
     ]
    },
    {
     "name": "stderr",
     "output_type": "stream",
     "text": [
      "Embedding audio files:  38%|███▍     | 40001/106574 [1:12:25<1:52:43,  9.84it/s]"
     ]
    },
    {
     "name": "stdout",
     "output_type": "stream",
     "text": [
      "✅ Saved checkpoint at 40000 tracks\n"
     ]
    },
    {
     "name": "stderr",
     "output_type": "stream",
     "text": [
      "Embedding audio files:  38%|███▍     | 40464/106574 [1:13:13<1:35:53, 11.49it/s]"
     ]
    },
    {
     "name": "stdout",
     "output_type": "stream",
     "text": [
      "❌ ERROR: /home/ivan/PycharmProjects/MPr/audio_samples/fma_large/fma_large/145/145056.mp3 — Failed to open the input \"/home/ivan/PycharmProjects/MPr/audio_samples/fma_large/fma_large/145/145056.mp3\" (Invalid argument).\n"
     ]
    },
    {
     "name": "stderr",
     "output_type": "stream",
     "text": [
      "Embedding audio files:  38%|███▍     | 41001/106574 [1:14:07<1:44:18, 10.48it/s]"
     ]
    },
    {
     "name": "stdout",
     "output_type": "stream",
     "text": [
      "✅ Saved checkpoint at 41000 tracks\n"
     ]
    },
    {
     "name": "stderr",
     "output_type": "stream",
     "text": [
      "Embedding audio files:  39%|███▌     | 41481/106574 [1:14:56<1:29:53, 12.07it/s]"
     ]
    },
    {
     "name": "stdout",
     "output_type": "stream",
     "text": [
      "❌ ERROR: /home/ivan/PycharmProjects/MPr/audio_samples/fma_large/fma_large/146/146056.mp3 — Failed to open the input \"/home/ivan/PycharmProjects/MPr/audio_samples/fma_large/fma_large/146/146056.mp3\" (Invalid argument).\n"
     ]
    },
    {
     "name": "stderr",
     "output_type": "stream",
     "text": [
      "Embedding audio files:  39%|███▌     | 42001/106574 [1:15:49<1:50:07,  9.77it/s]"
     ]
    },
    {
     "name": "stdout",
     "output_type": "stream",
     "text": [
      "✅ Saved checkpoint at 42000 tracks\n"
     ]
    },
    {
     "name": "stderr",
     "output_type": "stream",
     "text": [
      "Embedding audio files:  40%|███▋     | 43001/106574 [1:17:29<1:48:49,  9.74it/s]"
     ]
    },
    {
     "name": "stdout",
     "output_type": "stream",
     "text": [
      "✅ Saved checkpoint at 43000 tracks\n"
     ]
    },
    {
     "name": "stderr",
     "output_type": "stream",
     "text": [
      "Embedding audio files:  41%|███▋     | 43740/106574 [1:18:44<1:28:04, 11.89it/s]"
     ]
    },
    {
     "name": "stdout",
     "output_type": "stream",
     "text": [
      "❌ ERROR: /home/ivan/PycharmProjects/MPr/audio_samples/fma_large/fma_large/091/091206.mp3 — Failed to open the input \"/home/ivan/PycharmProjects/MPr/audio_samples/fma_large/fma_large/091/091206.mp3\" (Invalid argument).\n"
     ]
    },
    {
     "name": "stderr",
     "output_type": "stream",
     "text": [
      "Embedding audio files:  41%|███▋     | 44002/106574 [1:19:10<1:44:15, 10.00it/s]"
     ]
    },
    {
     "name": "stdout",
     "output_type": "stream",
     "text": [
      "✅ Saved checkpoint at 44000 tracks\n"
     ]
    },
    {
     "name": "stderr",
     "output_type": "stream",
     "text": [
      "Embedding audio files:  42%|███▊     | 45002/106574 [1:20:53<1:43:46,  9.89it/s]"
     ]
    },
    {
     "name": "stdout",
     "output_type": "stream",
     "text": [
      "✅ Saved checkpoint at 45000 tracks\n"
     ]
    },
    {
     "name": "stderr",
     "output_type": "stream",
     "text": [
      "Embedding audio files:  42%|███▊     | 45034/106574 [1:20:57<3:30:33,  4.87it/s]"
     ]
    },
    {
     "name": "stdout",
     "output_type": "stream",
     "text": [
      "❌ ERROR: /home/ivan/PycharmProjects/MPr/audio_samples/fma_large/fma_large/053/053668.mp3 — Failed to open the input \"/home/ivan/PycharmProjects/MPr/audio_samples/fma_large/fma_large/053/053668.mp3\" (Invalid argument).\n"
     ]
    },
    {
     "name": "stderr",
     "output_type": "stream",
     "text": [
      "Embedding audio files:  43%|███▉     | 46001/106574 [1:22:35<1:39:22, 10.16it/s]"
     ]
    },
    {
     "name": "stdout",
     "output_type": "stream",
     "text": [
      "✅ Saved checkpoint at 46000 tracks\n"
     ]
    },
    {
     "name": "stderr",
     "output_type": "stream",
     "text": [
      "Embedding audio files:  44%|███▉     | 47002/106574 [1:24:17<1:36:17, 10.31it/s]"
     ]
    },
    {
     "name": "stdout",
     "output_type": "stream",
     "text": [
      "✅ Saved checkpoint at 47000 tracks\n"
     ]
    },
    {
     "name": "stderr",
     "output_type": "stream",
     "text": [
      "Embedding audio files:  44%|███▉     | 47208/106574 [1:24:38<1:23:05, 11.91it/s]"
     ]
    },
    {
     "name": "stdout",
     "output_type": "stream",
     "text": [
      "❌ ERROR: /home/ivan/PycharmProjects/MPr/audio_samples/fma_large/fma_large/102/102249.mp3 — Failed to open the input \"/home/ivan/PycharmProjects/MPr/audio_samples/fma_large/fma_large/102/102249.mp3\" (Invalid argument).\n"
     ]
    },
    {
     "name": "stderr",
     "output_type": "stream",
     "text": [
      "Embedding audio files:  44%|███▉     | 47269/106574 [1:24:44<1:23:32, 11.83it/s]"
     ]
    },
    {
     "name": "stdout",
     "output_type": "stream",
     "text": [
      "❌ ERROR: /home/ivan/PycharmProjects/MPr/audio_samples/fma_large/fma_large/102/102241.mp3 — Failed to open the input \"/home/ivan/PycharmProjects/MPr/audio_samples/fma_large/fma_large/102/102241.mp3\" (Invalid argument).\n"
     ]
    },
    {
     "name": "stderr",
     "output_type": "stream",
     "text": [
      "Embedding audio files:  44%|███▉     | 47284/106574 [1:24:46<1:23:15, 11.87it/s]"
     ]
    },
    {
     "name": "stdout",
     "output_type": "stream",
     "text": [
      "❌ ERROR: /home/ivan/PycharmProjects/MPr/audio_samples/fma_large/fma_large/102/102243.mp3 — Failed to open the input \"/home/ivan/PycharmProjects/MPr/audio_samples/fma_large/fma_large/102/102243.mp3\" (Invalid argument).\n"
     ]
    },
    {
     "name": "stderr",
     "output_type": "stream",
     "text": [
      "Embedding audio files:  44%|████     | 47371/106574 [1:24:54<1:24:04, 11.74it/s]"
     ]
    },
    {
     "name": "stdout",
     "output_type": "stream",
     "text": [
      "❌ ERROR: /home/ivan/PycharmProjects/MPr/audio_samples/fma_large/fma_large/102/102247.mp3 — Failed to open the input \"/home/ivan/PycharmProjects/MPr/audio_samples/fma_large/fma_large/102/102247.mp3\" (Invalid argument).\n"
     ]
    },
    {
     "name": "stderr",
     "output_type": "stream",
     "text": [
      "Embedding audio files:  44%|████     | 47377/106574 [1:24:55<1:20:54, 12.20it/s]"
     ]
    },
    {
     "name": "stdout",
     "output_type": "stream",
     "text": [
      "❌ ERROR: /home/ivan/PycharmProjects/MPr/audio_samples/fma_large/fma_large/102/102289.mp3 — Failed to open the input \"/home/ivan/PycharmProjects/MPr/audio_samples/fma_large/fma_large/102/102289.mp3\" (Invalid argument).\n"
     ]
    },
    {
     "name": "stderr",
     "output_type": "stream",
     "text": [
      "Embedding audio files:  45%|████     | 48001/106574 [1:25:58<1:42:40,  9.51it/s]"
     ]
    },
    {
     "name": "stdout",
     "output_type": "stream",
     "text": [
      "✅ Saved checkpoint at 48000 tracks\n"
     ]
    },
    {
     "name": "stderr",
     "output_type": "stream",
     "text": [
      "Embedding audio files:  46%|████▏    | 49002/106574 [1:27:39<1:38:19,  9.76it/s]"
     ]
    },
    {
     "name": "stdout",
     "output_type": "stream",
     "text": [
      "✅ Saved checkpoint at 49000 tracks\n"
     ]
    },
    {
     "name": "stderr",
     "output_type": "stream",
     "text": [
      "Embedding audio files:  47%|████▏    | 50001/106574 [1:29:20<1:33:45, 10.06it/s]"
     ]
    },
    {
     "name": "stdout",
     "output_type": "stream",
     "text": [
      "✅ Saved checkpoint at 50000 tracks\n"
     ]
    },
    {
     "name": "stderr",
     "output_type": "stream",
     "text": [
      "Embedding audio files:  47%|████▏    | 50033/106574 [1:29:23<1:19:09, 11.91it/s]"
     ]
    },
    {
     "name": "stdout",
     "output_type": "stream",
     "text": [
      "❌ ERROR: /home/ivan/PycharmProjects/MPr/audio_samples/fma_large/fma_large/110/110236.mp3 — Failed to open the input \"/home/ivan/PycharmProjects/MPr/audio_samples/fma_large/fma_large/110/110236.mp3\" (Invalid argument).\n"
     ]
    },
    {
     "name": "stderr",
     "output_type": "stream",
     "text": [
      "Embedding audio files:  47%|████▎    | 50502/106574 [1:30:12<1:17:30, 12.06it/s]"
     ]
    },
    {
     "name": "stdout",
     "output_type": "stream",
     "text": [
      "❌ ERROR: /home/ivan/PycharmProjects/MPr/audio_samples/fma_large/fma_large/087/087057.mp3 — Failed to open the input \"/home/ivan/PycharmProjects/MPr/audio_samples/fma_large/fma_large/087/087057.mp3\" (Invalid argument).\n"
     ]
    },
    {
     "name": "stderr",
     "output_type": "stream",
     "text": [
      "Embedding audio files:  48%|████▎    | 50818/106574 [1:30:44<1:17:19, 12.02it/s]"
     ]
    },
    {
     "name": "stdout",
     "output_type": "stream",
     "text": [
      "❌ ERROR: /home/ivan/PycharmProjects/MPr/audio_samples/fma_large/fma_large/084/084503.mp3 — Failed to open the input \"/home/ivan/PycharmProjects/MPr/audio_samples/fma_large/fma_large/084/084503.mp3\" (Invalid argument).\n"
     ]
    },
    {
     "name": "stderr",
     "output_type": "stream",
     "text": [
      "Embedding audio files:  48%|████▎    | 50888/106574 [1:30:51<1:16:11, 12.18it/s]"
     ]
    },
    {
     "name": "stdout",
     "output_type": "stream",
     "text": [
      "❌ ERROR: /home/ivan/PycharmProjects/MPr/audio_samples/fma_large/fma_large/084/084524.mp3 — Failed to open the input \"/home/ivan/PycharmProjects/MPr/audio_samples/fma_large/fma_large/084/084524.mp3\" (Invalid argument).\n"
     ]
    },
    {
     "name": "stderr",
     "output_type": "stream",
     "text": [
      "Embedding audio files:  48%|████▎    | 51001/106574 [1:31:02<1:36:16,  9.62it/s]"
     ]
    },
    {
     "name": "stdout",
     "output_type": "stream",
     "text": [
      "✅ Saved checkpoint at 51000 tracks\n"
     ]
    },
    {
     "name": "stderr",
     "output_type": "stream",
     "text": [
      "Embedding audio files:  48%|████▎    | 51124/106574 [1:31:15<1:16:35, 12.07it/s]"
     ]
    },
    {
     "name": "stdout",
     "output_type": "stream",
     "text": [
      "❌ ERROR: /home/ivan/PycharmProjects/MPr/audio_samples/fma_large/fma_large/084/084522.mp3 — Failed to open the input \"/home/ivan/PycharmProjects/MPr/audio_samples/fma_large/fma_large/084/084522.mp3\" (Invalid argument).\n"
     ]
    },
    {
     "name": "stderr",
     "output_type": "stream",
     "text": [
      "Embedding audio files:  48%|████▎    | 51331/106574 [1:31:36<1:17:35, 11.87it/s]"
     ]
    },
    {
     "name": "stdout",
     "output_type": "stream",
     "text": [
      "❌ ERROR: /home/ivan/PycharmProjects/MPr/audio_samples/fma_large/fma_large/084/084504.mp3 — Failed to open the input \"/home/ivan/PycharmProjects/MPr/audio_samples/fma_large/fma_large/084/084504.mp3\" (Invalid argument).\n"
     ]
    },
    {
     "name": "stderr",
     "output_type": "stream",
     "text": [
      "Embedding audio files:  49%|████▍    | 52002/106574 [1:32:45<1:32:00,  9.89it/s]"
     ]
    },
    {
     "name": "stdout",
     "output_type": "stream",
     "text": [
      "✅ Saved checkpoint at 52000 tracks\n"
     ]
    },
    {
     "name": "stderr",
     "output_type": "stream",
     "text": [
      "Embedding audio files:  50%|████▍    | 52956/106574 [1:34:24<1:13:55, 12.09it/s]"
     ]
    },
    {
     "name": "stdout",
     "output_type": "stream",
     "text": [
      "❌ ERROR: /home/ivan/PycharmProjects/MPr/audio_samples/fma_large/fma_large/117/117441.mp3 — Failed to open the input \"/home/ivan/PycharmProjects/MPr/audio_samples/fma_large/fma_large/117/117441.mp3\" (Invalid argument).\n"
     ]
    },
    {
     "name": "stderr",
     "output_type": "stream",
     "text": [
      "Embedding audio files:  50%|████▍    | 53000/106574 [1:34:28<1:33:15,  9.58it/s]"
     ]
    },
    {
     "name": "stdout",
     "output_type": "stream",
     "text": [
      "✅ Saved checkpoint at 53000 tracks\n"
     ]
    },
    {
     "name": "stderr",
     "output_type": "stream",
     "text": [
      "Embedding audio files:  51%|████▌    | 54001/106574 [1:36:11<1:28:12,  9.93it/s]"
     ]
    },
    {
     "name": "stdout",
     "output_type": "stream",
     "text": [
      "✅ Saved checkpoint at 54000 tracks\n"
     ]
    },
    {
     "name": "stderr",
     "output_type": "stream",
     "text": [
      "Embedding audio files:  52%|████▋    | 55001/106574 [1:37:54<1:27:58,  9.77it/s]"
     ]
    },
    {
     "name": "stdout",
     "output_type": "stream",
     "text": [
      "✅ Saved checkpoint at 55000 tracks\n"
     ]
    },
    {
     "name": "stderr",
     "output_type": "stream",
     "text": [
      "Embedding audio files:  53%|████▋    | 56001/106574 [1:39:35<1:23:31, 10.09it/s]"
     ]
    },
    {
     "name": "stdout",
     "output_type": "stream",
     "text": [
      "✅ Saved checkpoint at 56000 tracks\n"
     ]
    },
    {
     "name": "stderr",
     "output_type": "stream",
     "text": [
      "Embedding audio files:  53%|████▊    | 56248/106574 [1:40:01<1:08:12, 12.30it/s]"
     ]
    },
    {
     "name": "stdout",
     "output_type": "stream",
     "text": [
      "❌ ERROR: /home/ivan/PycharmProjects/MPr/audio_samples/fma_large/fma_large/134/134887.mp3 — Failed to open the input \"/home/ivan/PycharmProjects/MPr/audio_samples/fma_large/fma_large/134/134887.mp3\" (Invalid argument).\n"
     ]
    },
    {
     "name": "stderr",
     "output_type": "stream",
     "text": [
      "Embedding audio files:  53%|████▊    | 57002/106574 [1:41:17<1:23:05,  9.94it/s]"
     ]
    },
    {
     "name": "stdout",
     "output_type": "stream",
     "text": [
      "✅ Saved checkpoint at 57000 tracks\n"
     ]
    },
    {
     "name": "stderr",
     "output_type": "stream",
     "text": [
      "Embedding audio files:  54%|████▉    | 58001/106574 [1:43:00<1:20:21, 10.07it/s]"
     ]
    },
    {
     "name": "stdout",
     "output_type": "stream",
     "text": [
      "✅ Saved checkpoint at 58000 tracks\n"
     ]
    },
    {
     "name": "stderr",
     "output_type": "stream",
     "text": [
      "Embedding audio files:  55%|████▉    | 59002/106574 [1:44:42<1:24:18,  9.40it/s]"
     ]
    },
    {
     "name": "stdout",
     "output_type": "stream",
     "text": [
      "✅ Saved checkpoint at 59000 tracks\n"
     ]
    },
    {
     "name": "stderr",
     "output_type": "stream",
     "text": [
      "Embedding audio files:  56%|█████    | 59370/106574 [1:45:19<1:05:54, 11.94it/s]"
     ]
    },
    {
     "name": "stdout",
     "output_type": "stream",
     "text": [
      "❌ ERROR: /home/ivan/PycharmProjects/MPr/audio_samples/fma_large/fma_large/130/130328.mp3 — Failed to open the input \"/home/ivan/PycharmProjects/MPr/audio_samples/fma_large/fma_large/130/130328.mp3\" (Invalid argument).\n"
     ]
    },
    {
     "name": "stderr",
     "output_type": "stream",
     "text": [
      "Embedding audio files:  56%|█████    | 59523/106574 [1:45:35<1:05:34, 11.96it/s]"
     ]
    },
    {
     "name": "stdout",
     "output_type": "stream",
     "text": [
      "❌ ERROR: /home/ivan/PycharmProjects/MPr/audio_samples/fma_large/fma_large/130/130751.mp3 — Failed to open the input \"/home/ivan/PycharmProjects/MPr/audio_samples/fma_large/fma_large/130/130751.mp3\" (Invalid argument).\n"
     ]
    },
    {
     "name": "stderr",
     "output_type": "stream",
     "text": [
      "Embedding audio files:  56%|█████    | 59594/106574 [1:45:42<1:02:03, 12.62it/s]"
     ]
    },
    {
     "name": "stdout",
     "output_type": "stream",
     "text": [
      "❌ ERROR: /home/ivan/PycharmProjects/MPr/audio_samples/fma_large/fma_large/130/130748.mp3 — Failed to open the input \"/home/ivan/PycharmProjects/MPr/audio_samples/fma_large/fma_large/130/130748.mp3\" (Invalid argument).\n"
     ]
    },
    {
     "name": "stderr",
     "output_type": "stream",
     "text": [
      "Embedding audio files:  56%|█████    | 60002/106574 [1:46:23<1:17:16, 10.04it/s]"
     ]
    },
    {
     "name": "stdout",
     "output_type": "stream",
     "text": [
      "✅ Saved checkpoint at 60000 tracks\n"
     ]
    },
    {
     "name": "stderr",
     "output_type": "stream",
     "text": [
      "Embedding audio files:  57%|█████▏   | 61001/106574 [1:48:04<1:16:40,  9.91it/s]"
     ]
    },
    {
     "name": "stdout",
     "output_type": "stream",
     "text": [
      "✅ Saved checkpoint at 61000 tracks\n"
     ]
    },
    {
     "name": "stderr",
     "output_type": "stream",
     "text": [
      "Embedding audio files:  57%|█████▏   | 61028/106574 [1:48:06<1:05:32, 11.58it/s]"
     ]
    },
    {
     "name": "stdout",
     "output_type": "stream",
     "text": [
      "❌ ERROR: /home/ivan/PycharmProjects/MPr/audio_samples/fma_large/fma_large/001/001486.mp3 — Failed to open the input \"/home/ivan/PycharmProjects/MPr/audio_samples/fma_large/fma_large/001/001486.mp3\" (Invalid argument).\n"
     ]
    },
    {
     "name": "stderr",
     "output_type": "stream",
     "text": [
      "Embedding audio files:  58%|█████▏   | 62002/106574 [1:49:45<1:12:45, 10.21it/s]"
     ]
    },
    {
     "name": "stdout",
     "output_type": "stream",
     "text": [
      "✅ Saved checkpoint at 62000 tracks\n"
     ]
    },
    {
     "name": "stderr",
     "output_type": "stream",
     "text": [
      "Embedding audio files:  59%|█████▎   | 63001/106574 [1:51:26<1:13:44,  9.85it/s]"
     ]
    },
    {
     "name": "stdout",
     "output_type": "stream",
     "text": [
      "✅ Saved checkpoint at 63000 tracks\n"
     ]
    },
    {
     "name": "stderr",
     "output_type": "stream",
     "text": [
      "Embedding audio files:  60%|█████▍   | 64002/106574 [1:53:08<1:10:40, 10.04it/s]"
     ]
    },
    {
     "name": "stdout",
     "output_type": "stream",
     "text": [
      "✅ Saved checkpoint at 64000 tracks\n"
     ]
    },
    {
     "name": "stderr",
     "output_type": "stream",
     "text": [
      "Embedding audio files:  60%|██████▋    | 64194/106574 [1:53:28<59:31, 11.87it/s]"
     ]
    },
    {
     "name": "stdout",
     "output_type": "stream",
     "text": [
      "❌ ERROR: /home/ivan/PycharmProjects/MPr/audio_samples/fma_large/fma_large/080/080391.mp3 — Failed to open the input \"/home/ivan/PycharmProjects/MPr/audio_samples/fma_large/fma_large/080/080391.mp3\" (Invalid argument).\n"
     ]
    },
    {
     "name": "stderr",
     "output_type": "stream",
     "text": [
      "Embedding audio files:  60%|██████▋    | 64352/106574 [1:53:44<57:33, 12.23it/s]"
     ]
    },
    {
     "name": "stdout",
     "output_type": "stream",
     "text": [
      "❌ ERROR: /home/ivan/PycharmProjects/MPr/audio_samples/fma_large/fma_large/080/080553.mp3 — Failed to open the input \"/home/ivan/PycharmProjects/MPr/audio_samples/fma_large/fma_large/080/080553.mp3\" (Invalid argument).\n"
     ]
    },
    {
     "name": "stderr",
     "output_type": "stream",
     "text": [
      "Embedding audio files:  61%|█████▍   | 65002/106574 [1:54:49<1:08:20, 10.14it/s]"
     ]
    },
    {
     "name": "stdout",
     "output_type": "stream",
     "text": [
      "✅ Saved checkpoint at 65000 tracks\n"
     ]
    },
    {
     "name": "stderr",
     "output_type": "stream",
     "text": [
      "Embedding audio files:  62%|█████▌   | 66001/106574 [1:56:31<1:06:39, 10.14it/s]"
     ]
    },
    {
     "name": "stdout",
     "output_type": "stream",
     "text": [
      "✅ Saved checkpoint at 66000 tracks\n"
     ]
    },
    {
     "name": "stderr",
     "output_type": "stream",
     "text": [
      "Embedding audio files:  63%|██████▉    | 66967/106574 [1:58:09<54:45, 12.06it/s]"
     ]
    },
    {
     "name": "stdout",
     "output_type": "stream",
     "text": [
      "❌ ERROR: /home/ivan/PycharmProjects/MPr/audio_samples/fma_large/fma_large/131/131545.mp3 — Failed to open the input \"/home/ivan/PycharmProjects/MPr/audio_samples/fma_large/fma_large/131/131545.mp3\" (Invalid argument).\n"
     ]
    },
    {
     "name": "stderr",
     "output_type": "stream",
     "text": [
      "Embedding audio files:  63%|█████▋   | 67001/106574 [1:58:12<1:06:29,  9.92it/s]"
     ]
    },
    {
     "name": "stdout",
     "output_type": "stream",
     "text": [
      "✅ Saved checkpoint at 67000 tracks\n"
     ]
    },
    {
     "name": "stderr",
     "output_type": "stream",
     "text": [
      "Embedding audio files:  64%|█████▋   | 68002/106574 [1:59:55<1:04:45,  9.93it/s]"
     ]
    },
    {
     "name": "stdout",
     "output_type": "stream",
     "text": [
      "✅ Saved checkpoint at 68000 tracks\n"
     ]
    },
    {
     "name": "stderr",
     "output_type": "stream",
     "text": [
      "Embedding audio files:  65%|███████    | 68895/106574 [2:01:25<51:21, 12.23it/s]"
     ]
    },
    {
     "name": "stdout",
     "output_type": "stream",
     "text": [
      "❌ ERROR: /home/ivan/PycharmProjects/MPr/audio_samples/fma_large/fma_large/094/094052.mp3 — Failed to open the input \"/home/ivan/PycharmProjects/MPr/audio_samples/fma_large/fma_large/094/094052.mp3\" (Invalid argument).\n"
     ]
    },
    {
     "name": "stderr",
     "output_type": "stream",
     "text": [
      "Embedding audio files:  65%|███████    | 68907/106574 [2:01:26<53:14, 11.79it/s]"
     ]
    },
    {
     "name": "stdout",
     "output_type": "stream",
     "text": [
      "❌ ERROR: /home/ivan/PycharmProjects/MPr/audio_samples/fma_large/fma_large/094/094234.mp3 — Failed to open the input \"/home/ivan/PycharmProjects/MPr/audio_samples/fma_large/fma_large/094/094234.mp3\" (Invalid argument).\n"
     ]
    },
    {
     "name": "stderr",
     "output_type": "stream",
     "text": [
      "Embedding audio files:  65%|█████▊   | 69002/106574 [2:01:36<1:02:22, 10.04it/s]"
     ]
    },
    {
     "name": "stdout",
     "output_type": "stream",
     "text": [
      "✅ Saved checkpoint at 69000 tracks\n"
     ]
    },
    {
     "name": "stderr",
     "output_type": "stream",
     "text": [
      "Embedding audio files:  66%|█████▉   | 70002/106574 [2:03:18<1:01:42,  9.88it/s]"
     ]
    },
    {
     "name": "stdout",
     "output_type": "stream",
     "text": [
      "✅ Saved checkpoint at 70000 tracks\n"
     ]
    },
    {
     "name": "stderr",
     "output_type": "stream",
     "text": [
      "Embedding audio files:  66%|███████▎   | 70776/106574 [2:04:38<50:34, 11.80it/s]"
     ]
    },
    {
     "name": "stdout",
     "output_type": "stream",
     "text": [
      "❌ ERROR: /home/ivan/PycharmProjects/MPr/audio_samples/fma_large/fma_large/073/073510.mp3 — Failed to open the input \"/home/ivan/PycharmProjects/MPr/audio_samples/fma_large/fma_large/073/073510.mp3\" (Invalid argument).\n"
     ]
    },
    {
     "name": "stderr",
     "output_type": "stream",
     "text": [
      "Embedding audio files:  67%|█████▉   | 71001/106574 [2:05:01<1:04:15,  9.23it/s]"
     ]
    },
    {
     "name": "stdout",
     "output_type": "stream",
     "text": [
      "✅ Saved checkpoint at 71000 tracks\n"
     ]
    },
    {
     "name": "stderr",
     "output_type": "stream",
     "text": [
      "Embedding audio files:  68%|██████   | 72001/106574 [2:06:45<1:01:00,  9.45it/s]"
     ]
    },
    {
     "name": "stdout",
     "output_type": "stream",
     "text": [
      "✅ Saved checkpoint at 72000 tracks\n"
     ]
    },
    {
     "name": "stderr",
     "output_type": "stream",
     "text": [
      "Embedding audio files:  68%|███████▌   | 73001/106574 [2:08:28<55:17, 10.12it/s]"
     ]
    },
    {
     "name": "stdout",
     "output_type": "stream",
     "text": [
      "✅ Saved checkpoint at 73000 tracks\n"
     ]
    },
    {
     "name": "stderr",
     "output_type": "stream",
     "text": [
      "Embedding audio files:  69%|███████▌   | 73134/106574 [2:08:42<45:24, 12.27it/s]"
     ]
    },
    {
     "name": "stdout",
     "output_type": "stream",
     "text": [
      "❌ ERROR: /home/ivan/PycharmProjects/MPr/audio_samples/fma_large/fma_large/086/086659.mp3 — Failed to open the input \"/home/ivan/PycharmProjects/MPr/audio_samples/fma_large/fma_large/086/086659.mp3\" (Invalid argument).\n"
     ]
    },
    {
     "name": "stderr",
     "output_type": "stream",
     "text": [
      "Embedding audio files:  69%|███████▌   | 73455/106574 [2:09:15<46:11, 11.95it/s]"
     ]
    },
    {
     "name": "stdout",
     "output_type": "stream",
     "text": [
      "❌ ERROR: /home/ivan/PycharmProjects/MPr/audio_samples/fma_large/fma_large/086/086664.mp3 — Failed to open the input \"/home/ivan/PycharmProjects/MPr/audio_samples/fma_large/fma_large/086/086664.mp3\" (Invalid argument).\n"
     ]
    },
    {
     "name": "stderr",
     "output_type": "stream",
     "text": [
      "Embedding audio files:  69%|███████▌   | 73555/106574 [2:09:25<45:39, 12.05it/s]"
     ]
    },
    {
     "name": "stdout",
     "output_type": "stream",
     "text": [
      "❌ ERROR: /home/ivan/PycharmProjects/MPr/audio_samples/fma_large/fma_large/086/086661.mp3 — Failed to open the input \"/home/ivan/PycharmProjects/MPr/audio_samples/fma_large/fma_large/086/086661.mp3\" (Invalid argument).\n"
     ]
    },
    {
     "name": "stderr",
     "output_type": "stream",
     "text": [
      "Embedding audio files:  69%|███████▌   | 73639/106574 [2:09:33<44:11, 12.42it/s]"
     ]
    },
    {
     "name": "stdout",
     "output_type": "stream",
     "text": [
      "❌ ERROR: /home/ivan/PycharmProjects/MPr/audio_samples/fma_large/fma_large/086/086656.mp3 — Failed to open the input \"/home/ivan/PycharmProjects/MPr/audio_samples/fma_large/fma_large/086/086656.mp3\" (Invalid argument).\n"
     ]
    },
    {
     "name": "stderr",
     "output_type": "stream",
     "text": [
      "Embedding audio files:  69%|███████▋   | 73958/106574 [2:10:06<43:45, 12.42it/s]"
     ]
    },
    {
     "name": "stdout",
     "output_type": "stream",
     "text": [
      "❌ ERROR: /home/ivan/PycharmProjects/MPr/audio_samples/fma_large/fma_large/143/143992.mp3 — Failed to open the input \"/home/ivan/PycharmProjects/MPr/audio_samples/fma_large/fma_large/143/143992.mp3\" (Invalid argument).\n"
     ]
    },
    {
     "name": "stderr",
     "output_type": "stream",
     "text": [
      "Embedding audio files:  69%|███████▋   | 74002/106574 [2:10:10<54:44,  9.92it/s]"
     ]
    },
    {
     "name": "stdout",
     "output_type": "stream",
     "text": [
      "✅ Saved checkpoint at 74000 tracks\n"
     ]
    },
    {
     "name": "stderr",
     "output_type": "stream",
     "text": [
      "Embedding audio files:  70%|███████▋   | 74823/106574 [2:11:34<43:57, 12.04it/s]"
     ]
    },
    {
     "name": "stdout",
     "output_type": "stream",
     "text": [
      "❌ ERROR: /home/ivan/PycharmProjects/MPr/audio_samples/fma_large/fma_large/029/029352.mp3 — Failed to open the input \"/home/ivan/PycharmProjects/MPr/audio_samples/fma_large/fma_large/029/029352.mp3\" (Invalid argument).\n"
     ]
    },
    {
     "name": "stderr",
     "output_type": "stream",
     "text": [
      "Embedding audio files:  70%|███████▋   | 74953/106574 [2:11:47<44:38, 11.81it/s]"
     ]
    },
    {
     "name": "stdout",
     "output_type": "stream",
     "text": [
      "❌ ERROR: /home/ivan/PycharmProjects/MPr/audio_samples/fma_large/fma_large/029/029345.mp3 — Failed to open the input \"/home/ivan/PycharmProjects/MPr/audio_samples/fma_large/fma_large/029/029345.mp3\" (Invalid argument).\n"
     ]
    },
    {
     "name": "stderr",
     "output_type": "stream",
     "text": [
      "Embedding audio files:  70%|███████▋   | 74979/106574 [2:11:50<51:30, 10.22it/s]"
     ]
    },
    {
     "name": "stdout",
     "output_type": "stream",
     "text": [
      "❌ ERROR: /home/ivan/PycharmProjects/MPr/audio_samples/fma_large/fma_large/029/029356.mp3 — Failed to open the input \"/home/ivan/PycharmProjects/MPr/audio_samples/fma_large/fma_large/029/029356.mp3\" (Invalid argument).\n"
     ]
    },
    {
     "name": "stderr",
     "output_type": "stream",
     "text": [
      "Embedding audio files:  70%|███████▋   | 75002/106574 [2:11:52<56:27,  9.32it/s]"
     ]
    },
    {
     "name": "stdout",
     "output_type": "stream",
     "text": [
      "✅ Saved checkpoint at 75000 tracks\n"
     ]
    },
    {
     "name": "stderr",
     "output_type": "stream",
     "text": [
      "Embedding audio files:  70%|███████▋   | 75008/106574 [2:11:52<42:57, 12.25it/s]"
     ]
    },
    {
     "name": "stdout",
     "output_type": "stream",
     "text": [
      "❌ ERROR: /home/ivan/PycharmProjects/MPr/audio_samples/fma_large/fma_large/029/029346.mp3 — Failed to open the input \"/home/ivan/PycharmProjects/MPr/audio_samples/fma_large/fma_large/029/029346.mp3\" (Invalid argument).\n"
     ]
    },
    {
     "name": "stderr",
     "output_type": "stream",
     "text": [
      "Embedding audio files:  71%|███████▊   | 76001/106574 [2:13:33<50:36, 10.07it/s]"
     ]
    },
    {
     "name": "stdout",
     "output_type": "stream",
     "text": [
      "✅ Saved checkpoint at 76000 tracks\n"
     ]
    },
    {
     "name": "stderr",
     "output_type": "stream",
     "text": [
      "Embedding audio files:  72%|███████▉   | 76420/106574 [2:14:16<43:26, 11.57it/s]"
     ]
    },
    {
     "name": "stdout",
     "output_type": "stream",
     "text": [
      "❌ ERROR: /home/ivan/PycharmProjects/MPr/audio_samples/fma_large/fma_large/043/043753.mp3 — Failed to open the input \"/home/ivan/PycharmProjects/MPr/audio_samples/fma_large/fma_large/043/043753.mp3\" (Invalid argument).\n"
     ]
    },
    {
     "name": "stderr",
     "output_type": "stream",
     "text": [
      "Embedding audio files:  72%|███████▉   | 77002/106574 [2:15:15<50:11,  9.82it/s]"
     ]
    },
    {
     "name": "stdout",
     "output_type": "stream",
     "text": [
      "✅ Saved checkpoint at 77000 tracks\n"
     ]
    },
    {
     "name": "stderr",
     "output_type": "stream",
     "text": [
      "Embedding audio files:  73%|████████   | 78001/106574 [2:16:57<47:04, 10.12it/s]"
     ]
    },
    {
     "name": "stdout",
     "output_type": "stream",
     "text": [
      "✅ Saved checkpoint at 78000 tracks\n"
     ]
    },
    {
     "name": "stderr",
     "output_type": "stream",
     "text": [
      "Embedding audio files:  74%|████████▏  | 78897/106574 [2:18:28<37:46, 12.21it/s]"
     ]
    },
    {
     "name": "stdout",
     "output_type": "stream",
     "text": [
      "❌ ERROR: /home/ivan/PycharmProjects/MPr/audio_samples/fma_large/fma_large/126/126981.mp3 — Failed to open the input \"/home/ivan/PycharmProjects/MPr/audio_samples/fma_large/fma_large/126/126981.mp3\" (Invalid argument).\n"
     ]
    },
    {
     "name": "stderr",
     "output_type": "stream",
     "text": [
      "Embedding audio files:  74%|████████▏  | 79001/106574 [2:18:39<47:10,  9.74it/s]"
     ]
    },
    {
     "name": "stdout",
     "output_type": "stream",
     "text": [
      "✅ Saved checkpoint at 79000 tracks\n"
     ]
    },
    {
     "name": "stderr",
     "output_type": "stream",
     "text": [
      "Embedding audio files:  75%|████████▏  | 79627/106574 [2:19:43<38:55, 11.54it/s]"
     ]
    },
    {
     "name": "stdout",
     "output_type": "stream",
     "text": [
      "❌ ERROR: /home/ivan/PycharmProjects/MPr/audio_samples/fma_large/fma_large/129/129207.mp3 — Failed to open the input \"/home/ivan/PycharmProjects/MPr/audio_samples/fma_large/fma_large/129/129207.mp3\" (Invalid argument).\n"
     ]
    },
    {
     "name": "stderr",
     "output_type": "stream",
     "text": [
      "Embedding audio files:  75%|████████▏  | 79786/106574 [2:19:59<36:20, 12.29it/s]"
     ]
    },
    {
     "name": "stdout",
     "output_type": "stream",
     "text": [
      "❌ ERROR: /home/ivan/PycharmProjects/MPr/audio_samples/fma_large/fma_large/129/129800.mp3 — Failed to open the input \"/home/ivan/PycharmProjects/MPr/audio_samples/fma_large/fma_large/129/129800.mp3\" (Invalid argument).\n"
     ]
    },
    {
     "name": "stderr",
     "output_type": "stream",
     "text": [
      "Embedding audio files:  75%|████████▎  | 80002/106574 [2:20:21<43:36, 10.16it/s]"
     ]
    },
    {
     "name": "stdout",
     "output_type": "stream",
     "text": [
      "✅ Saved checkpoint at 80000 tracks\n"
     ]
    },
    {
     "name": "stderr",
     "output_type": "stream",
     "text": [
      "Embedding audio files:  76%|████████▎  | 81002/106574 [2:22:04<43:25,  9.81it/s]"
     ]
    },
    {
     "name": "stdout",
     "output_type": "stream",
     "text": [
      "✅ Saved checkpoint at 81000 tracks\n"
     ]
    },
    {
     "name": "stderr",
     "output_type": "stream",
     "text": [
      "Embedding audio files:  77%|████████▍  | 82001/106574 [2:23:46<40:07, 10.21it/s]"
     ]
    },
    {
     "name": "stdout",
     "output_type": "stream",
     "text": [
      "✅ Saved checkpoint at 82000 tracks\n"
     ]
    },
    {
     "name": "stderr",
     "output_type": "stream",
     "text": [
      "Embedding audio files:  77%|████████▍  | 82055/106574 [2:23:51<34:18, 11.91it/s]"
     ]
    },
    {
     "name": "stdout",
     "output_type": "stream",
     "text": [
      "❌ ERROR: /home/ivan/PycharmProjects/MPr/audio_samples/fma_large/fma_large/005/005574.mp3 — Failed to open the input \"/home/ivan/PycharmProjects/MPr/audio_samples/fma_large/fma_large/005/005574.mp3\" (Invalid argument).\n"
     ]
    },
    {
     "name": "stderr",
     "output_type": "stream",
     "text": [
      "Embedding audio files:  78%|████████▌  | 83002/106574 [2:25:28<39:01, 10.07it/s]"
     ]
    },
    {
     "name": "stdout",
     "output_type": "stream",
     "text": [
      "✅ Saved checkpoint at 83000 tracks\n"
     ]
    },
    {
     "name": "stderr",
     "output_type": "stream",
     "text": [
      "Embedding audio files:  78%|████████▌  | 83475/106574 [2:26:17<32:41, 11.78it/s]"
     ]
    },
    {
     "name": "stdout",
     "output_type": "stream",
     "text": [
      "❌ ERROR: /home/ivan/PycharmProjects/MPr/audio_samples/fma_large/fma_large/033/033417.mp3 — Failed to open the input \"/home/ivan/PycharmProjects/MPr/audio_samples/fma_large/fma_large/033/033417.mp3\" (Invalid argument).\n"
     ]
    },
    {
     "name": "stderr",
     "output_type": "stream",
     "text": [
      "Embedding audio files:  78%|████████▋  | 83569/106574 [2:26:26<34:18, 11.17it/s]"
     ]
    },
    {
     "name": "stdout",
     "output_type": "stream",
     "text": [
      "❌ ERROR: /home/ivan/PycharmProjects/MPr/audio_samples/fma_large/fma_large/033/033413.mp3 — Failed to open the input \"/home/ivan/PycharmProjects/MPr/audio_samples/fma_large/fma_large/033/033413.mp3\" (Invalid argument).\n"
     ]
    },
    {
     "name": "stderr",
     "output_type": "stream",
     "text": [
      "Embedding audio files:  78%|████████▋  | 83580/106574 [2:26:27<32:01, 11.97it/s]"
     ]
    },
    {
     "name": "stdout",
     "output_type": "stream",
     "text": [
      "❌ ERROR: /home/ivan/PycharmProjects/MPr/audio_samples/fma_large/fma_large/033/033425.mp3 — Failed to open the input \"/home/ivan/PycharmProjects/MPr/audio_samples/fma_large/fma_large/033/033425.mp3\" (Invalid argument).\n"
     ]
    },
    {
     "name": "stderr",
     "output_type": "stream",
     "text": [
      "Embedding audio files:  79%|████████▋  | 83756/106574 [2:26:45<33:46, 11.26it/s]"
     ]
    },
    {
     "name": "stdout",
     "output_type": "stream",
     "text": [
      "❌ ERROR: /home/ivan/PycharmProjects/MPr/audio_samples/fma_large/fma_large/033/033414.mp3 — Failed to open the input \"/home/ivan/PycharmProjects/MPr/audio_samples/fma_large/fma_large/033/033414.mp3\" (Invalid argument).\n"
     ]
    },
    {
     "name": "stderr",
     "output_type": "stream",
     "text": [
      "Embedding audio files:  79%|████████▋  | 83796/106574 [2:26:49<31:24, 12.08it/s]"
     ]
    },
    {
     "name": "stdout",
     "output_type": "stream",
     "text": [
      "❌ ERROR: /home/ivan/PycharmProjects/MPr/audio_samples/fma_large/fma_large/033/033418.mp3 — Failed to open the input \"/home/ivan/PycharmProjects/MPr/audio_samples/fma_large/fma_large/033/033418.mp3\" (Invalid argument).\n"
     ]
    },
    {
     "name": "stderr",
     "output_type": "stream",
     "text": [
      "Embedding audio files:  79%|████████▋  | 83900/106574 [2:26:59<30:37, 12.34it/s]"
     ]
    },
    {
     "name": "stdout",
     "output_type": "stream",
     "text": [
      "❌ ERROR: /home/ivan/PycharmProjects/MPr/audio_samples/fma_large/fma_large/033/033411.mp3 — Failed to open the input \"/home/ivan/PycharmProjects/MPr/audio_samples/fma_large/fma_large/033/033411.mp3\" (Invalid argument).\n"
     ]
    },
    {
     "name": "stderr",
     "output_type": "stream",
     "text": [
      "Embedding audio files:  79%|████████▋  | 83926/106574 [2:27:02<31:38, 11.93it/s]"
     ]
    },
    {
     "name": "stdout",
     "output_type": "stream",
     "text": [
      "❌ ERROR: /home/ivan/PycharmProjects/MPr/audio_samples/fma_large/fma_large/033/033419.mp3 — Failed to open the input \"/home/ivan/PycharmProjects/MPr/audio_samples/fma_large/fma_large/033/033419.mp3\" (Invalid argument).\n"
     ]
    },
    {
     "name": "stderr",
     "output_type": "stream",
     "text": [
      "Embedding audio files:  79%|████████▋  | 84000/106574 [2:27:09<37:02, 10.16it/s]"
     ]
    },
    {
     "name": "stdout",
     "output_type": "stream",
     "text": [
      "✅ Saved checkpoint at 84000 tracks\n"
     ]
    },
    {
     "name": "stderr",
     "output_type": "stream",
     "text": [
      "Embedding audio files:  80%|████████▊  | 85001/106574 [2:28:52<37:02,  9.71it/s]"
     ]
    },
    {
     "name": "stdout",
     "output_type": "stream",
     "text": [
      "✅ Saved checkpoint at 85000 tracks\n"
     ]
    },
    {
     "name": "stderr",
     "output_type": "stream",
     "text": [
      "Embedding audio files:  81%|████████▉  | 86002/106574 [2:30:35<34:10, 10.03it/s]"
     ]
    },
    {
     "name": "stdout",
     "output_type": "stream",
     "text": [
      "✅ Saved checkpoint at 86000 tracks\n"
     ]
    },
    {
     "name": "stderr",
     "output_type": "stream",
     "text": [
      "Embedding audio files:  82%|████████▉  | 87001/106574 [2:32:19<33:03,  9.87it/s]"
     ]
    },
    {
     "name": "stdout",
     "output_type": "stream",
     "text": [
      "✅ Saved checkpoint at 87000 tracks\n"
     ]
    },
    {
     "name": "stderr",
     "output_type": "stream",
     "text": [
      "Embedding audio files:  83%|█████████  | 88001/106574 [2:34:01<31:23,  9.86it/s]"
     ]
    },
    {
     "name": "stdout",
     "output_type": "stream",
     "text": [
      "✅ Saved checkpoint at 88000 tracks\n"
     ]
    },
    {
     "name": "stderr",
     "output_type": "stream",
     "text": [
      "Embedding audio files:  83%|█████████  | 88115/106574 [2:34:12<26:18, 11.69it/s]"
     ]
    },
    {
     "name": "stdout",
     "output_type": "stream",
     "text": [
      "❌ ERROR: /home/ivan/PycharmProjects/MPr/audio_samples/fma_large/fma_large/042/042986.mp3 — Failed to open the input \"/home/ivan/PycharmProjects/MPr/audio_samples/fma_large/fma_large/042/042986.mp3\" (Invalid argument).\n"
     ]
    },
    {
     "name": "stderr",
     "output_type": "stream",
     "text": [
      "Embedding audio files:  84%|█████████▏ | 89002/106574 [2:35:41<29:28,  9.94it/s]"
     ]
    },
    {
     "name": "stdout",
     "output_type": "stream",
     "text": [
      "✅ Saved checkpoint at 89000 tracks\n"
     ]
    },
    {
     "name": "stderr",
     "output_type": "stream",
     "text": [
      "Embedding audio files:  84%|█████████▎ | 90001/106574 [2:37:24<28:32,  9.68it/s]"
     ]
    },
    {
     "name": "stdout",
     "output_type": "stream",
     "text": [
      "✅ Saved checkpoint at 90000 tracks\n"
     ]
    },
    {
     "name": "stderr",
     "output_type": "stream",
     "text": [
      "Embedding audio files:  85%|█████████▎ | 90223/106574 [2:37:47<24:18, 11.21it/s]"
     ]
    },
    {
     "name": "stdout",
     "output_type": "stream",
     "text": [
      "❌ ERROR: /home/ivan/PycharmProjects/MPr/audio_samples/fma_large/fma_large/023/023429.mp3 — Failed to open the input \"/home/ivan/PycharmProjects/MPr/audio_samples/fma_large/fma_large/023/023429.mp3\" (Invalid argument).\n"
     ]
    },
    {
     "name": "stderr",
     "output_type": "stream",
     "text": [
      "Embedding audio files:  85%|█████████▎ | 90226/106574 [2:37:48<21:32, 12.65it/s]"
     ]
    },
    {
     "name": "stdout",
     "output_type": "stream",
     "text": [
      "❌ ERROR: /home/ivan/PycharmProjects/MPr/audio_samples/fma_large/fma_large/023/023430.mp3 — Failed to open the input \"/home/ivan/PycharmProjects/MPr/audio_samples/fma_large/fma_large/023/023430.mp3\" (Invalid argument).\n"
     ]
    },
    {
     "name": "stderr",
     "output_type": "stream",
     "text": [
      "Embedding audio files:  85%|█████████▎ | 90260/106574 [2:37:51<24:59, 10.88it/s]"
     ]
    },
    {
     "name": "stdout",
     "output_type": "stream",
     "text": [
      "❌ ERROR: /home/ivan/PycharmProjects/MPr/audio_samples/fma_large/fma_large/023/023431.mp3 — get_src_stream_info(): incompatible function arguments. The following argument types are supported:\n",
      "    1. (self: torio.lib._torio_ffmpeg4.StreamingMediaDecoder, arg0: int) -> torio.lib._torio_ffmpeg4.SourceStreamInfo\n",
      "\n",
      "Invoked with: <torio.lib._torio_ffmpeg4.StreamingMediaDecoder object at 0x745770564670>, None\n"
     ]
    },
    {
     "name": "stderr",
     "output_type": "stream",
     "text": [
      "Embedding audio files:  85%|█████████▍ | 91001/106574 [2:39:05<25:50, 10.04it/s]"
     ]
    },
    {
     "name": "stdout",
     "output_type": "stream",
     "text": [
      "✅ Saved checkpoint at 91000 tracks\n"
     ]
    },
    {
     "name": "stderr",
     "output_type": "stream",
     "text": [
      "Embedding audio files:  86%|█████████▍ | 91272/106574 [2:39:33<20:27, 12.47it/s]"
     ]
    },
    {
     "name": "stdout",
     "output_type": "stream",
     "text": [
      "❌ ERROR: /home/ivan/PycharmProjects/MPr/audio_samples/fma_large/fma_large/127/127928.mp3 — Failed to open the input \"/home/ivan/PycharmProjects/MPr/audio_samples/fma_large/fma_large/127/127928.mp3\" (Invalid argument).\n"
     ]
    },
    {
     "name": "stderr",
     "output_type": "stream",
     "text": [
      "Embedding audio files:  86%|█████████▍ | 91547/106574 [2:40:01<20:50, 12.02it/s]"
     ]
    },
    {
     "name": "stdout",
     "output_type": "stream",
     "text": [
      "❌ ERROR: /home/ivan/PycharmProjects/MPr/audio_samples/fma_large/fma_large/127/127336.mp3 — Failed to open the input \"/home/ivan/PycharmProjects/MPr/audio_samples/fma_large/fma_large/127/127336.mp3\" (Invalid argument).\n"
     ]
    },
    {
     "name": "stderr",
     "output_type": "stream",
     "text": [
      "Embedding audio files:  86%|█████████▍ | 92002/106574 [2:40:47<23:49, 10.20it/s]"
     ]
    },
    {
     "name": "stdout",
     "output_type": "stream",
     "text": [
      "✅ Saved checkpoint at 92000 tracks\n"
     ]
    },
    {
     "name": "stderr",
     "output_type": "stream",
     "text": [
      "Embedding audio files:  87%|█████████▌ | 92605/106574 [2:41:48<19:10, 12.14it/s]"
     ]
    },
    {
     "name": "stdout",
     "output_type": "stream",
     "text": [
      "❌ ERROR: /home/ivan/PycharmProjects/MPr/audio_samples/fma_large/fma_large/155/155051.mp3 — Failed to open the input \"/home/ivan/PycharmProjects/MPr/audio_samples/fma_large/fma_large/155/155051.mp3\" (Invalid argument).\n"
     ]
    },
    {
     "name": "stderr",
     "output_type": "stream",
     "text": [
      "Embedding audio files:  87%|█████████▌ | 93002/106574 [2:42:29<22:58,  9.85it/s]"
     ]
    },
    {
     "name": "stdout",
     "output_type": "stream",
     "text": [
      "✅ Saved checkpoint at 93000 tracks\n"
     ]
    },
    {
     "name": "stderr",
     "output_type": "stream",
     "text": [
      "Embedding audio files:  88%|█████████▋ | 94001/106574 [2:44:13<20:37, 10.16it/s]"
     ]
    },
    {
     "name": "stdout",
     "output_type": "stream",
     "text": [
      "✅ Saved checkpoint at 94000 tracks\n"
     ]
    },
    {
     "name": "stderr",
     "output_type": "stream",
     "text": [
      "Embedding audio files:  89%|█████████▊ | 95002/106574 [2:45:53<18:04, 10.67it/s]"
     ]
    },
    {
     "name": "stdout",
     "output_type": "stream",
     "text": [
      "✅ Saved checkpoint at 95000 tracks\n"
     ]
    },
    {
     "name": "stderr",
     "output_type": "stream",
     "text": [
      "Embedding audio files:  90%|█████████▉ | 96002/106574 [2:47:30<17:14, 10.22it/s]"
     ]
    },
    {
     "name": "stdout",
     "output_type": "stream",
     "text": [
      "✅ Saved checkpoint at 96000 tracks\n"
     ]
    },
    {
     "name": "stderr",
     "output_type": "stream",
     "text": [
      "Embedding audio files:  90%|█████████▉ | 96120/106574 [2:47:42<14:40, 11.87it/s]"
     ]
    },
    {
     "name": "stdout",
     "output_type": "stream",
     "text": [
      "❌ ERROR: /home/ivan/PycharmProjects/MPr/audio_samples/fma_large/fma_large/147/147419.mp3 — Failed to open the input \"/home/ivan/PycharmProjects/MPr/audio_samples/fma_large/fma_large/147/147419.mp3\" (Invalid argument).\n"
     ]
    },
    {
     "name": "stderr",
     "output_type": "stream",
     "text": [
      "Embedding audio files:  91%|█████████▉ | 96563/106574 [2:48:26<14:00, 11.91it/s]"
     ]
    },
    {
     "name": "stdout",
     "output_type": "stream",
     "text": [
      "❌ ERROR: /home/ivan/PycharmProjects/MPr/audio_samples/fma_large/fma_large/147/147424.mp3 — Failed to open the input \"/home/ivan/PycharmProjects/MPr/audio_samples/fma_large/fma_large/147/147424.mp3\" (Invalid argument).\n"
     ]
    },
    {
     "name": "stderr",
     "output_type": "stream",
     "text": [
      "Embedding audio files:  91%|██████████ | 97001/106574 [2:49:10<15:27, 10.32it/s]"
     ]
    },
    {
     "name": "stdout",
     "output_type": "stream",
     "text": [
      "✅ Saved checkpoint at 97000 tracks\n"
     ]
    },
    {
     "name": "stderr",
     "output_type": "stream",
     "text": [
      "Embedding audio files:  92%|██████████ | 98002/106574 [2:50:48<13:55, 10.26it/s]"
     ]
    },
    {
     "name": "stdout",
     "output_type": "stream",
     "text": [
      "✅ Saved checkpoint at 98000 tracks\n"
     ]
    },
    {
     "name": "stderr",
     "output_type": "stream",
     "text": [
      "Embedding audio files:  92%|██████████▏| 98259/106574 [2:51:13<12:11, 11.37it/s]"
     ]
    },
    {
     "name": "stdout",
     "output_type": "stream",
     "text": [
      "❌ ERROR: /home/ivan/PycharmProjects/MPr/audio_samples/fma_large/fma_large/065/065753.mp3 — Failed to open the input \"/home/ivan/PycharmProjects/MPr/audio_samples/fma_large/fma_large/065/065753.mp3\" (Invalid argument).\n"
     ]
    },
    {
     "name": "stderr",
     "output_type": "stream",
     "text": [
      "Embedding audio files:  93%|██████████▏| 99002/106574 [2:52:26<12:16, 10.28it/s]"
     ]
    },
    {
     "name": "stdout",
     "output_type": "stream",
     "text": [
      "✅ Saved checkpoint at 99000 tracks\n"
     ]
    },
    {
     "name": "stderr",
     "output_type": "stream",
     "text": [
      "Embedding audio files:  93%|██████████▎| 99527/106574 [2:53:16<09:47, 12.00it/s]"
     ]
    },
    {
     "name": "stdout",
     "output_type": "stream",
     "text": [
      "❌ ERROR: /home/ivan/PycharmProjects/MPr/audio_samples/fma_large/fma_large/063/063422.mp3 — Failed to open the input \"/home/ivan/PycharmProjects/MPr/audio_samples/fma_large/fma_large/063/063422.mp3\" (Invalid argument).\n"
     ]
    },
    {
     "name": "stderr",
     "output_type": "stream",
     "text": [
      "Embedding audio files:  94%|█████████▍| 100002/106574 [2:54:03<10:40, 10.25it/s]"
     ]
    },
    {
     "name": "stdout",
     "output_type": "stream",
     "text": [
      "✅ Saved checkpoint at 100000 tracks\n"
     ]
    },
    {
     "name": "stderr",
     "output_type": "stream",
     "text": [
      "Embedding audio files:  94%|█████████▍| 100105/106574 [2:54:13<09:17, 11.61it/s]"
     ]
    },
    {
     "name": "stdout",
     "output_type": "stream",
     "text": [
      "❌ ERROR: /home/ivan/PycharmProjects/MPr/audio_samples/fma_large/fma_large/063/063997.mp3 — Failed to open the input \"/home/ivan/PycharmProjects/MPr/audio_samples/fma_large/fma_large/063/063997.mp3\" (Invalid argument).\n"
     ]
    },
    {
     "name": "stderr",
     "output_type": "stream",
     "text": [
      "Embedding audio files:  94%|█████████▍| 100347/106574 [2:54:37<08:33, 12.14it/s]"
     ]
    },
    {
     "name": "stdout",
     "output_type": "stream",
     "text": [
      "❌ ERROR: /home/ivan/PycharmProjects/MPr/audio_samples/fma_large/fma_large/095/095253.mp3 — Failed to open the input \"/home/ivan/PycharmProjects/MPr/audio_samples/fma_large/fma_large/095/095253.mp3\" (Invalid argument).\n"
     ]
    },
    {
     "name": "stderr",
     "output_type": "stream",
     "text": [
      "Embedding audio files:  95%|█████████▍| 101001/106574 [2:55:42<09:29,  9.79it/s]"
     ]
    },
    {
     "name": "stdout",
     "output_type": "stream",
     "text": [
      "✅ Saved checkpoint at 101000 tracks\n"
     ]
    },
    {
     "name": "stderr",
     "output_type": "stream",
     "text": [
      "Embedding audio files:  95%|█████████▍| 101239/106574 [2:56:06<07:25, 11.98it/s]"
     ]
    },
    {
     "name": "stdout",
     "output_type": "stream",
     "text": [
      "❌ ERROR: /home/ivan/PycharmProjects/MPr/audio_samples/fma_large/fma_large/082/082699.mp3 — Failed to open the input \"/home/ivan/PycharmProjects/MPr/audio_samples/fma_large/fma_large/082/082699.mp3\" (Invalid argument).\n"
     ]
    },
    {
     "name": "stderr",
     "output_type": "stream",
     "text": [
      "Embedding audio files:  96%|█████████▌| 102001/106574 [2:57:22<07:46,  9.81it/s]"
     ]
    },
    {
     "name": "stdout",
     "output_type": "stream",
     "text": [
      "✅ Saved checkpoint at 102000 tracks\n"
     ]
    },
    {
     "name": "stderr",
     "output_type": "stream",
     "text": [
      "Embedding audio files:  96%|█████████▌| 102012/106574 [2:57:23<06:23, 11.90it/s]"
     ]
    },
    {
     "name": "stdout",
     "output_type": "stream",
     "text": [
      "❌ ERROR: /home/ivan/PycharmProjects/MPr/audio_samples/fma_large/fma_large/012/012838.mp3 — Failed to open the input \"/home/ivan/PycharmProjects/MPr/audio_samples/fma_large/fma_large/012/012838.mp3\" (Invalid argument).\n"
     ]
    },
    {
     "name": "stderr",
     "output_type": "stream",
     "text": [
      "Embedding audio files:  97%|█████████▋| 102882/106574 [2:58:47<05:01, 12.26it/s]"
     ]
    },
    {
     "name": "stdout",
     "output_type": "stream",
     "text": [
      "❌ ERROR: /home/ivan/PycharmProjects/MPr/audio_samples/fma_large/fma_large/010/010116.mp3 — Failed to open the input \"/home/ivan/PycharmProjects/MPr/audio_samples/fma_large/fma_large/010/010116.mp3\" (Invalid argument).\n"
     ]
    },
    {
     "name": "stderr",
     "output_type": "stream",
     "text": [
      "Embedding audio files:  97%|█████████▋| 103002/106574 [2:58:58<05:41, 10.45it/s]"
     ]
    },
    {
     "name": "stdout",
     "output_type": "stream",
     "text": [
      "✅ Saved checkpoint at 103000 tracks\n"
     ]
    },
    {
     "name": "stderr",
     "output_type": "stream",
     "text": [
      "Embedding audio files:  98%|█████████▊| 104002/106574 [3:00:36<04:11, 10.25it/s]"
     ]
    },
    {
     "name": "stdout",
     "output_type": "stream",
     "text": [
      "✅ Saved checkpoint at 104000 tracks\n"
     ]
    },
    {
     "name": "stderr",
     "output_type": "stream",
     "text": [
      "Embedding audio files:  99%|█████████▊| 105002/106574 [3:02:14<02:23, 10.98it/s]"
     ]
    },
    {
     "name": "stdout",
     "output_type": "stream",
     "text": [
      "✅ Saved checkpoint at 105000 tracks\n"
     ]
    },
    {
     "name": "stderr",
     "output_type": "stream",
     "text": [
      "Embedding audio files:  99%|█████████▉| 105755/106574 [3:03:32<01:07, 12.15it/s]"
     ]
    },
    {
     "name": "stdout",
     "output_type": "stream",
     "text": [
      "❌ ERROR: /home/ivan/PycharmProjects/MPr/audio_samples/fma_large/fma_large/148/148791.mp3 — Failed to open the input \"/home/ivan/PycharmProjects/MPr/audio_samples/fma_large/fma_large/148/148791.mp3\" (Invalid argument).\n"
     ]
    },
    {
     "name": "stderr",
     "output_type": "stream",
     "text": [
      "Embedding audio files:  99%|█████████▉| 105816/106574 [3:03:38<01:02, 12.16it/s]"
     ]
    },
    {
     "name": "stdout",
     "output_type": "stream",
     "text": [
      "❌ ERROR: /home/ivan/PycharmProjects/MPr/audio_samples/fma_large/fma_large/148/148787.mp3 — Failed to open the input \"/home/ivan/PycharmProjects/MPr/audio_samples/fma_large/fma_large/148/148787.mp3\" (Invalid argument).\n"
     ]
    },
    {
     "name": "stderr",
     "output_type": "stream",
     "text": [
      "Embedding audio files:  99%|█████████▉| 105850/106574 [3:03:42<00:57, 12.53it/s]"
     ]
    },
    {
     "name": "stdout",
     "output_type": "stream",
     "text": [
      "❌ ERROR: /home/ivan/PycharmProjects/MPr/audio_samples/fma_large/fma_large/148/148790.mp3 — Failed to open the input \"/home/ivan/PycharmProjects/MPr/audio_samples/fma_large/fma_large/148/148790.mp3\" (Invalid argument).\n"
     ]
    },
    {
     "name": "stderr",
     "output_type": "stream",
     "text": [
      "Embedding audio files:  99%|█████████▉| 105930/106574 [3:03:50<00:51, 12.42it/s]"
     ]
    },
    {
     "name": "stdout",
     "output_type": "stream",
     "text": [
      "❌ ERROR: /home/ivan/PycharmProjects/MPr/audio_samples/fma_large/fma_large/148/148794.mp3 — Failed to open the input \"/home/ivan/PycharmProjects/MPr/audio_samples/fma_large/fma_large/148/148794.mp3\" (Invalid argument).\n"
     ]
    },
    {
     "name": "stderr",
     "output_type": "stream",
     "text": [
      "Embedding audio files:  99%|█████████▉| 105969/106574 [3:03:54<00:50, 11.92it/s]"
     ]
    },
    {
     "name": "stdout",
     "output_type": "stream",
     "text": [
      "❌ ERROR: /home/ivan/PycharmProjects/MPr/audio_samples/fma_large/fma_large/148/148793.mp3 — Failed to open the input \"/home/ivan/PycharmProjects/MPr/audio_samples/fma_large/fma_large/148/148793.mp3\" (Invalid argument).\n"
     ]
    },
    {
     "name": "stderr",
     "output_type": "stream",
     "text": [
      "Embedding audio files:  99%|█████████▉| 105989/106574 [3:03:56<00:49, 11.93it/s]"
     ]
    },
    {
     "name": "stdout",
     "output_type": "stream",
     "text": [
      "❌ ERROR: /home/ivan/PycharmProjects/MPr/audio_samples/fma_large/fma_large/148/148786.mp3 — Failed to open the input \"/home/ivan/PycharmProjects/MPr/audio_samples/fma_large/fma_large/148/148786.mp3\" (Invalid argument).\n"
     ]
    },
    {
     "name": "stderr",
     "output_type": "stream",
     "text": [
      "Embedding audio files:  99%|█████████▉| 105995/106574 [3:03:56<00:46, 12.43it/s]"
     ]
    },
    {
     "name": "stdout",
     "output_type": "stream",
     "text": [
      "❌ ERROR: /home/ivan/PycharmProjects/MPr/audio_samples/fma_large/fma_large/148/148795.mp3 — Failed to open the input \"/home/ivan/PycharmProjects/MPr/audio_samples/fma_large/fma_large/148/148795.mp3\" (Invalid argument).\n"
     ]
    },
    {
     "name": "stderr",
     "output_type": "stream",
     "text": [
      "Embedding audio files:  99%|█████████▉| 106001/106574 [3:03:57<00:56, 10.09it/s]"
     ]
    },
    {
     "name": "stdout",
     "output_type": "stream",
     "text": [
      "✅ Saved checkpoint at 106000 tracks\n"
     ]
    },
    {
     "name": "stderr",
     "output_type": "stream",
     "text": [
      "Embedding audio files:  99%|█████████▉| 106024/106574 [3:03:59<00:45, 12.10it/s]"
     ]
    },
    {
     "name": "stdout",
     "output_type": "stream",
     "text": [
      "❌ ERROR: /home/ivan/PycharmProjects/MPr/audio_samples/fma_large/fma_large/148/148788.mp3 — Failed to open the input \"/home/ivan/PycharmProjects/MPr/audio_samples/fma_large/fma_large/148/148788.mp3\" (Invalid argument).\n"
     ]
    },
    {
     "name": "stderr",
     "output_type": "stream",
     "text": [
      "Embedding audio files: 100%|█████████▉| 106341/106574 [3:04:34<00:21, 11.00it/s]"
     ]
    },
    {
     "name": "stdout",
     "output_type": "stream",
     "text": [
      "❌ ERROR: /home/ivan/PycharmProjects/MPr/audio_samples/fma_large/fma_large/148/148792.mp3 — Failed to open the input \"/home/ivan/PycharmProjects/MPr/audio_samples/fma_large/fma_large/148/148792.mp3\" (Invalid argument).\n"
     ]
    },
    {
     "name": "stderr",
     "output_type": "stream",
     "text": [
      "Embedding audio files: 100%|█████████▉| 106493/106574 [3:04:49<00:06, 12.15it/s]"
     ]
    },
    {
     "name": "stdout",
     "output_type": "stream",
     "text": [
      "❌ ERROR: /home/ivan/PycharmProjects/MPr/audio_samples/fma_large/fma_large/148/148789.mp3 — Failed to open the input \"/home/ivan/PycharmProjects/MPr/audio_samples/fma_large/fma_large/148/148789.mp3\" (Invalid argument).\n"
     ]
    },
    {
     "name": "stderr",
     "output_type": "stream",
     "text": [
      "Embedding audio files: 100%|██████████| 106574/106574 [3:04:58<00:00,  9.60it/s]"
     ]
    },
    {
     "name": "stdout",
     "output_type": "stream",
     "text": [
      "✅ Final save complete\n",
      "❌ 162 failures saved to failures.txt\n"
     ]
    },
    {
     "name": "stderr",
     "output_type": "stream",
     "text": [
      "\n"
     ]
    }
   ],
   "source": [
    "import os\n",
    "import torch\n",
    "import torchaudio\n",
    "import numpy as np\n",
    "from tqdm import tqdm\n",
    "\n",
    "SAVE_EVERY = 1000  # Save checkpoint every N files\n",
    "output_dir = \"/home/ivan/PycharmProjects/MPr/notebooks/embeddings/embedings_large\"\n",
    "os.makedirs(output_dir, exist_ok=True)\n",
    "\n",
    "def embed_audio(filepath):\n",
    "    try:\n",
    "        waveform, sr = torchaudio.load(filepath)\n",
    "        waveform = waveform.mean(dim=0).unsqueeze(0)  # Mono\n",
    "\n",
    "        if sr != 48000:\n",
    "            waveform = torchaudio.transforms.Resample(orig_freq=sr, new_freq=48000)(waveform)\n",
    "\n",
    "        max_len = 48000 * 30  # 30s\n",
    "        if waveform.shape[1] > max_len:\n",
    "            waveform = waveform[:, :max_len]\n",
    "        elif waveform.shape[1] < max_len:\n",
    "            pad_len = max_len - waveform.shape[1]\n",
    "            waveform = torch.nn.functional.pad(waveform, (0, pad_len))\n",
    "\n",
    "        inputs = processor(\n",
    "            audios=waveform.squeeze(0).cpu().numpy(),\n",
    "            sampling_rate=48000,\n",
    "            return_tensors=\"pt\"\n",
    "        ).to(device)\n",
    "\n",
    "        with torch.no_grad():\n",
    "            embedding = model.get_audio_features(**inputs)\n",
    "\n",
    "        return embedding.cpu().numpy().flatten()\n",
    "\n",
    "    except Exception as e:\n",
    "        print(f\"❌ ERROR: {filepath} — {e}\")\n",
    "        return None\n",
    "\n",
    "# Main loop with incremental saving\n",
    "embeddings = []\n",
    "filenames = []\n",
    "failures = []\n",
    "\n",
    "start_idx = 0  # Change to resume if needed\n",
    "\n",
    "for i, path in enumerate(tqdm(mp3_files[start_idx:], desc=\"Embedding audio files\"), start=start_idx):\n",
    "    vec = embed_audio(path)\n",
    "    if vec is not None:\n",
    "        embeddings.append(vec)\n",
    "        filenames.append(path)\n",
    "    else:\n",
    "        failures.append(path)\n",
    "\n",
    "    if (i + 1) % SAVE_EVERY == 0:\n",
    "        np.save(f\"{output_dir}/vectors_{i+1}.npy\", np.vstack(embeddings))\n",
    "        np.save(f\"{output_dir}/filenames_{i+1}.npy\", np.array(filenames))\n",
    "        print(f\"✅ Saved checkpoint at {i+1} tracks\")\n",
    "        embeddings.clear()\n",
    "        filenames.clear()\n",
    "\n",
    "# Final save for leftovers\n",
    "if embeddings:\n",
    "    np.save(f\"{output_dir}/vectors_final.npy\", np.vstack(embeddings))\n",
    "    np.save(f\"{output_dir}/filenames_final.npy\", np.array(filenames))\n",
    "    print(\"✅ Final save complete\")\n",
    "\n",
    "# Save failures\n",
    "if failures:\n",
    "    with open(f\"{output_dir}/failures.txt\", \"w\") as f:\n",
    "        for fail in failures:\n",
    "            f.write(f\"{fail}\\n\")\n",
    "    print(f\"❌ {len(failures)} failures saved to failures.txt\")\n"
   ]
  },
  {
   "cell_type": "markdown",
   "id": "95443b15-253c-4c47-b5c2-9e47beb269bc",
   "metadata": {},
   "source": [
    "# Сбор всех чекпоинтов в единый файл\n",
    "\n",
    "Чтобы потом загрузить один `.npy` вместо множества небольших:\n",
    "1) Читаем все `vectors_*.npy` и склеиваем их по вертикали.\n",
    "2) То же для `filenames_*.npy`.\n",
    "3) Сохраняем итоговые `audio_vectors.npy` и `audio_filenames.npy`.\n"
   ]
  },
  {
   "cell_type": "code",
   "execution_count": 7,
   "id": "91163e98-e282-4151-8540-dc71a38f1ed6",
   "metadata": {},
   "outputs": [
    {
     "name": "stdout",
     "output_type": "stream",
     "text": [
      "🔍 Found 107 vector chunks to merge\n",
      "➕ Loading /home/ivan/PycharmProjects/MPr/notebooks/embeddings/embedings_large/vectors_1000.npy\n",
      "➕ Loading /home/ivan/PycharmProjects/MPr/notebooks/embeddings/embedings_large/vectors_10000.npy\n",
      "➕ Loading /home/ivan/PycharmProjects/MPr/notebooks/embeddings/embedings_large/vectors_100000.npy\n",
      "➕ Loading /home/ivan/PycharmProjects/MPr/notebooks/embeddings/embedings_large/vectors_101000.npy\n",
      "➕ Loading /home/ivan/PycharmProjects/MPr/notebooks/embeddings/embedings_large/vectors_102000.npy\n",
      "➕ Loading /home/ivan/PycharmProjects/MPr/notebooks/embeddings/embedings_large/vectors_103000.npy\n",
      "➕ Loading /home/ivan/PycharmProjects/MPr/notebooks/embeddings/embedings_large/vectors_104000.npy\n",
      "➕ Loading /home/ivan/PycharmProjects/MPr/notebooks/embeddings/embedings_large/vectors_105000.npy\n",
      "➕ Loading /home/ivan/PycharmProjects/MPr/notebooks/embeddings/embedings_large/vectors_106000.npy\n",
      "➕ Loading /home/ivan/PycharmProjects/MPr/notebooks/embeddings/embedings_large/vectors_11000.npy\n",
      "➕ Loading /home/ivan/PycharmProjects/MPr/notebooks/embeddings/embedings_large/vectors_12000.npy\n",
      "➕ Loading /home/ivan/PycharmProjects/MPr/notebooks/embeddings/embedings_large/vectors_13000.npy\n",
      "➕ Loading /home/ivan/PycharmProjects/MPr/notebooks/embeddings/embedings_large/vectors_14000.npy\n",
      "➕ Loading /home/ivan/PycharmProjects/MPr/notebooks/embeddings/embedings_large/vectors_15000.npy\n",
      "➕ Loading /home/ivan/PycharmProjects/MPr/notebooks/embeddings/embedings_large/vectors_16000.npy\n",
      "➕ Loading /home/ivan/PycharmProjects/MPr/notebooks/embeddings/embedings_large/vectors_17000.npy\n",
      "➕ Loading /home/ivan/PycharmProjects/MPr/notebooks/embeddings/embedings_large/vectors_18000.npy\n",
      "➕ Loading /home/ivan/PycharmProjects/MPr/notebooks/embeddings/embedings_large/vectors_19000.npy\n",
      "➕ Loading /home/ivan/PycharmProjects/MPr/notebooks/embeddings/embedings_large/vectors_2000.npy\n",
      "➕ Loading /home/ivan/PycharmProjects/MPr/notebooks/embeddings/embedings_large/vectors_20000.npy\n",
      "➕ Loading /home/ivan/PycharmProjects/MPr/notebooks/embeddings/embedings_large/vectors_21000.npy\n",
      "➕ Loading /home/ivan/PycharmProjects/MPr/notebooks/embeddings/embedings_large/vectors_22000.npy\n",
      "➕ Loading /home/ivan/PycharmProjects/MPr/notebooks/embeddings/embedings_large/vectors_23000.npy\n",
      "➕ Loading /home/ivan/PycharmProjects/MPr/notebooks/embeddings/embedings_large/vectors_24000.npy\n",
      "➕ Loading /home/ivan/PycharmProjects/MPr/notebooks/embeddings/embedings_large/vectors_25000.npy\n",
      "➕ Loading /home/ivan/PycharmProjects/MPr/notebooks/embeddings/embedings_large/vectors_26000.npy\n",
      "➕ Loading /home/ivan/PycharmProjects/MPr/notebooks/embeddings/embedings_large/vectors_27000.npy\n",
      "➕ Loading /home/ivan/PycharmProjects/MPr/notebooks/embeddings/embedings_large/vectors_28000.npy\n",
      "➕ Loading /home/ivan/PycharmProjects/MPr/notebooks/embeddings/embedings_large/vectors_29000.npy\n",
      "➕ Loading /home/ivan/PycharmProjects/MPr/notebooks/embeddings/embedings_large/vectors_3000.npy\n",
      "➕ Loading /home/ivan/PycharmProjects/MPr/notebooks/embeddings/embedings_large/vectors_30000.npy\n",
      "➕ Loading /home/ivan/PycharmProjects/MPr/notebooks/embeddings/embedings_large/vectors_31000.npy\n",
      "➕ Loading /home/ivan/PycharmProjects/MPr/notebooks/embeddings/embedings_large/vectors_32000.npy\n",
      "➕ Loading /home/ivan/PycharmProjects/MPr/notebooks/embeddings/embedings_large/vectors_33000.npy\n",
      "➕ Loading /home/ivan/PycharmProjects/MPr/notebooks/embeddings/embedings_large/vectors_34000.npy\n",
      "➕ Loading /home/ivan/PycharmProjects/MPr/notebooks/embeddings/embedings_large/vectors_35000.npy\n",
      "➕ Loading /home/ivan/PycharmProjects/MPr/notebooks/embeddings/embedings_large/vectors_36000.npy\n",
      "➕ Loading /home/ivan/PycharmProjects/MPr/notebooks/embeddings/embedings_large/vectors_37000.npy\n",
      "➕ Loading /home/ivan/PycharmProjects/MPr/notebooks/embeddings/embedings_large/vectors_38000.npy\n",
      "➕ Loading /home/ivan/PycharmProjects/MPr/notebooks/embeddings/embedings_large/vectors_39000.npy\n",
      "➕ Loading /home/ivan/PycharmProjects/MPr/notebooks/embeddings/embedings_large/vectors_4000.npy\n",
      "➕ Loading /home/ivan/PycharmProjects/MPr/notebooks/embeddings/embedings_large/vectors_40000.npy\n",
      "➕ Loading /home/ivan/PycharmProjects/MPr/notebooks/embeddings/embedings_large/vectors_41000.npy\n",
      "➕ Loading /home/ivan/PycharmProjects/MPr/notebooks/embeddings/embedings_large/vectors_42000.npy\n",
      "➕ Loading /home/ivan/PycharmProjects/MPr/notebooks/embeddings/embedings_large/vectors_43000.npy\n",
      "➕ Loading /home/ivan/PycharmProjects/MPr/notebooks/embeddings/embedings_large/vectors_44000.npy\n",
      "➕ Loading /home/ivan/PycharmProjects/MPr/notebooks/embeddings/embedings_large/vectors_45000.npy\n",
      "➕ Loading /home/ivan/PycharmProjects/MPr/notebooks/embeddings/embedings_large/vectors_46000.npy\n",
      "➕ Loading /home/ivan/PycharmProjects/MPr/notebooks/embeddings/embedings_large/vectors_47000.npy\n",
      "➕ Loading /home/ivan/PycharmProjects/MPr/notebooks/embeddings/embedings_large/vectors_48000.npy\n",
      "➕ Loading /home/ivan/PycharmProjects/MPr/notebooks/embeddings/embedings_large/vectors_49000.npy\n",
      "➕ Loading /home/ivan/PycharmProjects/MPr/notebooks/embeddings/embedings_large/vectors_5000.npy\n",
      "➕ Loading /home/ivan/PycharmProjects/MPr/notebooks/embeddings/embedings_large/vectors_50000.npy\n",
      "➕ Loading /home/ivan/PycharmProjects/MPr/notebooks/embeddings/embedings_large/vectors_51000.npy\n",
      "➕ Loading /home/ivan/PycharmProjects/MPr/notebooks/embeddings/embedings_large/vectors_52000.npy\n",
      "➕ Loading /home/ivan/PycharmProjects/MPr/notebooks/embeddings/embedings_large/vectors_53000.npy\n",
      "➕ Loading /home/ivan/PycharmProjects/MPr/notebooks/embeddings/embedings_large/vectors_54000.npy\n",
      "➕ Loading /home/ivan/PycharmProjects/MPr/notebooks/embeddings/embedings_large/vectors_55000.npy\n",
      "➕ Loading /home/ivan/PycharmProjects/MPr/notebooks/embeddings/embedings_large/vectors_56000.npy\n",
      "➕ Loading /home/ivan/PycharmProjects/MPr/notebooks/embeddings/embedings_large/vectors_57000.npy\n",
      "➕ Loading /home/ivan/PycharmProjects/MPr/notebooks/embeddings/embedings_large/vectors_58000.npy\n",
      "➕ Loading /home/ivan/PycharmProjects/MPr/notebooks/embeddings/embedings_large/vectors_59000.npy\n",
      "➕ Loading /home/ivan/PycharmProjects/MPr/notebooks/embeddings/embedings_large/vectors_6000.npy\n",
      "➕ Loading /home/ivan/PycharmProjects/MPr/notebooks/embeddings/embedings_large/vectors_60000.npy\n",
      "➕ Loading /home/ivan/PycharmProjects/MPr/notebooks/embeddings/embedings_large/vectors_61000.npy\n",
      "➕ Loading /home/ivan/PycharmProjects/MPr/notebooks/embeddings/embedings_large/vectors_62000.npy\n",
      "➕ Loading /home/ivan/PycharmProjects/MPr/notebooks/embeddings/embedings_large/vectors_63000.npy\n",
      "➕ Loading /home/ivan/PycharmProjects/MPr/notebooks/embeddings/embedings_large/vectors_64000.npy\n",
      "➕ Loading /home/ivan/PycharmProjects/MPr/notebooks/embeddings/embedings_large/vectors_65000.npy\n",
      "➕ Loading /home/ivan/PycharmProjects/MPr/notebooks/embeddings/embedings_large/vectors_66000.npy\n",
      "➕ Loading /home/ivan/PycharmProjects/MPr/notebooks/embeddings/embedings_large/vectors_67000.npy\n",
      "➕ Loading /home/ivan/PycharmProjects/MPr/notebooks/embeddings/embedings_large/vectors_68000.npy\n",
      "➕ Loading /home/ivan/PycharmProjects/MPr/notebooks/embeddings/embedings_large/vectors_69000.npy\n",
      "➕ Loading /home/ivan/PycharmProjects/MPr/notebooks/embeddings/embedings_large/vectors_7000.npy\n",
      "➕ Loading /home/ivan/PycharmProjects/MPr/notebooks/embeddings/embedings_large/vectors_70000.npy\n",
      "➕ Loading /home/ivan/PycharmProjects/MPr/notebooks/embeddings/embedings_large/vectors_71000.npy\n",
      "➕ Loading /home/ivan/PycharmProjects/MPr/notebooks/embeddings/embedings_large/vectors_72000.npy\n",
      "➕ Loading /home/ivan/PycharmProjects/MPr/notebooks/embeddings/embedings_large/vectors_73000.npy\n",
      "➕ Loading /home/ivan/PycharmProjects/MPr/notebooks/embeddings/embedings_large/vectors_74000.npy\n",
      "➕ Loading /home/ivan/PycharmProjects/MPr/notebooks/embeddings/embedings_large/vectors_75000.npy\n",
      "➕ Loading /home/ivan/PycharmProjects/MPr/notebooks/embeddings/embedings_large/vectors_76000.npy\n",
      "➕ Loading /home/ivan/PycharmProjects/MPr/notebooks/embeddings/embedings_large/vectors_77000.npy\n",
      "➕ Loading /home/ivan/PycharmProjects/MPr/notebooks/embeddings/embedings_large/vectors_78000.npy\n",
      "➕ Loading /home/ivan/PycharmProjects/MPr/notebooks/embeddings/embedings_large/vectors_79000.npy\n",
      "➕ Loading /home/ivan/PycharmProjects/MPr/notebooks/embeddings/embedings_large/vectors_8000.npy\n",
      "➕ Loading /home/ivan/PycharmProjects/MPr/notebooks/embeddings/embedings_large/vectors_80000.npy\n",
      "➕ Loading /home/ivan/PycharmProjects/MPr/notebooks/embeddings/embedings_large/vectors_81000.npy\n",
      "➕ Loading /home/ivan/PycharmProjects/MPr/notebooks/embeddings/embedings_large/vectors_82000.npy\n",
      "➕ Loading /home/ivan/PycharmProjects/MPr/notebooks/embeddings/embedings_large/vectors_83000.npy\n",
      "➕ Loading /home/ivan/PycharmProjects/MPr/notebooks/embeddings/embedings_large/vectors_84000.npy\n",
      "➕ Loading /home/ivan/PycharmProjects/MPr/notebooks/embeddings/embedings_large/vectors_85000.npy\n",
      "➕ Loading /home/ivan/PycharmProjects/MPr/notebooks/embeddings/embedings_large/vectors_86000.npy\n",
      "➕ Loading /home/ivan/PycharmProjects/MPr/notebooks/embeddings/embedings_large/vectors_87000.npy\n",
      "➕ Loading /home/ivan/PycharmProjects/MPr/notebooks/embeddings/embedings_large/vectors_88000.npy\n",
      "➕ Loading /home/ivan/PycharmProjects/MPr/notebooks/embeddings/embedings_large/vectors_89000.npy\n",
      "➕ Loading /home/ivan/PycharmProjects/MPr/notebooks/embeddings/embedings_large/vectors_9000.npy\n",
      "➕ Loading /home/ivan/PycharmProjects/MPr/notebooks/embeddings/embedings_large/vectors_90000.npy\n",
      "➕ Loading /home/ivan/PycharmProjects/MPr/notebooks/embeddings/embedings_large/vectors_91000.npy\n",
      "➕ Loading /home/ivan/PycharmProjects/MPr/notebooks/embeddings/embedings_large/vectors_92000.npy\n",
      "➕ Loading /home/ivan/PycharmProjects/MPr/notebooks/embeddings/embedings_large/vectors_93000.npy\n",
      "➕ Loading /home/ivan/PycharmProjects/MPr/notebooks/embeddings/embedings_large/vectors_94000.npy\n",
      "➕ Loading /home/ivan/PycharmProjects/MPr/notebooks/embeddings/embedings_large/vectors_95000.npy\n",
      "➕ Loading /home/ivan/PycharmProjects/MPr/notebooks/embeddings/embedings_large/vectors_96000.npy\n",
      "➕ Loading /home/ivan/PycharmProjects/MPr/notebooks/embeddings/embedings_large/vectors_97000.npy\n",
      "➕ Loading /home/ivan/PycharmProjects/MPr/notebooks/embeddings/embedings_large/vectors_98000.npy\n",
      "➕ Loading /home/ivan/PycharmProjects/MPr/notebooks/embeddings/embedings_large/vectors_99000.npy\n",
      "➕ Loading /home/ivan/PycharmProjects/MPr/notebooks/embeddings/embedings_large/vectors_final.npy\n",
      "✅ Final vectors shape: (106412, 512)\n",
      "🔍 Found 107 filename chunks to merge\n",
      "➕ Loading /home/ivan/PycharmProjects/MPr/notebooks/embeddings/embedings_large/filenames_1000.npy\n",
      "➕ Loading /home/ivan/PycharmProjects/MPr/notebooks/embeddings/embedings_large/filenames_10000.npy\n",
      "➕ Loading /home/ivan/PycharmProjects/MPr/notebooks/embeddings/embedings_large/filenames_100000.npy\n",
      "➕ Loading /home/ivan/PycharmProjects/MPr/notebooks/embeddings/embedings_large/filenames_101000.npy\n",
      "➕ Loading /home/ivan/PycharmProjects/MPr/notebooks/embeddings/embedings_large/filenames_102000.npy\n",
      "➕ Loading /home/ivan/PycharmProjects/MPr/notebooks/embeddings/embedings_large/filenames_103000.npy\n",
      "➕ Loading /home/ivan/PycharmProjects/MPr/notebooks/embeddings/embedings_large/filenames_104000.npy\n",
      "➕ Loading /home/ivan/PycharmProjects/MPr/notebooks/embeddings/embedings_large/filenames_105000.npy\n",
      "➕ Loading /home/ivan/PycharmProjects/MPr/notebooks/embeddings/embedings_large/filenames_106000.npy\n",
      "➕ Loading /home/ivan/PycharmProjects/MPr/notebooks/embeddings/embedings_large/filenames_11000.npy\n",
      "➕ Loading /home/ivan/PycharmProjects/MPr/notebooks/embeddings/embedings_large/filenames_12000.npy\n",
      "➕ Loading /home/ivan/PycharmProjects/MPr/notebooks/embeddings/embedings_large/filenames_13000.npy\n",
      "➕ Loading /home/ivan/PycharmProjects/MPr/notebooks/embeddings/embedings_large/filenames_14000.npy\n",
      "➕ Loading /home/ivan/PycharmProjects/MPr/notebooks/embeddings/embedings_large/filenames_15000.npy\n",
      "➕ Loading /home/ivan/PycharmProjects/MPr/notebooks/embeddings/embedings_large/filenames_16000.npy\n",
      "➕ Loading /home/ivan/PycharmProjects/MPr/notebooks/embeddings/embedings_large/filenames_17000.npy\n",
      "➕ Loading /home/ivan/PycharmProjects/MPr/notebooks/embeddings/embedings_large/filenames_18000.npy\n",
      "➕ Loading /home/ivan/PycharmProjects/MPr/notebooks/embeddings/embedings_large/filenames_19000.npy\n",
      "➕ Loading /home/ivan/PycharmProjects/MPr/notebooks/embeddings/embedings_large/filenames_2000.npy\n",
      "➕ Loading /home/ivan/PycharmProjects/MPr/notebooks/embeddings/embedings_large/filenames_20000.npy\n",
      "➕ Loading /home/ivan/PycharmProjects/MPr/notebooks/embeddings/embedings_large/filenames_21000.npy\n",
      "➕ Loading /home/ivan/PycharmProjects/MPr/notebooks/embeddings/embedings_large/filenames_22000.npy\n",
      "➕ Loading /home/ivan/PycharmProjects/MPr/notebooks/embeddings/embedings_large/filenames_23000.npy\n",
      "➕ Loading /home/ivan/PycharmProjects/MPr/notebooks/embeddings/embedings_large/filenames_24000.npy\n",
      "➕ Loading /home/ivan/PycharmProjects/MPr/notebooks/embeddings/embedings_large/filenames_25000.npy\n",
      "➕ Loading /home/ivan/PycharmProjects/MPr/notebooks/embeddings/embedings_large/filenames_26000.npy\n",
      "➕ Loading /home/ivan/PycharmProjects/MPr/notebooks/embeddings/embedings_large/filenames_27000.npy\n",
      "➕ Loading /home/ivan/PycharmProjects/MPr/notebooks/embeddings/embedings_large/filenames_28000.npy\n",
      "➕ Loading /home/ivan/PycharmProjects/MPr/notebooks/embeddings/embedings_large/filenames_29000.npy\n",
      "➕ Loading /home/ivan/PycharmProjects/MPr/notebooks/embeddings/embedings_large/filenames_3000.npy\n",
      "➕ Loading /home/ivan/PycharmProjects/MPr/notebooks/embeddings/embedings_large/filenames_30000.npy\n",
      "➕ Loading /home/ivan/PycharmProjects/MPr/notebooks/embeddings/embedings_large/filenames_31000.npy\n",
      "➕ Loading /home/ivan/PycharmProjects/MPr/notebooks/embeddings/embedings_large/filenames_32000.npy\n",
      "➕ Loading /home/ivan/PycharmProjects/MPr/notebooks/embeddings/embedings_large/filenames_33000.npy\n",
      "➕ Loading /home/ivan/PycharmProjects/MPr/notebooks/embeddings/embedings_large/filenames_34000.npy\n",
      "➕ Loading /home/ivan/PycharmProjects/MPr/notebooks/embeddings/embedings_large/filenames_35000.npy\n",
      "➕ Loading /home/ivan/PycharmProjects/MPr/notebooks/embeddings/embedings_large/filenames_36000.npy\n",
      "➕ Loading /home/ivan/PycharmProjects/MPr/notebooks/embeddings/embedings_large/filenames_37000.npy\n",
      "➕ Loading /home/ivan/PycharmProjects/MPr/notebooks/embeddings/embedings_large/filenames_38000.npy\n",
      "➕ Loading /home/ivan/PycharmProjects/MPr/notebooks/embeddings/embedings_large/filenames_39000.npy\n",
      "➕ Loading /home/ivan/PycharmProjects/MPr/notebooks/embeddings/embedings_large/filenames_4000.npy\n",
      "➕ Loading /home/ivan/PycharmProjects/MPr/notebooks/embeddings/embedings_large/filenames_40000.npy\n",
      "➕ Loading /home/ivan/PycharmProjects/MPr/notebooks/embeddings/embedings_large/filenames_41000.npy\n",
      "➕ Loading /home/ivan/PycharmProjects/MPr/notebooks/embeddings/embedings_large/filenames_42000.npy\n",
      "➕ Loading /home/ivan/PycharmProjects/MPr/notebooks/embeddings/embedings_large/filenames_43000.npy\n",
      "➕ Loading /home/ivan/PycharmProjects/MPr/notebooks/embeddings/embedings_large/filenames_44000.npy\n",
      "➕ Loading /home/ivan/PycharmProjects/MPr/notebooks/embeddings/embedings_large/filenames_45000.npy\n",
      "➕ Loading /home/ivan/PycharmProjects/MPr/notebooks/embeddings/embedings_large/filenames_46000.npy\n",
      "➕ Loading /home/ivan/PycharmProjects/MPr/notebooks/embeddings/embedings_large/filenames_47000.npy\n",
      "➕ Loading /home/ivan/PycharmProjects/MPr/notebooks/embeddings/embedings_large/filenames_48000.npy\n",
      "➕ Loading /home/ivan/PycharmProjects/MPr/notebooks/embeddings/embedings_large/filenames_49000.npy\n",
      "➕ Loading /home/ivan/PycharmProjects/MPr/notebooks/embeddings/embedings_large/filenames_5000.npy\n",
      "➕ Loading /home/ivan/PycharmProjects/MPr/notebooks/embeddings/embedings_large/filenames_50000.npy\n",
      "➕ Loading /home/ivan/PycharmProjects/MPr/notebooks/embeddings/embedings_large/filenames_51000.npy\n",
      "➕ Loading /home/ivan/PycharmProjects/MPr/notebooks/embeddings/embedings_large/filenames_52000.npy\n",
      "➕ Loading /home/ivan/PycharmProjects/MPr/notebooks/embeddings/embedings_large/filenames_53000.npy\n",
      "➕ Loading /home/ivan/PycharmProjects/MPr/notebooks/embeddings/embedings_large/filenames_54000.npy\n",
      "➕ Loading /home/ivan/PycharmProjects/MPr/notebooks/embeddings/embedings_large/filenames_55000.npy\n",
      "➕ Loading /home/ivan/PycharmProjects/MPr/notebooks/embeddings/embedings_large/filenames_56000.npy\n",
      "➕ Loading /home/ivan/PycharmProjects/MPr/notebooks/embeddings/embedings_large/filenames_57000.npy\n",
      "➕ Loading /home/ivan/PycharmProjects/MPr/notebooks/embeddings/embedings_large/filenames_58000.npy\n",
      "➕ Loading /home/ivan/PycharmProjects/MPr/notebooks/embeddings/embedings_large/filenames_59000.npy\n",
      "➕ Loading /home/ivan/PycharmProjects/MPr/notebooks/embeddings/embedings_large/filenames_6000.npy\n",
      "➕ Loading /home/ivan/PycharmProjects/MPr/notebooks/embeddings/embedings_large/filenames_60000.npy\n",
      "➕ Loading /home/ivan/PycharmProjects/MPr/notebooks/embeddings/embedings_large/filenames_61000.npy\n",
      "➕ Loading /home/ivan/PycharmProjects/MPr/notebooks/embeddings/embedings_large/filenames_62000.npy\n",
      "➕ Loading /home/ivan/PycharmProjects/MPr/notebooks/embeddings/embedings_large/filenames_63000.npy\n",
      "➕ Loading /home/ivan/PycharmProjects/MPr/notebooks/embeddings/embedings_large/filenames_64000.npy\n",
      "➕ Loading /home/ivan/PycharmProjects/MPr/notebooks/embeddings/embedings_large/filenames_65000.npy\n",
      "➕ Loading /home/ivan/PycharmProjects/MPr/notebooks/embeddings/embedings_large/filenames_66000.npy\n",
      "➕ Loading /home/ivan/PycharmProjects/MPr/notebooks/embeddings/embedings_large/filenames_67000.npy\n",
      "➕ Loading /home/ivan/PycharmProjects/MPr/notebooks/embeddings/embedings_large/filenames_68000.npy\n",
      "➕ Loading /home/ivan/PycharmProjects/MPr/notebooks/embeddings/embedings_large/filenames_69000.npy\n",
      "➕ Loading /home/ivan/PycharmProjects/MPr/notebooks/embeddings/embedings_large/filenames_7000.npy\n",
      "➕ Loading /home/ivan/PycharmProjects/MPr/notebooks/embeddings/embedings_large/filenames_70000.npy\n",
      "➕ Loading /home/ivan/PycharmProjects/MPr/notebooks/embeddings/embedings_large/filenames_71000.npy\n",
      "➕ Loading /home/ivan/PycharmProjects/MPr/notebooks/embeddings/embedings_large/filenames_72000.npy\n",
      "➕ Loading /home/ivan/PycharmProjects/MPr/notebooks/embeddings/embedings_large/filenames_73000.npy\n",
      "➕ Loading /home/ivan/PycharmProjects/MPr/notebooks/embeddings/embedings_large/filenames_74000.npy\n",
      "➕ Loading /home/ivan/PycharmProjects/MPr/notebooks/embeddings/embedings_large/filenames_75000.npy\n",
      "➕ Loading /home/ivan/PycharmProjects/MPr/notebooks/embeddings/embedings_large/filenames_76000.npy\n",
      "➕ Loading /home/ivan/PycharmProjects/MPr/notebooks/embeddings/embedings_large/filenames_77000.npy\n",
      "➕ Loading /home/ivan/PycharmProjects/MPr/notebooks/embeddings/embedings_large/filenames_78000.npy\n",
      "➕ Loading /home/ivan/PycharmProjects/MPr/notebooks/embeddings/embedings_large/filenames_79000.npy\n",
      "➕ Loading /home/ivan/PycharmProjects/MPr/notebooks/embeddings/embedings_large/filenames_8000.npy\n",
      "➕ Loading /home/ivan/PycharmProjects/MPr/notebooks/embeddings/embedings_large/filenames_80000.npy\n",
      "➕ Loading /home/ivan/PycharmProjects/MPr/notebooks/embeddings/embedings_large/filenames_81000.npy\n",
      "➕ Loading /home/ivan/PycharmProjects/MPr/notebooks/embeddings/embedings_large/filenames_82000.npy\n",
      "➕ Loading /home/ivan/PycharmProjects/MPr/notebooks/embeddings/embedings_large/filenames_83000.npy\n",
      "➕ Loading /home/ivan/PycharmProjects/MPr/notebooks/embeddings/embedings_large/filenames_84000.npy\n",
      "➕ Loading /home/ivan/PycharmProjects/MPr/notebooks/embeddings/embedings_large/filenames_85000.npy\n",
      "➕ Loading /home/ivan/PycharmProjects/MPr/notebooks/embeddings/embedings_large/filenames_86000.npy\n",
      "➕ Loading /home/ivan/PycharmProjects/MPr/notebooks/embeddings/embedings_large/filenames_87000.npy\n",
      "➕ Loading /home/ivan/PycharmProjects/MPr/notebooks/embeddings/embedings_large/filenames_88000.npy\n",
      "➕ Loading /home/ivan/PycharmProjects/MPr/notebooks/embeddings/embedings_large/filenames_89000.npy\n",
      "➕ Loading /home/ivan/PycharmProjects/MPr/notebooks/embeddings/embedings_large/filenames_9000.npy\n",
      "➕ Loading /home/ivan/PycharmProjects/MPr/notebooks/embeddings/embedings_large/filenames_90000.npy\n",
      "➕ Loading /home/ivan/PycharmProjects/MPr/notebooks/embeddings/embedings_large/filenames_91000.npy\n",
      "➕ Loading /home/ivan/PycharmProjects/MPr/notebooks/embeddings/embedings_large/filenames_92000.npy\n",
      "➕ Loading /home/ivan/PycharmProjects/MPr/notebooks/embeddings/embedings_large/filenames_93000.npy\n",
      "➕ Loading /home/ivan/PycharmProjects/MPr/notebooks/embeddings/embedings_large/filenames_94000.npy\n",
      "➕ Loading /home/ivan/PycharmProjects/MPr/notebooks/embeddings/embedings_large/filenames_95000.npy\n",
      "➕ Loading /home/ivan/PycharmProjects/MPr/notebooks/embeddings/embedings_large/filenames_96000.npy\n",
      "➕ Loading /home/ivan/PycharmProjects/MPr/notebooks/embeddings/embedings_large/filenames_97000.npy\n",
      "➕ Loading /home/ivan/PycharmProjects/MPr/notebooks/embeddings/embedings_large/filenames_98000.npy\n",
      "➕ Loading /home/ivan/PycharmProjects/MPr/notebooks/embeddings/embedings_large/filenames_99000.npy\n",
      "➕ Loading /home/ivan/PycharmProjects/MPr/notebooks/embeddings/embedings_large/filenames_final.npy\n",
      "✅ Final filenames shape: (106412,)\n",
      "✅ Merged files saved to /home/ivan/PycharmProjects/MPr/notebooks/embeddings/embedings_large/audio_vectors.npy and audio_filenames.npy\n"
     ]
    }
   ],
   "source": [
    "import os\n",
    "import numpy as np\n",
    "from glob import glob\n",
    "\n",
    "# Paths\n",
    "output_dir = \"/home/ivan/PycharmProjects/MPr/notebooks/embeddings/embedings_large\"\n",
    "\n",
    "# 1. Load & stack all vector files\n",
    "vector_files = sorted(glob(f\"{output_dir}/vectors_*.npy\"))\n",
    "vectors_list = []\n",
    "\n",
    "print(f\"🔍 Found {len(vector_files)} vector chunks to merge\")\n",
    "\n",
    "for vf in vector_files:\n",
    "    print(f\"➕ Loading {vf}\")\n",
    "    vectors_list.append(np.load(vf))\n",
    "\n",
    "all_vectors = np.vstack(vectors_list)\n",
    "print(f\"✅ Final vectors shape: {all_vectors.shape}\")\n",
    "\n",
    "# 2. Load & stack all filename files\n",
    "filename_files = sorted(glob(f\"{output_dir}/filenames_*.npy\"))\n",
    "filenames_list = []\n",
    "\n",
    "print(f\"🔍 Found {len(filename_files)} filename chunks to merge\")\n",
    "\n",
    "for ff in filename_files:\n",
    "    print(f\"➕ Loading {ff}\")\n",
    "    filenames_list.append(np.load(ff))\n",
    "\n",
    "all_filenames = np.concatenate(filenames_list)\n",
    "print(f\"✅ Final filenames shape: {all_filenames.shape}\")\n",
    "\n",
    "# 3. Save merged outputs\n",
    "np.save(f\"{output_dir}/audio_vectors.npy\", all_vectors)\n",
    "np.save(f\"{output_dir}/audio_filenames.npy\", all_filenames)\n",
    "\n",
    "print(f\"✅ Merged files saved to {output_dir}/audio_vectors.npy and audio_filenames.npy\")\n"
   ]
  },
  {
   "cell_type": "code",
   "execution_count": 29,
   "id": "03b6472f-c476-4204-ba6b-a99361ffaa65",
   "metadata": {},
   "outputs": [],
   "source": [
    "import os\n",
    "import numpy as np\n",
    "\n",
    "np.save(\"embeddings/audio_vectors_large.npy\", embeddings)\n",
    "np.save(\"embeddings/audio_filenames_large.npy\", np.array(filenames))\n"
   ]
  },
  {
   "cell_type": "markdown",
   "id": "56310706-0876-4e96-89e8-30c46a03d116",
   "metadata": {},
   "source": [
    "# Проверяем, что итоговые файлы на месте и корректно загружаются\n",
    "\n",
    "Загружаем `audio_vectors.npy` и `audio_filenames.npy`,  \n",
    "печатаем форму, чтобы убедиться, что всё собрано как надо.\n"
   ]
  },
  {
   "cell_type": "code",
   "execution_count": 30,
   "id": "e2ce4fa0-1e78-498a-a635-be9fb9e728d4",
   "metadata": {},
   "outputs": [
    {
     "name": "stdout",
     "output_type": "stream",
     "text": [
      "audio_vectors.npy: True\n",
      "audio_filenames.npy: True\n"
     ]
    }
   ],
   "source": [
    "import os\n",
    "\n",
    "print(\"audio_vectors.npy:\", os.path.exists(\"embeddings/audio_vectors_large.npy\"))\n",
    "print(\"audio_filenames.npy:\", os.path.exists(\"embeddings/audio_filenames_large.npy\"))\n"
   ]
  },
  {
   "cell_type": "code",
   "execution_count": 31,
   "id": "c048c712-303d-4357-9a31-ad552448ed95",
   "metadata": {},
   "outputs": [
    {
     "name": "stdout",
     "output_type": "stream",
     "text": [
      "✅ Vectors shape: (300, 512)\n",
      "✅ Filenames shape: (300,)\n"
     ]
    }
   ],
   "source": [
    "import numpy as np\n",
    "\n",
    "vectors = np.load(\"embeddings/audio_vectors_large.npy\")\n",
    "filenames = np.load(\"embeddings/audio_filenames_large.npy\")\n",
    "\n",
    "print(\"✅ Vectors shape:\", vectors.shape)      # Should be (N, 512)\n",
    "print(\"✅ Filenames shape:\", filenames.shape)  # Should be (N,)\n"
   ]
  },
  {
   "cell_type": "code",
   "execution_count": null,
   "id": "69311132-b487-4bcb-8f07-5d882cb43672",
   "metadata": {},
   "outputs": [],
   "source": []
  },
  {
   "cell_type": "code",
   "execution_count": null,
   "id": "3e90100d-13ca-432a-87d1-7ed2fa9e37e0",
   "metadata": {},
   "outputs": [],
   "source": []
  },
  {
   "cell_type": "code",
   "execution_count": null,
   "id": "7464afcf-1b89-4027-8283-8fddb1e475e6",
   "metadata": {},
   "outputs": [],
   "source": []
  },
  {
   "cell_type": "code",
   "execution_count": null,
   "id": "a7dc9b1b-efaa-48ae-94d2-9e6a29858da8",
   "metadata": {},
   "outputs": [],
   "source": []
  }
 ],
 "metadata": {
  "kernelspec": {
   "display_name": "Python (Music-GPU)",
   "language": "python",
   "name": "music-gpu"
  },
  "language_info": {
   "codemirror_mode": {
    "name": "ipython",
    "version": 3
   },
   "file_extension": ".py",
   "mimetype": "text/x-python",
   "name": "python",
   "nbconvert_exporter": "python",
   "pygments_lexer": "ipython3",
   "version": "3.10.12"
  }
 },
 "nbformat": 4,
 "nbformat_minor": 5
}
